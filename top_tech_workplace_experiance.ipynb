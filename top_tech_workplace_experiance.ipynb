{
 "cells": [
  {
   "cell_type": "markdown",
   "metadata": {},
   "source": [
    "##### Exploratory Data Analysis of:\n",
    "# Top Tech Employees' Workplace Experiance\n",
    "___\n",
    "\n",
    "**Context:** Over 67k employee reviews for Google, Amazon, Facebook, Apple, and Microsoft.\n",
    "\n",
    "**Acknowledgements:** This data was scraped from Glassdoor.\n",
    "\n",
    "**Questions**\n",
    "- What company has been improving best?\n",
    "- based on this data what company seems the best choice for a specific postion?\n",
    "- is there a relationship base on stock market mometoum and volatility and employee's workplace rating?\n",
    "- What pros each company is best at?\n",
    "- what positions seem to be happiest in each company? (and overall)\n",
    "\n",
    "\n",
    "- what proportion of employees felt comfortable enough not tobe Anonymous?\n",
    "___"
   ]
  },
  {
   "cell_type": "markdown",
   "metadata": {},
   "source": [
    "Scratch Notes\n",
    "\n",
    "- Exploratory Data Analysis and Visualization for Text Data\n",
    "- Create a stunning visualization\n",
    "- focus of the project is on exploratory data analysis\n",
    "- worthy of posting it to Medium, Kaggle\n",
    "- Emplopyers and My Tech Friends value it\n",
    "\n",
    "https://towardsdatascience.com/a-complete-exploratory-data-analysis-and-visualization-for-text-data-29fb1b96fb6a\n",
    "\n",
    "https://www.kaggle.com/aashita/exploratory-data-analysis-of-comments-on-nyt\n",
    "\n",
    "https://www.kaggle.com/petersunga/google-amazon-facebook-employee-reviews"
   ]
  },
  {
   "cell_type": "markdown",
   "metadata": {},
   "source": [
    "Table of contents:\n",
    "1. [Importing modules and loading data ](#import)"
   ]
  },
  {
   "cell_type": "markdown",
   "metadata": {},
   "source": [
    "## Importing modules and loading data <a name=\"import\"></a>"
   ]
  },
  {
   "cell_type": "markdown",
   "metadata": {},
   "source": [
    "1. First we import python modules and setting notebook environment"
   ]
  },
  {
   "cell_type": "code",
   "execution_count": 2,
   "metadata": {},
   "outputs": [],
   "source": [
    "# Essential Data Analysis Ecosystem Libraries\n",
    "import numpy as np\n",
    "import pandas as pd\n",
    "from pandas.api.types import CategoricalDtype\n",
    "import matplotlib.pyplot as plt\n",
    "import seaborn as sns\n",
    "\n",
    "# From Python Standard Library\n",
    "import os  # os file operations\n",
    "import re  # regular experesion  for data cleaning\n",
    "\n",
    "# set plots to be embedded inline\n",
    "%matplotlib inline\n",
    "\n",
    "# suppress warnings from final output\n",
    "import warnings\n",
    "warnings.simplefilter(\"ignore\")"
   ]
  },
  {
   "cell_type": "markdown",
   "metadata": {},
   "source": [
    "2. import the dataset"
   ]
  },
  {
   "cell_type": "code",
   "execution_count": 3,
   "metadata": {},
   "outputs": [
    {
     "name": "stdout",
     "output_type": "stream",
     "text": [
      "Dataset file(s): ['employee_reviews.csv']\n"
     ]
    }
   ],
   "source": [
    "# dataset starting file(s)\n",
    "dataset_path = 'input/'\n",
    "print ('Dataset file(s):', os.listdir(dataset_path))\n",
    "\n",
    "# TODO: Programmatically download the dataset zip file from Kaggle.\n",
    "\n",
    "df = pd.read_csv(os.path.join(dataset_path, 'employee_reviews.csv'))"
   ]
  },
  {
   "cell_type": "markdown",
   "metadata": {},
   "source": [
    "## First look at the data:<a name=\"import\"></a>"
   ]
  },
  {
   "cell_type": "markdown",
   "metadata": {},
   "source": [
    "#### Let's look at shape of our data and 3 random observations (reviews):"
   ]
  },
  {
   "cell_type": "code",
   "execution_count": 4,
   "metadata": {},
   "outputs": [
    {
     "name": "stdout",
     "output_type": "stream",
     "text": [
      "Number of rows (reviews) and columns: (67529, 17)\n"
     ]
    },
    {
     "data": {
      "text/html": [
       "<div>\n",
       "<style scoped>\n",
       "    .dataframe tbody tr th:only-of-type {\n",
       "        vertical-align: middle;\n",
       "    }\n",
       "\n",
       "    .dataframe tbody tr th {\n",
       "        vertical-align: top;\n",
       "    }\n",
       "\n",
       "    .dataframe thead th {\n",
       "        text-align: right;\n",
       "    }\n",
       "</style>\n",
       "<table border=\"1\" class=\"dataframe\">\n",
       "  <thead>\n",
       "    <tr style=\"text-align: right;\">\n",
       "      <th></th>\n",
       "      <th>Unnamed: 0</th>\n",
       "      <th>company</th>\n",
       "      <th>location</th>\n",
       "      <th>dates</th>\n",
       "      <th>job-title</th>\n",
       "      <th>summary</th>\n",
       "      <th>pros</th>\n",
       "      <th>cons</th>\n",
       "      <th>advice-to-mgmt</th>\n",
       "      <th>overall-ratings</th>\n",
       "      <th>work-balance-stars</th>\n",
       "      <th>culture-values-stars</th>\n",
       "      <th>carrer-opportunities-stars</th>\n",
       "      <th>comp-benefit-stars</th>\n",
       "      <th>senior-mangemnet-stars</th>\n",
       "      <th>helpful-count</th>\n",
       "      <th>link</th>\n",
       "    </tr>\n",
       "  </thead>\n",
       "  <tbody>\n",
       "    <tr>\n",
       "      <th>38852</th>\n",
       "      <td>38853</td>\n",
       "      <td>apple</td>\n",
       "      <td>New York, NY</td>\n",
       "      <td>Jun 17, 2017</td>\n",
       "      <td>Former Employee - Product Zone Specialist</td>\n",
       "      <td>Product Zone</td>\n",
       "      <td>The benefits at Apple for employees are amazin...</td>\n",
       "      <td>Working for Apple was better a few years back....</td>\n",
       "      <td>The managers that use to work at Apple and und...</td>\n",
       "      <td>4.0</td>\n",
       "      <td>5.0</td>\n",
       "      <td>5.0</td>\n",
       "      <td>4.0</td>\n",
       "      <td>5.0</td>\n",
       "      <td>5.0</td>\n",
       "      <td>2</td>\n",
       "      <td>https://www.glassdoor.com/Reviews/Apple-Review...</td>\n",
       "    </tr>\n",
       "  </tbody>\n",
       "</table>\n",
       "</div>"
      ],
      "text/plain": [
       "       Unnamed: 0 company      location          dates  \\\n",
       "38852       38853   apple  New York, NY   Jun 17, 2017   \n",
       "\n",
       "                                       job-title       summary  \\\n",
       "38852  Former Employee - Product Zone Specialist  Product Zone   \n",
       "\n",
       "                                                    pros  \\\n",
       "38852  The benefits at Apple for employees are amazin...   \n",
       "\n",
       "                                                    cons  \\\n",
       "38852  Working for Apple was better a few years back....   \n",
       "\n",
       "                                          advice-to-mgmt  overall-ratings  \\\n",
       "38852  The managers that use to work at Apple and und...              4.0   \n",
       "\n",
       "      work-balance-stars culture-values-stars carrer-opportunities-stars  \\\n",
       "38852                5.0                  5.0                        4.0   \n",
       "\n",
       "      comp-benefit-stars senior-mangemnet-stars  helpful-count  \\\n",
       "38852                5.0                    5.0              2   \n",
       "\n",
       "                                                    link  \n",
       "38852  https://www.glassdoor.com/Reviews/Apple-Review...  "
      ]
     },
     "execution_count": 4,
     "metadata": {},
     "output_type": "execute_result"
    }
   ],
   "source": [
    "print('Number of rows (reviews) and columns:', df.shape)\n",
    "df.sample()"
   ]
  },
  {
   "cell_type": "markdown",
   "metadata": {},
   "source": [
    "#### Information about columns by data provider:\n",
    "\n",
    "This dataset contains employee reviews separated into the following categories. \n",
    "> Comments in blue are data tidiness and quality issues that we will fix before start exploring the data.\n",
    "\n",
    "##### Columns\n",
    "- Index: index\n",
    "- - <font color='blue'> Unnamed column is redundant. Same as index. To be dropped</font>\n",
    "- Company: Company name\n",
    "- Location : This dataset is global, as such it may include the country's name in parenthesis i.e \"Toronto, ON(Canada)\". However, if the location is in the USA then it will only include the city and state i.e \"Los Angeles, CA\".\n",
    "- - <font color='blue'> Tidiness issue: location column contains 3 different 'city, state, and country' values. This column is to be separated in 3 columns.</font>\n",
    "- Date Posted: in the following format MM DD, YYYY\n",
    "- Job-Title: This string will also include whether the reviewer is a 'Current' or 'Former' Employee at the time of the review\n",
    "- - <font color='blue'> Tidiness issue: employee_status (current or former) and job_title are to be seperated in two columns.</font>\n",
    "- Summary: Short summary of employee review\n",
    "- Pros: Pros\n",
    "- Cons: Cons\n",
    "- Overall Rating: 1-5\n",
    "- Work/Life Balance Rating: 1-5\n",
    "- Culture and Values Rating: 1-5\n",
    "- Career Opportunities Rating: 1-5\n",
    "- Comp & Benefits Rating: 1-5\n",
    "- Senior Management Rating: 1-5\n",
    "- Helpful Review Count: A count of how many people found the review to be helpful\n",
    "- Link to Review : This will provide you with a direct link to the page that contains the review. However it is likely that this link will be outdated\n",
    "\n",
    "NOTE: 'none' is placed in all cells where no data value was found.\n",
    "\n"
   ]
  },
  {
   "cell_type": "markdown",
   "metadata": {},
   "source": [
    "#### Information about the columns' names, datatypes, unique values, and null values:"
   ]
  },
  {
   "cell_type": "code",
   "execution_count": 5,
   "metadata": {
    "scrolled": false
   },
   "outputs": [
    {
     "name": "stdout",
     "output_type": "stream",
     "text": [
      "<class 'pandas.core.frame.DataFrame'>\n",
      "RangeIndex: 67529 entries, 0 to 67528\n",
      "Data columns (total 17 columns):\n",
      "Unnamed: 0                    67529 non-null int64\n",
      "company                       67529 non-null object\n",
      "location                      67529 non-null object\n",
      "dates                         67529 non-null object\n",
      "job-title                     67529 non-null object\n",
      "summary                       67409 non-null object\n",
      "pros                          67529 non-null object\n",
      "cons                          67529 non-null object\n",
      "advice-to-mgmt                67232 non-null object\n",
      "overall-ratings               67529 non-null float64\n",
      "work-balance-stars            67529 non-null object\n",
      "culture-values-stars          67529 non-null object\n",
      "carrer-opportunities-stars    67529 non-null object\n",
      "comp-benefit-stars            67529 non-null object\n",
      "senior-mangemnet-stars        67529 non-null object\n",
      "helpful-count                 67529 non-null int64\n",
      "link                          67529 non-null object\n",
      "dtypes: float64(1), int64(2), object(14)\n",
      "memory usage: 8.8+ MB\n"
     ]
    }
   ],
   "source": [
    "df.info()"
   ]
  },
  {
   "cell_type": "code",
   "execution_count": 7,
   "metadata": {},
   "outputs": [
    {
     "data": {
      "text/plain": [
       "Unnamed: 0                    67529\n",
       "company                           6\n",
       "location                       2044\n",
       "dates                          3824\n",
       "job-title                      8308\n",
       "summary                       42649\n",
       "pros                          66085\n",
       "cons                          66049\n",
       "advice-to-mgmt                35190\n",
       "overall-ratings                   5\n",
       "work-balance-stars               10\n",
       "culture-values-stars              6\n",
       "carrer-opportunities-stars       10\n",
       "comp-benefit-stars               10\n",
       "senior-mangemnet-stars           10\n",
       "helpful-count                    99\n",
       "link                           6754\n",
       "dtype: int64"
      ]
     },
     "execution_count": 7,
     "metadata": {},
     "output_type": "execute_result"
    }
   ],
   "source": [
    "df.nunique()"
   ]
  },
  {
   "cell_type": "markdown",
   "metadata": {},
   "source": [
    "#### Data Wrangling\n",
    "- Unnamed column is index same as DataFrame index; To be dropped"
   ]
  },
  {
   "cell_type": "code",
   "execution_count": 6,
   "metadata": {},
   "outputs": [
    {
     "data": {
      "text/plain": [
       "none                    25085\n",
       "Redmond, WA              5613\n",
       "Seattle, WA              4963\n",
       "Hyderabad (India)        2150\n",
       "Mountain View, CA        1706\n",
       "Bengaluru (India)        1607\n",
       "Cupertino, CA            1291\n",
       "New York, NY             1152\n",
       "London, England (UK)      930\n",
       "Menlo Park, CA            805\n",
       "Name: location, dtype: int64"
      ]
     },
     "execution_count": 6,
     "metadata": {},
     "output_type": "execute_result"
    }
   ],
   "source": [
    "df.location.value_counts()[:10]"
   ]
  },
  {
   "cell_type": "code",
   "execution_count": 8,
   "metadata": {},
   "outputs": [
    {
     "data": {
      "text/plain": [
       "41528            Jacksonville, FL\n",
       "64443      Vancouver, BC (Canada)\n",
       "5463         London, England (UK)\n",
       "32199    Gurgaon, Haryana (India)\n",
       "14105                 Seattle, WA\n",
       "211                          none\n",
       "59025                 Redmond, WA\n",
       "25747                        none\n",
       "16657                        none\n",
       "45613                        none\n",
       "Name: location, dtype: object"
      ]
     },
     "execution_count": 8,
     "metadata": {},
     "output_type": "execute_result"
    }
   ],
   "source": [
    "df.location.sample(10)"
   ]
  },
  {
   "cell_type": "code",
   "execution_count": 9,
   "metadata": {},
   "outputs": [],
   "source": [
    "# Tidiness\n",
    "# functions to make extrat \"city, state, and country\" values from location column \n",
    "# to 3 columns\n",
    "\n",
    "\n",
    "btween_parentheses = r'\\(([^)]+)\\)'  # Regular expression to get a string between parentheses\n",
    "\n",
    "\n",
    "def get_country(location):\n",
    "    \"\"\"Extracts and returns country name from location string.\n",
    "    Returns Nan if 'none'.\"\"\"\n",
    "    if location == 'none':\n",
    "        return np.nan\n",
    "    not_usa = re.findall(btween_parentheses, location)\n",
    "    if not_usa:\n",
    "        return not_usa[0]\n",
    "    else:\n",
    "        return 'USA'\n",
    "    \n",
    "\n",
    "def get_state(location):\n",
    "    \"\"\"Extracts and returns state name (if aby) from location string.\n",
    "    Returns Nan if 'none or not applicable.\"\"\"\n",
    "    if location == 'none':\n",
    "        return np.nan\n",
    "    not_usa = re.findall(btween_parentheses, location)\n",
    "    if not_usa:\n",
    "        if ',' in location:\n",
    "            return location.split(',')[1].split()[0]\n",
    "        else:\n",
    "            return np.nan\n",
    "    else:\n",
    "        return location.strip()[-2:]\n",
    "\n",
    "    \n",
    "def get_city(location):\n",
    "    \"\"\"Extracts and returns city name from location string.\n",
    "    Returns Nan if 'none'.\"\"\"\n",
    "    if location == 'none':\n",
    "        return np.nan\n",
    "    not_usa = re.findall(btween_parentheses, location)\n",
    "    if not_usa:\n",
    "        if ',' in location:\n",
    "            return location.split(',')[0]\n",
    "        else:\n",
    "            return location.split()[0]\n",
    "    else:\n",
    "        return location.split(',')[0]    "
   ]
  },
  {
   "cell_type": "code",
   "execution_count": 10,
   "metadata": {},
   "outputs": [],
   "source": [
    "df['city'] = df.location.apply(get_city)\n",
    "df['state'] = df.location.apply(get_state)\n",
    "df['country'] = df.location.apply(get_country)"
   ]
  },
  {
   "cell_type": "code",
   "execution_count": 11,
   "metadata": {},
   "outputs": [],
   "source": [
    "df.rename(columns={'dates': 'date',\n",
    "                   'advice-to-mgmt': 'advice_to_mgmt',\n",
    "                   'overall-ratings': 'r_overall',\n",
    "                   'work-balance-stars': 'r_work_balance',\n",
    "                   'culture-values-stars': 'r_culture',\n",
    "                   'carrer-opportunities-stars': 'r_career_opp',\n",
    "                   'comp-benefit-stars': 'r_comp_benefit',\n",
    "                   'senior-mangemnet-stars': 'senior_mangemnet',\n",
    "                   'helpful-count': 'helpful_count'}, inplace=True);"
   ]
  },
  {
   "cell_type": "code",
   "execution_count": 12,
   "metadata": {},
   "outputs": [],
   "source": [
    "# def is_curr_emp(column):\n",
    "#     \"\"\"\"\"\"\n",
    "#     if not column or column == 'none':\n",
    "#         return np.nan\n",
    "    \n",
    "#     return True if column.split()[0] == 'Current' else False\n",
    "\n",
    "\n",
    "# def get_job_title(column):\n",
    "#     if not column or column == 'none':\n",
    "#         return np.nan\n",
    "\n",
    "#     return column.split('-')[1]\n",
    "\n",
    "\n",
    "df['current_emp'] = df['job-title'].apply(lambda column: True if column.split()[0] == 'Current' else False)\n",
    "df['job_title'] = df['job-title'].apply(lambda column: column.split('-')[1])"
   ]
  },
  {
   "cell_type": "code",
   "execution_count": 13,
   "metadata": {},
   "outputs": [],
   "source": [
    "drop_columns = ['Unnamed: 0', 'location', 'job-title']\n",
    "df.drop(columns=drop_columns, axis=1, inplace=True)"
   ]
  },
  {
   "cell_type": "code",
   "execution_count": 17,
   "metadata": {},
   "outputs": [
    {
     "name": "stdout",
     "output_type": "stream",
     "text": [
      "<class 'pandas.core.frame.DataFrame'>\n",
      "RangeIndex: 67529 entries, 0 to 67528\n",
      "Data columns (total 19 columns):\n",
      "company             67529 non-null object\n",
      "date                67525 non-null datetime64[ns]\n",
      "summary             67409 non-null object\n",
      "pros                67529 non-null object\n",
      "cons                67529 non-null object\n",
      "advice_to_mgmt      67232 non-null object\n",
      "r_overall           67529 non-null int64\n",
      "r_work_balance      67529 non-null object\n",
      "r_culture           53983 non-null float64\n",
      "r_career_opp        60421 non-null float64\n",
      "r_comp_benefit      67529 non-null object\n",
      "senior_mangemnet    67529 non-null object\n",
      "helpful_count       67529 non-null int64\n",
      "link                67529 non-null object\n",
      "city                42444 non-null object\n",
      "state               34403 non-null object\n",
      "country             42444 non-null object\n",
      "current_emp         67529 non-null bool\n",
      "job_title           67529 non-null object\n",
      "dtypes: bool(1), datetime64[ns](1), float64(2), int64(2), object(13)\n",
      "memory usage: 9.3+ MB\n"
     ]
    }
   ],
   "source": [
    "df.info()"
   ]
  },
  {
   "cell_type": "code",
   "execution_count": 15,
   "metadata": {},
   "outputs": [],
   "source": [
    "# Data Types:\n",
    "df.date = pd.to_datetime(df.date, errors='coerce')"
   ]
  },
  {
   "cell_type": "code",
   "execution_count": 18,
   "metadata": {},
   "outputs": [],
   "source": [
    "#star_rating = pd.api.types.CategoricalDtype(ordered=True, categories=['*', '**', '***', '****', '*****'])\n",
    "\n",
    "# df.r_overall = df.r_overall.astype(star_rating)\n",
    "# df.r_culture = df.r_culture.astype(star_rating)\n",
    "# df.r_career_opp = df.r_career_opp.astype(star_rating)\n",
    "# df.r_comp_benefit = df.r_comp_benefit.astype(star_rating)\n",
    "# df.r_work_balance = df.r_work_balance.astype(star_rating)\n",
    "\n",
    "\n",
    "df.r_overall = df.r_overall.astype('int')\n",
    "df.r_culture = pd.to_numeric(df.r_culture, errors='coerce', downcast='unsigned')\n",
    "df.r_career_opp = pd.to_numeric(df.r_career_opp, errors='coerce', downcast='unsigned')\n",
    "df.r_comp_benefit = df.r_comp_benefit.astype('int', errors='ignore')\n"
   ]
  },
  {
   "cell_type": "code",
   "execution_count": 19,
   "metadata": {},
   "outputs": [
    {
     "data": {
      "text/plain": [
       "5.0    0.300607\n",
       "4.0    0.275947\n",
       "3.0    0.219410\n",
       "2.0    0.102133\n",
       "1.0    0.075057\n",
       "3.5    0.011767\n",
       "2.5    0.006537\n",
       "4.5    0.006438\n",
       "1.5    0.002102\n",
       "Name: r_career_opp, dtype: float64"
      ]
     },
     "execution_count": 19,
     "metadata": {},
     "output_type": "execute_result"
    }
   ],
   "source": [
    "df.r_career_opp.value_counts(normalize=True)"
   ]
  },
  {
   "cell_type": "code",
   "execution_count": 21,
   "metadata": {},
   "outputs": [
    {
     "data": {
      "image/png": "[encoded data removed]",
      "text/plain": [
       "<Figure size 1152x288 with 4 Axes>"
      ]
     },
     "metadata": {},
     "output_type": "display_data"
    }
   ],
   "source": [
    "# Choose a available style for rendering plots\n",
    "plt.style.use('seaborn-whitegrid')\n",
    "\n",
    "# Create the figure and axes and get access to them\n",
    "fig, (ax1, ax2, ax3, ax4) = plt.subplots(nrows=1, ncols=4, sharey=True, figsize=(16, 4))\n",
    "\n",
    "# Title the figure\n",
    "fig.suptitle('Employees\\' Ratings', fontsize=14, fontweight='bold')\n",
    "\n",
    "plt.rcParams.update({'font.size': 12})\n",
    "\n",
    "\n",
    "x = 'r_overall'\n",
    "hue = 'current_emp'\n",
    "color = sns.color_palette()[1]\n",
    "\n",
    "\n",
    "sns.countplot(ax=ax1, data=df, x=x, hue=None, color=color)\n",
    "ax1.set(title='Overall Rating', xlabel='combined', ylabel='')\n",
    "ax1.set_axis_off()\n",
    "\n",
    "sns.countplot(ax=ax2, data=df, x=x, hue=hue, color=color)\n",
    "ax2.set(title='separTED', xlabel='separated', ylabel='')\n",
    "ax2.legend(['past', 'current'])\n",
    "ax2.set_axis_off()\n",
    "\n",
    "\n",
    "sns.countplot(ax=ax2, data=df, x=df.r_work_balance, color=color)\n",
    "ax3.set(title='balance', xlabel='separated', ylabel='')\n",
    "ax3.legend(['past', 'current'])\n",
    "# ax3.set_axis_off()\n",
    "\n",
    "locs = ax1.get_xticks()\n",
    "labels = ax1.get_xlabel()\n",
    "\n",
    "counts = list(df.r_overall.value_counts(normalize=True).iloc[::-1])\n",
    "for loc, lable, count in zip(locs, labels, counts):\n",
    "    \n",
    "    text = '{:0.0f}%'.format(100*count)\n",
    "    ax1.text(loc, 0, text, color='w', ha='center', fontsize=14)\n",
    "    \n",
    "# ax1.set(title='Employee Overall Rating', xlabel='rating', ylabel='')"
   ]
  },
  {
   "cell_type": "markdown",
   "metadata": {},
   "source": [
    "### Missing Data"
   ]
  },
  {
   "cell_type": "code",
   "execution_count": 44,
   "metadata": {},
   "outputs": [],
   "source": [
    "# Convert misrepresentations of missing values to NaN\n",
    "df.replace('none', np.nan, inplace=True)  # replace any value 'none' to NaN"
   ]
  },
  {
   "cell_type": "code",
   "execution_count": 135,
   "metadata": {},
   "outputs": [
    {
     "data": {
      "text/plain": [
       "date                    4\n",
       "summary               129\n",
       "cons                    1\n",
       "advice_to_mgmt      29461\n",
       "r_work_balance       7160\n",
       "r_culture           13546\n",
       "r_career_opp         7108\n",
       "r_comp_benefit       7161\n",
       "senior_mangemnet     7775\n",
       "city                25085\n",
       "state               33126\n",
       "country             25085\n",
       "dtype: int64"
      ]
     },
     "execution_count": 135,
     "metadata": {},
     "output_type": "execute_result"
    }
   ],
   "source": [
    "col_missing_counts = df.isnull().sum()  # create a table with the number of missing values in each column.\n",
    "col_missing_counts = col_missing_counts[col_missing_counts !=0]  # keep columns with missing values only\n",
    "col_missing_counts"
   ]
  },
  {
   "cell_type": "code",
   "execution_count": 101,
   "metadata": {},
   "outputs": [
    {
     "name": "stdout",
     "output_type": "stream",
     "text": [
      "<class 'pandas.core.indexes.base.Index'>\n"
     ]
    },
    {
     "data": {
      "text/plain": [
       "Index(['company', 'date', 'summary', 'pros', 'cons', 'advice_to_mgmt',\n",
       "       'r_overall', 'r_work_balance', 'r_culture', 'r_career_opp',\n",
       "       'r_comp_benefit', 'senior_mangemnet', 'helpful_count', 'link', 'city',\n",
       "       'state', 'country', 'current_emp', 'job_title'],\n",
       "      dtype='object')"
      ]
     },
     "execution_count": 101,
     "metadata": {},
     "output_type": "execute_result"
    }
   ],
   "source": [
    "print(type(df.isnull().sum().index))\n",
    "df.isnull().sum().index"
   ]
  },
  {
   "cell_type": "code",
   "execution_count": 102,
   "metadata": {},
   "outputs": [
    {
     "name": "stdout",
     "output_type": "stream",
     "text": [
      "<class 'numpy.ndarray'>\n"
     ]
    },
    {
     "data": {
      "text/plain": [
       "array(['company', 'date', 'summary', 'pros', 'cons', 'advice_to_mgmt',\n",
       "       'r_overall', 'r_work_balance', 'r_culture', 'r_career_opp',\n",
       "       'r_comp_benefit', 'senior_mangemnet', 'helpful_count', 'link',\n",
       "       'city', 'state', 'country', 'current_emp', 'job_title'],\n",
       "      dtype=object)"
      ]
     },
     "execution_count": 102,
     "metadata": {},
     "output_type": "execute_result"
    }
   ],
   "source": [
    "print(type(df.isnull().sum().index.values))\n",
    "df.isnull().sum().index.values"
   ]
  },
  {
   "cell_type": "code",
   "execution_count": 100,
   "metadata": {},
   "outputs": [
    {
     "data": {
      "text/plain": [
       "numpy.ndarray"
      ]
     },
     "execution_count": 100,
     "metadata": {},
     "output_type": "execute_result"
    }
   ],
   "source": [
    "type(df.isnull().sum().values)"
   ]
  },
  {
   "cell_type": "code",
   "execution_count": 104,
   "metadata": {},
   "outputs": [
    {
     "data": {
      "image/png": "[encoded data removed]",
      "text/plain": [
       "<Figure size 1152x288 with 1 Axes>"
      ]
     },
     "metadata": {},
     "output_type": "display_data"
    }
   ],
   "source": [
    "fig, ax = plt.subplots(figsize=(16, 4))\n",
    "\n",
    "x = df.isnull().sum().index.values\n",
    "y = df.isnull().sum()\n",
    "sns.barplot(x, y, color=color, ax=ax)\n",
    "plt.xticks(rotation=90);"
   ]
  },
  {
   "cell_type": "code",
   "execution_count": 111,
   "metadata": {},
   "outputs": [
    {
     "data": {
      "text/plain": [
       "Index(['4.0', '5.0', '3.0', '2.0', '1.0', '3.5', '4.5', '2.5', '1.5'], dtype='object')"
      ]
     },
     "execution_count": 111,
     "metadata": {},
     "output_type": "execute_result"
    }
   ],
   "source": [
    "idx = df.r_work_balance.value_counts().index; idx"
   ]
  },
  {
   "cell_type": "code",
   "execution_count": 122,
   "metadata": {},
   "outputs": [
    {
     "name": "stdout",
     "output_type": "stream",
     "text": [
      "['4.0' '5.0' '3.0' '2.0' '1.0' '3.5' '4.5' '2.5' '1.5']\n"
     ]
    }
   ],
   "source": [
    "if '1.5' in idx:\n",
    "    print(idx.values)\n"
   ]
  },
  {
   "cell_type": "code",
   "execution_count": 129,
   "metadata": {},
   "outputs": [
    {
     "data": {
      "text/plain": [
       "date                    4\n",
       "summary               129\n",
       "cons                    1\n",
       "advice_to_mgmt      29461\n",
       "r_work_balance       7160\n",
       "r_culture           13546\n",
       "r_career_opp         7108\n",
       "r_comp_benefit       7161\n",
       "senior_mangemnet     7775\n",
       "city                25085\n",
       "state               33126\n",
       "country             25085\n",
       "dtype: int64"
      ]
     },
     "execution_count": 129,
     "metadata": {},
     "output_type": "execute_result"
    }
   ],
   "source": [
    "df.isnull().sum()[df.isnull().sum() != 0]"
   ]
  },
  {
   "cell_type": "code",
   "execution_count": null,
   "metadata": {},
   "outputs": [],
   "source": []
  }
 ],
 "metadata": {
  "kernelspec": {
   "display_name": "Python 3",
   "language": "python",
   "name": "python3"
  },
  "language_info": {
   "codemirror_mode": {
    "name": "ipython",
    "version": 3
   },
   "file_extension": ".py",
   "mimetype": "text/x-python",
   "name": "python",
   "nbconvert_exporter": "python",
   "pygments_lexer": "ipython3",
   "version": "3.7.2"
  }
 },
 "nbformat": 4,
 "nbformat_minor": 2
}
