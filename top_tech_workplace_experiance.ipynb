{
 "cells": [
  {
   "cell_type": "markdown",
   "metadata": {},
   "source": [
    "##### Exploratory Data Analysis of:\n",
    "# Top Tech Employees' Workplace Experiance\n",
    "___\n",
    "\n",
    "**Context:** Over 67k employee reviews for Google, Amazon, Facebook, Apple, and Microsoft.\n",
    "\n",
    "**Acknowledgements:** This data was scraped from Glassdoor.\n",
    "\n",
    "**Questions**\n",
    "- What company has been improving best?\n",
    "- based on this data what company seems the best choice for a specific postion?\n",
    "- is there a relationship base on stock market mometoum and volatility and employee's workplace rating?\n",
    "- What pros each company is best at?\n",
    "- what positions seem to be happiest in each company? (and overall)\n",
    "___"
   ]
  },
  {
   "cell_type": "markdown",
   "metadata": {},
   "source": [
    "Scratch Notes\n",
    "\n",
    "- Exploratory Data Analysis and Visualization for Text Data\n",
    "- Create a stunning visualization\n",
    "- focus of the project is on exploratory data analysis\n",
    "- worthy of posting it to Medium, Kaggle\n",
    "- Emplopyers and My Tech Friends value it\n",
    "\n",
    "https://towardsdatascience.com/a-complete-exploratory-data-analysis-and-visualization-for-text-data-29fb1b96fb6a\n",
    "\n",
    "https://www.kaggle.com/aashita/exploratory-data-analysis-of-comments-on-nyt\n",
    "\n",
    "https://www.kaggle.com/petersunga/google-amazon-facebook-employee-reviews"
   ]
  },
  {
   "cell_type": "markdown",
   "metadata": {},
   "source": [
    "Table of contents:\n",
    "1. [Importing modules and loading data ](#import)"
   ]
  },
  {
   "cell_type": "markdown",
   "metadata": {},
   "source": [
    "## Importing modules and loading data <a name=\"import\"></a>"
   ]
  },
  {
   "cell_type": "markdown",
   "metadata": {},
   "source": [
    "1. First we import python modules and setting notebook environment"
   ]
  },
  {
   "cell_type": "code",
   "execution_count": 1,
   "metadata": {},
   "outputs": [],
   "source": [
    "# Essential Data Analysis Ecosystem Libraries\n",
    "import numpy as np\n",
    "import pandas as pd\n",
    "import matplotlib.pyplot as plt\n",
    "import seaborn as sns\n",
    "\n",
    "# From Python Standard Library\n",
    "import os  # os file operations\n",
    "import re  # regular experesion  for data cleaning\n",
    "# import json  # encoding and decoding json data\n",
    "\n",
    "# import ast # Safely evaluate an expression node or a string containing a Python literal or container display.\n",
    "# from pandas.io.json import json_normalize\n",
    "\n",
    "# # Wrangling Tools\n",
    "# import requests  # Python HTTP for Humans! - Version: 2.21.0\n",
    "# import tweepy  # Popular Twitter library for python. -  Version: 3.5.0"
   ]
  },
  {
   "cell_type": "code",
   "execution_count": 2,
   "metadata": {},
   "outputs": [],
   "source": [
    "# set plots to be embedded inline\n",
    "%matplotlib inline\n",
    "\n",
    "# suppress warnings from final output\n",
    "import warnings\n",
    "warnings.simplefilter(\"ignore\")"
   ]
  },
  {
   "cell_type": "markdown",
   "metadata": {},
   "source": [
    "2. import the dataset"
   ]
  },
  {
   "cell_type": "code",
   "execution_count": 3,
   "metadata": {},
   "outputs": [
    {
     "name": "stdout",
     "output_type": "stream",
     "text": [
      "Dataset file(s): ['employee_reviews.csv']\n"
     ]
    }
   ],
   "source": [
    "# dataset starting file(s)\n",
    "dataset_path = 'input/'\n",
    "print ('Dataset file(s):', os.listdir(dataset_path))\n",
    "\n",
    "# TODO: Programmatically download the dataset zip file from Kaggle.\n",
    "\n",
    "df = pd.read_csv(os.path.join(dataset_path, 'employee_reviews.csv'))"
   ]
  },
  {
   "cell_type": "markdown",
   "metadata": {},
   "source": [
    "## First look at the data:<a name=\"import\"></a>"
   ]
  },
  {
   "cell_type": "markdown",
   "metadata": {},
   "source": [
    "#### Let's look at shape of our data and 3 random observations (reviews):"
   ]
  },
  {
   "cell_type": "code",
   "execution_count": 4,
   "metadata": {},
   "outputs": [
    {
     "name": "stdout",
     "output_type": "stream",
     "text": [
      "Number of rows (reviews) and columns: (67529, 17)\n"
     ]
    },
    {
     "data": {
      "text/html": [
       "<div>\n",
       "<style scoped>\n",
       "    .dataframe tbody tr th:only-of-type {\n",
       "        vertical-align: middle;\n",
       "    }\n",
       "\n",
       "    .dataframe tbody tr th {\n",
       "        vertical-align: top;\n",
       "    }\n",
       "\n",
       "    .dataframe thead th {\n",
       "        text-align: right;\n",
       "    }\n",
       "</style>\n",
       "<table border=\"1\" class=\"dataframe\">\n",
       "  <thead>\n",
       "    <tr style=\"text-align: right;\">\n",
       "      <th></th>\n",
       "      <th>Unnamed: 0</th>\n",
       "      <th>company</th>\n",
       "      <th>location</th>\n",
       "      <th>dates</th>\n",
       "      <th>job-title</th>\n",
       "      <th>summary</th>\n",
       "      <th>pros</th>\n",
       "      <th>cons</th>\n",
       "      <th>advice-to-mgmt</th>\n",
       "      <th>overall-ratings</th>\n",
       "      <th>work-balance-stars</th>\n",
       "      <th>culture-values-stars</th>\n",
       "      <th>carrer-opportunities-stars</th>\n",
       "      <th>comp-benefit-stars</th>\n",
       "      <th>senior-mangemnet-stars</th>\n",
       "      <th>helpful-count</th>\n",
       "      <th>link</th>\n",
       "    </tr>\n",
       "  </thead>\n",
       "  <tbody>\n",
       "    <tr>\n",
       "      <th>8058</th>\n",
       "      <td>8059</td>\n",
       "      <td>amazon</td>\n",
       "      <td>Seattle, WA</td>\n",
       "      <td>Nov 25, 2018</td>\n",
       "      <td>Current Employee - PM</td>\n",
       "      <td>Toxic is an understatement.</td>\n",
       "      <td>-Ability to work on projects that impact a lot...</td>\n",
       "      <td>-Extremely toxic work environment where manage...</td>\n",
       "      <td>-Show that you actually care about employees -...</td>\n",
       "      <td>2.0</td>\n",
       "      <td>4.0</td>\n",
       "      <td>1.0</td>\n",
       "      <td>1.0</td>\n",
       "      <td>2.0</td>\n",
       "      <td>1.0</td>\n",
       "      <td>0</td>\n",
       "      <td>https://www.glassdoor.com/Reviews/Amazon-Revie...</td>\n",
       "    </tr>\n",
       "    <tr>\n",
       "      <th>10063</th>\n",
       "      <td>10064</td>\n",
       "      <td>amazon</td>\n",
       "      <td>Chester, VA</td>\n",
       "      <td>Jul 18, 2018</td>\n",
       "      <td>Former Employee - ICQA</td>\n",
       "      <td>They will cut corners until theres none left t...</td>\n",
       "      <td>Its typical warehouse work (dont expect typica...</td>\n",
       "      <td>I was diagnosed with Generalized Anxiety Disor...</td>\n",
       "      <td>You guys dont understand what the workers issu...</td>\n",
       "      <td>1.0</td>\n",
       "      <td>1.0</td>\n",
       "      <td>1.0</td>\n",
       "      <td>1.0</td>\n",
       "      <td>1.0</td>\n",
       "      <td>1.0</td>\n",
       "      <td>2</td>\n",
       "      <td>https://www.glassdoor.com/Reviews/Amazon-Revie...</td>\n",
       "    </tr>\n",
       "    <tr>\n",
       "      <th>21635</th>\n",
       "      <td>21636</td>\n",
       "      <td>amazon</td>\n",
       "      <td>Philadelphia, PA</td>\n",
       "      <td>Jul 28, 2015</td>\n",
       "      <td>Current Employee - Human Resources Business Pa...</td>\n",
       "      <td>Good Company, still finding its feet</td>\n",
       "      <td>+Awesome opportunities due to growth +Your voi...</td>\n",
       "      <td>-Most of the time you are drinking from a fire...</td>\n",
       "      <td>Find your balance. Invest in the FC network wi...</td>\n",
       "      <td>3.0</td>\n",
       "      <td>1.0</td>\n",
       "      <td>3.0</td>\n",
       "      <td>5.0</td>\n",
       "      <td>4.0</td>\n",
       "      <td>3.0</td>\n",
       "      <td>2</td>\n",
       "      <td>https://www.glassdoor.com/Reviews/Amazon-Revie...</td>\n",
       "    </tr>\n",
       "  </tbody>\n",
       "</table>\n",
       "</div>"
      ],
      "text/plain": [
       "       Unnamed: 0 company          location          dates  \\\n",
       "8058         8059  amazon       Seattle, WA   Nov 25, 2018   \n",
       "10063       10064  amazon       Chester, VA   Jul 18, 2018   \n",
       "21635       21636  amazon  Philadelphia, PA   Jul 28, 2015   \n",
       "\n",
       "                                               job-title  \\\n",
       "8058                               Current Employee - PM   \n",
       "10063                             Former Employee - ICQA   \n",
       "21635  Current Employee - Human Resources Business Pa...   \n",
       "\n",
       "                                                 summary  \\\n",
       "8058                         Toxic is an understatement.   \n",
       "10063  They will cut corners until theres none left t...   \n",
       "21635               Good Company, still finding its feet   \n",
       "\n",
       "                                                    pros  \\\n",
       "8058   -Ability to work on projects that impact a lot...   \n",
       "10063  Its typical warehouse work (dont expect typica...   \n",
       "21635  +Awesome opportunities due to growth +Your voi...   \n",
       "\n",
       "                                                    cons  \\\n",
       "8058   -Extremely toxic work environment where manage...   \n",
       "10063  I was diagnosed with Generalized Anxiety Disor...   \n",
       "21635  -Most of the time you are drinking from a fire...   \n",
       "\n",
       "                                          advice-to-mgmt  overall-ratings  \\\n",
       "8058   -Show that you actually care about employees -...              2.0   \n",
       "10063  You guys dont understand what the workers issu...              1.0   \n",
       "21635  Find your balance. Invest in the FC network wi...              3.0   \n",
       "\n",
       "      work-balance-stars culture-values-stars carrer-opportunities-stars  \\\n",
       "8058                 4.0                  1.0                        1.0   \n",
       "10063                1.0                  1.0                        1.0   \n",
       "21635                1.0                  3.0                        5.0   \n",
       "\n",
       "      comp-benefit-stars senior-mangemnet-stars  helpful-count  \\\n",
       "8058                 2.0                    1.0              0   \n",
       "10063                1.0                    1.0              2   \n",
       "21635                4.0                    3.0              2   \n",
       "\n",
       "                                                    link  \n",
       "8058   https://www.glassdoor.com/Reviews/Amazon-Revie...  \n",
       "10063  https://www.glassdoor.com/Reviews/Amazon-Revie...  \n",
       "21635  https://www.glassdoor.com/Reviews/Amazon-Revie...  "
      ]
     },
     "execution_count": 4,
     "metadata": {},
     "output_type": "execute_result"
    }
   ],
   "source": [
    "print('Number of rows (reviews) and columns:', df.shape)\n",
    "df.sample(3)"
   ]
  },
  {
   "cell_type": "markdown",
   "metadata": {},
   "source": [
    "#### Information about columns by data provider:\n",
    "\n",
    "This dataset contains employee reviews separated into the following categories. \n",
    "> Comments in blue are data tidiness and quality issues that we will fix before start exploring the data.\n",
    "\n",
    "##### Columns\n",
    "- Index: index\n",
    "- - <font color='blue'> Unnamed column is redundant. Same as index. To be dropped</font>\n",
    "- Company: Company name\n",
    "- Location : This dataset is global, as such it may include the country's name in parenthesis i.e \"Toronto, ON(Canada)\". However, if the location is in the USA then it will only include the city and state i.e \"Los Angeles, CA\".\n",
    "- - <font color='blue'> Tidiness issue: location column contains 3 different 'city, state, and country' values. This column is to be separated in 3 columns.</font>\n",
    "- Date Posted: in the following format MM DD, YYYY\n",
    "- Job-Title: This string will also include whether the reviewer is a 'Current' or 'Former' Employee at the time of the review\n",
    "- - <font color='blue'> Tidiness issue: employee_status (current or former) and job_title are to be seperated in two columns.</font>\n",
    "- Summary: Short summary of employee review\n",
    "- Pros: Pros\n",
    "- Cons: Cons\n",
    "- Overall Rating: 1-5\n",
    "- Work/Life Balance Rating: 1-5\n",
    "- Culture and Values Rating: 1-5\n",
    "- Career Opportunities Rating: 1-5\n",
    "- Comp & Benefits Rating: 1-5\n",
    "- Senior Management Rating: 1-5\n",
    "- Helpful Review Count: A count of how many people found the review to be helpful\n",
    "- Link to Review : This will provide you with a direct link to the page that contains the review. However it is likely that this link will be outdated\n",
    "\n",
    "NOTE: 'none' is placed in all cells where no data value was found.\n",
    "\n"
   ]
  },
  {
   "cell_type": "markdown",
   "metadata": {},
   "source": [
    "#### Information about the columns' names, datatypes, unique values, and null values:"
   ]
  },
  {
   "cell_type": "code",
   "execution_count": 5,
   "metadata": {
    "scrolled": false
   },
   "outputs": [
    {
     "name": "stdout",
     "output_type": "stream",
     "text": [
      "<class 'pandas.core.frame.DataFrame'>\n",
      "RangeIndex: 67529 entries, 0 to 67528\n",
      "Data columns (total 17 columns):\n",
      "Unnamed: 0                    67529 non-null int64\n",
      "company                       67529 non-null object\n",
      "location                      67529 non-null object\n",
      "dates                         67529 non-null object\n",
      "job-title                     67529 non-null object\n",
      "summary                       67409 non-null object\n",
      "pros                          67529 non-null object\n",
      "cons                          67529 non-null object\n",
      "advice-to-mgmt                67232 non-null object\n",
      "overall-ratings               67529 non-null float64\n",
      "work-balance-stars            67529 non-null object\n",
      "culture-values-stars          67529 non-null object\n",
      "carrer-opportunities-stars    67529 non-null object\n",
      "comp-benefit-stars            67529 non-null object\n",
      "senior-mangemnet-stars        67529 non-null object\n",
      "helpful-count                 67529 non-null int64\n",
      "link                          67529 non-null object\n",
      "dtypes: float64(1), int64(2), object(14)\n",
      "memory usage: 8.8+ MB\n"
     ]
    }
   ],
   "source": [
    "df.info()"
   ]
  },
  {
   "cell_type": "code",
   "execution_count": 6,
   "metadata": {},
   "outputs": [
    {
     "data": {
      "text/plain": [
       "Unnamed: 0                    67529\n",
       "company                           6\n",
       "location                       2044\n",
       "dates                          3824\n",
       "job-title                      8308\n",
       "summary                       42649\n",
       "pros                          66085\n",
       "cons                          66049\n",
       "advice-to-mgmt                35190\n",
       "overall-ratings                   5\n",
       "work-balance-stars               10\n",
       "culture-values-stars              6\n",
       "carrer-opportunities-stars       10\n",
       "comp-benefit-stars               10\n",
       "senior-mangemnet-stars           10\n",
       "helpful-count                    99\n",
       "link                           6754\n",
       "dtype: int64"
      ]
     },
     "execution_count": 6,
     "metadata": {},
     "output_type": "execute_result"
    }
   ],
   "source": [
    "df.nunique()"
   ]
  },
  {
   "cell_type": "markdown",
   "metadata": {},
   "source": [
    "#### Data Preprocessing\n",
    "- Unnamed column is index same as DataFrame index; To be dropped"
   ]
  },
  {
   "cell_type": "code",
   "execution_count": 7,
   "metadata": {},
   "outputs": [
    {
     "data": {
      "text/plain": [
       "none                    25085\n",
       "Redmond, WA              5613\n",
       "Seattle, WA              4963\n",
       "Hyderabad (India)        2150\n",
       "Mountain View, CA        1706\n",
       "Bengaluru (India)        1607\n",
       "Cupertino, CA            1291\n",
       "New York, NY             1152\n",
       "London, England (UK)      930\n",
       "Menlo Park, CA            805\n",
       "Name: location, dtype: int64"
      ]
     },
     "execution_count": 7,
     "metadata": {},
     "output_type": "execute_result"
    }
   ],
   "source": [
    "df.location.value_counts()[:10]"
   ]
  },
  {
   "cell_type": "code",
   "execution_count": 8,
   "metadata": {},
   "outputs": [
    {
     "data": {
      "text/plain": [
       "40859                            none\n",
       "18684                       Tampa, FL\n",
       "53675                     Redmond, WA\n",
       "64973                 Moscow (Russia)\n",
       "43233                            none\n",
       "8910                             none\n",
       "52773                      Frisco, TX\n",
       "64957    Dublin, Co. Dublin (Ireland)\n",
       "18456                     Lebanon, TN\n",
       "31648            Toronto, ON (Canada)\n",
       "40456                        Novi, MI\n",
       "37937                 Kansas City, MO\n",
       "47223                            none\n",
       "3673                Mountain View, CA\n",
       "64615           Singapore (Singapore)\n",
       "50169                     Redmond, WA\n",
       "11183                 Saint Cloud, MN\n",
       "57373                     Redmond, WA\n",
       "5122                             none\n",
       "60839                     Redmond, WA\n",
       "26673                            none\n",
       "9768                    Baltimore, MD\n",
       "3375                     New York, NY\n",
       "63520                            none\n",
       "12520                Murfreesboro, TN\n",
       "32229               Bengaluru (India)\n",
       "53058                            none\n",
       "62552               Hyderabad (India)\n",
       "56756                     Redmond, WA\n",
       "36277                   Los Gatos, CA\n",
       "Name: location, dtype: object"
      ]
     },
     "execution_count": 8,
     "metadata": {},
     "output_type": "execute_result"
    }
   ],
   "source": [
    "df.location.sample(30)"
   ]
  },
  {
   "cell_type": "code",
   "execution_count": 9,
   "metadata": {},
   "outputs": [],
   "source": [
    "import re\n"
   ]
  },
  {
   "cell_type": "code",
   "execution_count": 10,
   "metadata": {
    "scrolled": true
   },
   "outputs": [
    {
     "data": {
      "text/plain": [
       "52305                     Redmond, WA\n",
       "25879                 Chennai (India)\n",
       "35828    Dublin, Co. Dublin (Ireland)\n",
       "38451                            none\n",
       "49989                     Redmond, WA\n",
       "49857                            none\n",
       "63351                            none\n",
       "23900              Campbellsville, KY\n",
       "48233                            none\n",
       "39717                            none\n",
       "57196                     Seattle, WA\n",
       "54156                            none\n",
       "56538                            none\n",
       "64638                            none\n",
       "19466                            none\n",
       "12311                     Seattle, WA\n",
       "30105               Hyderabad (India)\n",
       "6834     Dublin, Co. Dublin (Ireland)\n",
       "53437                            none\n",
       "12880                     Seattle, WA\n",
       "Name: location, dtype: object"
      ]
     },
     "execution_count": 10,
     "metadata": {},
     "output_type": "execute_result"
    }
   ],
   "source": [
    "# str.contains(pat, case=True, flags=0, na=nan, regex=True)[source]¶\n",
    "df.location.sample(20)"
   ]
  },
  {
   "cell_type": "code",
   "execution_count": 11,
   "metadata": {},
   "outputs": [],
   "source": [
    "btween_parentheses = r'\\(([^)]+)\\)'  # Regular expression to get a string between parentheses\n",
    "\n",
    "\n",
    "def get_country(location):\n",
    "    \"\"\"Extracts and returns country name from location string\"\"\"\n",
    "    if location == 'none':\n",
    "        return np.nan\n",
    "    not_usa = re.findall(btween_parentheses, location)\n",
    "    if not_usa:\n",
    "        return not_usa[0]\n",
    "    else:\n",
    "        return 'USA'\n",
    "    \n",
    "\n",
    "def get_state(location):\n",
    "    \"\"\"Extracts and returns state name (if aby) from location string\"\"\"\n",
    "    if location == 'none':\n",
    "        return np.nan\n",
    "    not_usa = re.findall(btween_parentheses, location)\n",
    "    if not_usa:\n",
    "        if ',' in location:\n",
    "            return location.split(',')[1].split()[0]\n",
    "        else:\n",
    "            return np.nan\n",
    "    else:\n",
    "        return location.strip()[-2:]\n",
    "\n",
    "    \n",
    "def get_city(location):\n",
    "    \"\"\"Extracts and returns city name from location string\"\"\"\n",
    "    if location == 'none':\n",
    "        return np.nan\n",
    "    not_usa = re.findall(btween_parentheses, location)\n",
    "    if not_usa:\n",
    "        if ',' in location:\n",
    "            return location.split(',')[0]\n",
    "        else:\n",
    "            return location.split()[0]\n",
    "    else:\n",
    "        return location.split(',')[0]    "
   ]
  },
  {
   "cell_type": "code",
   "execution_count": 12,
   "metadata": {},
   "outputs": [],
   "source": [
    "# Tidy location column to 3 columns, City, State (only for USA and some countries), and Country.\n",
    "df['country'] = df.location.apply(get_country)\n",
    "df['state'] = df.location.apply(get_state)\n",
    "df['city'] = df.location.apply(get_city)\n",
    "# Frop no longer needed location column\n",
    "df.drop(columns='location', axis=1, inplace=True)"
   ]
  },
  {
   "cell_type": "code",
   "execution_count": 13,
   "metadata": {},
   "outputs": [
    {
     "data": {
      "text/plain": [
       "Unnamed: 0                    67529\n",
       "company                           6\n",
       "dates                          3824\n",
       "job-title                      8308\n",
       "summary                       42649\n",
       "pros                          66085\n",
       "cons                          66049\n",
       "advice-to-mgmt                35190\n",
       "overall-ratings                   5\n",
       "work-balance-stars               10\n",
       "culture-values-stars              6\n",
       "carrer-opportunities-stars       10\n",
       "comp-benefit-stars               10\n",
       "senior-mangemnet-stars           10\n",
       "helpful-count                    99\n",
       "link                           6754\n",
       "country                         106\n",
       "state                           154\n",
       "city                           1842\n",
       "dtype: int64"
      ]
     },
     "execution_count": 13,
     "metadata": {},
     "output_type": "execute_result"
    }
   ],
   "source": [
    "df.nunique()"
   ]
  },
  {
   "cell_type": "code",
   "execution_count": 14,
   "metadata": {},
   "outputs": [
    {
     "data": {
      "text/html": [
       "<div>\n",
       "<style scoped>\n",
       "    .dataframe tbody tr th:only-of-type {\n",
       "        vertical-align: middle;\n",
       "    }\n",
       "\n",
       "    .dataframe tbody tr th {\n",
       "        vertical-align: top;\n",
       "    }\n",
       "\n",
       "    .dataframe thead th {\n",
       "        text-align: right;\n",
       "    }\n",
       "</style>\n",
       "<table border=\"1\" class=\"dataframe\">\n",
       "  <thead>\n",
       "    <tr style=\"text-align: right;\">\n",
       "      <th></th>\n",
       "      <th>Unnamed: 0</th>\n",
       "      <th>company</th>\n",
       "      <th>dates</th>\n",
       "      <th>job-title</th>\n",
       "      <th>summary</th>\n",
       "      <th>pros</th>\n",
       "      <th>cons</th>\n",
       "      <th>advice-to-mgmt</th>\n",
       "      <th>overall-ratings</th>\n",
       "      <th>work-balance-stars</th>\n",
       "      <th>culture-values-stars</th>\n",
       "      <th>carrer-opportunities-stars</th>\n",
       "      <th>comp-benefit-stars</th>\n",
       "      <th>senior-mangemnet-stars</th>\n",
       "      <th>helpful-count</th>\n",
       "      <th>link</th>\n",
       "      <th>country</th>\n",
       "      <th>state</th>\n",
       "      <th>city</th>\n",
       "    </tr>\n",
       "  </thead>\n",
       "  <tbody>\n",
       "    <tr>\n",
       "      <th>6466</th>\n",
       "      <td>6467</td>\n",
       "      <td>google</td>\n",
       "      <td>Feb 26, 2016</td>\n",
       "      <td>Former Employee - Internship</td>\n",
       "      <td>Pros and Cons</td>\n",
       "      <td>It is a well known company and It provides you...</td>\n",
       "      <td>Some time work is with other offices which req...</td>\n",
       "      <td>none</td>\n",
       "      <td>5.0</td>\n",
       "      <td>3.0</td>\n",
       "      <td>5.0</td>\n",
       "      <td>4.0</td>\n",
       "      <td>5.0</td>\n",
       "      <td>5.0</td>\n",
       "      <td>0</td>\n",
       "      <td>https://www.glassdoor.com/Reviews/Google-Revie...</td>\n",
       "      <td>Iran</td>\n",
       "      <td>Tehran</td>\n",
       "      <td>Tehran</td>\n",
       "    </tr>\n",
       "    <tr>\n",
       "      <th>35554</th>\n",
       "      <td>35555</td>\n",
       "      <td>facebook</td>\n",
       "      <td>Mar 7, 2018</td>\n",
       "      <td>Current Employee - Advertising</td>\n",
       "      <td>Advertising</td>\n",
       "      <td>I like it and I think it is useful for me, i a...</td>\n",
       "      <td>Cars, fashion, actor, actress, veiw of beautif...</td>\n",
       "      <td>No lie be honest</td>\n",
       "      <td>5.0</td>\n",
       "      <td>5.0</td>\n",
       "      <td>5.0</td>\n",
       "      <td>5.0</td>\n",
       "      <td>5.0</td>\n",
       "      <td>5.0</td>\n",
       "      <td>0</td>\n",
       "      <td>https://www.glassdoor.com/Reviews/Facebook-Rev...</td>\n",
       "      <td>Iran</td>\n",
       "      <td>Tehran</td>\n",
       "      <td>Tehran</td>\n",
       "    </tr>\n",
       "    <tr>\n",
       "      <th>35568</th>\n",
       "      <td>35569</td>\n",
       "      <td>facebook</td>\n",
       "      <td>Jan 28, 2018</td>\n",
       "      <td>Former Employee - 3D Modeler/Texturer</td>\n",
       "      <td>3D artist, Modeler, texture artist</td>\n",
       "      <td>It is a very flexible company with new and cre...</td>\n",
       "      <td>I was working as a freelance artist.</td>\n",
       "      <td>none</td>\n",
       "      <td>3.0</td>\n",
       "      <td>none</td>\n",
       "      <td>none</td>\n",
       "      <td>none</td>\n",
       "      <td>none</td>\n",
       "      <td>none</td>\n",
       "      <td>0</td>\n",
       "      <td>https://www.glassdoor.com/Reviews/Facebook-Rev...</td>\n",
       "      <td>Iran</td>\n",
       "      <td>Tehran</td>\n",
       "      <td>Tehran</td>\n",
       "    </tr>\n",
       "    <tr>\n",
       "      <th>47447</th>\n",
       "      <td>47448</td>\n",
       "      <td>apple</td>\n",
       "      <td>Sep 8, 2017</td>\n",
       "      <td>Current Employee - Industrial Engineer</td>\n",
       "      <td>industrial engineer</td>\n",
       "      <td>centralization innovation and ingenuity i win ...</td>\n",
       "      <td>quality control and business assurance quality...</td>\n",
       "      <td>none</td>\n",
       "      <td>5.0</td>\n",
       "      <td>3.0</td>\n",
       "      <td>none</td>\n",
       "      <td>3.0</td>\n",
       "      <td>3.0</td>\n",
       "      <td>none</td>\n",
       "      <td>0</td>\n",
       "      <td>https://www.glassdoor.com/Reviews/Apple-Review...</td>\n",
       "      <td>Iran</td>\n",
       "      <td>Kermanshah</td>\n",
       "      <td>Kermānshāh</td>\n",
       "    </tr>\n",
       "    <tr>\n",
       "      <th>65527</th>\n",
       "      <td>65528</td>\n",
       "      <td>microsoft</td>\n",
       "      <td>Jan 29, 2015</td>\n",
       "      <td>Current Employee - Computer Programmer</td>\n",
       "      <td>Programming analyst and give the idea about ne...</td>\n",
       "      <td>share my ideas with the world</td>\n",
       "      <td>no cons...i love to work with computers</td>\n",
       "      <td>like to give a new application ideas</td>\n",
       "      <td>3.0</td>\n",
       "      <td>3.0</td>\n",
       "      <td>3.0</td>\n",
       "      <td>3.0</td>\n",
       "      <td>3.0</td>\n",
       "      <td>3.0</td>\n",
       "      <td>0</td>\n",
       "      <td>https://www.glassdoor.com/Reviews/Microsoft-Re...</td>\n",
       "      <td>Iran</td>\n",
       "      <td>East</td>\n",
       "      <td>Tabrīz</td>\n",
       "    </tr>\n",
       "  </tbody>\n",
       "</table>\n",
       "</div>"
      ],
      "text/plain": [
       "       Unnamed: 0    company          dates  \\\n",
       "6466         6467     google   Feb 26, 2016   \n",
       "35554       35555   facebook    Mar 7, 2018   \n",
       "35568       35569   facebook   Jan 28, 2018   \n",
       "47447       47448      apple    Sep 8, 2017   \n",
       "65527       65528  microsoft   Jan 29, 2015   \n",
       "\n",
       "                                    job-title  \\\n",
       "6466             Former Employee - Internship   \n",
       "35554          Current Employee - Advertising   \n",
       "35568   Former Employee - 3D Modeler/Texturer   \n",
       "47447  Current Employee - Industrial Engineer   \n",
       "65527  Current Employee - Computer Programmer   \n",
       "\n",
       "                                                 summary  \\\n",
       "6466                                       Pros and Cons   \n",
       "35554                                        Advertising   \n",
       "35568                 3D artist, Modeler, texture artist   \n",
       "47447                                industrial engineer   \n",
       "65527  Programming analyst and give the idea about ne...   \n",
       "\n",
       "                                                    pros  \\\n",
       "6466   It is a well known company and It provides you...   \n",
       "35554  I like it and I think it is useful for me, i a...   \n",
       "35568  It is a very flexible company with new and cre...   \n",
       "47447  centralization innovation and ingenuity i win ...   \n",
       "65527                      share my ideas with the world   \n",
       "\n",
       "                                                    cons  \\\n",
       "6466   Some time work is with other offices which req...   \n",
       "35554  Cars, fashion, actor, actress, veiw of beautif...   \n",
       "35568               I was working as a freelance artist.   \n",
       "47447  quality control and business assurance quality...   \n",
       "65527            no cons...i love to work with computers   \n",
       "\n",
       "                             advice-to-mgmt  overall-ratings  \\\n",
       "6466                                   none              5.0   \n",
       "35554                      No lie be honest              5.0   \n",
       "35568                                  none              3.0   \n",
       "47447                                  none              5.0   \n",
       "65527  like to give a new application ideas              3.0   \n",
       "\n",
       "      work-balance-stars culture-values-stars carrer-opportunities-stars  \\\n",
       "6466                 3.0                  5.0                        4.0   \n",
       "35554                5.0                  5.0                        5.0   \n",
       "35568               none                 none                       none   \n",
       "47447                3.0                 none                        3.0   \n",
       "65527                3.0                  3.0                        3.0   \n",
       "\n",
       "      comp-benefit-stars senior-mangemnet-stars  helpful-count  \\\n",
       "6466                 5.0                    5.0              0   \n",
       "35554                5.0                    5.0              0   \n",
       "35568               none                   none              0   \n",
       "47447                3.0                   none              0   \n",
       "65527                3.0                    3.0              0   \n",
       "\n",
       "                                                    link country       state  \\\n",
       "6466   https://www.glassdoor.com/Reviews/Google-Revie...    Iran      Tehran   \n",
       "35554  https://www.glassdoor.com/Reviews/Facebook-Rev...    Iran      Tehran   \n",
       "35568  https://www.glassdoor.com/Reviews/Facebook-Rev...    Iran      Tehran   \n",
       "47447  https://www.glassdoor.com/Reviews/Apple-Review...    Iran  Kermanshah   \n",
       "65527  https://www.glassdoor.com/Reviews/Microsoft-Re...    Iran        East   \n",
       "\n",
       "             city  \n",
       "6466       Tehran  \n",
       "35554      Tehran  \n",
       "35568      Tehran  \n",
       "47447  Kermānshāh  \n",
       "65527      Tabrīz  "
      ]
     },
     "execution_count": 14,
     "metadata": {},
     "output_type": "execute_result"
    }
   ],
   "source": [
    "df[df.country == 'Iran']"
   ]
  },
  {
   "cell_type": "code",
   "execution_count": 15,
   "metadata": {},
   "outputs": [
    {
     "data": {
      "text/plain": [
       "WA    11528\n",
       "CA     7261\n",
       "TX     1705\n",
       "NY     1331\n",
       "FL      775\n",
       "IL      571\n",
       "NJ      524\n",
       "PA      505\n",
       "VA      500\n",
       "AZ      441\n",
       "MA      421\n",
       "KY      410\n",
       "GA      395\n",
       "TN      390\n",
       "IN      317\n",
       "NC      276\n",
       "OR      269\n",
       "MD      257\n",
       "OH      254\n",
       "SC      233\n",
       "CO      204\n",
       "NV      200\n",
       "WI      166\n",
       "MI      163\n",
       "DC      147\n",
       "DE      142\n",
       "UT      131\n",
       "MN      131\n",
       "KS      120\n",
       "CT       98\n",
       "MO       84\n",
       "ND       80\n",
       "WV       53\n",
       "OK       40\n",
       "NH       37\n",
       "LA       36\n",
       "AL       29\n",
       "HI       28\n",
       "NM       19\n",
       "AR       18\n",
       "ME       16\n",
       "NE       12\n",
       "MS       11\n",
       "IA       11\n",
       "RI        9\n",
       "PR        9\n",
       "ID        8\n",
       "AK        7\n",
       "SD        3\n",
       "WY        2\n",
       "MT        2\n",
       "Name: state, dtype: int64"
      ]
     },
     "execution_count": 15,
     "metadata": {},
     "output_type": "execute_result"
    }
   ],
   "source": [
    "df[df.country == 'USA'].state.value_counts()"
   ]
  },
  {
   "cell_type": "code",
   "execution_count": 16,
   "metadata": {},
   "outputs": [
    {
     "data": {
      "text/plain": [
       "amazon       26430\n",
       "microsoft    17930\n",
       "apple        12950\n",
       "google        7819\n",
       "facebook      1590\n",
       "netflix        810\n",
       "Name: company, dtype: int64"
      ]
     },
     "execution_count": 16,
     "metadata": {},
     "output_type": "execute_result"
    }
   ],
   "source": [
    "df.company.value_counts()"
   ]
  },
  {
   "cell_type": "code",
   "execution_count": 17,
   "metadata": {},
   "outputs": [
    {
     "name": "stdout",
     "output_type": "stream",
     "text": [
      "<class 'pandas.core.frame.DataFrame'>\n",
      "RangeIndex: 67529 entries, 0 to 67528\n",
      "Data columns (total 19 columns):\n",
      "Unnamed: 0                    67529 non-null int64\n",
      "company                       67529 non-null object\n",
      "dates                         67529 non-null object\n",
      "job-title                     67529 non-null object\n",
      "summary                       67409 non-null object\n",
      "pros                          67529 non-null object\n",
      "cons                          67529 non-null object\n",
      "advice-to-mgmt                67232 non-null object\n",
      "overall-ratings               67529 non-null float64\n",
      "work-balance-stars            67529 non-null object\n",
      "culture-values-stars          67529 non-null object\n",
      "carrer-opportunities-stars    67529 non-null object\n",
      "comp-benefit-stars            67529 non-null object\n",
      "senior-mangemnet-stars        67529 non-null object\n",
      "helpful-count                 67529 non-null int64\n",
      "link                          67529 non-null object\n",
      "country                       42444 non-null object\n",
      "state                         34403 non-null object\n",
      "city                          42444 non-null object\n",
      "dtypes: float64(1), int64(2), object(16)\n",
      "memory usage: 9.8+ MB\n"
     ]
    }
   ],
   "source": [
    "df.info()"
   ]
  },
  {
   "cell_type": "code",
   "execution_count": null,
   "metadata": {},
   "outputs": [],
   "source": []
  }
 ],
 "metadata": {
  "kernelspec": {
   "display_name": "Python 3",
   "language": "python",
   "name": "python3"
  },
  "language_info": {
   "codemirror_mode": {
    "name": "ipython",
    "version": 3
   },
   "file_extension": ".py",
   "mimetype": "text/x-python",
   "name": "python",
   "nbconvert_exporter": "python",
   "pygments_lexer": "ipython3",
   "version": "3.7.2"
  }
 },
 "nbformat": 4,
 "nbformat_minor": 2
}
