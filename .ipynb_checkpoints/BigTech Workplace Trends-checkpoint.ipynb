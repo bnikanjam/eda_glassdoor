{
 "cells": [
  {
   "cell_type": "markdown",
   "metadata": {},
   "source": [
    "##### Exploratory Data Analysis of:\n",
    "## Microsoft, Apple, Amazon, Google, Netflix, and Facebook Workplace Reviews\n",
    "___\n"
   ]
  },
  {
   "cell_type": "markdown",
   "metadata": {},
   "source": [
    "Table of contents:\n",
    "1. [What insights and questions are we exploring?](#questions)\n",
    "1. [Importing libraries, setting the environment and loading up our data](#import)\n",
    "1. [Initial data assessment and variables exploration](#assessment)\n",
    "1. [Data cleaning. Addressing tidiness, quality, and missing values](#cleaning)\n",
    "1. [Feature Engineering](#import)\n",
    "1. [Univariant](#import)\n",
    "1. [Bivariant Exploration](#bivariant)\n",
    "1. [Multivariate](#import)"
   ]
  },
  {
   "cell_type": "markdown",
   "metadata": {},
   "source": [
    "___"
   ]
  },
  {
   "cell_type": "markdown",
   "metadata": {},
   "source": [
    "## What insights and questions are we exploring?<a name=\"questions\"></a>"
   ]
  },
  {
   "cell_type": "markdown",
   "metadata": {},
   "source": [
    "**Context:** Companies are collections of groups of people and like other living things a company too is constantly evolving, experiemnting, learning from thier mistakes, and changing. \n",
    "\n",
    "Time of each review is an snapshot of a company from the perspective of someone who is part of this living whole. A review or general take of an employee is shaped by his/her experiances, met current and past expectations, thier own personal values  and future hopes both for themselves and the comapny.\n",
    "\n",
    "Over 67k employee reviews for Google, Amazon, Facebook, Apple, Netflix and Microsoft.\n",
    "\n",
    "\n",
    "**Questions**\n",
    "- What company has been improving best?\n",
    "- based on this data what company seems the best choice for a specific postion?\n",
    "- is there a relationship base on stock market mometoum and volatility and employee's workplace rating?\n",
    "- What pros each company is best at?\n",
    "- what positions seem to be happiest in each company? (and overall)\n",
    "\n",
    "- a company cultur is like a living thing, it grows, changes, fades away, It's the direction that matters most for current and potential employees perhaps more than where they are now. So recent reviews so weigh more of general status of a cimpany.\n",
    "\n",
    "\n",
    "- what proportion of employees felt comfortable enough not tobe Anonymous?\n",
    "\n",
    "**Acknowledgements:** This data was scraped from Glassdoor.\n",
    "___"
   ]
  },
  {
   "cell_type": "markdown",
   "metadata": {},
   "source": [
    "## Importing libraries, setting the environment and loading up our data <a name=\"import\"></a>"
   ]
  },
  {
   "cell_type": "code",
   "execution_count": 1,
   "metadata": {},
   "outputs": [],
   "source": [
    "# Essential Data Analysis Ecosystem abd Visualizations\n",
    "import numpy as np\n",
    "import pandas as pd\n",
    "from pandas.api.types import CategoricalDtype\n",
    "\n",
    "import matplotlib.pyplot as plt\n",
    "import seaborn as sns\n",
    "\n",
    "# Python Standard Libraries\n",
    "import os  # os file operations\n",
    "import re  # data cleaning\n",
    "import webbrowser\n",
    "\n",
    "# Specialized Libraries\n",
    "from textblob import TextBlob\n",
    "\n",
    "# suppress warnings from final output\n",
    "import warnings\n",
    "warnings.simplefilter(\"ignore\")\n",
    "\n",
    "# set plots to be embedded inline\n",
    "%matplotlib inline\n",
    "\n",
    "\n",
    "bcolor = sns.color_palette()[0]\n",
    "two_in_row = (12, 4)  # two square plots next to each other\n",
    "plt.rcParams['font.family'] = 'sans-serif'\n",
    "plt.rcParams['font.sans-serif'] = 'Helvetica'\n",
    "sns.set(style='ticks', palette='pastel')"
   ]
  },
  {
   "cell_type": "markdown",
   "metadata": {},
   "source": [
    "#### Load up our dataset to a DataFrame"
   ]
  },
  {
   "cell_type": "code",
   "execution_count": 2,
   "metadata": {},
   "outputs": [],
   "source": [
    "dataset_path = 'input/'\n",
    "df_raw = pd.read_csv(os.path.join(dataset_path, 'employee_reviews.csv'))"
   ]
  },
  {
   "cell_type": "markdown",
   "metadata": {},
   "source": [
    "___"
   ]
  },
  {
   "cell_type": "markdown",
   "metadata": {},
   "source": [
    "## Initial data assessment and variables exploration:<a name=\"assessment\"></a>"
   ]
  },
  {
   "cell_type": "markdown",
   "metadata": {},
   "source": [
    "#### Let's look at shape of our raw data and  5  random  reviews:"
   ]
  },
  {
   "cell_type": "code",
   "execution_count": 3,
   "metadata": {},
   "outputs": [
    {
     "name": "stdout",
     "output_type": "stream",
     "text": [
      "Number of rows (reviews) and columns: (67529, 17)\n"
     ]
    },
    {
     "data": {
      "text/html": [
       "<div>\n",
       "<style scoped>\n",
       "    .dataframe tbody tr th:only-of-type {\n",
       "        vertical-align: middle;\n",
       "    }\n",
       "\n",
       "    .dataframe tbody tr th {\n",
       "        vertical-align: top;\n",
       "    }\n",
       "\n",
       "    .dataframe thead th {\n",
       "        text-align: right;\n",
       "    }\n",
       "</style>\n",
       "<table border=\"1\" class=\"dataframe\">\n",
       "  <thead>\n",
       "    <tr style=\"text-align: right;\">\n",
       "      <th></th>\n",
       "      <th>Unnamed: 0</th>\n",
       "      <th>company</th>\n",
       "      <th>location</th>\n",
       "      <th>dates</th>\n",
       "      <th>job-title</th>\n",
       "      <th>summary</th>\n",
       "      <th>pros</th>\n",
       "      <th>cons</th>\n",
       "      <th>advice-to-mgmt</th>\n",
       "      <th>overall-ratings</th>\n",
       "      <th>work-balance-stars</th>\n",
       "      <th>culture-values-stars</th>\n",
       "      <th>carrer-opportunities-stars</th>\n",
       "      <th>comp-benefit-stars</th>\n",
       "      <th>senior-mangemnet-stars</th>\n",
       "      <th>helpful-count</th>\n",
       "      <th>link</th>\n",
       "    </tr>\n",
       "  </thead>\n",
       "  <tbody>\n",
       "    <tr>\n",
       "      <th>19542</th>\n",
       "      <td>19543</td>\n",
       "      <td>amazon</td>\n",
       "      <td>Murfreesboro, TN</td>\n",
       "      <td>Mar 31, 2016</td>\n",
       "      <td>Current Employee - Packer</td>\n",
       "      <td>Great entry level job</td>\n",
       "      <td>Stock options, pay, supportive training</td>\n",
       "      <td>Making rate..physically wearing on the body,</td>\n",
       "      <td>HR communication for new hires inconsistent</td>\n",
       "      <td>4.0</td>\n",
       "      <td>4.0</td>\n",
       "      <td>4.0</td>\n",
       "      <td>4.0</td>\n",
       "      <td>4.0</td>\n",
       "      <td>4.0</td>\n",
       "      <td>0</td>\n",
       "      <td>https://www.glassdoor.com/Reviews/Amazon-Revie...</td>\n",
       "    </tr>\n",
       "    <tr>\n",
       "      <th>19529</th>\n",
       "      <td>19530</td>\n",
       "      <td>amazon</td>\n",
       "      <td>Sacramento, CA</td>\n",
       "      <td>May 4, 2016</td>\n",
       "      <td>Current Employee - Anonymous Employee</td>\n",
       "      <td>The Truth Will Set You Free!</td>\n",
       "      <td>Corporate employees are treated as humans and ...</td>\n",
       "      <td>Discriminatory employment practices, hostile a...</td>\n",
       "      <td>Beware: your unlawful employment practices wil...</td>\n",
       "      <td>1.0</td>\n",
       "      <td>1.0</td>\n",
       "      <td>1.0</td>\n",
       "      <td>2.0</td>\n",
       "      <td>2.0</td>\n",
       "      <td>1.0</td>\n",
       "      <td>5</td>\n",
       "      <td>https://www.glassdoor.com/Reviews/Amazon-Revie...</td>\n",
       "    </tr>\n",
       "    <tr>\n",
       "      <th>57819</th>\n",
       "      <td>57820</td>\n",
       "      <td>microsoft</td>\n",
       "      <td>none</td>\n",
       "      <td>Feb 3, 2014</td>\n",
       "      <td>Former Employee - Anonymous Employee</td>\n",
       "      <td>Great Learning Experience</td>\n",
       "      <td>Great benefits, great learning, Lots of divers...</td>\n",
       "      <td>Middle level managers are not the best, Growth...</td>\n",
       "      <td>none</td>\n",
       "      <td>5.0</td>\n",
       "      <td>none</td>\n",
       "      <td>none</td>\n",
       "      <td>none</td>\n",
       "      <td>none</td>\n",
       "      <td>none</td>\n",
       "      <td>0</td>\n",
       "      <td>https://www.glassdoor.com/Reviews/Microsoft-Re...</td>\n",
       "    </tr>\n",
       "    <tr>\n",
       "      <th>16574</th>\n",
       "      <td>16575</td>\n",
       "      <td>amazon</td>\n",
       "      <td>Hebron, KY</td>\n",
       "      <td>Mar 24, 2017</td>\n",
       "      <td>Current Employee - Warehouse Associate</td>\n",
       "      <td>Bait and switch, not the job I was hired for.</td>\n",
       "      <td>Benefits inexpensive. Tons of time off without...</td>\n",
       "      <td>Absolutely worst management and HR I have ever...</td>\n",
       "      <td>Pull your heads out of your posterior. Don't h...</td>\n",
       "      <td>1.0</td>\n",
       "      <td>1.0</td>\n",
       "      <td>1.0</td>\n",
       "      <td>1.0</td>\n",
       "      <td>2.0</td>\n",
       "      <td>1.0</td>\n",
       "      <td>4</td>\n",
       "      <td>https://www.glassdoor.com/Reviews/Amazon-Revie...</td>\n",
       "    </tr>\n",
       "    <tr>\n",
       "      <th>47673</th>\n",
       "      <td>47674</td>\n",
       "      <td>apple</td>\n",
       "      <td>none</td>\n",
       "      <td>Apr 9, 2017</td>\n",
       "      <td>Current Employee - Anonymous Employee</td>\n",
       "      <td>Cool place</td>\n",
       "      <td>Cool people and work place</td>\n",
       "      <td>None that I can really think of other than oth...</td>\n",
       "      <td>none</td>\n",
       "      <td>4.0</td>\n",
       "      <td>none</td>\n",
       "      <td>none</td>\n",
       "      <td>none</td>\n",
       "      <td>none</td>\n",
       "      <td>none</td>\n",
       "      <td>0</td>\n",
       "      <td>https://www.glassdoor.com/Reviews/Apple-Review...</td>\n",
       "    </tr>\n",
       "  </tbody>\n",
       "</table>\n",
       "</div>"
      ],
      "text/plain": [
       "       Unnamed: 0    company          location          dates  \\\n",
       "19542       19543     amazon  Murfreesboro, TN   Mar 31, 2016   \n",
       "19529       19530     amazon    Sacramento, CA    May 4, 2016   \n",
       "57819       57820  microsoft              none    Feb 3, 2014   \n",
       "16574       16575     amazon        Hebron, KY   Mar 24, 2017   \n",
       "47673       47674      apple              none    Apr 9, 2017   \n",
       "\n",
       "                                    job-title  \\\n",
       "19542               Current Employee - Packer   \n",
       "19529   Current Employee - Anonymous Employee   \n",
       "57819    Former Employee - Anonymous Employee   \n",
       "16574  Current Employee - Warehouse Associate   \n",
       "47673   Current Employee - Anonymous Employee   \n",
       "\n",
       "                                             summary  \\\n",
       "19542                          Great entry level job   \n",
       "19529                   The Truth Will Set You Free!   \n",
       "57819                      Great Learning Experience   \n",
       "16574  Bait and switch, not the job I was hired for.   \n",
       "47673                                     Cool place   \n",
       "\n",
       "                                                    pros  \\\n",
       "19542            Stock options, pay, supportive training   \n",
       "19529  Corporate employees are treated as humans and ...   \n",
       "57819  Great benefits, great learning, Lots of divers...   \n",
       "16574  Benefits inexpensive. Tons of time off without...   \n",
       "47673                         Cool people and work place   \n",
       "\n",
       "                                                    cons  \\\n",
       "19542       Making rate..physically wearing on the body,   \n",
       "19529  Discriminatory employment practices, hostile a...   \n",
       "57819  Middle level managers are not the best, Growth...   \n",
       "16574  Absolutely worst management and HR I have ever...   \n",
       "47673  None that I can really think of other than oth...   \n",
       "\n",
       "                                          advice-to-mgmt  overall-ratings  \\\n",
       "19542        HR communication for new hires inconsistent              4.0   \n",
       "19529  Beware: your unlawful employment practices wil...              1.0   \n",
       "57819                                               none              5.0   \n",
       "16574  Pull your heads out of your posterior. Don't h...              1.0   \n",
       "47673                                               none              4.0   \n",
       "\n",
       "      work-balance-stars culture-values-stars carrer-opportunities-stars  \\\n",
       "19542                4.0                  4.0                        4.0   \n",
       "19529                1.0                  1.0                        2.0   \n",
       "57819               none                 none                       none   \n",
       "16574                1.0                  1.0                        1.0   \n",
       "47673               none                 none                       none   \n",
       "\n",
       "      comp-benefit-stars senior-mangemnet-stars  helpful-count  \\\n",
       "19542                4.0                    4.0              0   \n",
       "19529                2.0                    1.0              5   \n",
       "57819               none                   none              0   \n",
       "16574                2.0                    1.0              4   \n",
       "47673               none                   none              0   \n",
       "\n",
       "                                                    link  \n",
       "19542  https://www.glassdoor.com/Reviews/Amazon-Revie...  \n",
       "19529  https://www.glassdoor.com/Reviews/Amazon-Revie...  \n",
       "57819  https://www.glassdoor.com/Reviews/Microsoft-Re...  \n",
       "16574  https://www.glassdoor.com/Reviews/Amazon-Revie...  \n",
       "47673  https://www.glassdoor.com/Reviews/Apple-Review...  "
      ]
     },
     "execution_count": 3,
     "metadata": {},
     "output_type": "execute_result"
    }
   ],
   "source": [
    "print('Number of rows (reviews) and columns:', df_raw.shape)\n",
    "df_raw_samples = df_raw.sample(5)\n",
    "df_raw_samples"
   ]
  },
  {
   "cell_type": "markdown",
   "metadata": {},
   "source": [
    "- `index` and `Unnamed: 0` column seem as an id and are redundant.\n",
    "- 'none' is used for missing values.\n",
    "- Tidiness issue: Global location column contains 3 different 'city, state, and country' values. This column is to be separated in 3 columns.\n",
    "- Tidiness issue: employee_status (current or former) and job_title are to be seperated in two columns."
   ]
  },
  {
   "cell_type": "markdown",
   "metadata": {},
   "source": [
    "#### Information about the columns' names, datatypes, unique values, and null values:"
   ]
  },
  {
   "cell_type": "code",
   "execution_count": 4,
   "metadata": {
    "scrolled": false
   },
   "outputs": [
    {
     "name": "stdout",
     "output_type": "stream",
     "text": [
      "<class 'pandas.core.frame.DataFrame'>\n",
      "RangeIndex: 67529 entries, 0 to 67528\n",
      "Data columns (total 17 columns):\n",
      "Unnamed: 0                    67529 non-null int64\n",
      "company                       67529 non-null object\n",
      "location                      67529 non-null object\n",
      "dates                         67529 non-null object\n",
      "job-title                     67529 non-null object\n",
      "summary                       67409 non-null object\n",
      "pros                          67529 non-null object\n",
      "cons                          67529 non-null object\n",
      "advice-to-mgmt                67232 non-null object\n",
      "overall-ratings               67529 non-null float64\n",
      "work-balance-stars            67529 non-null object\n",
      "culture-values-stars          67529 non-null object\n",
      "carrer-opportunities-stars    67529 non-null object\n",
      "comp-benefit-stars            67529 non-null object\n",
      "senior-mangemnet-stars        67529 non-null object\n",
      "helpful-count                 67529 non-null int64\n",
      "link                          67529 non-null object\n",
      "dtypes: float64(1), int64(2), object(14)\n",
      "memory usage: 8.8+ MB\n"
     ]
    }
   ],
   "source": [
    "df_raw.info()"
   ]
  },
  {
   "cell_type": "markdown",
   "metadata": {},
   "source": [
    "We don't see lots of missing data but that's most likely because missing data represented by string 'non'"
   ]
  },
  {
   "cell_type": "code",
   "execution_count": 5,
   "metadata": {},
   "outputs": [
    {
     "data": {
      "text/plain": [
       "Unnamed: 0                    67529\n",
       "company                           6\n",
       "location                       2044\n",
       "dates                          3824\n",
       "job-title                      8308\n",
       "summary                       42649\n",
       "pros                          66085\n",
       "cons                          66049\n",
       "advice-to-mgmt                35190\n",
       "overall-ratings                   5\n",
       "work-balance-stars               10\n",
       "culture-values-stars              6\n",
       "carrer-opportunities-stars       10\n",
       "comp-benefit-stars               10\n",
       "senior-mangemnet-stars           10\n",
       "helpful-count                    99\n",
       "link                           6754\n",
       "dtype: int64"
      ]
     },
     "execution_count": 5,
     "metadata": {},
     "output_type": "execute_result"
    }
   ],
   "source": [
    "df_raw.nunique()"
   ]
  },
  {
   "cell_type": "markdown",
   "metadata": {},
   "source": [
    "We have four specific categories of ratings and 1 overall rating. They should be based on a 1-star to 5-stars ratings, but there are up to 10 different vlues for those ratings that needs to be looked at and cleaned."
   ]
  },
  {
   "cell_type": "markdown",
   "metadata": {},
   "source": [
    "#### Reviews on the glassdoor.com\n",
    "We can follow our sample scrapped reviews to www.glassdoor.com to see the actual reviews."
   ]
  },
  {
   "cell_type": "code",
   "execution_count": 7,
   "metadata": {},
   "outputs": [
    {
     "name": "stdout",
     "output_type": "stream",
     "text": [
      "19542    https://www.glassdoor.com/Reviews/Amazon-Revie...\n",
      "19529    https://www.glassdoor.com/Reviews/Amazon-Revie...\n",
      "57819    https://www.glassdoor.com/Reviews/Microsoft-Re...\n",
      "16574    https://www.glassdoor.com/Reviews/Amazon-Revie...\n",
      "47673    https://www.glassdoor.com/Reviews/Apple-Review...\n",
      "Name: link, dtype: object\n",
      "Enter,  y  if you would like to open and see these sample reviews\\` urls? y\n"
     ]
    }
   ],
   "source": [
    "links = df_raw_samples['link']\n",
    "print(links)\n",
    "answer = input('Enter,  y  if you would like to open and see these sample reviews\\` urls? ')\n",
    "if answer.lower()=='y':\n",
    "    [webbrowser.open(link) for link in links]"
   ]
  },
  {
   "cell_type": "markdown",
   "metadata": {},
   "source": [
    "Looking at the actual source of the data, we can see  two very likely useful peices of information in reviews are not scrapped. That is the length and type of employments. Here is 3 examples:\n",
    " - I worked at Amazon full-time (More than 3 years)\n",
    " - I have been working at Microsoft full-time (More than 10 years)\n",
    " - I have been working at Google full-time (Less than a year)"
   ]
  },
  {
   "cell_type": "markdown",
   "metadata": {},
   "source": [
    "end of quick look\n",
    "___"
   ]
  },
  {
   "cell_type": "markdown",
   "metadata": {},
   "source": [
    "## Univariate Explorations <a name=\"cleaning\"></a>\n",
    "DATA CLEANING Addressing Tidiness, Quality, and Missing values"
   ]
  },
  {
   "cell_type": "code",
   "execution_count": 9,
   "metadata": {},
   "outputs": [],
   "source": [
    "df = df_raw.copy()\n",
    "drop_cols=[]  # columns to be dropped"
   ]
  },
  {
   "cell_type": "code",
   "execution_count": 10,
   "metadata": {},
   "outputs": [
    {
     "data": {
      "text/plain": [
       "Unnamed: 0                                                                38614\n",
       "company                                                                   apple\n",
       "location                                                                   none\n",
       "dates                                                              Aug 14, 2017\n",
       "job-title                                  Former Employee - Anonymous Employee\n",
       "summary                                                     Great place to work\n",
       "pros                          Great pay, benefits, corporate discounts and t...\n",
       "cons                                 Lots of micromanagement if you work remote\n",
       "advice-to-mgmt                                               Keep on keeping on\n",
       "overall-ratings                                                               5\n",
       "work-balance-stars                                                          5.0\n",
       "culture-values-stars                                                        5.0\n",
       "carrer-opportunities-stars                                                  5.0\n",
       "comp-benefit-stars                                                          5.0\n",
       "senior-mangemnet-stars                                                      5.0\n",
       "helpful-count                                                                 0\n",
       "link                          https://www.glassdoor.com/Reviews/Apple-Review...\n",
       "Name: 38613, dtype: object"
      ]
     },
     "execution_count": 10,
     "metadata": {},
     "output_type": "execute_result"
    }
   ],
   "source": [
    "df.iloc[np.random.randint(0, df.shape[0]-1)] # A detailed look at a random review"
   ]
  },
  {
   "cell_type": "code",
   "execution_count": 11,
   "metadata": {},
   "outputs": [
    {
     "data": {
      "text/html": [
       "<div>\n",
       "<style scoped>\n",
       "    .dataframe tbody tr th:only-of-type {\n",
       "        vertical-align: middle;\n",
       "    }\n",
       "\n",
       "    .dataframe tbody tr th {\n",
       "        vertical-align: top;\n",
       "    }\n",
       "\n",
       "    .dataframe thead th {\n",
       "        text-align: right;\n",
       "    }\n",
       "</style>\n",
       "<table border=\"1\" class=\"dataframe\">\n",
       "  <thead>\n",
       "    <tr style=\"text-align: right;\">\n",
       "      <th></th>\n",
       "      <th>Unnamed: 0</th>\n",
       "      <th>company</th>\n",
       "      <th>location</th>\n",
       "      <th>dates</th>\n",
       "      <th>job-title</th>\n",
       "      <th>summary</th>\n",
       "      <th>pros</th>\n",
       "      <th>cons</th>\n",
       "      <th>advice-to-mgmt</th>\n",
       "      <th>overall-ratings</th>\n",
       "      <th>work-balance-stars</th>\n",
       "      <th>culture-values-stars</th>\n",
       "      <th>carrer-opportunities-stars</th>\n",
       "      <th>comp-benefit-stars</th>\n",
       "      <th>senior-mangemnet-stars</th>\n",
       "      <th>helpful-count</th>\n",
       "      <th>link</th>\n",
       "    </tr>\n",
       "  </thead>\n",
       "  <tbody>\n",
       "    <tr>\n",
       "      <th>63849</th>\n",
       "      <td>63850</td>\n",
       "      <td>microsoft</td>\n",
       "      <td>none</td>\n",
       "      <td>Nov 17, 2016</td>\n",
       "      <td>Former Employee - Software Development Enginee...</td>\n",
       "      <td>Good place to work</td>\n",
       "      <td>When working at Microsoft you are constantly a...</td>\n",
       "      <td>This is a huge company and sometimes it is dif...</td>\n",
       "      <td>Focus in the future, the world is moving towar...</td>\n",
       "      <td>4.0</td>\n",
       "      <td>none</td>\n",
       "      <td>none</td>\n",
       "      <td>none</td>\n",
       "      <td>none</td>\n",
       "      <td>none</td>\n",
       "      <td>0</td>\n",
       "      <td>https://www.glassdoor.com/Reviews/Microsoft-Re...</td>\n",
       "    </tr>\n",
       "    <tr>\n",
       "      <th>22800</th>\n",
       "      <td>22801</td>\n",
       "      <td>amazon</td>\n",
       "      <td>none</td>\n",
       "      <td>Dec 30, 2014</td>\n",
       "      <td>Current Employee - Anonymous Employee</td>\n",
       "      <td>Work Hard Have Fun Make History</td>\n",
       "      <td>Innovation, Bias For Action, Ability to Influe...</td>\n",
       "      <td>Work Life Balance is Extremely Poor</td>\n",
       "      <td>Develop your Managers, Push Back to Sr Leaders...</td>\n",
       "      <td>4.0</td>\n",
       "      <td>1.0</td>\n",
       "      <td>4.0</td>\n",
       "      <td>4.0</td>\n",
       "      <td>4.0</td>\n",
       "      <td>4.0</td>\n",
       "      <td>0</td>\n",
       "      <td>https://www.glassdoor.com/Reviews/Amazon-Revie...</td>\n",
       "    </tr>\n",
       "    <tr>\n",
       "      <th>65476</th>\n",
       "      <td>65477</td>\n",
       "      <td>microsoft</td>\n",
       "      <td>none</td>\n",
       "      <td>Feb 6, 2015</td>\n",
       "      <td>Current Employee - Anonymous Employee</td>\n",
       "      <td>Great Company</td>\n",
       "      <td>access to latest and greatest technology</td>\n",
       "      <td>very tight competition as all employers are te...</td>\n",
       "      <td>none</td>\n",
       "      <td>5.0</td>\n",
       "      <td>5.0</td>\n",
       "      <td>4.0</td>\n",
       "      <td>none</td>\n",
       "      <td>5.0</td>\n",
       "      <td>4.0</td>\n",
       "      <td>0</td>\n",
       "      <td>https://www.glassdoor.com/Reviews/Microsoft-Re...</td>\n",
       "    </tr>\n",
       "  </tbody>\n",
       "</table>\n",
       "</div>"
      ],
      "text/plain": [
       "       Unnamed: 0    company location          dates  \\\n",
       "63849       63850  microsoft     none   Nov 17, 2016   \n",
       "22800       22801     amazon     none   Dec 30, 2014   \n",
       "65476       65477  microsoft     none    Feb 6, 2015   \n",
       "\n",
       "                                               job-title  \\\n",
       "63849  Former Employee - Software Development Enginee...   \n",
       "22800              Current Employee - Anonymous Employee   \n",
       "65476              Current Employee - Anonymous Employee   \n",
       "\n",
       "                               summary  \\\n",
       "63849               Good place to work   \n",
       "22800  Work Hard Have Fun Make History   \n",
       "65476                    Great Company   \n",
       "\n",
       "                                                    pros  \\\n",
       "63849  When working at Microsoft you are constantly a...   \n",
       "22800  Innovation, Bias For Action, Ability to Influe...   \n",
       "65476           access to latest and greatest technology   \n",
       "\n",
       "                                                    cons  \\\n",
       "63849  This is a huge company and sometimes it is dif...   \n",
       "22800                Work Life Balance is Extremely Poor   \n",
       "65476  very tight competition as all employers are te...   \n",
       "\n",
       "                                          advice-to-mgmt  overall-ratings  \\\n",
       "63849  Focus in the future, the world is moving towar...              4.0   \n",
       "22800  Develop your Managers, Push Back to Sr Leaders...              4.0   \n",
       "65476                                               none              5.0   \n",
       "\n",
       "      work-balance-stars culture-values-stars carrer-opportunities-stars  \\\n",
       "63849               none                 none                       none   \n",
       "22800                1.0                  4.0                        4.0   \n",
       "65476                5.0                  4.0                       none   \n",
       "\n",
       "      comp-benefit-stars senior-mangemnet-stars  helpful-count  \\\n",
       "63849               none                   none              0   \n",
       "22800                4.0                    4.0              0   \n",
       "65476                5.0                    4.0              0   \n",
       "\n",
       "                                                    link  \n",
       "63849  https://www.glassdoor.com/Reviews/Microsoft-Re...  \n",
       "22800  https://www.glassdoor.com/Reviews/Amazon-Revie...  \n",
       "65476  https://www.glassdoor.com/Reviews/Microsoft-Re...  "
      ]
     },
     "execution_count": 11,
     "metadata": {},
     "output_type": "execute_result"
    }
   ],
   "source": [
    "df.sample(3)"
   ]
  },
  {
   "cell_type": "code",
   "execution_count": 12,
   "metadata": {},
   "outputs": [],
   "source": [
    "## Let's take a look at a few review content\n",
    "df.columns = df.columns.str.replace('-', '_')  # Make column names more Pandas friendly by changinh dashes to underscors\n",
    "# df.replace('none', np.nan)"
   ]
  },
  {
   "cell_type": "markdown",
   "metadata": {},
   "source": [
    "**1st column `Unnamed: 0` is an index and it is redundant.**"
   ]
  },
  {
   "cell_type": "code",
   "execution_count": 13,
   "metadata": {},
   "outputs": [],
   "source": [
    "drop_cols.append('Unnamed: 0')"
   ]
  },
  {
   "cell_type": "markdown",
   "metadata": {},
   "source": [
    "**2nd Column** `company` is the company name\n",
    "\n",
    "Companies in this data set are just names and have no order. To add more meaning for this column we will convert it to an ordinal categorical type sorted by founded date from Microsoft to Facebook. "
   ]
  },
  {
   "cell_type": "code",
   "execution_count": 14,
   "metadata": {},
   "outputs": [],
   "source": [
    "companies_by_founded_date = ['microsoft', 'apple', 'amazon', 'netflix', 'google', 'facebook']\n",
    "company_cat = CategoricalDtype(ordered=True, categories=companies_by_founded_date)\n",
    "df['company'] = df['company'].astype(company_cat)"
   ]
  },
  {
   "cell_type": "code",
   "execution_count": 15,
   "metadata": {},
   "outputs": [
    {
     "data": {
      "text/plain": [
       "pandas.core.arrays.categorical.Categorical"
      ]
     },
     "execution_count": 15,
     "metadata": {},
     "output_type": "execute_result"
    }
   ],
   "source": [
    "# TEST\n",
    "type(df['company'].values)"
   ]
  },
  {
   "cell_type": "code",
   "execution_count": 16,
   "metadata": {},
   "outputs": [],
   "source": [
    "def plot_cat_counts(data=None, x=None):\n",
    "    \"\"\"Plot a categorical value with side by side horizantal bar and pie charts\"\"\"\n",
    "    \n",
    "    plt.figure(figsize=two_in_row)\n",
    "\n",
    "    plt.subplot(1,2,1)\n",
    "    sns.countplot(data=data, y=x, color=bcolor)\n",
    "    plt.ylabel('')\n",
    "    plt.xlabel('Review Counts')\n",
    "    sns.despine() # remove the top and right borders\n",
    "\n",
    "\n",
    "    plt.subplot(1,2,2)\n",
    "    sorted_counts = data[x].value_counts()\n",
    "    labels = sorted_counts.index\n",
    "\n",
    "    plt.pie(sorted_counts, labels=None, \n",
    "            startangle=90, counterclock=False, wedgeprops = {'width' : 0.35})\n",
    "    plt.axis('square')\n",
    "\n",
    "    plt.legend(labels,\n",
    "              title=\"Companies Proportions\",\n",
    "              loc=\"top left\",\n",
    "              bbox_to_anchor=(1, 0, .25, 1));"
   ]
  },
  {
   "cell_type": "code",
   "execution_count": 17,
   "metadata": {},
   "outputs": [
    {
     "data": {
      "image/png": "[encoded data removed]",
      "text/plain": [
       "<Figure size 864x288 with 2 Axes>"
      ]
     },
     "metadata": {
      "needs_background": "light"
     },
     "output_type": "display_data"
    }
   ],
   "source": [
    "plot_cat_counts(df, 'company')"
   ]
  },
  {
   "cell_type": "markdown",
   "metadata": {},
   "source": [
    "#### Notes:\n",
    "The disproportionate distributions of reviews between these 6 companies considering their scope of operations and year founded are consistent with our expectations. Microsoft and Apple founded in the mid-seventies, Amazon founded in 1994, Netflix with a DVD rental business model in 1997, Google in 1998 and most recently Facebook in 2004. Glassdoor, the review site itself, founded in 2007.\n",
    "___"
   ]
  },
  {
   "cell_type": "markdown",
   "metadata": {},
   "source": [
    "**3rd Column** `location`\n",
    "This dataset is global. As such, it may include the country's name in parenthesis, i.e., \"Toronto, ON(Canada)\"]. However, if the location is in the USA, then it only includes the city and state, i.e., \"Los Angeles, CA\" ]"
   ]
  },
  {
   "cell_type": "code",
   "execution_count": 18,
   "metadata": {},
   "outputs": [
    {
     "data": {
      "text/plain": [
       "20323                            none\n",
       "30989                    Pune (India)\n",
       "46003                   Cupertino, CA\n",
       "40042                   Cupertino, CA\n",
       "43399                      Dallas, TX\n",
       "17465                            none\n",
       "36006                            none\n",
       "35574    Dublin, Co. Dublin (Ireland)\n",
       "14508                        Reno, NV\n",
       "13973                            none\n",
       "Name: location, dtype: object"
      ]
     },
     "execution_count": 18,
     "metadata": {},
     "output_type": "execute_result"
    }
   ],
   "source": [
    "df['location'].sample(10) # location column before cleaning"
   ]
  },
  {
   "cell_type": "markdown",
   "metadata": {},
   "source": [
    "#### This column is not tidy. There are 3 values of  `city, state, country` in this location column. We are going to make a column for each one of these three values.\n",
    "\n",
    "Functions to extract \"city, state, and country\" values from location column to 3 columns"
   ]
  },
  {
   "cell_type": "code",
   "execution_count": 19,
   "metadata": {},
   "outputs": [],
   "source": [
    "btween_parentheses = r'\\(([^)]+)\\)'  # Regular expression to get a string between parentheses\n",
    "\n",
    "def get_country(location):\n",
    "    \"\"\"Extracts and returns country name from location string.\n",
    "    Returns NaN if 'none'.\"\"\"\n",
    "    if location == 'none':\n",
    "        return np.nan\n",
    "    not_usa = re.findall(btween_parentheses, location)\n",
    "    if not_usa:\n",
    "        return not_usa[0]\n",
    "    else:\n",
    "        return 'USA'\n",
    "    \n",
    "\n",
    "def get_state(location):\n",
    "    \"\"\"Extracts and returns state name (if aby) from location string.\n",
    "    Returns Nan if 'none or not applicable.\"\"\"\n",
    "    if location == 'none':\n",
    "        return np.nan\n",
    "    not_usa = re.findall(btween_parentheses, location)\n",
    "    if not_usa:\n",
    "        if ',' in location:\n",
    "            return location.split(',')[1].split()[0]\n",
    "        else:\n",
    "            return np.nan\n",
    "    else:\n",
    "        return location.strip()[-2:]\n",
    "\n",
    "    \n",
    "def get_city(location):\n",
    "    \"\"\"Extracts and returns city name from location string.\n",
    "    Returns Nan if 'none'.\"\"\"\n",
    "    if location == 'none':\n",
    "        return np.nan\n",
    "    not_usa = re.findall(btween_parentheses, location)\n",
    "    if not_usa:\n",
    "        if ',' in location:\n",
    "            return location.split(',')[0]\n",
    "        else:\n",
    "            return location.split()[0]\n",
    "    else:\n",
    "        return location.split(',')[0]    "
   ]
  },
  {
   "cell_type": "markdown",
   "metadata": {},
   "source": [
    "Making three columns for City, State (if applies), and Country"
   ]
  },
  {
   "cell_type": "code",
   "execution_count": 20,
   "metadata": {},
   "outputs": [],
   "source": [
    "df['city'] = df['location'].apply(get_city)\n",
    "df['state'] = df['location'].apply(get_state)\n",
    "df['country'] = df['location'].apply(get_country)\n",
    "drop_cols.append('location')"
   ]
  },
  {
   "cell_type": "code",
   "execution_count": 21,
   "metadata": {},
   "outputs": [
    {
     "data": {
      "text/html": [
       "<div>\n",
       "<style scoped>\n",
       "    .dataframe tbody tr th:only-of-type {\n",
       "        vertical-align: middle;\n",
       "    }\n",
       "\n",
       "    .dataframe tbody tr th {\n",
       "        vertical-align: top;\n",
       "    }\n",
       "\n",
       "    .dataframe thead th {\n",
       "        text-align: right;\n",
       "    }\n",
       "</style>\n",
       "<table border=\"1\" class=\"dataframe\">\n",
       "  <thead>\n",
       "    <tr style=\"text-align: right;\">\n",
       "      <th></th>\n",
       "      <th>city</th>\n",
       "      <th>state</th>\n",
       "      <th>country</th>\n",
       "    </tr>\n",
       "  </thead>\n",
       "  <tbody>\n",
       "    <tr>\n",
       "      <th>51273</th>\n",
       "      <td>NaN</td>\n",
       "      <td>NaN</td>\n",
       "      <td>NaN</td>\n",
       "    </tr>\n",
       "    <tr>\n",
       "      <th>39250</th>\n",
       "      <td>Atlanta</td>\n",
       "      <td>GA</td>\n",
       "      <td>USA</td>\n",
       "    </tr>\n",
       "    <tr>\n",
       "      <th>37351</th>\n",
       "      <td>NaN</td>\n",
       "      <td>NaN</td>\n",
       "      <td>NaN</td>\n",
       "    </tr>\n",
       "    <tr>\n",
       "      <th>22204</th>\n",
       "      <td>Seattle</td>\n",
       "      <td>WA</td>\n",
       "      <td>USA</td>\n",
       "    </tr>\n",
       "    <tr>\n",
       "      <th>66487</th>\n",
       "      <td>Sydney</td>\n",
       "      <td>NaN</td>\n",
       "      <td>Australia</td>\n",
       "    </tr>\n",
       "  </tbody>\n",
       "</table>\n",
       "</div>"
      ],
      "text/plain": [
       "          city state    country\n",
       "51273      NaN   NaN        NaN\n",
       "39250  Atlanta    GA        USA\n",
       "37351      NaN   NaN        NaN\n",
       "22204  Seattle    WA        USA\n",
       "66487   Sydney   NaN  Australia"
      ]
     },
     "execution_count": 21,
     "metadata": {},
     "output_type": "execute_result"
    }
   ],
   "source": [
    "# TEST\n",
    "df[['city', 'state', 'country']].sample(5)"
   ]
  },
  {
   "cell_type": "code",
   "execution_count": 22,
   "metadata": {},
   "outputs": [
    {
     "data": {
      "image/png": "[encoded data removed]",
      "text/plain": [
       "<Figure size 432x288 with 1 Axes>"
      ]
     },
     "metadata": {
      "needs_background": "light"
     },
     "output_type": "display_data"
    }
   ],
   "source": [
    "col='country'\n",
    "top_percentage = 0.925\n",
    "mask = df[col].value_counts(normalize=True).cumsum() < top_percentage\n",
    "top_items = mask[mask].index\n",
    "\n",
    "def group_top_itesm(x):\n",
    "    if x in top_items:\n",
    "        return x\n",
    "    elif pd.isna(x):\n",
    "        return np.nan\n",
    "    else:\n",
    "        return 'Other Countries'\n",
    "items = df[col].apply(group_top_itesm)\n",
    "\n",
    "sns.countplot(y=items, color=bcolor, order=items.value_counts().index)\n",
    "plt.ylabel(f'Top {top_percentage*100}% of Countries')\n",
    "sns.despine()\n",
    "del items"
   ]
  },
  {
   "cell_type": "markdown",
   "metadata": {},
   "source": [
    "**Findings**\n",
    "- As expected the super majority of reviews are posted in the US and India is the runner up.\n",
    "- All other countries combined is the 2nd runner up."
   ]
  },
  {
   "cell_type": "markdown",
   "metadata": {},
   "source": [
    "___"
   ]
  },
  {
   "cell_type": "markdown",
   "metadata": {},
   "source": [
    "**4th Column** `dates` Date review posted"
   ]
  },
  {
   "cell_type": "code",
   "execution_count": 23,
   "metadata": {},
   "outputs": [],
   "source": [
    "df['dates'] = pd.to_datetime(df['dates'], errors='coerce')  # Type Casting to date\n",
    "df.sort_values(by='dates', ascending=False, inplace=True)  # Sort reviews by date\n",
    "df.rename(columns={'dates': 'date_posted'}, inplace=True)"
   ]
  },
  {
   "cell_type": "markdown",
   "metadata": {},
   "source": [
    "#### Distribution of Yearly Number of Reviews "
   ]
  },
  {
   "cell_type": "code",
   "execution_count": 25,
   "metadata": {},
   "outputs": [
    {
     "data": {
      "image/png": "[encoded data removed]",
      "text/plain": [
       "<Figure size 432x288 with 1 Axes>"
      ]
     },
     "metadata": {
      "needs_background": "light"
     },
     "output_type": "display_data"
    }
   ],
   "source": [
    "yearly = df.groupby(df['date_posted'].dt.year).size()\n",
    "positions = yearly.index\n",
    "plt.bar(positions, yearly.values);"
   ]
  },
  {
   "cell_type": "code",
   "execution_count": 26,
   "metadata": {},
   "outputs": [
    {
     "data": {
      "text/plain": [
       "date_posted\n",
       "2017.0    0.208441\n",
       "2018.0    0.410974\n",
       "2016.0    0.581133\n",
       "2015.0    0.731300\n",
       "2014.0    0.819282\n",
       "2013.0    0.876431\n",
       "2012.0    0.923969\n",
       "2011.0    0.949293\n",
       "2008.0    0.969508\n",
       "2010.0    0.986242\n",
       "2009.0    1.000000\n",
       "dtype: float64"
      ]
     },
     "execution_count": 26,
     "metadata": {},
     "output_type": "execute_result"
    }
   ],
   "source": [
    "yearly.sort_values(ascending=False).cumsum() / yearly.sum()"
   ]
  },
  {
   "cell_type": "markdown",
   "metadata": {},
   "source": [
    "**Findings**\n",
    "- More than 73% of reviews are posted in the last four years."
   ]
  },
  {
   "cell_type": "markdown",
   "metadata": {},
   "source": [
    "___"
   ]
  },
  {
   "cell_type": "markdown",
   "metadata": {},
   "source": [
    "**5th Column** `job-title` This string includes whether the reviewer is a 'Current' or 'Former' Employee at the time of the review. If Employee posting review Anonymously There is no value for job title and it presented with Anonymous Employee."
   ]
  },
  {
   "cell_type": "code",
   "execution_count": 27,
   "metadata": {},
   "outputs": [
    {
     "data": {
      "text/plain": [
       "1869                 Current Employee - Anonymous Employee\n",
       "36367    Current Employee - Customer Service Representa...\n",
       "53626                         Former Employee - BI Analyst\n",
       "46525      Current Employee - Mac Specialist (Apple Store)\n",
       "8041                 Current Employee - Anonymous Employee\n",
       "48400               Current Employee - Mac+ Senior Advisor\n",
       "22698                 Former Employee - Anonymous Employee\n",
       "43660                         Former Employee - Mac Genius\n",
       "30687                Current Employee - Anonymous Employee\n",
       "27959    Current Employee - Software Development Test E...\n",
       "Name: job_title, dtype: object"
      ]
     },
     "execution_count": 27,
     "metadata": {},
     "output_type": "execute_result"
    }
   ],
   "source": [
    "df['job_title'].sample(10) "
   ]
  },
  {
   "cell_type": "code",
   "execution_count": 28,
   "metadata": {},
   "outputs": [],
   "source": [
    "def clean_text(col):\n",
    "    col = col.str.replace(\"(<br/>)\", \"\")\n",
    "    col = col.str.replace('(<a).*(>).*(</a>)', '')\n",
    "    col = col.str.replace('(&amp)', '')\n",
    "    col = col.str.replace('(&gt)', '')\n",
    "    col = col.str.replace('(&lt)', '')\n",
    "    col = col.str.replace('(\\xa0)', ' ')  \n",
    "    return col\n",
    "\n",
    "df['job_title'] = clean_text(df['job_title'])"
   ]
  },
  {
   "cell_type": "markdown",
   "metadata": {},
   "source": [
    "**Tidiness Problem** There are three valuess in this column. \n",
    "- If employee is current or not (past employee)\n",
    "- Value for Job title or NaN if employee is anonymous\n",
    "- If employee is anonymous or not"
   ]
  },
  {
   "cell_type": "code",
   "execution_count": 29,
   "metadata": {},
   "outputs": [],
   "source": [
    "df['current_emp'] = df['job_title'].apply(lambda x: True if x.split()[0] == 'Current' else False)\n",
    "df['anonymous'] = df['job_title'].apply(lambda x: True if 'Anonymous' in str(x) else False)\n",
    "\n",
    "df['job_title'] = df['job_title'].apply(lambda x: x.split('-')[1])\n",
    "df['job_title'] = df['job_title'].apply(lambda x: np.nan if 'Anonymous' in str(x) else x)"
   ]
  },
  {
   "cell_type": "code",
   "execution_count": 30,
   "metadata": {},
   "outputs": [
    {
     "data": {
      "text/html": [
       "<div>\n",
       "<style scoped>\n",
       "    .dataframe tbody tr th:only-of-type {\n",
       "        vertical-align: middle;\n",
       "    }\n",
       "\n",
       "    .dataframe tbody tr th {\n",
       "        vertical-align: top;\n",
       "    }\n",
       "\n",
       "    .dataframe thead th {\n",
       "        text-align: right;\n",
       "    }\n",
       "</style>\n",
       "<table border=\"1\" class=\"dataframe\">\n",
       "  <thead>\n",
       "    <tr style=\"text-align: right;\">\n",
       "      <th></th>\n",
       "      <th>job_title</th>\n",
       "      <th>current_emp</th>\n",
       "      <th>anonymous</th>\n",
       "    </tr>\n",
       "  </thead>\n",
       "  <tbody>\n",
       "    <tr>\n",
       "      <th>5824</th>\n",
       "      <td>Senior Program Manager</td>\n",
       "      <td>True</td>\n",
       "      <td>False</td>\n",
       "    </tr>\n",
       "    <tr>\n",
       "      <th>204</th>\n",
       "      <td>NaN</td>\n",
       "      <td>True</td>\n",
       "      <td>True</td>\n",
       "    </tr>\n",
       "    <tr>\n",
       "      <th>15052</th>\n",
       "      <td>NaN</td>\n",
       "      <td>False</td>\n",
       "      <td>True</td>\n",
       "    </tr>\n",
       "    <tr>\n",
       "      <th>48127</th>\n",
       "      <td>Apple AHA</td>\n",
       "      <td>False</td>\n",
       "      <td>False</td>\n",
       "    </tr>\n",
       "    <tr>\n",
       "      <th>53965</th>\n",
       "      <td>NaN</td>\n",
       "      <td>True</td>\n",
       "      <td>True</td>\n",
       "    </tr>\n",
       "  </tbody>\n",
       "</table>\n",
       "</div>"
      ],
      "text/plain": [
       "                     job_title  current_emp  anonymous\n",
       "5824    Senior Program Manager         True      False\n",
       "204                        NaN         True       True\n",
       "15052                      NaN        False       True\n",
       "48127                Apple AHA        False      False\n",
       "53965                      NaN         True       True"
      ]
     },
     "execution_count": 30,
     "metadata": {},
     "output_type": "execute_result"
    }
   ],
   "source": [
    "# TEST\n",
    "df[['job_title', 'current_emp', 'anonymous']].sample(5)"
   ]
  },
  {
   "cell_type": "code",
   "execution_count": 31,
   "metadata": {},
   "outputs": [
    {
     "data": {
      "text/plain": [
       " Software Engineer                               1793\n",
       " Software Development Engineer                   1270\n",
       " Specialist                                      1060\n",
       " Program Manager                                  826\n",
       " Warehouse Associate                              679\n",
       " Senior Software Engineer                         637\n",
       " Senior Program Manager                           608\n",
       " Fulfillment Associate                            603\n",
       " Software Development Engineer II                 586\n",
       " Manager                                          376\n",
       " Mac Specialist (Apple Store)                     355\n",
       " Senior Software Development Engineer             323\n",
       " Area Manager                                     319\n",
       " Software Development Engineer In Test (SDET)     313\n",
       " Product Manager                                  305\n",
       " Family Room Specialist                           297\n",
       " Director                                         294\n",
       " Customer Service Representative                  268\n",
       " Senior Product Manager                           267\n",
       " Account Manager                                  264\n",
       "Name: job_title, dtype: int64"
      ]
     },
     "execution_count": 31,
     "metadata": {},
     "output_type": "execute_result"
    }
   ],
   "source": [
    "# Most popular Job Titles in entire dataset i.e. all companies combined.\n",
    "df['job_title'].value_counts()[:20]"
   ]
  },
  {
   "cell_type": "code",
   "execution_count": 32,
   "metadata": {},
   "outputs": [
    {
     "data": {
      "text/plain": [
       "company    job_title                                       \n",
       "apple       Specialist                                         1047\n",
       "amazon      Warehouse Associate                                 678\n",
       "google      Software Engineer                                   644\n",
       "microsoft   Software Development Engineer                       631\n",
       "amazon      Software Development Engineer                       621\n",
       "            Fulfillment Associate                               603\n",
       "microsoft   Program Manager                                     540\n",
       "            Senior Program Manager                              512\n",
       "            Software Engineer                                   418\n",
       "facebook    Software Engineer                                   364\n",
       "apple       Mac Specialist (Apple Store)                        355\n",
       "amazon      Area Manager                                        315\n",
       "microsoft   Software Development Engineer II                    313\n",
       "            Software Development Engineer In Test (SDET)        313\n",
       "apple       Family Room Specialist                              297\n",
       "microsoft   Senior Software Development Engineer                286\n",
       "amazon      Software Development Engineer II                    273\n",
       "            Customer Service Associate                          257\n",
       "apple       Mac Genius                                          239\n",
       "amazon      Associate                                           230\n",
       "            Software Engineer                                   223\n",
       "            Software Development Engineer I                     221\n",
       "microsoft   Software Development Engineer In Test (SDET) II     219\n",
       "amazon      Picker                                              210\n",
       "microsoft   Director                                            204\n",
       "dtype: int64"
      ]
     },
     "execution_count": 32,
     "metadata": {},
     "output_type": "execute_result"
    }
   ],
   "source": [
    "## Most popular group of employee wrote review in each company\n",
    "df.groupby(['company', 'job_title']).size().sort_values(ascending=False)[:25]"
   ]
  },
  {
   "cell_type": "code",
   "execution_count": 33,
   "metadata": {},
   "outputs": [
    {
     "data": {
      "image/png": "[encoded data removed]",
      "text/plain": [
       "<Figure size 432x288 with 1 Axes>"
      ]
     },
     "metadata": {
      "needs_background": "light"
     },
     "output_type": "display_data"
    }
   ],
   "source": [
    "ax = sns.countplot(df['current_emp'], hue=df['anonymous'], color=bcolor)\n",
    "ax.set_xticklabels(['Past Employees', 'Current Employees'])\n",
    "ax.set_xlabel('')\n",
    "\n",
    "ax.legend(['Identified', 'Anonymous'], \n",
    "          title=\"Job-Title\")\n",
    "\n",
    "sns.despine();"
   ]
  },
  {
   "cell_type": "markdown",
   "metadata": {},
   "source": [
    "- Current Employees are more inclined to be provide more information including their job title.\n",
    "- For both past and current employees a significant number of reviews are anonymous\n",
    "____"
   ]
  },
  {
   "cell_type": "markdown",
   "metadata": {},
   "source": [
    "**Columns 6th to 10th:** `summary`, `pros`, `cons`, and `advice_to_mgmt` are the actual text review content categorized in 4 different areas"
   ]
  },
  {
   "cell_type": "code",
   "execution_count": 35,
   "metadata": {},
   "outputs": [],
   "source": [
    "text_cols = ['summary', 'pros', 'cons', 'advice_to_mgmt']\n",
    "for col in text_cols:\n",
    "    df[col] = clean_text(df[col])\n",
    "\n",
    "df[text_cols] = df[text_cols].replace('none', np.nan)\n",
    "df['summary'][df['summary']=='.'] = np.nan # These are actually missing values"
   ]
  },
  {
   "cell_type": "code",
   "execution_count": 36,
   "metadata": {},
   "outputs": [
    {
     "data": {
      "text/html": [
       "<div>\n",
       "<style scoped>\n",
       "    .dataframe tbody tr th:only-of-type {\n",
       "        vertical-align: middle;\n",
       "    }\n",
       "\n",
       "    .dataframe tbody tr th {\n",
       "        vertical-align: top;\n",
       "    }\n",
       "\n",
       "    .dataframe thead th {\n",
       "        text-align: right;\n",
       "    }\n",
       "</style>\n",
       "<table border=\"1\" class=\"dataframe\">\n",
       "  <thead>\n",
       "    <tr style=\"text-align: right;\">\n",
       "      <th></th>\n",
       "      <th>summary</th>\n",
       "      <th>pros</th>\n",
       "      <th>cons</th>\n",
       "      <th>advice_to_mgmt</th>\n",
       "    </tr>\n",
       "  </thead>\n",
       "  <tbody>\n",
       "    <tr>\n",
       "      <th>15096</th>\n",
       "      <td>Slavery with unreasonable gauge of performance</td>\n",
       "      <td>I hear the money is fairly decent.</td>\n",
       "      <td>Employees are not evaluated by humans. They ar...</td>\n",
       "      <td>Show some compassion to your staff. This is no...</td>\n",
       "    </tr>\n",
       "    <tr>\n",
       "      <th>2186</th>\n",
       "      <td>Great Company!</td>\n",
       "      <td>So amazing to work for, could not praise them ...</td>\n",
       "      <td>Nothing bad about them at all</td>\n",
       "      <td>NaN</td>\n",
       "    </tr>\n",
       "    <tr>\n",
       "      <th>58663</th>\n",
       "      <td>This is a very good company to work for.</td>\n",
       "      <td>learning new things with the products</td>\n",
       "      <td>there aren't any cons for this company</td>\n",
       "      <td>Listen and take in to consideration what the e...</td>\n",
       "    </tr>\n",
       "    <tr>\n",
       "      <th>14286</th>\n",
       "      <td>Overall, a good place to work</td>\n",
       "      <td>Autonomy and ability to find interesting products</td>\n",
       "      <td>Not a very progressive company on many fronts,...</td>\n",
       "      <td>NaN</td>\n",
       "    </tr>\n",
       "    <tr>\n",
       "      <th>15700</th>\n",
       "      <td>Software Development Engineer</td>\n",
       "      <td>Good challenging, good technical learning plac...</td>\n",
       "      <td>Poor profit &amp; Benefit, suck oncall.</td>\n",
       "      <td>More benefit, less oncall.</td>\n",
       "    </tr>\n",
       "  </tbody>\n",
       "</table>\n",
       "</div>"
      ],
      "text/plain": [
       "                                              summary  \\\n",
       "15096  Slavery with unreasonable gauge of performance   \n",
       "2186                                   Great Company!   \n",
       "58663        This is a very good company to work for.   \n",
       "14286                   Overall, a good place to work   \n",
       "15700                   Software Development Engineer   \n",
       "\n",
       "                                                    pros  \\\n",
       "15096                 I hear the money is fairly decent.   \n",
       "2186   So amazing to work for, could not praise them ...   \n",
       "58663              learning new things with the products   \n",
       "14286  Autonomy and ability to find interesting products   \n",
       "15700  Good challenging, good technical learning plac...   \n",
       "\n",
       "                                                    cons  \\\n",
       "15096  Employees are not evaluated by humans. They ar...   \n",
       "2186                       Nothing bad about them at all   \n",
       "58663             there aren't any cons for this company   \n",
       "14286  Not a very progressive company on many fronts,...   \n",
       "15700                Poor profit & Benefit, suck oncall.   \n",
       "\n",
       "                                          advice_to_mgmt  \n",
       "15096  Show some compassion to your staff. This is no...  \n",
       "2186                                                 NaN  \n",
       "58663  Listen and take in to consideration what the e...  \n",
       "14286                                                NaN  \n",
       "15700                         More benefit, less oncall.  "
      ]
     },
     "execution_count": 36,
     "metadata": {},
     "output_type": "execute_result"
    }
   ],
   "source": [
    "df.sample(5)[text_cols]"
   ]
  },
  {
   "cell_type": "markdown",
   "metadata": {},
   "source": [
    "___"
   ]
  },
  {
   "cell_type": "markdown",
   "metadata": {},
   "source": [
    "**1-Star to 5-Starts Rating Columns** `overall_ratings`, `work_balance_stars`, `culture_values_stars`, `senior_mangemnet_stars`, `carrer_opportunities_stars`, and `comp_benefit_stars` We have 1 overall rating value and 5 specific values."
   ]
  },
  {
   "cell_type": "code",
   "execution_count": 37,
   "metadata": {},
   "outputs": [],
   "source": [
    "rating_cols = ['overall_ratings', 'work_balance_stars', 'culture_values_stars',\n",
    "              'carrer_opportunities_stars', 'comp_benefit_stars', 'senior_mangemnet_stars']"
   ]
  },
  {
   "cell_type": "code",
   "execution_count": 38,
   "metadata": {},
   "outputs": [],
   "source": [
    "df[rating_cols] = df[rating_cols].replace('none', np.nan)"
   ]
  },
  {
   "cell_type": "code",
   "execution_count": 39,
   "metadata": {},
   "outputs": [],
   "source": [
    "# Rating values to Numeric\n",
    "for col in rating_cols:\n",
    "    df[col] = pd.to_numeric(df[col], downcast='unsigned')"
   ]
  },
  {
   "cell_type": "code",
   "execution_count": 41,
   "metadata": {},
   "outputs": [
    {
     "name": "stdout",
     "output_type": "stream",
     "text": [
      "5    23190\n",
      "4    22498\n",
      "3    12653\n",
      "2     5282\n",
      "1     3906\n",
      "Name: overall_ratings, dtype: int64\n",
      "4.0    15167\n",
      "5.0    14205\n",
      "3.0    13914\n",
      "2.0     7898\n",
      "1.0     7057\n",
      "3.5      785\n",
      "4.5      711\n",
      "2.5      457\n",
      "1.5      175\n",
      "Name: work_balance_stars, dtype: int64\n",
      "5.0    21536\n",
      "4.0    13685\n",
      "3.0     9192\n",
      "1.0     4840\n",
      "2.0     4730\n",
      "Name: culture_values_stars, dtype: int64\n",
      "5.0    18163\n",
      "4.0    16673\n",
      "3.0    13257\n",
      "2.0     6171\n",
      "1.0     4535\n",
      "3.5      711\n",
      "2.5      395\n",
      "4.5      389\n",
      "1.5      127\n",
      "Name: carrer_opportunities_stars, dtype: int64\n",
      "5.0    21224\n",
      "4.0    19854\n",
      "3.0    11437\n",
      "2.0     3465\n",
      "1.0     1902\n",
      "4.5     1095\n",
      "3.5      971\n",
      "2.5      366\n",
      "1.5       54\n",
      "Name: comp_benefit_stars, dtype: int64\n",
      "4.0    15848\n",
      "3.0    13704\n",
      "5.0    13299\n",
      "2.0     7984\n",
      "1.0     7713\n",
      "3.5      410\n",
      "2.5      316\n",
      "4.5      303\n",
      "1.5      177\n",
      "Name: senior_mangemnet_stars, dtype: int64\n"
     ]
    }
   ],
   "source": [
    "for col in rating_cols:\n",
    "    print(df[col].value_counts())"
   ]
  },
  {
   "cell_type": "markdown",
   "metadata": {},
   "source": [
    "The rating is based on a popular scale from 1 the worst to 5 the best. Some rating values in rating columns are in between levels i.e. 1.5, 2.5, 3.5, or 4.5. We will correct these rating by lowering them one level. E.g. 1.5 to 1, 2.5 to 2. Note There is no 0.5 nor 5.5 ratings to be corrected."
   ]
  },
  {
   "cell_type": "code",
   "execution_count": 42,
   "metadata": {},
   "outputs": [],
   "source": [
    "# Correct in between rating values to lower rating before\n",
    "def five_ratings_only(col):\n",
    "    for idx in col.value_counts().index:\n",
    "        col[col==idx] = int(float(idx))\n",
    "    return col\n",
    "\n",
    "for col in rating_cols:\n",
    "    df[col] = five_ratings_only(df[col])\n",
    "    df[col].astype(np.unsignedinteger, errors='ignore')"
   ]
  },
  {
   "cell_type": "code",
   "execution_count": 44,
   "metadata": {
    "scrolled": true
   },
   "outputs": [
    {
     "data": {
      "image/png": "[encoded data removed]",
      "text/plain": [
       "<Figure size 432x288 with 1 Axes>"
      ]
     },
     "metadata": {
      "needs_background": "light"
     },
     "output_type": "display_data"
    }
   ],
   "source": [
    "# Create the figure and axes and get access to them\n",
    "fig, ax = plt.subplots(figsize=(6, 4))\n",
    "\n",
    "# Figure's Title\n",
    "fig.suptitle('Employees\\' Overall Ratings\\' Distributions', fontsize=14, fontweight='bold')\n",
    "\n",
    "color = sns.color_palette()[1]\n",
    "\n",
    "sns.countplot(data=df, x='overall_ratings', hue='current_emp', color=color)\n",
    "\n",
    "ax.set(title='1 Star to 5 Stars')\n",
    "ax.legend(['Past Employees', 'Current Employees'])\n",
    "ax.set_axis_off()\n",
    "\n",
    "locs = ax.get_xticks()\n",
    "labels = ax.get_xlabel()\n",
    "\n",
    "counts = list(df['overall_ratings'].value_counts(normalize=True).iloc[::-1])\n",
    "for loc, lable, count in zip(locs, labels, counts):\n",
    "\n",
    "    text = '{:0.0f}%'.format(100*count)\n",
    "    ax.text(loc, 0, text, color='black', va='top', ha='center', fontsize=14)"
   ]
  },
  {
   "cell_type": "markdown",
   "metadata": {},
   "source": [
    "**Findings:**\n",
    " - This plot shows unhappy past employees were more inclined to leave a low review than current employees.\n",
    " - We can see the current/past ratio increases as rating stars increeases. \n",
    " - Happier current employees are leaving higher rating reviews maybe to show their appreciation.\n",
    " - Uphappier past employees are leaving lower rating reviews maybe to be heard!\n",
    " ___"
   ]
  },
  {
   "cell_type": "markdown",
   "metadata": {},
   "source": [
    "**Helpful Count Column** A count of how many people found the review to be helpful. This is the only numeric feature that comes with our dataset. Let's take a look at it's distribution."
   ]
  },
  {
   "cell_type": "code",
   "execution_count": 45,
   "metadata": {},
   "outputs": [
    {
     "data": {
      "image/png": "[encoded data removed]",
      "text/plain": [
       "<Figure size 432x288 with 1 Axes>"
      ]
     },
     "metadata": {
      "needs_background": "light"
     },
     "output_type": "display_data"
    }
   ],
   "source": [
    "plt.hist(df['helpful_count']);"
   ]
  },
  {
   "cell_type": "markdown",
   "metadata": {},
   "source": [
    "Our first histogram shows exterem Outliers exist."
   ]
  },
  {
   "cell_type": "code",
   "execution_count": 46,
   "metadata": {},
   "outputs": [],
   "source": [
    "def hist_magnifier(df, x, xlim1, xlim2, binsize):\n",
    "    plt.hist(data=df, x=x, bins=np.arange(xlim1, xlim2+binsize, binsize))\n",
    "    plt.xlim(xlim1, xlim2);"
   ]
  },
  {
   "cell_type": "code",
   "execution_count": 47,
   "metadata": {},
   "outputs": [
    {
     "data": {
      "image/png": "[encoded data removed]",
      "text/plain": [
       "<Figure size 1296x288 with 3 Axes>"
      ]
     },
     "metadata": {
      "needs_background": "light"
     },
     "output_type": "display_data"
    }
   ],
   "source": [
    "plt.figure(figsize=(18, 4))\n",
    "\n",
    "plt.subplot(1, 3, 1)\n",
    "hist_magnifier(df, df['helpful_count'], 0, 11, 1)\n",
    "\n",
    "plt.subplot(1, 3, 2)\n",
    "hist_magnifier(df, df['helpful_count'], 11, 100, 10)\n",
    "\n",
    "plt.subplot(1, 3, 3)\n",
    "hist_magnifier(df, df['helpful_count'], 100, df['helpful_count'].max()+100, 100)"
   ]
  },
  {
   "cell_type": "code",
   "execution_count": 48,
   "metadata": {},
   "outputs": [
    {
     "data": {
      "text/plain": [
       "0    0.666588\n",
       "1    0.822254\n",
       "2    0.888389\n",
       "3    0.923514\n",
       "4    0.944068\n",
       "Name: helpful_count, dtype: float64"
      ]
     },
     "execution_count": 48,
     "metadata": {},
     "output_type": "execute_result"
    }
   ],
   "source": [
    "cum_hist = df['helpful_count'].value_counts(normalize=True).cumsum()\n",
    "cum_hist[cum_hist<0.95]"
   ]
  },
  {
   "cell_type": "markdown",
   "metadata": {},
   "source": [
    "**Findings:**\n",
    "\n",
    "After some trial and error we arrived with these 3 histograms. Please pay attention to count for each plot and x data range.\n",
    "- Two third of all reviews have no helpful_count\n",
    "- 95% of reviews have helpful_count of 4 or less\n",
    "- From 10 to about 40 helpful_counts number reviews are in hundreds.\n",
    "- Any helpful_count of 50 or more to the highest count of about low two thousand are far in between."
   ]
  },
  {
   "cell_type": "markdown",
   "metadata": {},
   "source": [
    "___"
   ]
  },
  {
   "cell_type": "markdown",
   "metadata": {},
   "source": [
    "**Link Column:** Direct link to the page that contains the review. This column is not required for analysis."
   ]
  },
  {
   "cell_type": "code",
   "execution_count": 49,
   "metadata": {},
   "outputs": [],
   "source": [
    "drop_cols.append('link')"
   ]
  },
  {
   "cell_type": "code",
   "execution_count": 50,
   "metadata": {
    "scrolled": true
   },
   "outputs": [],
   "source": [
    "df.drop(columns=drop_cols, axis=1, inplace=True); del drop_cols"
   ]
  },
  {
   "cell_type": "markdown",
   "metadata": {},
   "source": [
    "___"
   ]
  },
  {
   "cell_type": "markdown",
   "metadata": {},
   "source": [
    "### Missing Values\n",
    " - Cleaning Missing Values\n",
    " - Plotting Missing Values' Counts"
   ]
  },
  {
   "cell_type": "code",
   "execution_count": 52,
   "metadata": {},
   "outputs": [],
   "source": [
    "def plot_missings(df, figsize=two_in_row):\n",
    "    \n",
    "    fig, ax = plt.subplots(figsize=figsize)\n",
    "    sns.set(style='ticks', palette='pastel')\n",
    "    color = sns.color_palette()[3]\n",
    "    \n",
    "    x = df.isnull().sum().index.values\n",
    "    y = df.isnull().sum()\n",
    "    sns.barplot(x, y, color=color, ax=ax)\n",
    "    locs, labels = plt.xticks(rotation=90)\n",
    "    for loc, label, missings, in zip(locs, labels, y):\n",
    "        if not missings:\n",
    "            ax.text(loc, 0, 'None', rotation=0, va='bottom', ha='center')\n",
    "        else:\n",
    "            ax.text(loc, missings, missings, rotation=0, va='bottom', ha='center')\n",
    "\n",
    "    ax.set(title='Missing Value Counts in all Columns', xlabel='Columns', ylabel='Counts')\n",
    "    sns.despine() # remove the top and right borders"
   ]
  },
  {
   "cell_type": "code",
   "execution_count": 53,
   "metadata": {},
   "outputs": [
    {
     "data": {
      "image/png": "[encoded data removed]",
      "text/plain": [
       "<Figure size 864x288 with 1 Axes>"
      ]
     },
     "metadata": {
      "needs_background": "light"
     },
     "output_type": "display_data"
    }
   ],
   "source": [
    "plot_missings(df)"
   ]
  },
  {
   "cell_type": "markdown",
   "metadata": {},
   "source": [
    "- Fortunatly we have no missing values in overall-rating.\n",
    "- After reviewing some of the reviews with missing values, in the mean time it doesn't seem we should drop any review. "
   ]
  },
  {
   "cell_type": "code",
   "execution_count": 54,
   "metadata": {},
   "outputs": [
    {
     "data": {
      "text/html": [
       "<div>\n",
       "<style scoped>\n",
       "    .dataframe tbody tr th:only-of-type {\n",
       "        vertical-align: middle;\n",
       "    }\n",
       "\n",
       "    .dataframe tbody tr th {\n",
       "        vertical-align: top;\n",
       "    }\n",
       "\n",
       "    .dataframe thead th {\n",
       "        text-align: right;\n",
       "    }\n",
       "</style>\n",
       "<table border=\"1\" class=\"dataframe\">\n",
       "  <thead>\n",
       "    <tr style=\"text-align: right;\">\n",
       "      <th></th>\n",
       "      <th>company</th>\n",
       "      <th>date_posted</th>\n",
       "      <th>job_title</th>\n",
       "      <th>summary</th>\n",
       "      <th>pros</th>\n",
       "      <th>cons</th>\n",
       "      <th>advice_to_mgmt</th>\n",
       "      <th>overall_ratings</th>\n",
       "      <th>work_balance_stars</th>\n",
       "      <th>culture_values_stars</th>\n",
       "      <th>carrer_opportunities_stars</th>\n",
       "      <th>comp_benefit_stars</th>\n",
       "      <th>senior_mangemnet_stars</th>\n",
       "      <th>helpful_count</th>\n",
       "      <th>city</th>\n",
       "      <th>state</th>\n",
       "      <th>country</th>\n",
       "      <th>current_emp</th>\n",
       "      <th>anonymous</th>\n",
       "    </tr>\n",
       "  </thead>\n",
       "  <tbody>\n",
       "    <tr>\n",
       "      <th>42755</th>\n",
       "      <td>apple</td>\n",
       "      <td>2015-07-27</td>\n",
       "      <td>NaN</td>\n",
       "      <td>a great place</td>\n",
       "      <td>everything is awesome!!</td>\n",
       "      <td>NaN</td>\n",
       "      <td>NaN</td>\n",
       "      <td>4</td>\n",
       "      <td>5.0</td>\n",
       "      <td>5.0</td>\n",
       "      <td>5.0</td>\n",
       "      <td>5.0</td>\n",
       "      <td>5.0</td>\n",
       "      <td>0</td>\n",
       "      <td>Charlotte</td>\n",
       "      <td>NC</td>\n",
       "      <td>USA</td>\n",
       "      <td>True</td>\n",
       "      <td>True</td>\n",
       "    </tr>\n",
       "  </tbody>\n",
       "</table>\n",
       "</div>"
      ],
      "text/plain": [
       "      company date_posted job_title        summary                     pros  \\\n",
       "42755   apple  2015-07-27       NaN  a great place  everything is awesome!!   \n",
       "\n",
       "      cons advice_to_mgmt  overall_ratings  work_balance_stars  \\\n",
       "42755  NaN            NaN                4                 5.0   \n",
       "\n",
       "       culture_values_stars  carrer_opportunities_stars  comp_benefit_stars  \\\n",
       "42755                   5.0                         5.0                 5.0   \n",
       "\n",
       "       senior_mangemnet_stars  helpful_count       city state country  \\\n",
       "42755                     5.0              0  Charlotte    NC     USA   \n",
       "\n",
       "       current_emp  anonymous  \n",
       "42755         True       True  "
      ]
     },
     "execution_count": 54,
     "metadata": {},
     "output_type": "execute_result"
    }
   ],
   "source": [
    "#looking at one review with missing `cons` comment.\n",
    "df[df.cons.isnull()]"
   ]
  },
  {
   "cell_type": "markdown",
   "metadata": {},
   "source": [
    "end of univariant\n",
    "___"
   ]
  },
  {
   "cell_type": "markdown",
   "metadata": {},
   "source": [
    "## Bivariant Explorations <a name=\"bivariant\"></a>"
   ]
  },
  {
   "cell_type": "code",
   "execution_count": 55,
   "metadata": {},
   "outputs": [
    {
     "data": {
      "image/png": "[encoded data removed]",
      "text/plain": [
       "<Figure size 1440x360 with 6 Axes>"
      ]
     },
     "metadata": {},
     "output_type": "display_data"
    }
   ],
   "source": [
    "fig, axes = plt.subplots(nrows=1, ncols=6, sharey=True, figsize=(20, 5))\n",
    "fig.suptitle('Ratings\\' Distributions', fontsize=22, fontweight='bold')\n",
    "color = sns.color_palette()[5]\n",
    "xticks=[1, 2, 3, 4, 5]\n",
    "for ax, col in zip(axes, rating_cols):\n",
    "    ax = sns.countplot(ax=ax, data=df, x=df[col], color=color, order=xticks)\n",
    "    mean = '{:0.2f}'.format(df[col].mean())\n",
    "    ax.set(title=ax.get_xlabel(), xlabel=mean, ylabel='')\n",
    "\n",
    "# TODO: Print percentage of each bar on each bar on it."
   ]
  },
  {
   "cell_type": "markdown",
   "metadata": {},
   "source": [
    "**Findings Here:**\n",
    "- It is interesting to see average ratings of the Overall vs Culture and Values are so close. \n",
    "- Overall Rating distribution pattern best follows Compensation and Benefits. \n",
    "- Both means and distribution shape (pattern) of Work Life Balance is very similar to Sr. Managment Ratings.\n",
    "\n",
    "let's remember we had lots of missings for ratings except for the overall rating. Let's plot the missing values for ratings columns."
   ]
  },
  {
   "cell_type": "code",
   "execution_count": 56,
   "metadata": {},
   "outputs": [
    {
     "data": {
      "image/png": "[encoded data removed]",
      "text/plain": [
       "<Figure size 864x288 with 1 Axes>"
      ]
     },
     "metadata": {},
     "output_type": "display_data"
    }
   ],
   "source": [
    "plot_missings(df[rating_cols])"
   ]
  },
  {
   "cell_type": "markdown",
   "metadata": {},
   "source": [
    "## Bivariate Explorations"
   ]
  },
  {
   "cell_type": "code",
   "execution_count": 57,
   "metadata": {},
   "outputs": [],
   "source": [
    "def ratings_trend(df=df, rating_cols=rating_cols):\n",
    "    plt.figure(figsize=(7, 7))\n",
    "\n",
    "    colors = ['grey', 'blue', 'green', 'red', 'brown']\n",
    "    ypos = 4.25\n",
    "    for col, color in zip(rating_cols[1:], colors):\n",
    "        sns.pointplot(data=df, x='overall_ratings', y=col, color=color)\n",
    "        plt.text(0.5, ypos, str(col), color=color)\n",
    "        ypos += 0.15\n",
    "\n",
    "    plt.ylim(1, 5)\n",
    "    plt.grid()\n",
    "    plt.xlabel('Overall Rating Stars')\n",
    "    plt.ylabel('Star-Level average ratings of each Sub-Ratings vs. Overall Rating');"
   ]
  },
  {
   "cell_type": "code",
   "execution_count": 58,
   "metadata": {},
   "outputs": [
    {
     "data": {
      "image/png": "[encoded data removed]",
      "text/plain": [
       "<Figure size 504x504 with 1 Axes>"
      ]
     },
     "metadata": {},
     "output_type": "display_data"
    }
   ],
   "source": [
    "ratings_trend(df)"
   ]
  },
  {
   "cell_type": "markdown",
   "metadata": {},
   "source": [
    "- Employees given highest overall rating i.e. 5 Stars on average given highest ratings to the `culture and values`.\n",
    "- Employees given highest overall rating i.e. 5 Stars on average still are least happy woth `Work-Life Balance`.\n",
    "- For unhappy 1 or 2 stars overall rating, Sr Management seems to be the most important issue impacting it. The runner up effecting uphappy employees in the plot is `culture and values`.\n",
    "- It's interesting to see the unhappier (lowest overall rating) the employee the less `compensations and benefits` is. "
   ]
  },
  {
   "cell_type": "markdown",
   "metadata": {},
   "source": [
    "end of bivariate explorations\n",
    "___"
   ]
  },
  {
   "cell_type": "markdown",
   "metadata": {},
   "source": [
    "## Feature Engineering\n",
    "\n",
    "Create new feature for the length of the review.\n",
    "Create new feature for the word count of the review."
   ]
  },
  {
   "cell_type": "markdown",
   "metadata": {},
   "source": [
    "### Review Length i.e. Word Counts\n",
    "There 4 text columns for each review divided into `Summary`, `Pros`, `Cons`, and `Advice to Management`. "
   ]
  },
  {
   "cell_type": "code",
   "execution_count": 71,
   "metadata": {},
   "outputs": [],
   "source": [
    "text_cols = ['summary', 'pros', 'cons', 'advice_to_mgmt']"
   ]
  },
  {
   "cell_type": "code",
   "execution_count": 72,
   "metadata": {},
   "outputs": [],
   "source": [
    "df['wordcount'] = 0\n",
    "for col in text_cols:\n",
    "    df['wordcount'] += df[col].astype(str).apply(lambda text: len(text.split()))"
   ]
  },
  {
   "cell_type": "code",
   "execution_count": 73,
   "metadata": {},
   "outputs": [
    {
     "data": {
      "text/plain": [
       "count    67529.000000\n",
       "mean        69.608405\n",
       "std         90.158068\n",
       "min          8.000000\n",
       "25%         23.000000\n",
       "50%         42.000000\n",
       "75%         82.000000\n",
       "max       3726.000000\n",
       "Name: wordcount, dtype: float64"
      ]
     },
     "execution_count": 73,
     "metadata": {},
     "output_type": "execute_result"
    }
   ],
   "source": [
    "df['wordcount'].describe()"
   ]
  },
  {
   "cell_type": "code",
   "execution_count": 78,
   "metadata": {},
   "outputs": [],
   "source": [
    "def distplot_closelook(col, **kwarg):\n",
    "    \"\"\"\"\"\"\n",
    "    \n",
    "    fig, ax0 = plt.subplots(1, 1, figsize=(20, 2))\n",
    "    sns.boxplot(df['wordcount'], color=bcolor)\n",
    "    \n",
    "    ax0.set_xlabel(f'All {len(col)} observations')\n",
    "    \n",
    "    fig, (ax0, ax1) = plt.subplots(1, 2, figsize=(20, 2))\n",
    "    sns.boxplot(col, ax=ax0, **kwarg)\n",
    "    ax0.set_xlim(0, np.percentile(col, 25))\n",
    "    ax0.set_xlabel(f'Bottom (left) 25% Distribution')\n",
    "\n",
    "    sns.boxplot(col, ax=ax1, **kwarg)\n",
    "    ax1.set_xlim(np.percentile(col, 75), col.max())\n",
    "    ax1.set_xlabel(f'Top (right) 25% Distribution')    "
   ]
  },
  {
   "cell_type": "code",
   "execution_count": 79,
   "metadata": {},
   "outputs": [],
   "source": [
    "df['review_days'] = pd.to_numeric((pd.datetime.today() - df['date_posted']).dt.days)"
   ]
  },
  {
   "cell_type": "code",
   "execution_count": 81,
   "metadata": {},
   "outputs": [
    {
     "data": {
      "text/plain": [
       "count    67529.000000\n",
       "mean        69.608405\n",
       "std         90.158068\n",
       "min          8.000000\n",
       "25%         23.000000\n",
       "50%         42.000000\n",
       "75%         82.000000\n",
       "max       3726.000000\n",
       "Name: wordcount, dtype: float64"
      ]
     },
     "execution_count": 81,
     "metadata": {},
     "output_type": "execute_result"
    },
    {
     "data": {
      "image/png": "[encoded data removed]",
      "text/plain": [
       "<Figure size 1440x144 with 1 Axes>"
      ]
     },
     "metadata": {},
     "output_type": "display_data"
    },
    {
     "data": {
      "image/png": "[encoded data removed]",
      "text/plain": [
       "<Figure size 1440x144 with 2 Axes>"
      ]
     },
     "metadata": {},
     "output_type": "display_data"
    }
   ],
   "source": [
    "distplot_closelook(df['wordcount'])\n",
    "df['wordcount'].describe()"
   ]
  },
  {
   "cell_type": "markdown",
   "metadata": {},
   "source": [
    "I think boxen plot works great showing spread of exterem outliers in large distributions. This boxen plot shows\n",
    "- An review with more than 3500 words in its comments and a couple of reviews arounf 2250.\n",
    "- There are exterem outliers with more than 1000 words."
   ]
  },
  {
   "cell_type": "code",
   "execution_count": 85,
   "metadata": {},
   "outputs": [
    {
     "data": {
      "text/plain": [
       "441.0"
      ]
     },
     "execution_count": 85,
     "metadata": {},
     "output_type": "execute_result"
    }
   ],
   "source": [
    "np.percentile(df['wordcount'], 99)"
   ]
  },
  {
   "cell_type": "code",
   "execution_count": 92,
   "metadata": {},
   "outputs": [],
   "source": [
    "df_clipped = df['wordcount'].clip(lower=0, upper=np.percentile(df['wordcount'], 99))"
   ]
  },
  {
   "cell_type": "code",
   "execution_count": null,
   "metadata": {},
   "outputs": [],
   "source": []
  },
  {
   "cell_type": "code",
   "execution_count": 66,
   "metadata": {},
   "outputs": [
    {
     "data": {
      "image/png": "[encoded data removed]",
      "text/plain": [
       "<Figure size 432x288 with 1 Axes>"
      ]
     },
     "metadata": {},
     "output_type": "display_data"
    }
   ],
   "source": [
    "# sns.distplot(df['review_age_int'], n)\n",
    "plt.hist(df['review_days']);"
   ]
  },
  {
   "cell_type": "markdown",
   "metadata": {},
   "source": [
    "### Time Factor\n",
    "We should always remember that Companies are made with people and like other living things are constantly evolving, experiemnting, learning from thier mistakes, and changing. Time of each review is an snapshot of a company from the perspective of someone who is part of this living whole. A review or general take of an employee is shaped by his/her experiances, met current and past expectations, thier own personal values  and future hopes both for themselves and the comapny.\n",
    "\n",
    "Therefore a recent review given last month must have a much higher weight than a review of 5 years ago. To take this into consideration we define a new feature `timefactor` that is from (0 to 1). 1 for a review left today and 0 zero for a review left 5 years (1826 days) or beyond.\n",
    "\n",
    "This is a linear weight system we choose to use; Perhaps it is not  the most optimal but we it should be practical enough for our dataset for initial experiemnts. "
   ]
  },
  {
   "cell_type": "code",
   "execution_count": 57,
   "metadata": {},
   "outputs": [],
   "source": [
    "max_days = 5 * 364.25 \n",
    "df['time_factor'] = df['review_days'].apply(lambda x: 1 - x/max_days if x < max_days else 0.0)"
   ]
  },
  {
   "cell_type": "markdown",
   "metadata": {},
   "source": [
    "### Reviewer Care Factor\n",
    "\n",
    "In real life we pay attention when someone cares and pays attention to a subject giving detailed and possibly passionate feed back on subject than short quick answers. We want ot take this fact in consideration in this data set. someone leaving a detailed review summary, pros and cons points and advise for management with about 1000 words deserve more weight (attention) than a partial quick review with 20 words. To measure this we make a new feature `carefactor` based on the overall length of the different part s of the review. "
   ]
  },
  {
   "cell_type": "markdown",
   "metadata": {},
   "source": [
    "#### Distribution of Review Word Counts"
   ]
  },
  {
   "cell_type": "markdown",
   "metadata": {},
   "source": [
    "### Review Score\n",
    "- Helpful Count\n",
    "- Overall Rating\n",
    "- - This column has no missing values in our dataset and also based on the practical close means and very small sd of all categories of ratings, it makes the best rating for making our review score\n",
    "- Time Factor\n"
   ]
  },
  {
   "cell_type": "code",
   "execution_count": null,
   "metadata": {},
   "outputs": [],
   "source": [
    "for col in text_cols:\n",
    "    df[f'sentiment_{col}'] = df[col].map(lambda x: np.nan if pd.isnull(x) else TextBlob(x).sentiment.polarity)"
   ]
  },
  {
   "cell_type": "code",
   "execution_count": null,
   "metadata": {},
   "outputs": [],
   "source": [
    "sentiment_cols = [col for col in df.columns if col.startswith('sentiment')]\n",
    "sentiment_cols"
   ]
  },
  {
   "cell_type": "code",
   "execution_count": null,
   "metadata": {},
   "outputs": [],
   "source": [
    "df[sentiment_cols]"
   ]
  },
  {
   "cell_type": "code",
   "execution_count": null,
   "metadata": {},
   "outputs": [],
   "source": [
    "df['sentiment_mean'] = 0\n",
    "\n",
    "for col in sentiment_cols:\n",
    "    df['sentiment_total'] += df[col]\n",
    "    \n",
    "# number of text columns with missing values\n",
    "num_missing_review_col = df[text_cols].isnull().sum(axis=1) \n",
    "\n",
    "# mean of sentiments as review sentiment indicator\n",
    "df['sentiment_mean'] = df['sentiment_total'] / (4 - num_missing_review_col)"
   ]
  },
  {
   "cell_type": "code",
   "execution_count": null,
   "metadata": {},
   "outputs": [],
   "source": [
    "## our newly engineered total sentiment feature shows a normal distribution\n",
    "plt.hist(df.sentiment_total, bins=30);\n",
    "df.sentiment_total.describe()"
   ]
  },
  {
   "cell_type": "code",
   "execution_count": null,
   "metadata": {},
   "outputs": [],
   "source": [
    "## our newly engineered total sentiment feature shows a normal distribution\n",
    "## past and curren employyes\n",
    "plt.hist(df.sentiment_total[ df.current_emp], bins=30);\n",
    "plt.hist(df.sentiment_total[~df.current_emp], bins=30);"
   ]
  },
  {
   "cell_type": "markdown",
   "metadata": {},
   "source": [
    "**Finding:**"
   ]
  },
  {
   "cell_type": "markdown",
   "metadata": {},
   "source": [
    "#### Lets look at the review with highest sentiment_total"
   ]
  },
  {
   "cell_type": "code",
   "execution_count": null,
   "metadata": {},
   "outputs": [],
   "source": [
    "happiest_employee = df[df['sentiment_total']==df['sentiment_total'].max()]\n",
    "happiest_employee"
   ]
  },
  {
   "cell_type": "code",
   "execution_count": null,
   "metadata": {},
   "outputs": [],
   "source": [
    "for col in happiest_employee[text_cols]:\n",
    "    print(f'{col}:\\n{happiest_employee[col].values[0]}\\n')"
   ]
  },
  {
   "cell_type": "code",
   "execution_count": null,
   "metadata": {},
   "outputs": [],
   "source": [
    "really_upset = df[df['sentiment_total']==df['sentiment_total'].min()]\n",
    "really_upset"
   ]
  },
  {
   "cell_type": "code",
   "execution_count": null,
   "metadata": {},
   "outputs": [],
   "source": [
    "for col in really_upset[text_cols]:\n",
    "    print(f'{col}:\\n{really_upset[col].values[0]}\\n')"
   ]
  },
  {
   "cell_type": "code",
   "execution_count": null,
   "metadata": {},
   "outputs": [],
   "source": [
    "df.iloc[23435]"
   ]
  },
  {
   "cell_type": "code",
   "execution_count": null,
   "metadata": {},
   "outputs": [],
   "source": [
    "df"
   ]
  },
  {
   "cell_type": "code",
   "execution_count": null,
   "metadata": {},
   "outputs": [],
   "source": []
  }
 ],
 "metadata": {
  "kernelspec": {
   "display_name": "Python 3",
   "language": "python",
   "name": "python3"
  },
  "language_info": {
   "codemirror_mode": {
    "name": "ipython",
    "version": 3
   },
   "file_extension": ".py",
   "mimetype": "text/x-python",
   "name": "python",
   "nbconvert_exporter": "python",
   "pygments_lexer": "ipython3",
   "version": "3.7.2"
  }
 },
 "nbformat": 4,
 "nbformat_minor": 2
}
