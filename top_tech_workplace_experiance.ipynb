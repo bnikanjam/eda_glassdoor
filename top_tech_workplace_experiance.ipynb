{
 "cells": [
  {
   "cell_type": "markdown",
   "metadata": {},
   "source": [
    "##### structured Exploratory Data Analysis of:\n",
    "- explore the dataset’s variables\n",
    "- understand the data’s structure, oddities, patterns and relationships.\n",
    "- ask questions of the data and make your own discoveries.\n",
    "\n",
    "- main findings from your exploration\n",
    "\n",
    "- construct a story for your readers to understand what you found.\n",
    "\n",
    "# Apple, Microsoft, Google, Amazon, Facebook, and Netflix\n",
    "# Employees' Workplace Reviews.\n",
    "___\n",
    "\n",
    "**Context:** Over 67k employee reviews for Google, Amazon, Facebook, Apple, and Microsoft.\n",
    "\n",
    "**Acknowledgements:** This data was scraped from Glassdoor.\n",
    "\n",
    "**Questions**\n",
    "- What company has been improving best?\n",
    "- based on this data what company seems the best choice for a specific postion?\n",
    "- is there a relationship base on stock market mometoum and volatility and employee's workplace rating?\n",
    "- What pros each company is best at?\n",
    "- what positions seem to be happiest in each company? (and overall)\n",
    "\n",
    "- a company cultur is like a living thing, it grows, changes, fades away, It's the direction that matters most for current and potential employees perhaps more than where they are now. So recent reviews so weigh more of general status of a cimpany.\n",
    "\n",
    "\n",
    "- what proportion of employees felt comfortable enough not tobe Anonymous?\n",
    "___"
   ]
  },
  {
   "cell_type": "markdown",
   "metadata": {},
   "source": [
    "Table of contents:\n",
    "1. [Importing Modules and Data](#import)\n",
    "1. [Explore Variables and Initial Data Assessment](#import)\n",
    "1. [Data Cleaning. Addressing Tidiness, Quality and Missing Values](#import)\n",
    "1. [Feature Engineering](#import)\n",
    "1. [](#import)"
   ]
  },
  {
   "cell_type": "markdown",
   "metadata": {},
   "source": [
    "Scratch Notes\n",
    "\n",
    "- Exploratory Data Analysis and Visualization for Text Data\n",
    "- Create a stunning visualization\n",
    "- focus of the project is on exploratory data analysis\n",
    "- worthy of posting it to Medium, Kaggle\n",
    "- Emplopyers and My Tech Friends value it\n",
    "\n",
    "https://towardsdatascience.com/a-complete-exploratory-data-analysis-and-visualization-for-text-data-29fb1b96fb6a\n",
    "\n",
    "https://www.kaggle.com/aashita/exploratory-data-analysis-of-comments-on-nyt\n",
    "\n",
    "https://www.kaggle.com/petersunga/google-amazon-facebook-employee-reviews"
   ]
  },
  {
   "cell_type": "markdown",
   "metadata": {},
   "source": [
    "___"
   ]
  },
  {
   "cell_type": "markdown",
   "metadata": {},
   "source": [
    "## Importing modules and loading data <a name=\"import\"></a>"
   ]
  },
  {
   "cell_type": "markdown",
   "metadata": {},
   "source": [
    "#### First we import python modules and setting notebook environment"
   ]
  },
  {
   "cell_type": "code",
   "execution_count": 1,
   "metadata": {},
   "outputs": [],
   "source": [
    "# Essential Data Analysis Ecosystem Libraries\n",
    "import numpy as np\n",
    "import pandas as pd\n",
    "from pandas.api.types import CategoricalDtype\n",
    "\n",
    "# Visualization\n",
    "import matplotlib.pyplot as plt\n",
    "import seaborn as sns\n",
    "\n",
    "# Python Standard Libraries\n",
    "import os  # os file operations\n",
    "import re  # data cleaning\n",
    "import webbrowser\n",
    "from collections import Counter\n",
    "\n",
    "# \n",
    "import textblob\n",
    "\n",
    "# suppress warnings from final output\n",
    "import warnings\n",
    "warnings.simplefilter(\"ignore\")\n",
    "\n",
    "# set plots to be embedded inline\n",
    "%matplotlib inline\n",
    "\n",
    "\n",
    "from textblob import TextBlob\n",
    "\n",
    "\n",
    "# base color\n",
    "bcolor = sns.color_palette()[0]\n",
    "two_in_row = (12, 6)  # two square plots next to each other\n",
    "plt.rcParams['font.family'] = 'sans-serif'\n",
    "plt.rcParams['font.sans-serif'] = 'Helvetica'\n",
    "sns.set(style='ticks', palette='pastel')"
   ]
  },
  {
   "cell_type": "code",
   "execution_count": 2,
   "metadata": {},
   "outputs": [],
   "source": [
    "def start():\n",
    "    options = {\n",
    "        'display': {\n",
    "            'max_columns': None,\n",
    "            'max_colwidth': 25,\n",
    "            'expand_frame_repr': False,  # Don't wrap to multiple pages\n",
    "            'max_rows': 20,\n",
    "            'max_seq_items': 50,         # Max length of printed sequence\n",
    "            'precision': 4,\n",
    "            'show_dimensions': False\n",
    "        },\n",
    "        'mode': {\n",
    "            'chained_assignment': None   # Controls SettingWithCopyWarning\n",
    "        }\n",
    "    }\n",
    "\n",
    "    for category, option in options.items():\n",
    "        for op, value in option.items():\n",
    "            pd.set_option(f'{category}.{op}', value)  # Python 3.6+"
   ]
  },
  {
   "cell_type": "code",
   "execution_count": 3,
   "metadata": {},
   "outputs": [],
   "source": [
    "start()\n",
    "del start"
   ]
  },
  {
   "cell_type": "markdown",
   "metadata": {},
   "source": [
    "#### Load up our dataset to a DataFrame"
   ]
  },
  {
   "cell_type": "code",
   "execution_count": 4,
   "metadata": {},
   "outputs": [
    {
     "name": "stdout",
     "output_type": "stream",
     "text": [
      "Dataset file(s): ['Untitled.ipynb', 'employee_reviews.csv', '.ipynb_checkpoints']\n"
     ]
    }
   ],
   "source": [
    "# dataset starting file(s)\n",
    "dataset_path = 'input/'\n",
    "print ('Dataset file(s):', os.listdir(dataset_path))\n",
    "\n",
    "# TODO: If there is a new version of the dataset, programmatically download updated dataset zip file from Kaggle.\n",
    "# ToDO\n",
    "\n",
    "df_raw = pd.read_csv(os.path.join(dataset_path, 'employee_reviews.csv'))"
   ]
  },
  {
   "cell_type": "markdown",
   "metadata": {},
   "source": [
    "end of Importing modules and loading data\n",
    "___"
   ]
  },
  {
   "cell_type": "markdown",
   "metadata": {},
   "source": [
    "## First look at the data:<a name=\"import\"></a>"
   ]
  },
  {
   "cell_type": "markdown",
   "metadata": {},
   "source": [
    "#### Let's look at shape of our raw data and  5  random  reviews:"
   ]
  },
  {
   "cell_type": "code",
   "execution_count": 5,
   "metadata": {},
   "outputs": [
    {
     "name": "stdout",
     "output_type": "stream",
     "text": [
      "Number of rows (reviews) and columns: (67529, 17)\n"
     ]
    },
    {
     "data": {
      "text/html": [
       "<div>\n",
       "<style scoped>\n",
       "    .dataframe tbody tr th:only-of-type {\n",
       "        vertical-align: middle;\n",
       "    }\n",
       "\n",
       "    .dataframe tbody tr th {\n",
       "        vertical-align: top;\n",
       "    }\n",
       "\n",
       "    .dataframe thead th {\n",
       "        text-align: right;\n",
       "    }\n",
       "</style>\n",
       "<table border=\"1\" class=\"dataframe\">\n",
       "  <thead>\n",
       "    <tr style=\"text-align: right;\">\n",
       "      <th></th>\n",
       "      <th>Unnamed: 0</th>\n",
       "      <th>company</th>\n",
       "      <th>location</th>\n",
       "      <th>dates</th>\n",
       "      <th>job-title</th>\n",
       "      <th>summary</th>\n",
       "      <th>pros</th>\n",
       "      <th>cons</th>\n",
       "      <th>advice-to-mgmt</th>\n",
       "      <th>overall-ratings</th>\n",
       "      <th>work-balance-stars</th>\n",
       "      <th>culture-values-stars</th>\n",
       "      <th>carrer-opportunities-stars</th>\n",
       "      <th>comp-benefit-stars</th>\n",
       "      <th>senior-mangemnet-stars</th>\n",
       "      <th>helpful-count</th>\n",
       "      <th>link</th>\n",
       "    </tr>\n",
       "  </thead>\n",
       "  <tbody>\n",
       "    <tr>\n",
       "      <th>9590</th>\n",
       "      <td>9591</td>\n",
       "      <td>amazon</td>\n",
       "      <td>none</td>\n",
       "      <td>Aug 2, 2018</td>\n",
       "      <td>Former Employee - Ful...</td>\n",
       "      <td>Amazon Fulfillment Wa...</td>\n",
       "      <td>Paycheck was very goo...</td>\n",
       "      <td>Long hours. Mandatory...</td>\n",
       "      <td>none</td>\n",
       "      <td>3.0</td>\n",
       "      <td>2.0</td>\n",
       "      <td>3.0</td>\n",
       "      <td>2.0</td>\n",
       "      <td>4.0</td>\n",
       "      <td>2.0</td>\n",
       "      <td>1</td>\n",
       "      <td>https://www.glassdoor...</td>\n",
       "    </tr>\n",
       "    <tr>\n",
       "      <th>59904</th>\n",
       "      <td>59905</td>\n",
       "      <td>microsoft</td>\n",
       "      <td>Redmond, WA</td>\n",
       "      <td>May 1, 2012</td>\n",
       "      <td>Current Employee - So...</td>\n",
       "      <td>Great Place to be cre...</td>\n",
       "      <td>you can get creative ...</td>\n",
       "      <td>you could get stuck u...</td>\n",
       "      <td>none</td>\n",
       "      <td>4.0</td>\n",
       "      <td>4.0</td>\n",
       "      <td>none</td>\n",
       "      <td>4.0</td>\n",
       "      <td>3.0</td>\n",
       "      <td>4.0</td>\n",
       "      <td>0</td>\n",
       "      <td>https://www.glassdoor...</td>\n",
       "    </tr>\n",
       "    <tr>\n",
       "      <th>29072</th>\n",
       "      <td>29073</td>\n",
       "      <td>amazon</td>\n",
       "      <td>Seoul (South Korea)</td>\n",
       "      <td>Nov 29, 2017</td>\n",
       "      <td>Current Employee - Se...</td>\n",
       "      <td>Metric-Centric</td>\n",
       "      <td>Long training period,...</td>\n",
       "      <td>Terrible managerial c...</td>\n",
       "      <td>none</td>\n",
       "      <td>3.0</td>\n",
       "      <td>4.0</td>\n",
       "      <td>2.0</td>\n",
       "      <td>3.0</td>\n",
       "      <td>2.0</td>\n",
       "      <td>1.0</td>\n",
       "      <td>0</td>\n",
       "      <td>https://www.glassdoor...</td>\n",
       "    </tr>\n",
       "    <tr>\n",
       "      <th>38256</th>\n",
       "      <td>38257</td>\n",
       "      <td>apple</td>\n",
       "      <td>none</td>\n",
       "      <td>Nov 29, 2017</td>\n",
       "      <td>Former Employee - Ano...</td>\n",
       "      <td>Engineer</td>\n",
       "      <td>My team was great to ...</td>\n",
       "      <td>Apple fired me becaus...</td>\n",
       "      <td>Keep going down this ...</td>\n",
       "      <td>1.0</td>\n",
       "      <td>2.0</td>\n",
       "      <td>1.0</td>\n",
       "      <td>2.0</td>\n",
       "      <td>4.0</td>\n",
       "      <td>2.0</td>\n",
       "      <td>3</td>\n",
       "      <td>https://www.glassdoor...</td>\n",
       "    </tr>\n",
       "    <tr>\n",
       "      <th>12070</th>\n",
       "      <td>12071</td>\n",
       "      <td>amazon</td>\n",
       "      <td>Houston, TX</td>\n",
       "      <td>Jan 14, 2018</td>\n",
       "      <td>Current Employee - So...</td>\n",
       "      <td>They try to motivate ...</td>\n",
       "      <td>Easy job task and if ...</td>\n",
       "      <td>The points system is ...</td>\n",
       "      <td>Give chances to earn ...</td>\n",
       "      <td>5.0</td>\n",
       "      <td>5.0</td>\n",
       "      <td>5.0</td>\n",
       "      <td>5.0</td>\n",
       "      <td>4.0</td>\n",
       "      <td>5.0</td>\n",
       "      <td>1</td>\n",
       "      <td>https://www.glassdoor...</td>\n",
       "    </tr>\n",
       "  </tbody>\n",
       "</table>\n",
       "</div>"
      ],
      "text/plain": [
       "       Unnamed: 0    company             location          dates                 job-title                   summary                      pros                      cons            advice-to-mgmt  overall-ratings work-balance-stars culture-values-stars carrer-opportunities-stars comp-benefit-stars senior-mangemnet-stars  helpful-count                      link\n",
       "9590         9591     amazon                 none    Aug 2, 2018  Former Employee - Ful...  Amazon Fulfillment Wa...  Paycheck was very goo...  Long hours. Mandatory...                      none              3.0                2.0                  3.0                       2.0                 4.0                    2.0              1  https://www.glassdoor...\n",
       "59904       59905  microsoft          Redmond, WA    May 1, 2012  Current Employee - So...  Great Place to be cre...  you can get creative ...  you could get stuck u...                      none              4.0                4.0                 none                       4.0                 3.0                    4.0              0  https://www.glassdoor...\n",
       "29072       29073     amazon  Seoul (South Korea)   Nov 29, 2017  Current Employee - Se...            Metric-Centric  Long training period,...  Terrible managerial c...                      none              3.0                4.0                  2.0                       3.0                 2.0                    1.0              0  https://www.glassdoor...\n",
       "38256       38257      apple                 none   Nov 29, 2017  Former Employee - Ano...                  Engineer  My team was great to ...  Apple fired me becaus...  Keep going down this ...              1.0                2.0                  1.0                       2.0                 4.0                    2.0              3  https://www.glassdoor...\n",
       "12070       12071     amazon          Houston, TX   Jan 14, 2018  Current Employee - So...  They try to motivate ...  Easy job task and if ...  The points system is ...  Give chances to earn ...              5.0                5.0                  5.0                       5.0                 4.0                    5.0              1  https://www.glassdoor..."
      ]
     },
     "execution_count": 5,
     "metadata": {},
     "output_type": "execute_result"
    }
   ],
   "source": [
    "print('Number of rows (reviews) and columns:', df_raw.shape)\n",
    "df_raw_samples = df_raw.sample(5)\n",
    "df_raw_samples"
   ]
  },
  {
   "cell_type": "markdown",
   "metadata": {},
   "source": [
    "- `index` and `Unnamed: 0` column seem as an id and are redundant.\n",
    "- 'none' is used for missing values.\n",
    "- Tidiness issue: Global location column contains 3 different 'city, state, and country' values. This column is to be separated in 3 columns.\n",
    "- Tidiness issue: employee_status (current or former) and job_title are to be seperated in two columns."
   ]
  },
  {
   "cell_type": "markdown",
   "metadata": {},
   "source": [
    "#### Information about the columns' names, datatypes, unique values, and null values:"
   ]
  },
  {
   "cell_type": "code",
   "execution_count": 6,
   "metadata": {
    "scrolled": false
   },
   "outputs": [
    {
     "name": "stdout",
     "output_type": "stream",
     "text": [
      "<class 'pandas.core.frame.DataFrame'>\n",
      "RangeIndex: 67529 entries, 0 to 67528\n",
      "Data columns (total 17 columns):\n",
      "Unnamed: 0                    67529 non-null int64\n",
      "company                       67529 non-null object\n",
      "location                      67529 non-null object\n",
      "dates                         67529 non-null object\n",
      "job-title                     67529 non-null object\n",
      "summary                       67409 non-null object\n",
      "pros                          67529 non-null object\n",
      "cons                          67529 non-null object\n",
      "advice-to-mgmt                67232 non-null object\n",
      "overall-ratings               67529 non-null float64\n",
      "work-balance-stars            67529 non-null object\n",
      "culture-values-stars          67529 non-null object\n",
      "carrer-opportunities-stars    67529 non-null object\n",
      "comp-benefit-stars            67529 non-null object\n",
      "senior-mangemnet-stars        67529 non-null object\n",
      "helpful-count                 67529 non-null int64\n",
      "link                          67529 non-null object\n",
      "dtypes: float64(1), int64(2), object(14)\n",
      "memory usage: 8.8+ MB\n"
     ]
    }
   ],
   "source": [
    "df_raw.info()"
   ]
  },
  {
   "cell_type": "markdown",
   "metadata": {},
   "source": [
    "We don't see lots of missing data but that's most likely because missing data represented by string 'non'"
   ]
  },
  {
   "cell_type": "code",
   "execution_count": 7,
   "metadata": {},
   "outputs": [
    {
     "data": {
      "text/plain": [
       "Unnamed: 0                    67529\n",
       "company                           6\n",
       "location                       2044\n",
       "dates                          3824\n",
       "job-title                      8308\n",
       "summary                       42649\n",
       "pros                          66085\n",
       "cons                          66049\n",
       "advice-to-mgmt                35190\n",
       "overall-ratings                   5\n",
       "work-balance-stars               10\n",
       "culture-values-stars              6\n",
       "carrer-opportunities-stars       10\n",
       "comp-benefit-stars               10\n",
       "senior-mangemnet-stars           10\n",
       "helpful-count                    99\n",
       "link                           6754\n",
       "dtype: int64"
      ]
     },
     "execution_count": 7,
     "metadata": {},
     "output_type": "execute_result"
    }
   ],
   "source": [
    "df_raw.nunique()"
   ]
  },
  {
   "cell_type": "markdown",
   "metadata": {},
   "source": [
    "We have four specific categories of ratings and 1 overall rating. They should be based on a 1-star to 5-stars ratings, but there are up to 10 different vlues for those ratings that needs to be looked at and cleaned."
   ]
  },
  {
   "cell_type": "markdown",
   "metadata": {},
   "source": [
    "#### We can follow our sample scrapped reviews to www.glassdoor.com to see the actual reviews."
   ]
  },
  {
   "cell_type": "code",
   "execution_count": 8,
   "metadata": {},
   "outputs": [
    {
     "name": "stdout",
     "output_type": "stream",
     "text": [
      "9590     https://www.glassdoor...\n",
      "59904    https://www.glassdoor...\n",
      "29072    https://www.glassdoor...\n",
      "38256    https://www.glassdoor...\n",
      "12070    https://www.glassdoor...\n",
      "Name: link, dtype: object\n",
      "Enter,  y  if you would like to open and see these sample reviews\\` urls? \n"
     ]
    }
   ],
   "source": [
    "links = df_raw_samples['link']\n",
    "print(links)\n",
    "answer = input('Enter,  y  if you would like to open and see these sample reviews\\` urls? ')\n",
    "if answer.lower()=='y':\n",
    "    [webbrowser.open(link) for link in links]"
   ]
  },
  {
   "cell_type": "markdown",
   "metadata": {},
   "source": [
    "Looking at the actual source of the data, we can see  two very likely useful peices of information in reviews are not scrapped. That is the length and type of employments. Here is 3 examples:\n",
    " - I worked at Amazon full-time (More than 3 years)\n",
    " - I have been working at Microsoft full-time (More than 10 years)\n",
    " - I have been working at Google full-time (Less than a year)"
   ]
  },
  {
   "cell_type": "markdown",
   "metadata": {},
   "source": [
    "#### Copanies Review Shares in Raw Dataset\n",
    "To add meaning to the order of chart we will be plotting involving companies, let's convert company column to categorical data sorted by date founded."
   ]
  },
  {
   "cell_type": "code",
   "execution_count": 9,
   "metadata": {},
   "outputs": [],
   "source": [
    "company_cat = CategoricalDtype(ordered=True, \n",
    "                               categories=['microsoft', 'apple', 'amazon', 'netflix', 'google', 'facebook'])\n",
    "df_raw['company'] = df_raw['company'].astype(company_cat)"
   ]
  },
  {
   "cell_type": "code",
   "execution_count": 10,
   "metadata": {},
   "outputs": [],
   "source": [
    "plt.rcParams['axes.edgecolor']='#333F4B'\n",
    "plt.rcParams['axes.linewidth']=0.8\n",
    "plt.rcParams['xtick.color']='#333F4B'\n",
    "plt.rcParams['ytick.color']='#333F4B'"
   ]
  },
  {
   "cell_type": "markdown",
   "metadata": {},
   "source": [
    "end of quick look\n",
    "___"
   ]
  },
  {
   "cell_type": "markdown",
   "metadata": {},
   "source": [
    "## Data Cleaning"
   ]
  },
  {
   "cell_type": "markdown",
   "metadata": {},
   "source": [
    "#### Tidiness: There are 3 values of  `city, state, country` in location column. We will make this tidy by separating each value in its own column."
   ]
  },
  {
   "cell_type": "code",
   "execution_count": 11,
   "metadata": {},
   "outputs": [
    {
     "data": {
      "text/plain": [
       "23121           Palo Alto, CA\n",
       "51130       San Francisco, CA\n",
       "26272    London, England (UK)\n",
       "54472             Redmond, WA\n",
       "55840             Redmond, WA\n",
       "22711                    none\n",
       "63956       Hyderabad (India)\n",
       "18639                    none\n",
       "32564          Cork (Ireland)\n",
       "55127             Redmond, WA\n",
       "Name: location, dtype: object"
      ]
     },
     "execution_count": 11,
     "metadata": {},
     "output_type": "execute_result"
    }
   ],
   "source": [
    "# location column before cleaning\n",
    "df = df_raw\n",
    "df['location'].sample(10)"
   ]
  },
  {
   "cell_type": "markdown",
   "metadata": {},
   "source": [
    "#### functions to extrat \"city, state, and country\" values from location column to 3 columns"
   ]
  },
  {
   "cell_type": "code",
   "execution_count": 12,
   "metadata": {},
   "outputs": [],
   "source": [
    "btween_parentheses = r'\\(([^)]+)\\)'  # Regular expression to get a string between parentheses\n",
    "\n",
    "\n",
    "def get_country(location):\n",
    "    \"\"\"Extracts and returns country name from location string.\n",
    "    Returns NaN if 'none'.\"\"\"\n",
    "    if location == 'none':\n",
    "        return np.nan\n",
    "    not_usa = re.findall(btween_parentheses, location)\n",
    "    if not_usa:\n",
    "        return not_usa[0]\n",
    "    else:\n",
    "        return 'USA'\n",
    "    \n",
    "\n",
    "def get_state(location):\n",
    "    \"\"\"Extracts and returns state name (if aby) from location string.\n",
    "    Returns Nan if 'none or not applicable.\"\"\"\n",
    "    if location == 'none':\n",
    "        return np.nan\n",
    "    not_usa = re.findall(btween_parentheses, location)\n",
    "    if not_usa:\n",
    "        if ',' in location:\n",
    "            return location.split(',')[1].split()[0]\n",
    "        else:\n",
    "            return np.nan\n",
    "    else:\n",
    "        return location.strip()[-2:]\n",
    "\n",
    "    \n",
    "def get_city(location):\n",
    "    \"\"\"Extracts and returns city name from location string.\n",
    "    Returns Nan if 'none'.\"\"\"\n",
    "    if location == 'none':\n",
    "        return np.nan\n",
    "    not_usa = re.findall(btween_parentheses, location)\n",
    "    if not_usa:\n",
    "        if ',' in location:\n",
    "            return location.split(',')[0]\n",
    "        else:\n",
    "            return location.split()[0]\n",
    "    else:\n",
    "        return location.split(',')[0]    "
   ]
  },
  {
   "cell_type": "code",
   "execution_count": 13,
   "metadata": {},
   "outputs": [],
   "source": [
    "df['city'] = df.location.apply(get_city)\n",
    "df['state'] = df.location.apply(get_state)\n",
    "df['country'] = df.location.apply(get_country)"
   ]
  },
  {
   "cell_type": "code",
   "execution_count": 14,
   "metadata": {},
   "outputs": [
    {
     "data": {
      "text/html": [
       "<div>\n",
       "<style scoped>\n",
       "    .dataframe tbody tr th:only-of-type {\n",
       "        vertical-align: middle;\n",
       "    }\n",
       "\n",
       "    .dataframe tbody tr th {\n",
       "        vertical-align: top;\n",
       "    }\n",
       "\n",
       "    .dataframe thead th {\n",
       "        text-align: right;\n",
       "    }\n",
       "</style>\n",
       "<table border=\"1\" class=\"dataframe\">\n",
       "  <thead>\n",
       "    <tr style=\"text-align: right;\">\n",
       "      <th></th>\n",
       "      <th>city</th>\n",
       "      <th>state</th>\n",
       "      <th>country</th>\n",
       "    </tr>\n",
       "  </thead>\n",
       "  <tbody>\n",
       "    <tr>\n",
       "      <th>39215</th>\n",
       "      <td>Chicago</td>\n",
       "      <td>IL</td>\n",
       "      <td>USA</td>\n",
       "    </tr>\n",
       "    <tr>\n",
       "      <th>55703</th>\n",
       "      <td>Redmond</td>\n",
       "      <td>WA</td>\n",
       "      <td>USA</td>\n",
       "    </tr>\n",
       "    <tr>\n",
       "      <th>20819</th>\n",
       "      <td>Seattle</td>\n",
       "      <td>WA</td>\n",
       "      <td>USA</td>\n",
       "    </tr>\n",
       "    <tr>\n",
       "      <th>25129</th>\n",
       "      <td>Seattle</td>\n",
       "      <td>WA</td>\n",
       "      <td>USA</td>\n",
       "    </tr>\n",
       "    <tr>\n",
       "      <th>405</th>\n",
       "      <td>Austin</td>\n",
       "      <td>TX</td>\n",
       "      <td>USA</td>\n",
       "    </tr>\n",
       "  </tbody>\n",
       "</table>\n",
       "</div>"
      ],
      "text/plain": [
       "          city state country\n",
       "39215  Chicago    IL     USA\n",
       "55703  Redmond    WA     USA\n",
       "20819  Seattle    WA     USA\n",
       "25129  Seattle    WA     USA\n",
       "405     Austin    TX     USA"
      ]
     },
     "execution_count": 14,
     "metadata": {},
     "output_type": "execute_result"
    }
   ],
   "source": [
    "# Test\n",
    "df[['city', 'state', 'country']].sample(5)"
   ]
  },
  {
   "cell_type": "markdown",
   "metadata": {},
   "source": [
    "#### Renaming Columns for Clarity/Consistency\n",
    "\n",
    "- We rename all 5 rating columns to start with `r_`.\n",
    "- All columns\\` names to singular nouns.\n",
    "- Change connecting dashs `-` to underscores `_`."
   ]
  },
  {
   "cell_type": "code",
   "execution_count": 15,
   "metadata": {},
   "outputs": [],
   "source": [
    "df.rename(columns={'dates': 'date',\n",
    "                   'advice-to-mgmt': 'advice_to_mgmt',\n",
    "                   'overall-ratings': 'r_overall',\n",
    "                   'work-balance-stars': 'r_work_balance',\n",
    "                   'culture-values-stars': 'r_culture',\n",
    "                   'carrer-opportunities-stars': 'r_career_opp',\n",
    "                   'comp-benefit-stars': 'r_comp_benefit',\n",
    "                   'senior-mangemnet-stars': 'r_senior_mangemnet',\n",
    "                   'helpful-count': 'helpful_count'}, inplace=True);"
   ]
  },
  {
   "cell_type": "markdown",
   "metadata": {},
   "source": [
    "###  Tidiness: Seperate `job-title` column values to 2 columns, current_emp and job_title."
   ]
  },
  {
   "cell_type": "code",
   "execution_count": 16,
   "metadata": {},
   "outputs": [],
   "source": [
    "df['current_emp'] = df['job-title'].apply(lambda column: True if column.split()[0] == 'Current' else False)\n",
    "df['job_title'] = df['job-title'].apply(lambda column: column.split('-')[1])"
   ]
  },
  {
   "cell_type": "markdown",
   "metadata": {},
   "source": [
    "### Tidiness: Anonymous  Employees (Reviewers) are mix with Job-Titles\n",
    "- Make a True/False Column for Anonymous Employees\n",
    "- Replace Anonymous Employee with NaN in job_title coloumn"
   ]
  },
  {
   "cell_type": "code",
   "execution_count": 17,
   "metadata": {},
   "outputs": [
    {
     "data": {
      "text/plain": [
       " Anonymous Employee                  27002\n",
       " Software Engineer                    1793\n",
       " Software Development Engineer        1270\n",
       " Specialist                           1060\n",
       " Program Manager                       826\n",
       " Warehouse Associate                   679\n",
       " Senior Software Engineer              637\n",
       " Senior Program Manager                608\n",
       " Fulfillment Associate                 603\n",
       " Software Development Engineer II      586\n",
       "Name: job_title, dtype: int64"
      ]
     },
     "execution_count": 17,
     "metadata": {},
     "output_type": "execute_result"
    }
   ],
   "source": [
    "df['job_title'].value_counts()[:10]"
   ]
  },
  {
   "cell_type": "code",
   "execution_count": 18,
   "metadata": {},
   "outputs": [],
   "source": [
    "df['anonymous'] = df['job_title'].apply(lambda job: True if 'Anonymous' in str(job) else False)"
   ]
  },
  {
   "cell_type": "code",
   "execution_count": 19,
   "metadata": {},
   "outputs": [],
   "source": [
    "df['job_title'] = df['job_title'].apply(lambda job: np.nan if 'Anonymous' in str(job) else job)"
   ]
  },
  {
   "cell_type": "code",
   "execution_count": 20,
   "metadata": {},
   "outputs": [
    {
     "data": {
      "text/html": [
       "<div>\n",
       "<style scoped>\n",
       "    .dataframe tbody tr th:only-of-type {\n",
       "        vertical-align: middle;\n",
       "    }\n",
       "\n",
       "    .dataframe tbody tr th {\n",
       "        vertical-align: top;\n",
       "    }\n",
       "\n",
       "    .dataframe thead th {\n",
       "        text-align: right;\n",
       "    }\n",
       "</style>\n",
       "<table border=\"1\" class=\"dataframe\">\n",
       "  <thead>\n",
       "    <tr style=\"text-align: right;\">\n",
       "      <th></th>\n",
       "      <th>job_title</th>\n",
       "      <th>anonymous</th>\n",
       "    </tr>\n",
       "  </thead>\n",
       "  <tbody>\n",
       "    <tr>\n",
       "      <th>20659</th>\n",
       "      <td>NaN</td>\n",
       "      <td>True</td>\n",
       "    </tr>\n",
       "    <tr>\n",
       "      <th>14201</th>\n",
       "      <td>Software Support Eng...</td>\n",
       "      <td>False</td>\n",
       "    </tr>\n",
       "    <tr>\n",
       "      <th>66347</th>\n",
       "      <td>NaN</td>\n",
       "      <td>True</td>\n",
       "    </tr>\n",
       "    <tr>\n",
       "      <th>46603</th>\n",
       "      <td>Software Engineer</td>\n",
       "      <td>False</td>\n",
       "    </tr>\n",
       "    <tr>\n",
       "      <th>21170</th>\n",
       "      <td>NaN</td>\n",
       "      <td>True</td>\n",
       "    </tr>\n",
       "  </tbody>\n",
       "</table>\n",
       "</div>"
      ],
      "text/plain": [
       "                      job_title  anonymous\n",
       "20659                       NaN       True\n",
       "14201   Software Support Eng...      False\n",
       "66347                       NaN       True\n",
       "46603         Software Engineer      False\n",
       "21170                       NaN       True"
      ]
     },
     "execution_count": 20,
     "metadata": {},
     "output_type": "execute_result"
    }
   ],
   "source": [
    "#Test\n",
    "df[['job_title', 'anonymous']].sample(5)"
   ]
  },
  {
   "cell_type": "markdown",
   "metadata": {},
   "source": [
    "### Data Cleaning: Dropping redundant columns"
   ]
  },
  {
   "cell_type": "code",
   "execution_count": 21,
   "metadata": {
    "scrolled": true
   },
   "outputs": [],
   "source": [
    "drop_columns = ['Unnamed: 0', 'location', 'job-title', 'link']\n",
    "df.drop(columns=drop_columns, axis=1, inplace=True)"
   ]
  },
  {
   "cell_type": "markdown",
   "metadata": {},
   "source": [
    "### Data Cleaning: Types and Value Corrections"
   ]
  },
  {
   "cell_type": "code",
   "execution_count": 22,
   "metadata": {},
   "outputs": [],
   "source": [
    "# Replace misrepresentations of missing values to NaN\n",
    "df.replace('none', np.nan, inplace=True);"
   ]
  },
  {
   "cell_type": "code",
   "execution_count": 23,
   "metadata": {},
   "outputs": [],
   "source": [
    "# Datetime Types:\n",
    "df.date = pd.to_datetime(df.date, errors='coerce')"
   ]
  },
  {
   "cell_type": "code",
   "execution_count": 24,
   "metadata": {},
   "outputs": [
    {
     "data": {
      "text/plain": [
       "(Timestamp('2008-01-31 00:00:00'), Timestamp('2018-12-11 00:00:00'))"
      ]
     },
     "execution_count": 24,
     "metadata": {},
     "output_type": "execute_result"
    }
   ],
   "source": [
    "# Let's look as the length of of time series\n",
    "df['date'].min(), df['date'].max()"
   ]
  },
  {
   "cell_type": "markdown",
   "metadata": {},
   "source": [
    "Let's sort the df by `data` column that is the only time series."
   ]
  },
  {
   "cell_type": "code",
   "execution_count": 25,
   "metadata": {},
   "outputs": [],
   "source": [
    "df.sort_values(by='date', ascending=False, inplace=True)"
   ]
  },
  {
   "cell_type": "markdown",
   "metadata": {},
   "source": [
    "The rating is based on a popular scale from 1 the worst to 5 the best. Some rating values in rating columns are in between levels i.e. 1.5, 2.5, 3.5, or 4.5. We will correct these rating by lowering them one level. E.g. 1.5 to 1, 2.5 to 2. Note There is no 0.5 nor 5.5 ratings to be corrected."
   ]
  },
  {
   "cell_type": "code",
   "execution_count": 26,
   "metadata": {},
   "outputs": [],
   "source": [
    "rating_cols = [col for col in df.columns if col.startswith('r_')]"
   ]
  },
  {
   "cell_type": "code",
   "execution_count": 27,
   "metadata": {},
   "outputs": [],
   "source": [
    "# Rating values to Numeric\n",
    "for col in rating_cols:\n",
    "    df[col] = pd.to_numeric(df[col], downcast='unsigned')"
   ]
  },
  {
   "cell_type": "code",
   "execution_count": 28,
   "metadata": {},
   "outputs": [],
   "source": [
    "# Correct in between rating values to lower rating before\n",
    "def five_ratings_only(col):\n",
    "    for idx in col.value_counts().index:\n",
    "        col[col==idx] = int(float(idx))\n",
    "    return col\n",
    "\n",
    "for col in rating_cols:\n",
    "    df[col] = five_ratings_only(df[col])"
   ]
  },
  {
   "cell_type": "code",
   "execution_count": 29,
   "metadata": {},
   "outputs": [
    {
     "data": {
      "text/html": [
       "<div>\n",
       "<style scoped>\n",
       "    .dataframe tbody tr th:only-of-type {\n",
       "        vertical-align: middle;\n",
       "    }\n",
       "\n",
       "    .dataframe tbody tr th {\n",
       "        vertical-align: top;\n",
       "    }\n",
       "\n",
       "    .dataframe thead th {\n",
       "        text-align: right;\n",
       "    }\n",
       "</style>\n",
       "<table border=\"1\" class=\"dataframe\">\n",
       "  <thead>\n",
       "    <tr style=\"text-align: right;\">\n",
       "      <th></th>\n",
       "      <th>r_overall</th>\n",
       "      <th>r_work_balance</th>\n",
       "      <th>r_culture</th>\n",
       "      <th>r_career_opp</th>\n",
       "      <th>r_comp_benefit</th>\n",
       "      <th>r_senior_mangemnet</th>\n",
       "    </tr>\n",
       "  </thead>\n",
       "  <tbody>\n",
       "    <tr>\n",
       "      <th>6743</th>\n",
       "      <td>4</td>\n",
       "      <td>4.0</td>\n",
       "      <td>4.0</td>\n",
       "      <td>4.0</td>\n",
       "      <td>4.0</td>\n",
       "      <td>4.0</td>\n",
       "    </tr>\n",
       "    <tr>\n",
       "      <th>5645</th>\n",
       "      <td>5</td>\n",
       "      <td>4.0</td>\n",
       "      <td>5.0</td>\n",
       "      <td>5.0</td>\n",
       "      <td>5.0</td>\n",
       "      <td>5.0</td>\n",
       "    </tr>\n",
       "    <tr>\n",
       "      <th>42221</th>\n",
       "      <td>3</td>\n",
       "      <td>3.0</td>\n",
       "      <td>3.0</td>\n",
       "      <td>3.0</td>\n",
       "      <td>3.0</td>\n",
       "      <td>3.0</td>\n",
       "    </tr>\n",
       "    <tr>\n",
       "      <th>53708</th>\n",
       "      <td>5</td>\n",
       "      <td>2.0</td>\n",
       "      <td>3.0</td>\n",
       "      <td>2.0</td>\n",
       "      <td>5.0</td>\n",
       "      <td>1.0</td>\n",
       "    </tr>\n",
       "    <tr>\n",
       "      <th>24269</th>\n",
       "      <td>5</td>\n",
       "      <td>4.0</td>\n",
       "      <td>4.0</td>\n",
       "      <td>5.0</td>\n",
       "      <td>4.0</td>\n",
       "      <td>4.0</td>\n",
       "    </tr>\n",
       "  </tbody>\n",
       "</table>\n",
       "</div>"
      ],
      "text/plain": [
       "       r_overall  r_work_balance  r_culture  r_career_opp  r_comp_benefit  r_senior_mangemnet\n",
       "6743           4             4.0        4.0           4.0             4.0                 4.0\n",
       "5645           5             4.0        5.0           5.0             5.0                 5.0\n",
       "42221          3             3.0        3.0           3.0             3.0                 3.0\n",
       "53708          5             2.0        3.0           2.0             5.0                 1.0\n",
       "24269          5             4.0        4.0           5.0             4.0                 4.0"
      ]
     },
     "execution_count": 29,
     "metadata": {},
     "output_type": "execute_result"
    }
   ],
   "source": [
    "# Test\n",
    "df[rating_cols].sample(5)"
   ]
  },
  {
   "cell_type": "markdown",
   "metadata": {},
   "source": [
    "### Data Cleaning: Missing Values\n",
    " - Cleaning Missing Values\n",
    " - Plotting Missing Values' Counts"
   ]
  },
  {
   "cell_type": "code",
   "execution_count": 30,
   "metadata": {},
   "outputs": [],
   "source": [
    "def plot_missings(df, figsize=two_in_row):\n",
    "    \n",
    "    fig, ax = plt.subplots(figsize=figsize)\n",
    "    sns.set(style='ticks', palette='pastel')\n",
    "    color = sns.color_palette()[3]\n",
    "    \n",
    "    x = df.isnull().sum().index.values\n",
    "    y = df.isnull().sum()\n",
    "    sns.barplot(x, y, color=color, ax=ax)\n",
    "    locs, labels = plt.xticks(rotation=90)\n",
    "    for loc, label, missings, in zip(locs, labels, y):\n",
    "        if not missings:\n",
    "            ax.text(loc, 0, 'None', rotation=0, va='bottom', ha='center')\n",
    "        else:\n",
    "            ax.text(loc, missings, missings, rotation=0, va='bottom', ha='center')\n",
    "\n",
    "    ax.set(title='Missing Value Counts in all Columns', xlabel='Columns', ylabel='Counts')\n",
    "    sns.despine() # remove the top and right borders"
   ]
  },
  {
   "cell_type": "code",
   "execution_count": 31,
   "metadata": {},
   "outputs": [
    {
     "data": {
      "image/png": "[encoded data removed]",
      "text/plain": [
       "<Figure size 864x432 with 1 Axes>"
      ]
     },
     "metadata": {
      "needs_background": "light"
     },
     "output_type": "display_data"
    }
   ],
   "source": [
    "plot_missings(df)"
   ]
  },
  {
   "cell_type": "code",
   "execution_count": 32,
   "metadata": {},
   "outputs": [],
   "source": [
    "## Replace missing "
   ]
  },
  {
   "cell_type": "markdown",
   "metadata": {},
   "source": [
    "- Fortunatly we have no missing values in overall-rating.\n",
    "- After reviewing some of the reviews with missing values, in the mean time it doesn't seem we should drop any review. "
   ]
  },
  {
   "cell_type": "code",
   "execution_count": 33,
   "metadata": {},
   "outputs": [
    {
     "data": {
      "text/html": [
       "<div>\n",
       "<style scoped>\n",
       "    .dataframe tbody tr th:only-of-type {\n",
       "        vertical-align: middle;\n",
       "    }\n",
       "\n",
       "    .dataframe tbody tr th {\n",
       "        vertical-align: top;\n",
       "    }\n",
       "\n",
       "    .dataframe thead th {\n",
       "        text-align: right;\n",
       "    }\n",
       "</style>\n",
       "<table border=\"1\" class=\"dataframe\">\n",
       "  <thead>\n",
       "    <tr style=\"text-align: right;\">\n",
       "      <th></th>\n",
       "      <th>company</th>\n",
       "      <th>date</th>\n",
       "      <th>summary</th>\n",
       "      <th>pros</th>\n",
       "      <th>cons</th>\n",
       "      <th>advice_to_mgmt</th>\n",
       "      <th>r_overall</th>\n",
       "      <th>r_work_balance</th>\n",
       "      <th>r_culture</th>\n",
       "      <th>r_career_opp</th>\n",
       "      <th>r_comp_benefit</th>\n",
       "      <th>r_senior_mangemnet</th>\n",
       "      <th>helpful_count</th>\n",
       "      <th>city</th>\n",
       "      <th>state</th>\n",
       "      <th>country</th>\n",
       "      <th>current_emp</th>\n",
       "      <th>job_title</th>\n",
       "      <th>anonymous</th>\n",
       "    </tr>\n",
       "  </thead>\n",
       "  <tbody>\n",
       "    <tr>\n",
       "      <th>42755</th>\n",
       "      <td>apple</td>\n",
       "      <td>2015-07-27</td>\n",
       "      <td>a great place</td>\n",
       "      <td>everything is awesome!!</td>\n",
       "      <td>NaN</td>\n",
       "      <td>NaN</td>\n",
       "      <td>4</td>\n",
       "      <td>5.0</td>\n",
       "      <td>5.0</td>\n",
       "      <td>5.0</td>\n",
       "      <td>5.0</td>\n",
       "      <td>5.0</td>\n",
       "      <td>0</td>\n",
       "      <td>Charlotte</td>\n",
       "      <td>NC</td>\n",
       "      <td>USA</td>\n",
       "      <td>True</td>\n",
       "      <td>NaN</td>\n",
       "      <td>True</td>\n",
       "    </tr>\n",
       "  </tbody>\n",
       "</table>\n",
       "</div>"
      ],
      "text/plain": [
       "      company       date        summary                     pros cons advice_to_mgmt  r_overall  r_work_balance  r_culture  r_career_opp  r_comp_benefit  r_senior_mangemnet  helpful_count       city state country  current_emp job_title  anonymous\n",
       "42755   apple 2015-07-27  a great place  everything is awesome!!  NaN            NaN          4             5.0        5.0           5.0             5.0                 5.0              0  Charlotte    NC     USA         True       NaN       True"
      ]
     },
     "execution_count": 33,
     "metadata": {},
     "output_type": "execute_result"
    }
   ],
   "source": [
    "#looking at one review with missing `cons` comment.\n",
    "df[df.cons.isnull()]"
   ]
  },
  {
   "cell_type": "markdown",
   "metadata": {},
   "source": [
    "end of cleaning data\n",
    "___"
   ]
  },
  {
   "cell_type": "markdown",
   "metadata": {},
   "source": [
    "## Univariate Explorations"
   ]
  },
  {
   "cell_type": "code",
   "execution_count": 34,
   "metadata": {},
   "outputs": [],
   "source": [
    "def plot_cat_counts(data, x):\n",
    "    plt.figure(figsize=two_in_row)\n",
    "\n",
    "    plt.subplot(1,2,1)\n",
    "    sns.countplot(data=data, y=x, color=bcolor)\n",
    "    plt.xticks(rotation=0)\n",
    "    plt.ylabel('')\n",
    "    plt.xlabel('Review Counts')\n",
    "    sns.despine() # remove the top and right borders\n",
    "\n",
    "\n",
    "    plt.subplot(1,2,2)\n",
    "    sorted_counts = data[x].value_counts()\n",
    "    labels = sorted_counts.index\n",
    "\n",
    "    plt.pie(sorted_counts, labels=None, \n",
    "            startangle=90, counterclock=False, wedgeprops = {'width' : 0.35})\n",
    "    plt.axis('square')\n",
    "\n",
    "    plt.legend(labels,\n",
    "              title=\"Companies in Raw Dataset\",\n",
    "              loc=\"top left\",\n",
    "              bbox_to_anchor=(1, 0, .25, 1));"
   ]
  },
  {
   "cell_type": "code",
   "execution_count": 35,
   "metadata": {},
   "outputs": [
    {
     "data": {
      "image/png": "[encoded data removed]",
      "text/plain": [
       "<Figure size 864x432 with 2 Axes>"
      ]
     },
     "metadata": {},
     "output_type": "display_data"
    }
   ],
   "source": [
    "plot_cat_counts(df_raw, 'company')"
   ]
  },
  {
   "cell_type": "code",
   "execution_count": 36,
   "metadata": {},
   "outputs": [
    {
     "data": {
      "image/png": "[encoded data removed]",
      "text/plain": [
       "<Figure size 1080x360 with 2 Axes>"
      ]
     },
     "metadata": {},
     "output_type": "display_data"
    }
   ],
   "source": [
    "plt.figure(figsize=(15, 5))\n",
    "\n",
    "\n",
    "plt.subplot(1,2,1)\n",
    "employees = df['current_emp'].value_counts()\n",
    "plt.pie(employees, labels=['Current Employees', 'Past Employees'],\n",
    "        startangle=90, counterclock=False, wedgeprops = {'width' : 0.35})\n",
    "plt.axis('square')\n",
    "\n",
    "\n",
    "plt.subplot(1,2,2)\n",
    "employees = df['anonymous'].value_counts()\n",
    "plt.pie(employees, labels=['Anonymous Employees', 'Self Identified Employees'],\n",
    "        startangle=90, counterclock=False, wedgeprops = {'width' : 0.35})\n",
    "plt.axis('square');"
   ]
  },
  {
   "cell_type": "markdown",
   "metadata": {},
   "source": [
    "#### Yearly number of reviews distribution"
   ]
  },
  {
   "cell_type": "code",
   "execution_count": 60,
   "metadata": {},
   "outputs": [
    {
     "data": {
      "image/png": "[encoded data removed]",
      "text/plain": [
       "<Figure size 432x288 with 1 Axes>"
      ]
     },
     "metadata": {},
     "output_type": "display_data"
    }
   ],
   "source": [
    "yearly = df.groupby(df['date'].dt.year).size()\n",
    "positions = yearly.index\n",
    "plt.bar(positions, yearly.values);"
   ]
  },
  {
   "cell_type": "code",
   "execution_count": 61,
   "metadata": {},
   "outputs": [
    {
     "data": {
      "text/plain": [
       "date\n",
       "2017.0    0.2084\n",
       "2018.0    0.4110\n",
       "2016.0    0.5811\n",
       "2015.0    0.7313\n",
       "2014.0    0.8193\n",
       "2013.0    0.8764\n",
       "2012.0    0.9240\n",
       "2011.0    0.9493\n",
       "2008.0    0.9695\n",
       "2010.0    0.9862\n",
       "2009.0    1.0000\n",
       "dtype: float64"
      ]
     },
     "execution_count": 61,
     "metadata": {},
     "output_type": "execute_result"
    }
   ],
   "source": [
    "yearly.sort_values(ascending=False).cumsum()/yearly.sum()"
   ]
  },
  {
   "cell_type": "markdown",
   "metadata": {},
   "source": [
    "- The majority of reviews, more than 73%, in out dataset are fairly recent within the last 4 years."
   ]
  },
  {
   "cell_type": "markdown",
   "metadata": {},
   "source": [
    "We will first look at the overall reviews rating distributions with an eye on differences between current and past employees."
   ]
  },
  {
   "cell_type": "code",
   "execution_count": 62,
   "metadata": {},
   "outputs": [
    {
     "data": {
      "image/png": "[encoded data removed]",
      "text/plain": [
       "<Figure size 1080x360 with 1 Axes>"
      ]
     },
     "metadata": {},
     "output_type": "display_data"
    }
   ],
   "source": [
    "# Create the figure and axes and get access to them\n",
    "fig, ax = plt.subplots(figsize=(15, 5))\n",
    "\n",
    "# Figure's Title\n",
    "fig.suptitle('Employees\\' Overall Ratings\\' Distributions', fontsize=14, fontweight='bold')\n",
    "\n",
    "color = sns.color_palette()[1]\n",
    "\n",
    "x = 'r_overall'\n",
    "hue = 'current_emp'\n",
    "sns.countplot(ax=ax, data=df, x=x, hue=hue, color=color)\n",
    "\n",
    "ax.set(title='1 Star to 5 Stars')\n",
    "ax.legend(['Past Employees', 'Current Employees'])\n",
    "ax.set_axis_off()\n",
    "\n",
    "locs = ax.get_xticks()\n",
    "labels = ax.get_xlabel()\n",
    "\n",
    "counts = list(df.r_overall.value_counts(normalize=True).iloc[::-1])\n",
    "for loc, lable, count in zip(locs, labels, counts):\n",
    "\n",
    "    text = '{:0.0f}%'.format(100*count)\n",
    "    ax.text(loc, 0, text, color='black', va='top', ha='center', fontsize=14)"
   ]
  },
  {
   "cell_type": "code",
   "execution_count": 67,
   "metadata": {},
   "outputs": [
    {
     "data": {
      "image/png": "[encoded data removed]",
      "text/plain": [
       "<Figure size 864x432 with 2 Axes>"
      ]
     },
     "metadata": {},
     "output_type": "display_data"
    }
   ],
   "source": [
    "plot_cat_counts(df, 'current_emp')"
   ]
  },
  {
   "cell_type": "code",
   "execution_count": 68,
   "metadata": {},
   "outputs": [
    {
     "data": {
      "image/png": "[encoded data removed]",
      "text/plain": [
       "<Figure size 864x432 with 2 Axes>"
      ]
     },
     "metadata": {},
     "output_type": "display_data"
    }
   ],
   "source": [
    "plot_cat_counts(df, 'anonymous')"
   ]
  },
  {
   "cell_type": "code",
   "execution_count": 69,
   "metadata": {},
   "outputs": [],
   "source": [
    "#TODO: Create two side by side donut plots with 3 wedges depicting \n",
    "# overal ratings of past & current employees in 3 Categorical groups\n",
    "# Happy Employees consisting of 4 and 5 star reviews\n",
    "# Neutral Employees consisting of only 3 starreviews\n",
    "# Unhappy Employees consisting of 1 and 2 reviews"
   ]
  },
  {
   "cell_type": "markdown",
   "metadata": {},
   "source": [
    "**Observation:** \n",
    " - This plot shows unhappy past employees were more inclined to leave a low review than current employees.\n",
    " - We can see the current/past ratio increases as rating stars increeases. \n",
    " - Happier current employees are leaving higher rating reviews maybe to show their appreciation.\n",
    " - Uphappier past employees are leaving lower rating reviews maybe to be heard!\n",
    " ___"
   ]
  },
  {
   "cell_type": "markdown",
   "metadata": {},
   "source": [
    "#### Distributions of Reviews over time\n",
    "#### Calculate Review Age Multiplier\n",
    "#### New Col - Rating * TimeMultiplier"
   ]
  },
  {
   "cell_type": "code",
   "execution_count": 70,
   "metadata": {},
   "outputs": [],
   "source": [
    "###\n",
    "# Visualize number of reviews over each month in our dataset\n",
    "# Visualize average of a rating over each year\n",
    "dt = df['date'].values\n",
    "# type(dt.values)\n",
    "df['year'], df['month'] = df['date'].dt.year, df['date'].dt.month\n",
    "\n",
    "df.groupby('year').size()\n",
    "d = df[df['year']>=2014]"
   ]
  },
  {
   "cell_type": "markdown",
   "metadata": {},
   "source": [
    "____"
   ]
  },
  {
   "cell_type": "markdown",
   "metadata": {},
   "source": [
    "### Side by Side Distribution of All Ratings Groups"
   ]
  },
  {
   "cell_type": "code",
   "execution_count": 71,
   "metadata": {},
   "outputs": [
    {
     "data": {
      "image/png": "[encoded data removed]",
      "text/plain": [
       "<Figure size 1440x360 with 6 Axes>"
      ]
     },
     "metadata": {},
     "output_type": "display_data"
    }
   ],
   "source": [
    "fig, (ax0, ax1, ax2, ax3, ax4, ax5) = plt.subplots(nrows=1, ncols=6, sharey=True, figsize=(20, 5))\n",
    "\n",
    "# fig.suptitle('Distribution of all 5 Employees\\' Ratings Groups', fontsize=22, fontweight='bold')\n",
    "\n",
    "plt.rcParams.update({'font.size': 14})\n",
    "\n",
    "color = sns.color_palette()[2]\n",
    "xticks=[1, 2, 3, 4, 5]\n",
    "\n",
    "sns.countplot(ax=ax0, data=df, x=df['r_overall'], color=color, order=xticks)\n",
    "\n",
    "color = sns.color_palette()[6]\n",
    "sns.countplot(ax=ax1, data=df, x=df['r_career_opp'], color=color, order=xticks)\n",
    "sns.countplot(ax=ax2, data=df, x=df['r_culture'], color=color, order=xticks)\n",
    "sns.countplot(ax=ax3, data=df, x=df['r_comp_benefit'], color=color, order=xticks)\n",
    "sns.countplot(ax=ax4, data=df, x=df['r_work_balance'], color=color, order=xticks)\n",
    "sns.countplot(ax=ax5, data=df, x=df['r_senior_mangemnet'], color=color, order=xticks)\n",
    "\n",
    "mean = '{:0.2f}'.format(df['r_overall'].mean())\n",
    "ax0.set(title='Overall Rating', xlabel=mean, ylabel='Counts')\n",
    "\n",
    "mean = '{:0.2f}'.format(df['r_career_opp'].mean())\n",
    "ax1.set(title='Career Opportunity', xlabel=mean, ylabel='')\n",
    "\n",
    "mean = '{:0.2f}'.format(df['r_culture'].mean())\n",
    "ax2.set(title='Culture & Values', xlabel=mean, ylabel='')\n",
    "\n",
    "mean = '{:0.2f}'.format(df['r_comp_benefit'].mean())\n",
    "ax3.set(title='Pay', xlabel=mean, ylabel='')\n",
    "\n",
    "mean = '{:0.2f}'.format(df['r_work_balance'].mean())\n",
    "ax4.set(title='WorkLife Balance', xlabel=mean, ylabel='')\n",
    "\n",
    "mean = '{:0.2f}'.format(df['r_senior_mangemnet'].mean())\n",
    "ax5.set(title='Sr. Mangemnet', xlabel=mean, ylabel='');\n",
    "\n",
    "# TODO: Print percentage of each bar on each bar on it."
   ]
  },
  {
   "cell_type": "markdown",
   "metadata": {},
   "source": [
    "**Findings Here:**\n",
    "- The average (mean) ratings for each category (of rating) are very close. (with a sd of 0.11) \n",
    "- Overall Rating seems to best follow employees hapiness (rating) with Compensation and Benefits. \n",
    "- Can we say Work Life Balance chart shows employees favor less time at work!?\n",
    "___"
   ]
  },
  {
   "cell_type": "markdown",
   "metadata": {},
   "source": [
    "### Helpful_Count Column Distribution\n",
    "\n",
    "This is the only numeric feature that comes with our dataset. Let's take a look at it's distribution"
   ]
  },
  {
   "cell_type": "code",
   "execution_count": 72,
   "metadata": {},
   "outputs": [
    {
     "data": {
      "image/png": "[encoded data removed]",
      "text/plain": [
       "<Figure size 432x288 with 1 Axes>"
      ]
     },
     "metadata": {},
     "output_type": "display_data"
    }
   ],
   "source": [
    "# plt.figure(figsize=(7.5, 5))\n",
    "plt.hist(data=df, x='helpful_count', bins=100);"
   ]
  },
  {
   "cell_type": "markdown",
   "metadata": {},
   "source": [
    "Our first histogram shows exterem Outliers exist."
   ]
  },
  {
   "cell_type": "code",
   "execution_count": 73,
   "metadata": {},
   "outputs": [],
   "source": [
    "def hist_magnifier(df, x, xlim1, xlim2, binsize):\n",
    "    plt.hist(data=df, x=x, bins=np.arange(xlim1, xlim2+binsize, binsize))\n",
    "    plt.xlim(xlim1, xlim2);"
   ]
  },
  {
   "cell_type": "code",
   "execution_count": 74,
   "metadata": {},
   "outputs": [
    {
     "data": {
      "image/png": "[encoded data removed]",
      "text/plain": [
       "<Figure size 1296x288 with 3 Axes>"
      ]
     },
     "metadata": {},
     "output_type": "display_data"
    }
   ],
   "source": [
    "plt.figure(figsize=(18, 4))\n",
    "\n",
    "plt.subplot(1, 3, 1)\n",
    "hist_magnifier(df, df['helpful_count'], 0, 11, 1)\n",
    "\n",
    "plt.subplot(1, 3, 2)\n",
    "hist_magnifier(df, df['helpful_count'], 11, 100, 10)\n",
    "\n",
    "plt.subplot(1, 3, 3)\n",
    "hist_magnifier(df, df['helpful_count'], 100, df['helpful_count'].max()+100, 100)"
   ]
  },
  {
   "cell_type": "code",
   "execution_count": 75,
   "metadata": {},
   "outputs": [
    {
     "data": {
      "text/plain": [
       "0    0.6666\n",
       "1    0.8223\n",
       "2    0.8884\n",
       "3    0.9235\n",
       "4    0.9441\n",
       "Name: helpful_count, dtype: float64"
      ]
     },
     "execution_count": 75,
     "metadata": {},
     "output_type": "execute_result"
    }
   ],
   "source": [
    "cum_hist = df['helpful_count'].value_counts(normalize=True).cumsum()\n",
    "cum_hist[cum_hist<0.95]"
   ]
  },
  {
   "cell_type": "markdown",
   "metadata": {},
   "source": [
    "end of Univariate Explorations\n",
    "____"
   ]
  },
  {
   "cell_type": "markdown",
   "metadata": {},
   "source": [
    "## Bivariate Explorations"
   ]
  },
  {
   "cell_type": "code",
   "execution_count": 76,
   "metadata": {},
   "outputs": [],
   "source": [
    "def ratings_trend(df=df, rating_cols=rating_cols):\n",
    "    plt.figure(figsize=(10, 10))\n",
    "\n",
    "    colors = ['', 'grey', 'blue', 'green', 'red', 'brown']\n",
    "    ypos = 4.25\n",
    "    for rating_col, color in zip(rating_cols, colors):\n",
    "        if rating_col != 'r_overall':\n",
    "            sns.pointplot(data=df, x='r_overall', y=rating_col, color=color)\n",
    "            plt.text(0.5, ypos, str(rating_col), color=color)\n",
    "            ypos += 0.15\n",
    "\n",
    "    plt.ylim(1, 5)\n",
    "    plt.grid()\n",
    "    plt.xlabel('Overall Companys\\` Rating')\n",
    "    plt.ylabel('Average rating of each sub-category rating vs. for each 5 ratings of overall-rating');"
   ]
  },
  {
   "cell_type": "code",
   "execution_count": 77,
   "metadata": {},
   "outputs": [
    {
     "data": {
      "image/png": "[encoded data removed]",
      "text/plain": [
       "<Figure size 720x720 with 1 Axes>"
      ]
     },
     "metadata": {},
     "output_type": "display_data"
    }
   ],
   "source": [
    "ratings_trend(df)"
   ]
  },
  {
   "cell_type": "markdown",
   "metadata": {},
   "source": [
    "- Employees given overall 4 or 5 Stars also on average given highest ratings to culture and values.\n",
    "- - Happiest were most happy of culture ot they thoughtthet did!\n",
    "- Unhappiest employees, those given overall 1 or 2 Stars rating, were most uphappy with Culture and Values of the company and least unhappy about thier pay.\n",
    "- "
   ]
  },
  {
   "cell_type": "markdown",
   "metadata": {},
   "source": [
    "end of bivariate explorations\n",
    "___"
   ]
  },
  {
   "cell_type": "markdown",
   "metadata": {},
   "source": [
    "## Feature Engineering\n",
    "\n",
    "Create new feature for the length of the review.\n",
    "Create new feature for the word count of the review."
   ]
  },
  {
   "cell_type": "code",
   "execution_count": 78,
   "metadata": {},
   "outputs": [],
   "source": [
    "# Clean Review Text Columns\n",
    "text_cols = ['summary', 'pros', 'cons', 'advice_to_mgmt']\n",
    "\n",
    "df['comments_wordcount'] = 0\n",
    "for col in text_cols:\n",
    "    df['comments_wordcount'] += df[col].astype(str).apply(lambda text: len(text.split()))"
   ]
  },
  {
   "cell_type": "code",
   "execution_count": 79,
   "metadata": {},
   "outputs": [
    {
     "data": {
      "text/plain": [
       "count    67529.0000\n",
       "mean        69.6084\n",
       "std         90.1581\n",
       "min          8.0000\n",
       "25%         23.0000\n",
       "50%         42.0000\n",
       "75%         82.0000\n",
       "max       3726.0000\n",
       "Name: comments_wordcount, dtype: float64"
      ]
     },
     "execution_count": 79,
     "metadata": {},
     "output_type": "execute_result"
    }
   ],
   "source": [
    "df['comments_wordcount'].describe()"
   ]
  },
  {
   "cell_type": "code",
   "execution_count": 80,
   "metadata": {},
   "outputs": [],
   "source": [
    "df['review_days'] = pd.to_numeric((pd.datetime.today() - df['date']).dt.days)"
   ]
  },
  {
   "cell_type": "code",
   "execution_count": 81,
   "metadata": {},
   "outputs": [
    {
     "data": {
      "image/png": "[encoded data removed]",
      "text/plain": [
       "<Figure size 432x288 with 1 Axes>"
      ]
     },
     "metadata": {},
     "output_type": "display_data"
    }
   ],
   "source": [
    "# sns.distplot(df['review_age_int'], n)\n",
    "plt.hist(df['review_days']);"
   ]
  },
  {
   "cell_type": "markdown",
   "metadata": {},
   "source": [
    "### Time Factor\n",
    "We should always remember that Companies are made with people and like other living things are constantly evolving, experiemnting, learning from thier mistakes, and changing. Time of each review is an snapshot of a company from the perspective of someone who is part of this living whole. A review or general take of an employee is shaped by his/her experiances, met current and past expectations, thier own personal values  and future hopes both for themselves and the comapny.\n",
    "\n",
    "Therefore a recent review given last month must have a much higher weight than a review of 5 years ago. To take this into consideration we define a new feature `timefactor` that is from (0 to 1). 1 for a review left today and 0 zero for a review left 5 years (1826 days) or beyond.\n",
    "\n",
    "This is a linear weight system we choose to use; Perhaps it is not  the most optimal but we it should be practical enough for our dataset for initial experiemnts. "
   ]
  },
  {
   "cell_type": "code",
   "execution_count": 82,
   "metadata": {},
   "outputs": [],
   "source": [
    "max_days = 5 * 364.25 \n",
    "df['time_factor'] = df['review_days'].apply(lambda x: 1 - x/max_days if x < max_days else 0.0)"
   ]
  },
  {
   "cell_type": "markdown",
   "metadata": {},
   "source": [
    "### Reviewer Care Factor\n",
    "\n",
    "In real life we pay attention when someone cares and pays attention to a subject giving detailed and possibly passionate feed back on subject than short quick answers. We want ot take this fact in consideration in this data set. someone leaving a detailed review summary, pros and cons points and advise for management with about 1000 words deserve more weight (attention) than a partial quick review with 20 words. To measure this we make a new feature `carefactor` based on the overall length of the different part s of the review. "
   ]
  },
  {
   "cell_type": "markdown",
   "metadata": {},
   "source": [
    "#### Distribution of Review Word Counts"
   ]
  },
  {
   "cell_type": "code",
   "execution_count": 83,
   "metadata": {},
   "outputs": [],
   "source": [
    "def distplot_closelook(col, **kwarg):\n",
    "    \"\"\"\"\"\"\n",
    "    \n",
    "    fig, ax0 = plt.subplots(1, 1, figsize=(20, 2))\n",
    "    sns.boxenplot(df['comments_wordcount'], color=bcolor)\n",
    "    \n",
    "    ax0.set_xlabel(f'All {len(col)} observations')\n",
    "\n",
    "    \n",
    "#     quantiles = ['Min-25%', '25%-50%', '50%-75%', '75%-Max']\n",
    "#     qgroups = pd.qcut(df.comments_wordcount, 4, labels=quantiles)\n",
    "#     qgroups[qgroups=='Min-25%'].shape, qgroups[qgroups=='25%-50%'].shape\n",
    "    \n",
    "    fig, (ax0, ax1) = plt.subplots(1, 2, figsize=(20, 2))\n",
    "    sns.boxplot(col, ax=ax0, **kwarg)\n",
    "    ax0.set_xlim(0, np.percentile(col, 25))\n",
    "    ax0.set_xlabel(f'Bottom (left) 25% Distribution')\n",
    "\n",
    "    \n",
    "    sns.boxplot(col, ax=ax1, **kwarg)\n",
    "    ax1.set_xlim(np.percentile(col, 75), col.max())\n",
    "    ax1.set_xlabel(f'Top (right) 25% Distribution')\n",
    "    "
   ]
  },
  {
   "cell_type": "code",
   "execution_count": 84,
   "metadata": {},
   "outputs": [
    {
     "name": "stderr",
     "output_type": "stream",
     "text": [
      "'c' argument looks like a single numeric RGB or RGBA sequence, which should be avoided as value-mapping will have precedence in case its length matches with 'x' & 'y'.  Please use a 2-D array with a single row if you really want to specify the same RGB or RGBA value for all points.\n"
     ]
    },
    {
     "data": {
      "text/plain": [
       "count    67529.0000\n",
       "mean        69.6084\n",
       "std         90.1581\n",
       "min          8.0000\n",
       "25%         23.0000\n",
       "50%         42.0000\n",
       "75%         82.0000\n",
       "max       3726.0000\n",
       "Name: comments_wordcount, dtype: float64"
      ]
     },
     "execution_count": 84,
     "metadata": {},
     "output_type": "execute_result"
    },
    {
     "data": {
      "image/png": "[encoded data removed]",
      "text/plain": [
       "<Figure size 1440x144 with 1 Axes>"
      ]
     },
     "metadata": {},
     "output_type": "display_data"
    },
    {
     "data": {
      "image/png": "[encoded data removed]",
      "text/plain": [
       "<Figure size 1440x144 with 2 Axes>"
      ]
     },
     "metadata": {},
     "output_type": "display_data"
    }
   ],
   "source": [
    "distplot_closelook(df['comments_wordcount'])\n",
    "df.comments_wordcount.describe()"
   ]
  },
  {
   "cell_type": "markdown",
   "metadata": {},
   "source": [
    "I think boxen plot works great showing spread of exterem outliers in large distributions. This boxen plot shows\n",
    "- An review with more than 3500 words in its comments and a couple of reviews arounf 2250.\n",
    "- There are exterem outliers with more than 1000 words."
   ]
  },
  {
   "cell_type": "markdown",
   "metadata": {},
   "source": [
    "### Review Score\n",
    "- Helpful Count\n",
    "- Overall Rating\n",
    "- - This column has no missing values in our dataset and also based on the practical close means and very small sd of all categories of ratings, it makes the best rating for making our review score\n",
    "- Time Factor\n"
   ]
  },
  {
   "cell_type": "code",
   "execution_count": 85,
   "metadata": {},
   "outputs": [],
   "source": [
    "def preprocess(col):\n",
    "    col = col.str.replace(\"(<br/>)\", \"\")\n",
    "    col = col.str.replace('(<a).*(>).*(</a>)', '')\n",
    "    col = col.str.replace('(&amp)', '')\n",
    "    col = col.str.replace('(&gt)', '')\n",
    "    col = col.str.replace('(&lt)', '')\n",
    "    col = col.str.replace('(\\xa0)', ' ')  \n",
    "    return col\n",
    "\n",
    "for col in text_cols:\n",
    "    df[col] = preprocess(df[col])"
   ]
  },
  {
   "cell_type": "code",
   "execution_count": 86,
   "metadata": {},
   "outputs": [],
   "source": [
    "from textblob import TextBlob\n",
    "\n",
    "\n",
    "for col in text_cols:\n",
    "    df[f'sentiment_{col}'] = df[col].map(lambda x: 0.0 if pd.isnull(x) else TextBlob(x).sentiment.polarity)\n",
    "\n",
    "# df['review_len'] = df['Review Text'].astype(str).apply(len)\n",
    "# df['word_count'] = df['Review Text'].apply(lambda x: len(str(x).split()))"
   ]
  },
  {
   "cell_type": "code",
   "execution_count": 87,
   "metadata": {},
   "outputs": [
    {
     "data": {
      "text/plain": [
       "['sentiment_summary',\n",
       " 'sentiment_pros',\n",
       " 'sentiment_cons',\n",
       " 'sentiment_advice_to_mgmt']"
      ]
     },
     "execution_count": 87,
     "metadata": {},
     "output_type": "execute_result"
    }
   ],
   "source": [
    "sentiment_cols = [col for col in df.columns if col.startswith('sentiment')]\n",
    "sentiment_cols"
   ]
  },
  {
   "cell_type": "code",
   "execution_count": 88,
   "metadata": {},
   "outputs": [],
   "source": [
    "df['sentiment_total'] = 0\n",
    "for col in sentiment_cols:\n",
    "    df['sentiment_total'] += df[col]\n",
    "df['sentiment_total'] = df['sentiment_total'] / 4"
   ]
  },
  {
   "cell_type": "code",
   "execution_count": 89,
   "metadata": {},
   "outputs": [
    {
     "data": {
      "text/plain": [
       "['sentiment_summary',\n",
       " 'sentiment_pros',\n",
       " 'sentiment_cons',\n",
       " 'sentiment_advice_to_mgmt']"
      ]
     },
     "execution_count": 89,
     "metadata": {},
     "output_type": "execute_result"
    }
   ],
   "source": [
    "sentiment_cols"
   ]
  },
  {
   "cell_type": "code",
   "execution_count": 90,
   "metadata": {},
   "outputs": [
    {
     "data": {
      "text/plain": [
       "count    67529.0000\n",
       "mean         0.2043\n",
       "std          0.1583\n",
       "min         -0.8500\n",
       "25%          0.1000\n",
       "50%          0.1975\n",
       "75%          0.3094\n",
       "max          1.0000\n",
       "Name: sentiment_total, dtype: float64"
      ]
     },
     "execution_count": 90,
     "metadata": {},
     "output_type": "execute_result"
    },
    {
     "data": {
      "image/png": "[encoded data removed]",
      "text/plain": [
       "<Figure size 432x288 with 1 Axes>"
      ]
     },
     "metadata": {},
     "output_type": "display_data"
    }
   ],
   "source": [
    "## our newly engineered total sentiment feature shows a normal distribution\n",
    "plt.hist(df.sentiment_total, bins=30);\n",
    "df.sentiment_total.describe()"
   ]
  },
  {
   "cell_type": "code",
   "execution_count": 91,
   "metadata": {},
   "outputs": [
    {
     "data": {
      "image/png": "[encoded data removed]",
      "text/plain": [
       "<Figure size 432x288 with 1 Axes>"
      ]
     },
     "metadata": {},
     "output_type": "display_data"
    }
   ],
   "source": [
    "## our newly engineered total sentiment feature shows a normal distribution\n",
    "## past and curren employyes\n",
    "plt.hist(df.sentiment_total[ df.current_emp], bins=30);\n",
    "plt.hist(df.sentiment_total[~df.current_emp], bins=30);"
   ]
  },
  {
   "cell_type": "markdown",
   "metadata": {},
   "source": [
    "**Finding:**"
   ]
  },
  {
   "cell_type": "markdown",
   "metadata": {},
   "source": [
    "#### Lets look at the review with highest sentiment_total"
   ]
  },
  {
   "cell_type": "code",
   "execution_count": 92,
   "metadata": {},
   "outputs": [
    {
     "data": {
      "text/html": [
       "<div>\n",
       "<style scoped>\n",
       "    .dataframe tbody tr th:only-of-type {\n",
       "        vertical-align: middle;\n",
       "    }\n",
       "\n",
       "    .dataframe tbody tr th {\n",
       "        vertical-align: top;\n",
       "    }\n",
       "\n",
       "    .dataframe thead th {\n",
       "        text-align: right;\n",
       "    }\n",
       "</style>\n",
       "<table border=\"1\" class=\"dataframe\">\n",
       "  <thead>\n",
       "    <tr style=\"text-align: right;\">\n",
       "      <th></th>\n",
       "      <th>company</th>\n",
       "      <th>date</th>\n",
       "      <th>summary</th>\n",
       "      <th>pros</th>\n",
       "      <th>cons</th>\n",
       "      <th>advice_to_mgmt</th>\n",
       "      <th>r_overall</th>\n",
       "      <th>r_work_balance</th>\n",
       "      <th>r_culture</th>\n",
       "      <th>r_career_opp</th>\n",
       "      <th>r_comp_benefit</th>\n",
       "      <th>r_senior_mangemnet</th>\n",
       "      <th>helpful_count</th>\n",
       "      <th>city</th>\n",
       "      <th>state</th>\n",
       "      <th>country</th>\n",
       "      <th>current_emp</th>\n",
       "      <th>job_title</th>\n",
       "      <th>anonymous</th>\n",
       "      <th>year</th>\n",
       "      <th>month</th>\n",
       "      <th>comments_wordcount</th>\n",
       "      <th>review_days</th>\n",
       "      <th>time_factor</th>\n",
       "      <th>sentiment_summary</th>\n",
       "      <th>sentiment_pros</th>\n",
       "      <th>sentiment_cons</th>\n",
       "      <th>sentiment_advice_to_mgmt</th>\n",
       "      <th>sentiment_total</th>\n",
       "    </tr>\n",
       "  </thead>\n",
       "  <tbody>\n",
       "    <tr>\n",
       "      <th>5224</th>\n",
       "      <td>google</td>\n",
       "      <td>2018-06-05</td>\n",
       "      <td>I think all perfect</td>\n",
       "      <td>This is the one of th...</td>\n",
       "      <td>One of the best person</td>\n",
       "      <td>No advice, totally pe...</td>\n",
       "      <td>5</td>\n",
       "      <td>NaN</td>\n",
       "      <td>NaN</td>\n",
       "      <td>NaN</td>\n",
       "      <td>NaN</td>\n",
       "      <td>NaN</td>\n",
       "      <td>0</td>\n",
       "      <td>NaN</td>\n",
       "      <td>NaN</td>\n",
       "      <td>NaN</td>\n",
       "      <td>True</td>\n",
       "      <td>NaN</td>\n",
       "      <td>True</td>\n",
       "      <td>2018.0</td>\n",
       "      <td>6.0</td>\n",
       "      <td>24</td>\n",
       "      <td>302.0</td>\n",
       "      <td>0.8342</td>\n",
       "      <td>1.0</td>\n",
       "      <td>1.0</td>\n",
       "      <td>1.0</td>\n",
       "      <td>1.0</td>\n",
       "      <td>1.0</td>\n",
       "    </tr>\n",
       "  </tbody>\n",
       "</table>\n",
       "</div>"
      ],
      "text/plain": [
       "     company       date              summary                      pros                    cons            advice_to_mgmt  r_overall  r_work_balance  r_culture  r_career_opp  r_comp_benefit  r_senior_mangemnet  helpful_count city state country  current_emp job_title  anonymous    year  month  comments_wordcount  review_days  time_factor  sentiment_summary  sentiment_pros  sentiment_cons  sentiment_advice_to_mgmt  sentiment_total\n",
       "5224  google 2018-06-05  I think all perfect  This is the one of th...  One of the best person  No advice, totally pe...          5             NaN        NaN           NaN             NaN                 NaN              0  NaN   NaN     NaN         True       NaN       True  2018.0    6.0                  24        302.0       0.8342                1.0             1.0             1.0                       1.0              1.0"
      ]
     },
     "execution_count": 92,
     "metadata": {},
     "output_type": "execute_result"
    }
   ],
   "source": [
    "happiest_employee = df[df['sentiment_total']==df['sentiment_total'].max()]\n",
    "happiest_employee"
   ]
  },
  {
   "cell_type": "code",
   "execution_count": 93,
   "metadata": {},
   "outputs": [
    {
     "name": "stdout",
     "output_type": "stream",
     "text": [
      "summary:\n",
      "I think all perfect\n",
      "\n",
      "pros:\n",
      "This is the one of the best company in the world\n",
      "\n",
      "cons:\n",
      "One of the best person\n",
      "\n",
      "advice_to_mgmt:\n",
      "No advice, totally perfect\n",
      "\n"
     ]
    }
   ],
   "source": [
    "for col in happiest_employee[text_cols]:\n",
    "    print(f'{col}:\\n{happiest_employee[col].values[0]}\\n')"
   ]
  },
  {
   "cell_type": "code",
   "execution_count": 94,
   "metadata": {},
   "outputs": [
    {
     "data": {
      "text/html": [
       "<div>\n",
       "<style scoped>\n",
       "    .dataframe tbody tr th:only-of-type {\n",
       "        vertical-align: middle;\n",
       "    }\n",
       "\n",
       "    .dataframe tbody tr th {\n",
       "        vertical-align: top;\n",
       "    }\n",
       "\n",
       "    .dataframe thead th {\n",
       "        text-align: right;\n",
       "    }\n",
       "</style>\n",
       "<table border=\"1\" class=\"dataframe\">\n",
       "  <thead>\n",
       "    <tr style=\"text-align: right;\">\n",
       "      <th></th>\n",
       "      <th>company</th>\n",
       "      <th>date</th>\n",
       "      <th>summary</th>\n",
       "      <th>pros</th>\n",
       "      <th>cons</th>\n",
       "      <th>advice_to_mgmt</th>\n",
       "      <th>r_overall</th>\n",
       "      <th>r_work_balance</th>\n",
       "      <th>r_culture</th>\n",
       "      <th>r_career_opp</th>\n",
       "      <th>r_comp_benefit</th>\n",
       "      <th>r_senior_mangemnet</th>\n",
       "      <th>helpful_count</th>\n",
       "      <th>city</th>\n",
       "      <th>state</th>\n",
       "      <th>country</th>\n",
       "      <th>current_emp</th>\n",
       "      <th>job_title</th>\n",
       "      <th>anonymous</th>\n",
       "      <th>year</th>\n",
       "      <th>month</th>\n",
       "      <th>comments_wordcount</th>\n",
       "      <th>review_days</th>\n",
       "      <th>time_factor</th>\n",
       "      <th>sentiment_summary</th>\n",
       "      <th>sentiment_pros</th>\n",
       "      <th>sentiment_cons</th>\n",
       "      <th>sentiment_advice_to_mgmt</th>\n",
       "      <th>sentiment_total</th>\n",
       "    </tr>\n",
       "  </thead>\n",
       "  <tbody>\n",
       "    <tr>\n",
       "      <th>28510</th>\n",
       "      <td>amazon</td>\n",
       "      <td>2018-02-22</td>\n",
       "      <td>Worst company do not ...</td>\n",
       "      <td>Hated every minute of...</td>\n",
       "      <td>Can't tell you how mu...</td>\n",
       "      <td>Hateful crazy people</td>\n",
       "      <td>1</td>\n",
       "      <td>1.0</td>\n",
       "      <td>1.0</td>\n",
       "      <td>1.0</td>\n",
       "      <td>1.0</td>\n",
       "      <td>1.0</td>\n",
       "      <td>0</td>\n",
       "      <td>NaN</td>\n",
       "      <td>NaN</td>\n",
       "      <td>NaN</td>\n",
       "      <td>False</td>\n",
       "      <td>NaN</td>\n",
       "      <td>True</td>\n",
       "      <td>2018.0</td>\n",
       "      <td>2.0</td>\n",
       "      <td>22</td>\n",
       "      <td>405.0</td>\n",
       "      <td>0.7776</td>\n",
       "      <td>-1.0</td>\n",
       "      <td>-0.9</td>\n",
       "      <td>-0.9</td>\n",
       "      <td>-0.6</td>\n",
       "      <td>-0.85</td>\n",
       "    </tr>\n",
       "  </tbody>\n",
       "</table>\n",
       "</div>"
      ],
      "text/plain": [
       "      company       date                   summary                      pros                      cons        advice_to_mgmt  r_overall  r_work_balance  r_culture  r_career_opp  r_comp_benefit  r_senior_mangemnet  helpful_count city state country  current_emp job_title  anonymous    year  month  comments_wordcount  review_days  time_factor  sentiment_summary  sentiment_pros  sentiment_cons  sentiment_advice_to_mgmt  sentiment_total\n",
       "28510  amazon 2018-02-22  Worst company do not ...  Hated every minute of...  Can't tell you how mu...  Hateful crazy people          1             1.0        1.0           1.0             1.0                 1.0              0  NaN   NaN     NaN        False       NaN       True  2018.0    2.0                  22        405.0       0.7776               -1.0            -0.9            -0.9                      -0.6            -0.85"
      ]
     },
     "execution_count": 94,
     "metadata": {},
     "output_type": "execute_result"
    }
   ],
   "source": [
    "really_upset = df[df['sentiment_total']==df['sentiment_total'].min()]\n",
    "really_upset"
   ]
  },
  {
   "cell_type": "code",
   "execution_count": 95,
   "metadata": {},
   "outputs": [
    {
     "name": "stdout",
     "output_type": "stream",
     "text": [
      "summary:\n",
      "Worst company do not join\n",
      "\n",
      "pros:\n",
      "Hated every minute of working here\n",
      "\n",
      "cons:\n",
      "Can't tell you how much I hated it\n",
      "\n",
      "advice_to_mgmt:\n",
      "Hateful crazy people\n",
      "\n"
     ]
    }
   ],
   "source": [
    "for col in really_upset[text_cols]:\n",
    "    print(f'{col}:\\n{really_upset[col].values[0]}\\n')"
   ]
  },
  {
   "cell_type": "code",
   "execution_count": 96,
   "metadata": {},
   "outputs": [
    {
     "name": "stdout",
     "output_type": "stream",
     "text": [
      "COMPANY:\n",
      "apple\n",
      "\n",
      "DATE:\n",
      "2018-02-14T00:00:00.000000000\n",
      "\n",
      "SUMMARY:\n",
      "great company\n",
      "\n",
      "PROS:\n",
      "benefits for part time employees\n",
      "\n",
      "CONS:\n",
      "I dont have any yet\n",
      "\n",
      "ADVICE_TO_MGMT:\n",
      "nan\n",
      "\n",
      "R_OVERALL:\n",
      "5\n",
      "\n",
      "R_WORK_BALANCE:\n",
      "4.0\n",
      "\n",
      "R_CULTURE:\n",
      "5.0\n",
      "\n",
      "R_CAREER_OPP:\n",
      "3.0\n",
      "\n",
      "R_COMP_BENEFIT:\n",
      "4.0\n",
      "\n",
      "R_SENIOR_MANGEMNET:\n",
      "5.0\n",
      "\n",
      "HELPFUL_COUNT:\n",
      "0\n",
      "\n",
      "CITY:\n",
      "nan\n",
      "\n",
      "STATE:\n",
      "nan\n",
      "\n",
      "COUNTRY:\n",
      "nan\n",
      "\n",
      "CURRENT_EMP:\n",
      "True\n",
      "\n",
      "JOB_TITLE:\n",
      "nan\n",
      "\n",
      "ANONYMOUS:\n",
      "True\n",
      "\n",
      "YEAR:\n",
      "2018.0\n",
      "\n",
      "MONTH:\n",
      "2.0\n",
      "\n",
      "COMMENTS_WORDCOUNT:\n",
      "13\n",
      "\n",
      "REVIEW_DAYS:\n",
      "413.0\n",
      "\n",
      "TIME_FACTOR:\n",
      "0.773232669869595\n",
      "\n",
      "SENTIMENT_SUMMARY:\n",
      "0.8\n",
      "\n",
      "SENTIMENT_PROS:\n",
      "0.0\n",
      "\n",
      "SENTIMENT_CONS:\n",
      "0.0\n",
      "\n",
      "SENTIMENT_ADVICE_TO_MGMT:\n",
      "0.0\n",
      "\n",
      "SENTIMENT_TOTAL:\n",
      "0.2\n",
      "\n"
     ]
    }
   ],
   "source": [
    "s = df.sample()\n",
    "for col in s.columns:\n",
    "    print(f'{col.upper()}:\\n{s[col].values[0]}\\n')"
   ]
  },
  {
   "cell_type": "code",
   "execution_count": 105,
   "metadata": {},
   "outputs": [
    {
     "data": {
      "text/plain": [
       "(40474, 29)"
      ]
     },
     "execution_count": 105,
     "metadata": {},
     "output_type": "execute_result"
    }
   ],
   "source": [
    "df1 = df[~df['anonymous']].copy()\n",
    "df1.shape"
   ]
  },
  {
   "cell_type": "code",
   "execution_count": 106,
   "metadata": {},
   "outputs": [],
   "source": [
    "df1 = [df1]"
   ]
  },
  {
   "cell_type": "code",
   "execution_count": 113,
   "metadata": {},
   "outputs": [
    {
     "data": {
      "text/html": [
       "<div>\n",
       "<style scoped>\n",
       "    .dataframe tbody tr th:only-of-type {\n",
       "        vertical-align: middle;\n",
       "    }\n",
       "\n",
       "    .dataframe tbody tr th {\n",
       "        vertical-align: top;\n",
       "    }\n",
       "\n",
       "    .dataframe thead th {\n",
       "        text-align: right;\n",
       "    }\n",
       "</style>\n",
       "<table border=\"1\" class=\"dataframe\">\n",
       "  <thead>\n",
       "    <tr style=\"text-align: right;\">\n",
       "      <th></th>\n",
       "      <th>r_overall</th>\n",
       "      <th>r_work_balance</th>\n",
       "      <th>r_culture</th>\n",
       "      <th>r_career_opp</th>\n",
       "      <th>r_comp_benefit</th>\n",
       "      <th>r_senior_mangemnet</th>\n",
       "      <th>helpful_count</th>\n",
       "      <th>current_emp</th>\n",
       "      <th>anonymous</th>\n",
       "      <th>year</th>\n",
       "      <th>month</th>\n",
       "      <th>comments_wordcount</th>\n",
       "      <th>review_days</th>\n",
       "      <th>time_factor</th>\n",
       "      <th>sentiment_summary</th>\n",
       "      <th>sentiment_pros</th>\n",
       "      <th>sentiment_cons</th>\n",
       "      <th>sentiment_advice_to_mgmt</th>\n",
       "      <th>sentiment_total</th>\n",
       "    </tr>\n",
       "    <tr>\n",
       "      <th>company</th>\n",
       "      <th></th>\n",
       "      <th></th>\n",
       "      <th></th>\n",
       "      <th></th>\n",
       "      <th></th>\n",
       "      <th></th>\n",
       "      <th></th>\n",
       "      <th></th>\n",
       "      <th></th>\n",
       "      <th></th>\n",
       "      <th></th>\n",
       "      <th></th>\n",
       "      <th></th>\n",
       "      <th></th>\n",
       "      <th></th>\n",
       "      <th></th>\n",
       "      <th></th>\n",
       "      <th></th>\n",
       "      <th></th>\n",
       "    </tr>\n",
       "  </thead>\n",
       "  <tbody>\n",
       "    <tr>\n",
       "      <th>microsoft</th>\n",
       "      <td>3.8166</td>\n",
       "      <td>3.5718</td>\n",
       "      <td>3.6554</td>\n",
       "      <td>3.6375</td>\n",
       "      <td>3.9670</td>\n",
       "      <td>3.1265</td>\n",
       "      <td>0.5806</td>\n",
       "      <td>0.6296</td>\n",
       "      <td>0.3864</td>\n",
       "      <td>2014.5579</td>\n",
       "      <td>6.6249</td>\n",
       "      <td>69.5226</td>\n",
       "      <td>1529.2060</td>\n",
       "      <td>0.3036</td>\n",
       "      <td>0.3029</td>\n",
       "      <td>0.4275</td>\n",
       "      <td>0.0366</td>\n",
       "      <td>0.1024</td>\n",
       "      <td>0.2173</td>\n",
       "    </tr>\n",
       "    <tr>\n",
       "      <th>apple</th>\n",
       "      <td>3.9582</td>\n",
       "      <td>3.3478</td>\n",
       "      <td>4.0962</td>\n",
       "      <td>3.4028</td>\n",
       "      <td>4.0011</td>\n",
       "      <td>3.4517</td>\n",
       "      <td>1.1736</td>\n",
       "      <td>0.5621</td>\n",
       "      <td>0.3893</td>\n",
       "      <td>2015.1841</td>\n",
       "      <td>6.5192</td>\n",
       "      <td>71.3491</td>\n",
       "      <td>1303.6875</td>\n",
       "      <td>0.3816</td>\n",
       "      <td>0.2967</td>\n",
       "      <td>0.4557</td>\n",
       "      <td>0.0236</td>\n",
       "      <td>0.1280</td>\n",
       "      <td>0.2260</td>\n",
       "    </tr>\n",
       "    <tr>\n",
       "      <th>amazon</th>\n",
       "      <td>3.5874</td>\n",
       "      <td>3.0063</td>\n",
       "      <td>3.5320</td>\n",
       "      <td>3.5989</td>\n",
       "      <td>3.6864</td>\n",
       "      <td>3.1685</td>\n",
       "      <td>1.3760</td>\n",
       "      <td>0.6663</td>\n",
       "      <td>0.3997</td>\n",
       "      <td>2016.2807</td>\n",
       "      <td>6.7723</td>\n",
       "      <td>70.2187</td>\n",
       "      <td>895.2818</td>\n",
       "      <td>0.5463</td>\n",
       "      <td>0.1876</td>\n",
       "      <td>0.3716</td>\n",
       "      <td>0.0110</td>\n",
       "      <td>0.1055</td>\n",
       "      <td>0.1689</td>\n",
       "    </tr>\n",
       "    <tr>\n",
       "      <th>netflix</th>\n",
       "      <td>3.4111</td>\n",
       "      <td>3.2118</td>\n",
       "      <td>3.5169</td>\n",
       "      <td>3.0146</td>\n",
       "      <td>4.0566</td>\n",
       "      <td>3.1695</td>\n",
       "      <td>5.8975</td>\n",
       "      <td>0.5000</td>\n",
       "      <td>0.3975</td>\n",
       "      <td>2013.6873</td>\n",
       "      <td>7.0618</td>\n",
       "      <td>117.8321</td>\n",
       "      <td>1833.6032</td>\n",
       "      <td>0.2772</td>\n",
       "      <td>0.2453</td>\n",
       "      <td>0.3810</td>\n",
       "      <td>0.0553</td>\n",
       "      <td>0.1357</td>\n",
       "      <td>0.2043</td>\n",
       "    </tr>\n",
       "    <tr>\n",
       "      <th>google</th>\n",
       "      <td>4.3394</td>\n",
       "      <td>3.9801</td>\n",
       "      <td>4.3549</td>\n",
       "      <td>3.9452</td>\n",
       "      <td>4.3555</td>\n",
       "      <td>3.8339</td>\n",
       "      <td>1.6728</td>\n",
       "      <td>0.5984</td>\n",
       "      <td>0.5045</td>\n",
       "      <td>2015.2481</td>\n",
       "      <td>6.5497</td>\n",
       "      <td>56.3736</td>\n",
       "      <td>1279.4195</td>\n",
       "      <td>0.3964</td>\n",
       "      <td>0.3704</td>\n",
       "      <td>0.4631</td>\n",
       "      <td>0.0575</td>\n",
       "      <td>0.0986</td>\n",
       "      <td>0.2474</td>\n",
       "    </tr>\n",
       "    <tr>\n",
       "      <th>facebook</th>\n",
       "      <td>4.5119</td>\n",
       "      <td>3.9201</td>\n",
       "      <td>4.5110</td>\n",
       "      <td>4.3510</td>\n",
       "      <td>4.5500</td>\n",
       "      <td>4.2597</td>\n",
       "      <td>3.6516</td>\n",
       "      <td>0.8044</td>\n",
       "      <td>0.1591</td>\n",
       "      <td>2015.3629</td>\n",
       "      <td>7.0277</td>\n",
       "      <td>86.7704</td>\n",
       "      <td>1222.9503</td>\n",
       "      <td>0.4079</td>\n",
       "      <td>0.4126</td>\n",
       "      <td>0.3930</td>\n",
       "      <td>0.0977</td>\n",
       "      <td>0.1199</td>\n",
       "      <td>0.2558</td>\n",
       "    </tr>\n",
       "  </tbody>\n",
       "</table>\n",
       "</div>"
      ],
      "text/plain": [
       "           r_overall  r_work_balance  r_culture  r_career_opp  r_comp_benefit  r_senior_mangemnet  helpful_count  current_emp  anonymous       year   month  comments_wordcount  review_days  time_factor  sentiment_summary  sentiment_pros  sentiment_cons  sentiment_advice_to_mgmt  sentiment_total\n",
       "company                                                                                                                                                                                                                                                                                                \n",
       "microsoft     3.8166          3.5718     3.6554        3.6375          3.9670              3.1265         0.5806       0.6296     0.3864  2014.5579  6.6249             69.5226    1529.2060       0.3036             0.3029          0.4275          0.0366                    0.1024           0.2173\n",
       "apple         3.9582          3.3478     4.0962        3.4028          4.0011              3.4517         1.1736       0.5621     0.3893  2015.1841  6.5192             71.3491    1303.6875       0.3816             0.2967          0.4557          0.0236                    0.1280           0.2260\n",
       "amazon        3.5874          3.0063     3.5320        3.5989          3.6864              3.1685         1.3760       0.6663     0.3997  2016.2807  6.7723             70.2187     895.2818       0.5463             0.1876          0.3716          0.0110                    0.1055           0.1689\n",
       "netflix       3.4111          3.2118     3.5169        3.0146          4.0566              3.1695         5.8975       0.5000     0.3975  2013.6873  7.0618            117.8321    1833.6032       0.2772             0.2453          0.3810          0.0553                    0.1357           0.2043\n",
       "google        4.3394          3.9801     4.3549        3.9452          4.3555              3.8339         1.6728       0.5984     0.5045  2015.2481  6.5497             56.3736    1279.4195       0.3964             0.3704          0.4631          0.0575                    0.0986           0.2474\n",
       "facebook      4.5119          3.9201     4.5110        4.3510          4.5500              4.2597         3.6516       0.8044     0.1591  2015.3629  7.0277             86.7704    1222.9503       0.4079             0.4126          0.3930          0.0977                    0.1199           0.2558"
      ]
     },
     "execution_count": 113,
     "metadata": {},
     "output_type": "execute_result"
    }
   ],
   "source": [
    "df.groupby('company').mean()"
   ]
  },
  {
   "cell_type": "code",
   "execution_count": null,
   "metadata": {},
   "outputs": [],
   "source": []
  }
 ],
 "metadata": {
  "kernelspec": {
   "display_name": "Python 3",
   "language": "python",
   "name": "python3"
  },
  "language_info": {
   "codemirror_mode": {
    "name": "ipython",
    "version": 3
   },
   "file_extension": ".py",
   "mimetype": "text/x-python",
   "name": "python",
   "nbconvert_exporter": "python",
   "pygments_lexer": "ipython3",
   "version": "3.6.8"
  }
 },
 "nbformat": 4,
 "nbformat_minor": 2
}
