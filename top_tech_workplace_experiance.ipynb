{
 "cells": [
  {
   "cell_type": "markdown",
   "metadata": {},
   "source": [
    "##### structured Exploratory Data Analysis of:\n",
    "- explore the dataset’s variables\n",
    "- understand the data’s structure, oddities, patterns and relationships.\n",
    "- ask questions of the data and make your own discoveries.\n",
    "\n",
    "- main findings from your exploration\n",
    "\n",
    "- construct a story for your readers to understand what you found.\n",
    "\n",
    "# Apple, Microsoft, Google, Amazon, Facebook, and Netflix\n",
    "# Employees' Workplace Reviews.\n",
    "___\n",
    "\n",
    "**Context:** Over 67k employee reviews for Google, Amazon, Facebook, Apple, and Microsoft.\n",
    "\n",
    "**Acknowledgements:** This data was scraped from Glassdoor.\n",
    "\n",
    "**Questions**\n",
    "- What company has been improving best?\n",
    "- based on this data what company seems the best choice for a specific postion?\n",
    "- is there a relationship base on stock market mometoum and volatility and employee's workplace rating?\n",
    "- What pros each company is best at?\n",
    "- what positions seem to be happiest in each company? (and overall)\n",
    "\n",
    "- a company cultur is like a living thing, it grows, changes, fades away, It's the direction that matters most for current and potential employees perhaps more than where they are now. So recent reviews so weigh more of general status of a cimpany.\n",
    "\n",
    "\n",
    "- what proportion of employees felt comfortable enough not tobe Anonymous?\n",
    "___"
   ]
  },
  {
   "cell_type": "markdown",
   "metadata": {},
   "source": [
    "Scratch Notes\n",
    "\n",
    "- Exploratory Data Analysis and Visualization for Text Data\n",
    "- Create a stunning visualization\n",
    "- focus of the project is on exploratory data analysis\n",
    "- worthy of posting it to Medium, Kaggle\n",
    "- Emplopyers and My Tech Friends value it\n",
    "\n",
    "https://towardsdatascience.com/a-complete-exploratory-data-analysis-and-visualization-for-text-data-29fb1b96fb6a\n",
    "\n",
    "https://www.kaggle.com/aashita/exploratory-data-analysis-of-comments-on-nyt\n",
    "\n",
    "https://www.kaggle.com/petersunga/google-amazon-facebook-employee-reviews"
   ]
  },
  {
   "cell_type": "markdown",
   "metadata": {},
   "source": [
    "Table of contents:\n",
    "1. [Importing modules and loading data ](#import)"
   ]
  },
  {
   "cell_type": "markdown",
   "metadata": {},
   "source": [
    "___"
   ]
  },
  {
   "cell_type": "markdown",
   "metadata": {},
   "source": [
    "## Importing modules and loading data <a name=\"import\"></a>"
   ]
  },
  {
   "cell_type": "markdown",
   "metadata": {},
   "source": [
    "#### First we import python modules and setting notebook environment"
   ]
  },
  {
   "cell_type": "code",
   "execution_count": 112,
   "metadata": {},
   "outputs": [],
   "source": [
    "# Essential Data Analysis Ecosystem Libraries\n",
    "import numpy as np\n",
    "import pandas as pd\n",
    "from pandas.api.types import CategoricalDtype\n",
    "\n",
    "# Visualization\n",
    "import matplotlib.pyplot as plt\n",
    "import seaborn as sns\n",
    "\n",
    "# Python Standard Libraries\n",
    "import os  # os file operations\n",
    "import re  # data cleaning\n",
    "import webbrowser\n",
    "from collections import Counter\n",
    "\n",
    "# \n",
    "import textblob\n",
    "\n",
    "# suppress warnings from final output\n",
    "import warnings\n",
    "warnings.simplefilter(\"ignore\")\n",
    "\n",
    "# set plots to be embedded inline\n",
    "%matplotlib inline\n",
    "\n",
    "# base color\n",
    "bcolor = sns.color_palette()[0]\n",
    "two_in_row = (16, 4)\n",
    "plt.rcParams['font.family'] = 'sans-serif'\n",
    "plt.rcParams['font.sans-serif'] = 'Helvetica'"
   ]
  },
  {
   "cell_type": "markdown",
   "metadata": {},
   "source": [
    "#### Load up our dataset to a DataFrame"
   ]
  },
  {
   "cell_type": "code",
   "execution_count": 2,
   "metadata": {},
   "outputs": [
    {
     "name": "stdout",
     "output_type": "stream",
     "text": [
      "Dataset file(s): ['Untitled.ipynb', 'employee_reviews.csv', '.ipynb_checkpoints']\n"
     ]
    }
   ],
   "source": [
    "# dataset starting file(s)\n",
    "dataset_path = 'input/'\n",
    "print ('Dataset file(s):', os.listdir(dataset_path))\n",
    "\n",
    "# TODO: If there is a new version of the dataset, programmatically download updated dataset zip file from Kaggle.\n",
    "# ToDO\n",
    "\n",
    "df_raw = pd.read_csv(os.path.join(dataset_path, 'employee_reviews.csv'))"
   ]
  },
  {
   "cell_type": "markdown",
   "metadata": {},
   "source": [
    "end of Importing modules and loading data\n",
    "___"
   ]
  },
  {
   "cell_type": "markdown",
   "metadata": {},
   "source": [
    "## First look at the data:<a name=\"import\"></a>"
   ]
  },
  {
   "cell_type": "markdown",
   "metadata": {},
   "source": [
    "#### Let's look at shape of our raw data and  5  random  reviews:"
   ]
  },
  {
   "cell_type": "code",
   "execution_count": 3,
   "metadata": {},
   "outputs": [
    {
     "name": "stdout",
     "output_type": "stream",
     "text": [
      "Number of rows (reviews) and columns: (67529, 17)\n"
     ]
    },
    {
     "data": {
      "text/html": [
       "<div>\n",
       "<style scoped>\n",
       "    .dataframe tbody tr th:only-of-type {\n",
       "        vertical-align: middle;\n",
       "    }\n",
       "\n",
       "    .dataframe tbody tr th {\n",
       "        vertical-align: top;\n",
       "    }\n",
       "\n",
       "    .dataframe thead th {\n",
       "        text-align: right;\n",
       "    }\n",
       "</style>\n",
       "<table border=\"1\" class=\"dataframe\">\n",
       "  <thead>\n",
       "    <tr style=\"text-align: right;\">\n",
       "      <th></th>\n",
       "      <th>Unnamed: 0</th>\n",
       "      <th>company</th>\n",
       "      <th>location</th>\n",
       "      <th>dates</th>\n",
       "      <th>job-title</th>\n",
       "      <th>summary</th>\n",
       "      <th>pros</th>\n",
       "      <th>cons</th>\n",
       "      <th>advice-to-mgmt</th>\n",
       "      <th>overall-ratings</th>\n",
       "      <th>work-balance-stars</th>\n",
       "      <th>culture-values-stars</th>\n",
       "      <th>carrer-opportunities-stars</th>\n",
       "      <th>comp-benefit-stars</th>\n",
       "      <th>senior-mangemnet-stars</th>\n",
       "      <th>helpful-count</th>\n",
       "      <th>link</th>\n",
       "    </tr>\n",
       "  </thead>\n",
       "  <tbody>\n",
       "    <tr>\n",
       "      <th>32435</th>\n",
       "      <td>32436</td>\n",
       "      <td>amazon</td>\n",
       "      <td>Luxembourg (Luxembourg)</td>\n",
       "      <td>Oct 26, 2015</td>\n",
       "      <td>Former Employee - Anonymous Employee</td>\n",
       "      <td>Avoid Kindle</td>\n",
       "      <td>&gt; Fast Paced &gt; Great Tools &gt; Variety of Cultur...</td>\n",
       "      <td>&gt; Excessive Hours &gt; Insensitive Managers &gt; Tre...</td>\n",
       "      <td>HR is not just Talent Acquisition, it is also ...</td>\n",
       "      <td>1.0</td>\n",
       "      <td>1.0</td>\n",
       "      <td>1.0</td>\n",
       "      <td>1.0</td>\n",
       "      <td>1.0</td>\n",
       "      <td>1.0</td>\n",
       "      <td>2</td>\n",
       "      <td>https://www.glassdoor.com/Reviews/Amazon-Revie...</td>\n",
       "    </tr>\n",
       "    <tr>\n",
       "      <th>12748</th>\n",
       "      <td>12749</td>\n",
       "      <td>amazon</td>\n",
       "      <td>Oklahoma City, OK</td>\n",
       "      <td>Dec 14, 2017</td>\n",
       "      <td>Former Employee - Fullfilment Associate</td>\n",
       "      <td>Part time-Seasonal</td>\n",
       "      <td>Easy hiring process, big break area cafeteria ...</td>\n",
       "      <td>No real help when you need it, lots of \"figure...</td>\n",
       "      <td>The pay could have been better. And tell your ...</td>\n",
       "      <td>3.0</td>\n",
       "      <td>5.0</td>\n",
       "      <td>3.0</td>\n",
       "      <td>4.0</td>\n",
       "      <td>2.0</td>\n",
       "      <td>4.0</td>\n",
       "      <td>0</td>\n",
       "      <td>https://www.glassdoor.com/Reviews/Amazon-Revie...</td>\n",
       "    </tr>\n",
       "    <tr>\n",
       "      <th>65781</th>\n",
       "      <td>65782</td>\n",
       "      <td>microsoft</td>\n",
       "      <td>Hyderabad (India)</td>\n",
       "      <td>Aug 6, 2014</td>\n",
       "      <td>Current Employee - Software Development Engine...</td>\n",
       "      <td>Average experience</td>\n",
       "      <td>Good work-life balance, good facilities</td>\n",
       "      <td>dog-eat-dog style of working which is encourag...</td>\n",
       "      <td>none</td>\n",
       "      <td>3.0</td>\n",
       "      <td>4.0</td>\n",
       "      <td>3.0</td>\n",
       "      <td>3.0</td>\n",
       "      <td>4.0</td>\n",
       "      <td>2.0</td>\n",
       "      <td>0</td>\n",
       "      <td>https://www.glassdoor.com/Reviews/Microsoft-Re...</td>\n",
       "    </tr>\n",
       "    <tr>\n",
       "      <th>18661</th>\n",
       "      <td>18662</td>\n",
       "      <td>amazon</td>\n",
       "      <td>Haslet, TX</td>\n",
       "      <td>Jul 29, 2016</td>\n",
       "      <td>Former Employee - Fulfillment Associate</td>\n",
       "      <td>Work Hard/Have Fun/Make History</td>\n",
       "      <td>Work is hard but you do have lots of fun and y...</td>\n",
       "      <td>Firmly established habit of giving preferentia...</td>\n",
       "      <td>none</td>\n",
       "      <td>4.0</td>\n",
       "      <td>2.0</td>\n",
       "      <td>4.0</td>\n",
       "      <td>4.0</td>\n",
       "      <td>3.0</td>\n",
       "      <td>3.0</td>\n",
       "      <td>0</td>\n",
       "      <td>https://www.glassdoor.com/Reviews/Amazon-Revie...</td>\n",
       "    </tr>\n",
       "    <tr>\n",
       "      <th>54557</th>\n",
       "      <td>54558</td>\n",
       "      <td>microsoft</td>\n",
       "      <td>Redmond, WA</td>\n",
       "      <td>Oct 23, 2015</td>\n",
       "      <td>Former Employee - Senior Software Engineering ...</td>\n",
       "      <td>Azure is great</td>\n",
       "      <td>Smart Engineers Scale problems to solve Great ...</td>\n",
       "      <td>Legacy slows things down Politics can come in ...</td>\n",
       "      <td>Build a culture of ownership and bussiness all...</td>\n",
       "      <td>4.0</td>\n",
       "      <td>4.0</td>\n",
       "      <td>3.0</td>\n",
       "      <td>4.0</td>\n",
       "      <td>3.0</td>\n",
       "      <td>3.0</td>\n",
       "      <td>0</td>\n",
       "      <td>https://www.glassdoor.com/Reviews/Microsoft-Re...</td>\n",
       "    </tr>\n",
       "  </tbody>\n",
       "</table>\n",
       "</div>"
      ],
      "text/plain": [
       "       Unnamed: 0    company                 location          dates  \\\n",
       "32435       32436     amazon  Luxembourg (Luxembourg)   Oct 26, 2015   \n",
       "12748       12749     amazon        Oklahoma City, OK   Dec 14, 2017   \n",
       "65781       65782  microsoft        Hyderabad (India)    Aug 6, 2014   \n",
       "18661       18662     amazon               Haslet, TX   Jul 29, 2016   \n",
       "54557       54558  microsoft              Redmond, WA   Oct 23, 2015   \n",
       "\n",
       "                                               job-title  \\\n",
       "32435               Former Employee - Anonymous Employee   \n",
       "12748            Former Employee - Fullfilment Associate   \n",
       "65781  Current Employee - Software Development Engine...   \n",
       "18661            Former Employee - Fulfillment Associate   \n",
       "54557  Former Employee - Senior Software Engineering ...   \n",
       "\n",
       "                               summary  \\\n",
       "32435                     Avoid Kindle   \n",
       "12748               Part time-Seasonal   \n",
       "65781               Average experience   \n",
       "18661  Work Hard/Have Fun/Make History   \n",
       "54557                   Azure is great   \n",
       "\n",
       "                                                    pros  \\\n",
       "32435  > Fast Paced > Great Tools > Variety of Cultur...   \n",
       "12748  Easy hiring process, big break area cafeteria ...   \n",
       "65781            Good work-life balance, good facilities   \n",
       "18661  Work is hard but you do have lots of fun and y...   \n",
       "54557  Smart Engineers Scale problems to solve Great ...   \n",
       "\n",
       "                                                    cons  \\\n",
       "32435  > Excessive Hours > Insensitive Managers > Tre...   \n",
       "12748  No real help when you need it, lots of \"figure...   \n",
       "65781  dog-eat-dog style of working which is encourag...   \n",
       "18661  Firmly established habit of giving preferentia...   \n",
       "54557  Legacy slows things down Politics can come in ...   \n",
       "\n",
       "                                          advice-to-mgmt  overall-ratings  \\\n",
       "32435  HR is not just Talent Acquisition, it is also ...              1.0   \n",
       "12748  The pay could have been better. And tell your ...              3.0   \n",
       "65781                                               none              3.0   \n",
       "18661                                               none              4.0   \n",
       "54557  Build a culture of ownership and bussiness all...              4.0   \n",
       "\n",
       "      work-balance-stars culture-values-stars carrer-opportunities-stars  \\\n",
       "32435                1.0                  1.0                        1.0   \n",
       "12748                5.0                  3.0                        4.0   \n",
       "65781                4.0                  3.0                        3.0   \n",
       "18661                2.0                  4.0                        4.0   \n",
       "54557                4.0                  3.0                        4.0   \n",
       "\n",
       "      comp-benefit-stars senior-mangemnet-stars  helpful-count  \\\n",
       "32435                1.0                    1.0              2   \n",
       "12748                2.0                    4.0              0   \n",
       "65781                4.0                    2.0              0   \n",
       "18661                3.0                    3.0              0   \n",
       "54557                3.0                    3.0              0   \n",
       "\n",
       "                                                    link  \n",
       "32435  https://www.glassdoor.com/Reviews/Amazon-Revie...  \n",
       "12748  https://www.glassdoor.com/Reviews/Amazon-Revie...  \n",
       "65781  https://www.glassdoor.com/Reviews/Microsoft-Re...  \n",
       "18661  https://www.glassdoor.com/Reviews/Amazon-Revie...  \n",
       "54557  https://www.glassdoor.com/Reviews/Microsoft-Re...  "
      ]
     },
     "execution_count": 3,
     "metadata": {},
     "output_type": "execute_result"
    }
   ],
   "source": [
    "print('Number of rows (reviews) and columns:', df_raw.shape)\n",
    "df_raw_samples = df_raw.sample(5)\n",
    "df_raw_samples"
   ]
  },
  {
   "cell_type": "markdown",
   "metadata": {},
   "source": [
    "- `index` and `Unnamed: 0` column seem as an id and are redundant.\n",
    "- 'none' is used for missing values.\n",
    "- Tidiness issue: Global location column contains 3 different 'city, state, and country' values. This column is to be separated in 3 columns.\n",
    "- Tidiness issue: employee_status (current or former) and job_title are to be seperated in two columns."
   ]
  },
  {
   "cell_type": "markdown",
   "metadata": {},
   "source": [
    "#### Information about the columns' names, datatypes, unique values, and null values:"
   ]
  },
  {
   "cell_type": "code",
   "execution_count": 4,
   "metadata": {
    "scrolled": false
   },
   "outputs": [
    {
     "name": "stdout",
     "output_type": "stream",
     "text": [
      "<class 'pandas.core.frame.DataFrame'>\n",
      "RangeIndex: 67529 entries, 0 to 67528\n",
      "Data columns (total 17 columns):\n",
      "Unnamed: 0                    67529 non-null int64\n",
      "company                       67529 non-null object\n",
      "location                      67529 non-null object\n",
      "dates                         67529 non-null object\n",
      "job-title                     67529 non-null object\n",
      "summary                       67409 non-null object\n",
      "pros                          67529 non-null object\n",
      "cons                          67529 non-null object\n",
      "advice-to-mgmt                67232 non-null object\n",
      "overall-ratings               67529 non-null float64\n",
      "work-balance-stars            67529 non-null object\n",
      "culture-values-stars          67529 non-null object\n",
      "carrer-opportunities-stars    67529 non-null object\n",
      "comp-benefit-stars            67529 non-null object\n",
      "senior-mangemnet-stars        67529 non-null object\n",
      "helpful-count                 67529 non-null int64\n",
      "link                          67529 non-null object\n",
      "dtypes: float64(1), int64(2), object(14)\n",
      "memory usage: 8.8+ MB\n"
     ]
    }
   ],
   "source": [
    "df_raw.info()"
   ]
  },
  {
   "cell_type": "markdown",
   "metadata": {},
   "source": [
    "We don't see lots of missing data but that's most likely because missing data represented by string 'non'"
   ]
  },
  {
   "cell_type": "code",
   "execution_count": 5,
   "metadata": {},
   "outputs": [
    {
     "data": {
      "text/plain": [
       "Unnamed: 0                    67529\n",
       "company                           6\n",
       "location                       2044\n",
       "dates                          3824\n",
       "job-title                      8308\n",
       "summary                       42649\n",
       "pros                          66085\n",
       "cons                          66049\n",
       "advice-to-mgmt                35190\n",
       "overall-ratings                   5\n",
       "work-balance-stars               10\n",
       "culture-values-stars              6\n",
       "carrer-opportunities-stars       10\n",
       "comp-benefit-stars               10\n",
       "senior-mangemnet-stars           10\n",
       "helpful-count                    99\n",
       "link                           6754\n",
       "dtype: int64"
      ]
     },
     "execution_count": 5,
     "metadata": {},
     "output_type": "execute_result"
    }
   ],
   "source": [
    "df_raw.nunique()"
   ]
  },
  {
   "cell_type": "markdown",
   "metadata": {},
   "source": [
    "We have four specific categories of ratings and 1 overall rating. They should be based on a 1-star to 5-stars ratings, but there are up to 10 different vlues for those ratings that needs to be looked at and cleaned."
   ]
  },
  {
   "cell_type": "markdown",
   "metadata": {},
   "source": [
    "#### We can follow our sample scrapped reviews to www.glassdoor.com to see the actual reviews."
   ]
  },
  {
   "cell_type": "code",
   "execution_count": 6,
   "metadata": {},
   "outputs": [
    {
     "name": "stdout",
     "output_type": "stream",
     "text": [
      "32435    https://www.glassdoor.com/Reviews/Amazon-Revie...\n",
      "12748    https://www.glassdoor.com/Reviews/Amazon-Revie...\n",
      "65781    https://www.glassdoor.com/Reviews/Microsoft-Re...\n",
      "18661    https://www.glassdoor.com/Reviews/Amazon-Revie...\n",
      "54557    https://www.glassdoor.com/Reviews/Microsoft-Re...\n",
      "Name: link, dtype: object\n",
      "Enter,  y  if you would like to open and see these sample reviews\\` urls? n\n"
     ]
    }
   ],
   "source": [
    "links = df_raw_samples['link']\n",
    "print(links)\n",
    "answer = input('Enter,  y  if you would like to open and see these sample reviews\\` urls? ')\n",
    "if answer.lower()=='y':\n",
    "    [webbrowser.open(link) for link in links]"
   ]
  },
  {
   "cell_type": "markdown",
   "metadata": {},
   "source": [
    "Looking at the actual source of the data, we can see  two very likely useful peices of information in reviews are not scrapped. That is the length and type of employments. Here is 3 examples:\n",
    " - I worked at Amazon full-time (More than 3 years)\n",
    " - I have been working at Microsoft full-time (More than 10 years)\n",
    " - I have been working at Google full-time (Less than a year)"
   ]
  },
  {
   "cell_type": "markdown",
   "metadata": {},
   "source": [
    "#### Copanies Review Shares in Raw Dataset\n",
    "To add meaning to the order of chart we will be plotting involving companies, let's convert company column to categorical data sorted by date founded."
   ]
  },
  {
   "cell_type": "code",
   "execution_count": 114,
   "metadata": {},
   "outputs": [],
   "source": [
    "company_cat = CategoricalDtype(ordered=True, \n",
    "                               categories=['microsoft', 'apple', 'amazon', 'netflix', 'google', 'facebook'])\n",
    "df_raw['company'] = df_raw['company'].astype(company_cat)"
   ]
  },
  {
   "cell_type": "code",
   "execution_count": 119,
   "metadata": {},
   "outputs": [],
   "source": [
    "plt.rcParams['axes.edgecolor']='#333F4B'\n",
    "plt.rcParams['axes.linewidth']=0.8\n",
    "plt.rcParams['xtick.color']='#333F4B'\n",
    "plt.rcParams['ytick.color']='#333F4B'"
   ]
  },
  {
   "cell_type": "code",
   "execution_count": 131,
   "metadata": {},
   "outputs": [
    {
     "data": {
      "image/png": "[encoded data removed]",
      "text/plain": [
       "<Figure size 1152x288 with 2 Axes>"
      ]
     },
     "metadata": {},
     "output_type": "display_data"
    }
   ],
   "source": [
    "plt.figure(figsize=two_in_row)\n",
    "\n",
    "# plt.style.use('ggplot')\n",
    "\n",
    "plt.subplot(1,2,1)\n",
    "sns.countplot(data=df_raw, y=df_raw['company'], color=bcolor)\n",
    "plt.xticks(rotation=0)\n",
    "plt.ylabel('')\n",
    "\n",
    "\n",
    "plt.subplot(1,2,2)\n",
    "sorted_counts = df_raw['company'].value_counts()\n",
    "labels = sorted_counts.index\n",
    "\n",
    "plt.pie(sorted_counts, labels=labels, \n",
    "        startangle=90, counterclock=False, wedgeprops = {'width' : 0.35})\n",
    "plt.axis('square');\n",
    "\n",
    "# plt.legend(labels,\n",
    "#           title=\"Companies in Raw Dataset\",\n",
    "#           loc=\"top left\",\n",
    "#           bbox_to_anchor=(1, 0, .25, 1));"
   ]
  },
  {
   "cell_type": "markdown",
   "metadata": {},
   "source": [
    "end of quick look\n",
    "___"
   ]
  },
  {
   "cell_type": "markdown",
   "metadata": {},
   "source": [
    "## Data Cleaning"
   ]
  },
  {
   "cell_type": "markdown",
   "metadata": {},
   "source": [
    "#### Tidiness: There are 3 values of  `city, state, country` in location column. We will make this tidy by separating each value in its own column."
   ]
  },
  {
   "cell_type": "code",
   "execution_count": 46,
   "metadata": {},
   "outputs": [
    {
     "data": {
      "text/plain": [
       "42157           Austin, TX\n",
       "29441                 none\n",
       "50567                 none\n",
       "19205                 none\n",
       "9016                  none\n",
       "57686         Bellevue, WA\n",
       "56441          Redmond, WA\n",
       "30864    Bengaluru (India)\n",
       "27556    Bengaluru (India)\n",
       "2469                  none\n",
       "Name: location, dtype: object"
      ]
     },
     "execution_count": 46,
     "metadata": {},
     "output_type": "execute_result"
    }
   ],
   "source": [
    "# location column before cleaning\n",
    "df = df_raw\n",
    "df['location'].sample(10)"
   ]
  },
  {
   "cell_type": "markdown",
   "metadata": {},
   "source": [
    "#### functions to extrat \"city, state, and country\" values from location column to 3 columns"
   ]
  },
  {
   "cell_type": "code",
   "execution_count": 47,
   "metadata": {},
   "outputs": [],
   "source": [
    "btween_parentheses = r'\\(([^)]+)\\)'  # Regular expression to get a string between parentheses\n",
    "\n",
    "\n",
    "def get_country(location):\n",
    "    \"\"\"Extracts and returns country name from location string.\n",
    "    Returns NaN if 'none'.\"\"\"\n",
    "    if location == 'none':\n",
    "        return np.nan\n",
    "    not_usa = re.findall(btween_parentheses, location)\n",
    "    if not_usa:\n",
    "        return not_usa[0]\n",
    "    else:\n",
    "        return 'USA'\n",
    "    \n",
    "\n",
    "def get_state(location):\n",
    "    \"\"\"Extracts and returns state name (if aby) from location string.\n",
    "    Returns Nan if 'none or not applicable.\"\"\"\n",
    "    if location == 'none':\n",
    "        return np.nan\n",
    "    not_usa = re.findall(btween_parentheses, location)\n",
    "    if not_usa:\n",
    "        if ',' in location:\n",
    "            return location.split(',')[1].split()[0]\n",
    "        else:\n",
    "            return np.nan\n",
    "    else:\n",
    "        return location.strip()[-2:]\n",
    "\n",
    "    \n",
    "def get_city(location):\n",
    "    \"\"\"Extracts and returns city name from location string.\n",
    "    Returns Nan if 'none'.\"\"\"\n",
    "    if location == 'none':\n",
    "        return np.nan\n",
    "    not_usa = re.findall(btween_parentheses, location)\n",
    "    if not_usa:\n",
    "        if ',' in location:\n",
    "            return location.split(',')[0]\n",
    "        else:\n",
    "            return location.split()[0]\n",
    "    else:\n",
    "        return location.split(',')[0]    "
   ]
  },
  {
   "cell_type": "code",
   "execution_count": 48,
   "metadata": {},
   "outputs": [],
   "source": [
    "df['city'] = df.location.apply(get_city)\n",
    "df['state'] = df.location.apply(get_state)\n",
    "df['country'] = df.location.apply(get_country)"
   ]
  },
  {
   "cell_type": "code",
   "execution_count": 49,
   "metadata": {},
   "outputs": [
    {
     "data": {
      "text/html": [
       "<div>\n",
       "<style scoped>\n",
       "    .dataframe tbody tr th:only-of-type {\n",
       "        vertical-align: middle;\n",
       "    }\n",
       "\n",
       "    .dataframe tbody tr th {\n",
       "        vertical-align: top;\n",
       "    }\n",
       "\n",
       "    .dataframe thead th {\n",
       "        text-align: right;\n",
       "    }\n",
       "</style>\n",
       "<table border=\"1\" class=\"dataframe\">\n",
       "  <thead>\n",
       "    <tr style=\"text-align: right;\">\n",
       "      <th></th>\n",
       "      <th>city</th>\n",
       "      <th>state</th>\n",
       "      <th>country</th>\n",
       "    </tr>\n",
       "  </thead>\n",
       "  <tbody>\n",
       "    <tr>\n",
       "      <th>30830</th>\n",
       "      <td>Bengaluru</td>\n",
       "      <td>NaN</td>\n",
       "      <td>India</td>\n",
       "    </tr>\n",
       "    <tr>\n",
       "      <th>11754</th>\n",
       "      <td>NaN</td>\n",
       "      <td>NaN</td>\n",
       "      <td>NaN</td>\n",
       "    </tr>\n",
       "    <tr>\n",
       "      <th>28541</th>\n",
       "      <td>Beijing</td>\n",
       "      <td>Beijing</td>\n",
       "      <td>China</td>\n",
       "    </tr>\n",
       "    <tr>\n",
       "      <th>28670</th>\n",
       "      <td>Manchester</td>\n",
       "      <td>England</td>\n",
       "      <td>UK</td>\n",
       "    </tr>\n",
       "    <tr>\n",
       "      <th>48427</th>\n",
       "      <td>NaN</td>\n",
       "      <td>NaN</td>\n",
       "      <td>NaN</td>\n",
       "    </tr>\n",
       "  </tbody>\n",
       "</table>\n",
       "</div>"
      ],
      "text/plain": [
       "             city    state country\n",
       "30830   Bengaluru      NaN   India\n",
       "11754         NaN      NaN     NaN\n",
       "28541     Beijing  Beijing   China\n",
       "28670  Manchester  England      UK\n",
       "48427         NaN      NaN     NaN"
      ]
     },
     "execution_count": 49,
     "metadata": {},
     "output_type": "execute_result"
    }
   ],
   "source": [
    "# Test\n",
    "df[['city', 'state', 'country']].sample(5)"
   ]
  },
  {
   "cell_type": "markdown",
   "metadata": {},
   "source": [
    "#### Renaming Columns for Clarity/Consistency\n",
    "\n",
    "- We rename all 5 rating columns to start with `r_`.\n",
    "- All columns\\` names to singular nouns.\n",
    "- Change connecting dashs `-` to underscores `_`."
   ]
  },
  {
   "cell_type": "code",
   "execution_count": 50,
   "metadata": {},
   "outputs": [],
   "source": [
    "df.rename(columns={'dates': 'date',\n",
    "                   'advice-to-mgmt': 'advice_to_mgmt',\n",
    "                   'overall-ratings': 'r_overall',\n",
    "                   'work-balance-stars': 'r_work_balance',\n",
    "                   'culture-values-stars': 'r_culture',\n",
    "                   'carrer-opportunities-stars': 'r_career_opp',\n",
    "                   'comp-benefit-stars': 'r_comp_benefit',\n",
    "                   'senior-mangemnet-stars': 'senior_mangemnet',\n",
    "                   'helpful-count': 'helpful_count'}, inplace=True);"
   ]
  },
  {
   "cell_type": "markdown",
   "metadata": {},
   "source": [
    "###  Tidiness: Seperate `job-title` column values to 2 columns, current_emp and job_title."
   ]
  },
  {
   "cell_type": "code",
   "execution_count": 51,
   "metadata": {},
   "outputs": [],
   "source": [
    "df['current_emp'] = df['job-title'].apply(lambda column: True if column.split()[0] == 'Current' else False)\n",
    "df['job_title'] = df['job-title'].apply(lambda column: column.split('-')[1])"
   ]
  },
  {
   "cell_type": "markdown",
   "metadata": {},
   "source": [
    "### Tidiness: Anonymous  Employees (Reviewers) are mix with Job-Titles\n",
    "- Make a True/False Column for Anonymous Employees\n",
    "- Replace Anonymous Employee with NaN in job_title coloumn"
   ]
  },
  {
   "cell_type": "code",
   "execution_count": 52,
   "metadata": {},
   "outputs": [
    {
     "data": {
      "text/plain": [
       " Anonymous Employee                  27002\n",
       " Software Engineer                    1793\n",
       " Software Development Engineer        1270\n",
       " Specialist                           1060\n",
       " Program Manager                       826\n",
       " Warehouse Associate                   679\n",
       " Senior Software Engineer              637\n",
       " Senior Program Manager                608\n",
       " Fulfillment Associate                 603\n",
       " Software Development Engineer II      586\n",
       "Name: job_title, dtype: int64"
      ]
     },
     "execution_count": 52,
     "metadata": {},
     "output_type": "execute_result"
    }
   ],
   "source": [
    "df['job_title'].value_counts()[:10]"
   ]
  },
  {
   "cell_type": "code",
   "execution_count": 53,
   "metadata": {},
   "outputs": [],
   "source": [
    "df['anonymous'] = df['job_title'].apply(lambda job: True if 'Anonymous' in str(job) else False)"
   ]
  },
  {
   "cell_type": "code",
   "execution_count": 54,
   "metadata": {},
   "outputs": [],
   "source": [
    "df['job_title'] = df['job_title'].apply(lambda job: np.nan if 'Anonymous' in str(job) else job)"
   ]
  },
  {
   "cell_type": "code",
   "execution_count": 55,
   "metadata": {},
   "outputs": [
    {
     "data": {
      "text/html": [
       "<div>\n",
       "<style scoped>\n",
       "    .dataframe tbody tr th:only-of-type {\n",
       "        vertical-align: middle;\n",
       "    }\n",
       "\n",
       "    .dataframe tbody tr th {\n",
       "        vertical-align: top;\n",
       "    }\n",
       "\n",
       "    .dataframe thead th {\n",
       "        text-align: right;\n",
       "    }\n",
       "</style>\n",
       "<table border=\"1\" class=\"dataframe\">\n",
       "  <thead>\n",
       "    <tr style=\"text-align: right;\">\n",
       "      <th></th>\n",
       "      <th>job_title</th>\n",
       "      <th>anonymous</th>\n",
       "    </tr>\n",
       "  </thead>\n",
       "  <tbody>\n",
       "    <tr>\n",
       "      <th>62230</th>\n",
       "      <td>NaN</td>\n",
       "      <td>True</td>\n",
       "    </tr>\n",
       "    <tr>\n",
       "      <th>64668</th>\n",
       "      <td>NaN</td>\n",
       "      <td>True</td>\n",
       "    </tr>\n",
       "    <tr>\n",
       "      <th>9970</th>\n",
       "      <td>NaN</td>\n",
       "      <td>True</td>\n",
       "    </tr>\n",
       "    <tr>\n",
       "      <th>11058</th>\n",
       "      <td>NaN</td>\n",
       "      <td>True</td>\n",
       "    </tr>\n",
       "    <tr>\n",
       "      <th>33534</th>\n",
       "      <td>Human Resources Business Partner</td>\n",
       "      <td>False</td>\n",
       "    </tr>\n",
       "  </tbody>\n",
       "</table>\n",
       "</div>"
      ],
      "text/plain": [
       "                               job_title  anonymous\n",
       "62230                                NaN       True\n",
       "64668                                NaN       True\n",
       "9970                                 NaN       True\n",
       "11058                                NaN       True\n",
       "33534   Human Resources Business Partner      False"
      ]
     },
     "execution_count": 55,
     "metadata": {},
     "output_type": "execute_result"
    }
   ],
   "source": [
    "#Test\n",
    "df[['job_title', 'anonymous']].sample(5)"
   ]
  },
  {
   "cell_type": "markdown",
   "metadata": {},
   "source": [
    "### Data Cleaning: Dropping redundant columns"
   ]
  },
  {
   "cell_type": "code",
   "execution_count": 56,
   "metadata": {
    "scrolled": true
   },
   "outputs": [],
   "source": [
    "drop_columns = ['Unnamed: 0', 'location', 'job-title', 'link']\n",
    "df.drop(columns=drop_columns, axis=1, inplace=True)"
   ]
  },
  {
   "cell_type": "markdown",
   "metadata": {},
   "source": [
    "### Data Cleaning: Types and Value Corrections"
   ]
  },
  {
   "cell_type": "code",
   "execution_count": 57,
   "metadata": {},
   "outputs": [],
   "source": [
    "# Replace misrepresentations of missing values to NaN\n",
    "df.replace('none', np.nan, inplace=True);"
   ]
  },
  {
   "cell_type": "code",
   "execution_count": 58,
   "metadata": {},
   "outputs": [],
   "source": [
    "# Datetime Types:\n",
    "df.date = pd.to_datetime(df.date, errors='coerce')"
   ]
  },
  {
   "cell_type": "code",
   "execution_count": 59,
   "metadata": {},
   "outputs": [
    {
     "data": {
      "text/plain": [
       "(Timestamp('2008-01-31 00:00:00'), Timestamp('2018-12-11 00:00:00'))"
      ]
     },
     "execution_count": 59,
     "metadata": {},
     "output_type": "execute_result"
    }
   ],
   "source": [
    "# Let's look as the length of of time series\n",
    "df['date'].min(), df['date'].max()"
   ]
  },
  {
   "cell_type": "markdown",
   "metadata": {},
   "source": [
    "Let's sort the df by `data` column that is the only time series."
   ]
  },
  {
   "cell_type": "code",
   "execution_count": 60,
   "metadata": {},
   "outputs": [],
   "source": [
    "df.sort_values(by='date', ascending=False, inplace=True)"
   ]
  },
  {
   "cell_type": "markdown",
   "metadata": {},
   "source": [
    "The rating is based on a popular scale from 1 the worst to 5 the best. Some rating values in rating columns are in between levels i.e. 1.5, 2.5, 3.5, or 4.5. We will correct these rating by lowering them one level. E.g. 1.5 to 1, 2.5 to 2. Note There is no 0.5 nor 5.5 ratings to be corrected."
   ]
  },
  {
   "cell_type": "code",
   "execution_count": 61,
   "metadata": {},
   "outputs": [],
   "source": [
    "rating_cols = [col for col in df.columns if col.startswith('r_')]"
   ]
  },
  {
   "cell_type": "code",
   "execution_count": 62,
   "metadata": {},
   "outputs": [],
   "source": [
    "# Rating values to Numeric\n",
    "for col in rating_cols:\n",
    "    df[col] = pd.to_numeric(df[col], downcast='unsigned')"
   ]
  },
  {
   "cell_type": "code",
   "execution_count": 63,
   "metadata": {},
   "outputs": [],
   "source": [
    "# Correct in between rating values to lower rating before\n",
    "def five_ratings_only(col):\n",
    "    for idx in col.value_counts().index:\n",
    "        col[col==idx] = int(float(idx))\n",
    "    return col\n",
    "\n",
    "for col in rating_cols:\n",
    "    df[col] = five_ratings_only(df[col])"
   ]
  },
  {
   "cell_type": "code",
   "execution_count": 64,
   "metadata": {},
   "outputs": [
    {
     "data": {
      "text/html": [
       "<div>\n",
       "<style scoped>\n",
       "    .dataframe tbody tr th:only-of-type {\n",
       "        vertical-align: middle;\n",
       "    }\n",
       "\n",
       "    .dataframe tbody tr th {\n",
       "        vertical-align: top;\n",
       "    }\n",
       "\n",
       "    .dataframe thead th {\n",
       "        text-align: right;\n",
       "    }\n",
       "</style>\n",
       "<table border=\"1\" class=\"dataframe\">\n",
       "  <thead>\n",
       "    <tr style=\"text-align: right;\">\n",
       "      <th></th>\n",
       "      <th>r_overall</th>\n",
       "      <th>r_work_balance</th>\n",
       "      <th>r_culture</th>\n",
       "      <th>r_career_opp</th>\n",
       "      <th>r_comp_benefit</th>\n",
       "    </tr>\n",
       "  </thead>\n",
       "  <tbody>\n",
       "    <tr>\n",
       "      <th>51489</th>\n",
       "      <td>4</td>\n",
       "      <td>2.0</td>\n",
       "      <td>3.0</td>\n",
       "      <td>4.0</td>\n",
       "      <td>4.0</td>\n",
       "    </tr>\n",
       "    <tr>\n",
       "      <th>42975</th>\n",
       "      <td>4</td>\n",
       "      <td>2.0</td>\n",
       "      <td>3.0</td>\n",
       "      <td>4.0</td>\n",
       "      <td>5.0</td>\n",
       "    </tr>\n",
       "    <tr>\n",
       "      <th>57118</th>\n",
       "      <td>2</td>\n",
       "      <td>2.0</td>\n",
       "      <td>3.0</td>\n",
       "      <td>4.0</td>\n",
       "      <td>3.0</td>\n",
       "    </tr>\n",
       "    <tr>\n",
       "      <th>57789</th>\n",
       "      <td>4</td>\n",
       "      <td>4.0</td>\n",
       "      <td>4.0</td>\n",
       "      <td>4.0</td>\n",
       "      <td>4.0</td>\n",
       "    </tr>\n",
       "    <tr>\n",
       "      <th>61439</th>\n",
       "      <td>4</td>\n",
       "      <td>5.0</td>\n",
       "      <td>NaN</td>\n",
       "      <td>4.0</td>\n",
       "      <td>4.0</td>\n",
       "    </tr>\n",
       "  </tbody>\n",
       "</table>\n",
       "</div>"
      ],
      "text/plain": [
       "       r_overall  r_work_balance  r_culture  r_career_opp  r_comp_benefit\n",
       "51489          4             2.0        3.0           4.0             4.0\n",
       "42975          4             2.0        3.0           4.0             5.0\n",
       "57118          2             2.0        3.0           4.0             3.0\n",
       "57789          4             4.0        4.0           4.0             4.0\n",
       "61439          4             5.0        NaN           4.0             4.0"
      ]
     },
     "execution_count": 64,
     "metadata": {},
     "output_type": "execute_result"
    }
   ],
   "source": [
    "# Test\n",
    "df[rating_cols].sample(5)"
   ]
  },
  {
   "cell_type": "markdown",
   "metadata": {},
   "source": [
    "### Data Cleaning: Missing Values\n",
    " - Cleaning Missing Values\n",
    " - Plotting Missing Values' Counts"
   ]
  },
  {
   "cell_type": "code",
   "execution_count": 65,
   "metadata": {},
   "outputs": [],
   "source": [
    "def plot_missings(df, figsize=(15, 5)):\n",
    "    \n",
    "    fig, ax = plt.subplots(figsize=figsize)\n",
    "    color = sns.color_palette()[3]\n",
    "    \n",
    "    x = df.isnull().sum().index.values\n",
    "    y = df.isnull().sum()\n",
    "    sns.barplot(x, y, color=color, ax=ax)\n",
    "    locs, labels = plt.xticks(rotation=90)\n",
    "    for loc, label, missings, in zip(locs, labels, y):\n",
    "        if not missings:\n",
    "            ax.text(loc, 0, 'None', rotation=0, va='bottom', ha='center')\n",
    "        else:\n",
    "            ax.text(loc, missings, missings, rotation=0, va='bottom', ha='center')\n",
    "\n",
    "    ax.set(title='Missing Value Counts in all Columns', xlabel='Columns', ylabel='Counts')"
   ]
  },
  {
   "cell_type": "code",
   "execution_count": 66,
   "metadata": {},
   "outputs": [
    {
     "data": {
      "image/png": "[encoded data removed]",
      "text/plain": [
       "<Figure size 1080x360 with 1 Axes>"
      ]
     },
     "metadata": {
      "needs_background": "light"
     },
     "output_type": "display_data"
    }
   ],
   "source": [
    "plot_missings(df)"
   ]
  },
  {
   "cell_type": "markdown",
   "metadata": {},
   "source": [
    "- Fortunatly we have no missing values in overall-rating.\n",
    "- After reviewing some of the reviews with missing values, in the mean time it doesn't seem we should drop any review. "
   ]
  },
  {
   "cell_type": "code",
   "execution_count": 67,
   "metadata": {},
   "outputs": [
    {
     "data": {
      "text/html": [
       "<div>\n",
       "<style scoped>\n",
       "    .dataframe tbody tr th:only-of-type {\n",
       "        vertical-align: middle;\n",
       "    }\n",
       "\n",
       "    .dataframe tbody tr th {\n",
       "        vertical-align: top;\n",
       "    }\n",
       "\n",
       "    .dataframe thead th {\n",
       "        text-align: right;\n",
       "    }\n",
       "</style>\n",
       "<table border=\"1\" class=\"dataframe\">\n",
       "  <thead>\n",
       "    <tr style=\"text-align: right;\">\n",
       "      <th></th>\n",
       "      <th>company</th>\n",
       "      <th>date</th>\n",
       "      <th>summary</th>\n",
       "      <th>pros</th>\n",
       "      <th>cons</th>\n",
       "      <th>advice_to_mgmt</th>\n",
       "      <th>r_overall</th>\n",
       "      <th>r_work_balance</th>\n",
       "      <th>r_culture</th>\n",
       "      <th>r_career_opp</th>\n",
       "      <th>r_comp_benefit</th>\n",
       "      <th>senior_mangemnet</th>\n",
       "      <th>helpful_count</th>\n",
       "      <th>city</th>\n",
       "      <th>state</th>\n",
       "      <th>country</th>\n",
       "      <th>current_emp</th>\n",
       "      <th>job_title</th>\n",
       "      <th>anonymous</th>\n",
       "    </tr>\n",
       "  </thead>\n",
       "  <tbody>\n",
       "    <tr>\n",
       "      <th>42755</th>\n",
       "      <td>apple</td>\n",
       "      <td>2015-07-27</td>\n",
       "      <td>a great place</td>\n",
       "      <td>everything is awesome!!</td>\n",
       "      <td>NaN</td>\n",
       "      <td>NaN</td>\n",
       "      <td>4</td>\n",
       "      <td>5.0</td>\n",
       "      <td>5.0</td>\n",
       "      <td>5.0</td>\n",
       "      <td>5.0</td>\n",
       "      <td>5.0</td>\n",
       "      <td>0</td>\n",
       "      <td>Charlotte</td>\n",
       "      <td>NC</td>\n",
       "      <td>USA</td>\n",
       "      <td>True</td>\n",
       "      <td>NaN</td>\n",
       "      <td>True</td>\n",
       "    </tr>\n",
       "  </tbody>\n",
       "</table>\n",
       "</div>"
      ],
      "text/plain": [
       "      company       date        summary                     pros cons  \\\n",
       "42755   apple 2015-07-27  a great place  everything is awesome!!  NaN   \n",
       "\n",
       "      advice_to_mgmt  r_overall  r_work_balance  r_culture  r_career_opp  \\\n",
       "42755            NaN          4             5.0        5.0           5.0   \n",
       "\n",
       "       r_comp_benefit senior_mangemnet  helpful_count       city state  \\\n",
       "42755             5.0              5.0              0  Charlotte    NC   \n",
       "\n",
       "      country  current_emp job_title  anonymous  \n",
       "42755     USA         True       NaN       True  "
      ]
     },
     "execution_count": 67,
     "metadata": {},
     "output_type": "execute_result"
    }
   ],
   "source": [
    "#looking at one review with missing `cons` comment.\n",
    "df[df.cons.isnull()]"
   ]
  },
  {
   "cell_type": "markdown",
   "metadata": {},
   "source": [
    "end of cleaning data\n",
    "___"
   ]
  },
  {
   "cell_type": "markdown",
   "metadata": {},
   "source": [
    "## Univariate Explorations"
   ]
  },
  {
   "cell_type": "markdown",
   "metadata": {},
   "source": [
    "We will first look at the overall reviews rating distributions with an eye on differences between current and past employees."
   ]
  },
  {
   "cell_type": "code",
   "execution_count": 68,
   "metadata": {},
   "outputs": [
    {
     "data": {
      "image/png": "[encoded data removed]",
      "text/plain": [
       "<Figure size 1080x360 with 1 Axes>"
      ]
     },
     "metadata": {
      "needs_background": "light"
     },
     "output_type": "display_data"
    }
   ],
   "source": [
    "# Create the figure and axes and get access to them\n",
    "fig, ax = plt.subplots(figsize=(15, 5))\n",
    "\n",
    "# Figure's Title\n",
    "fig.suptitle('Employees\\' Overall Ratings\\' Distributions', fontsize=14, fontweight='bold')\n",
    "\n",
    "color = sns.color_palette()[1]\n",
    "\n",
    "x = 'r_overall'\n",
    "hue = 'current_emp'\n",
    "sns.countplot(ax=ax, data=df, x=x, hue=hue, color=color)\n",
    "\n",
    "ax.set(title='1 Star to 5 Stars')\n",
    "ax.legend(['Past Employees', 'Current Employees'])\n",
    "ax.set_axis_off()\n",
    "\n",
    "locs = ax.get_xticks()\n",
    "labels = ax.get_xlabel()\n",
    "\n",
    "counts = list(df.r_overall.value_counts(normalize=True).iloc[::-1])\n",
    "for loc, lable, count in zip(locs, labels, counts):\n",
    "\n",
    "    text = '{:0.0f}%'.format(100*count)\n",
    "    ax.text(loc, 0, text, color='black', va='top', ha='center', fontsize=14)"
   ]
  },
  {
   "cell_type": "code",
   "execution_count": 69,
   "metadata": {},
   "outputs": [],
   "source": [
    "#TODO: Create two side by side donut plots with 3 wedges depicting \n",
    "# overal ratings of past & current employees in 3 Categorical groups\n",
    "# Happy Employees consisting of 4 and 5 star reviews\n",
    "# Neutral Employees consisting of only 3 starreviews\n",
    "# Unhappy Employees consisting of 1 and 2 reviews"
   ]
  },
  {
   "cell_type": "markdown",
   "metadata": {},
   "source": [
    "**Observation:** \n",
    " - This plot shows unhappy past employees were more inclined to leave a low review than current employees.\n",
    " - We can see the current/past ratio increases as rating stars increeases. \n",
    " - Happier current employees are leaving higher rating reviews maybe to show their appreciation.\n",
    " - Uphappier past employees are leaving lower rating reviews maybe to be heard!\n",
    " ___"
   ]
  },
  {
   "cell_type": "markdown",
   "metadata": {},
   "source": [
    "#### Distributions of Reviews over time\n",
    "#### Calculate Review Age Multiplier\n",
    "#### New Col - Rating * TimeMultiplier"
   ]
  },
  {
   "cell_type": "code",
   "execution_count": 70,
   "metadata": {},
   "outputs": [],
   "source": [
    "###\n",
    "# Visualize number of reviews over each month in our dataset\n",
    "# Visualize average of a rating over each year\n",
    "dt = df['date'].values\n",
    "# type(dt.values)\n",
    "df['year'], df['month'] = df['date'].dt.year, df['date'].dt.month\n",
    "\n",
    "df.groupby('year').size()\n",
    "d = df[df['year']>=2014]"
   ]
  },
  {
   "cell_type": "markdown",
   "metadata": {},
   "source": [
    "____"
   ]
  },
  {
   "cell_type": "markdown",
   "metadata": {},
   "source": [
    "### Side by Side Distribution of All Ratings Groups"
   ]
  },
  {
   "cell_type": "code",
   "execution_count": 71,
   "metadata": {},
   "outputs": [
    {
     "data": {
      "image/png": "[encoded data removed]",
      "text/plain": [
       "<Figure size 1440x360 with 5 Axes>"
      ]
     },
     "metadata": {
      "needs_background": "light"
     },
     "output_type": "display_data"
    }
   ],
   "source": [
    "fig, (ax0, ax1, ax2, ax3, ax4) = plt.subplots(nrows=1, ncols=5, sharey=True, figsize=(20, 5))\n",
    "\n",
    "# fig.suptitle('Distribution of all 5 Employees\\' Ratings Groups', fontsize=22, fontweight='bold')\n",
    "\n",
    "plt.rcParams.update({'font.size': 14})\n",
    "\n",
    "color = sns.color_palette()[2]\n",
    "xticks=[1, 2, 3, 4, 5]\n",
    "\n",
    "sns.countplot(ax=ax0, data=df, x=df['r_overall'], color=color, order=xticks)\n",
    "\n",
    "color = sns.color_palette()[6]\n",
    "sns.countplot(ax=ax1, data=df, x=df['r_career_opp'], color=color, order=xticks)\n",
    "sns.countplot(ax=ax2, data=df, x=df['r_culture'], color=color, order=xticks)\n",
    "sns.countplot(ax=ax3, data=df, x=df['r_comp_benefit'], color=color, order=xticks)\n",
    "sns.countplot(ax=ax4, data=df, x=df['r_work_balance'], color=color, order=xticks)\n",
    "\n",
    "mean = '{:0.2f}'.format(df['r_overall'].mean())\n",
    "ax0.set(title='Overall Rating', xlabel=mean, ylabel='Counts')\n",
    "\n",
    "mean = '{:0.2f}'.format(df['r_career_opp'].mean())\n",
    "ax1.set(title='Career Opportunity', xlabel=mean, ylabel='')\n",
    "\n",
    "mean = '{:0.2f}'.format(df['r_culture'].mean())\n",
    "ax2.set(title='Culture & Values', xlabel=mean, ylabel='')\n",
    "\n",
    "mean = '{:0.2f}'.format(df['r_comp_benefit'].mean())\n",
    "ax3.set(title='Compensations & Benefits', xlabel=mean, ylabel='')\n",
    "\n",
    "mean = '{:0.2f}'.format(df['r_work_balance'].mean())\n",
    "ax4.set(title='Work Life Balance', xlabel=mean, ylabel='');\n",
    "\n",
    "# TODO: Print percentage of each bar on each bar on it."
   ]
  },
  {
   "cell_type": "markdown",
   "metadata": {},
   "source": [
    "**Findings Here:**\n",
    "- Overall Rating seems to best follow employees hapiness (rating) with Compensation and Benefits. \n",
    "- Can we say Work Life Balance chart shows employees favor less time at work!?\n",
    "___"
   ]
  },
  {
   "cell_type": "markdown",
   "metadata": {},
   "source": [
    "### Helpful_Count Column Distribution\n",
    "\n",
    "This is the only numeric feature that comes with our dataset. Let's take a look at it's distribution"
   ]
  },
  {
   "cell_type": "code",
   "execution_count": 72,
   "metadata": {},
   "outputs": [
    {
     "data": {
      "image/png": "[encoded data removed]",
      "text/plain": [
       "<Figure size 432x288 with 1 Axes>"
      ]
     },
     "metadata": {
      "needs_background": "light"
     },
     "output_type": "display_data"
    }
   ],
   "source": [
    "# plt.figure(figsize=(7.5, 5))\n",
    "plt.hist(data=df, x='helpful_count', bins=100);"
   ]
  },
  {
   "cell_type": "markdown",
   "metadata": {},
   "source": [
    "Our first histogram shows exterem Outliers exist."
   ]
  },
  {
   "cell_type": "code",
   "execution_count": 73,
   "metadata": {},
   "outputs": [],
   "source": [
    "def hist_magnifier(df, x, xlim1, xlim2, binsize):\n",
    "    plt.hist(data=df, x=x, bins=np.arange(xlim1, xlim2+binsize, binsize))\n",
    "    plt.xlim(xlim1, xlim2);"
   ]
  },
  {
   "cell_type": "code",
   "execution_count": 74,
   "metadata": {},
   "outputs": [
    {
     "data": {
      "image/png": "[encoded data removed]",
      "text/plain": [
       "<Figure size 1296x288 with 3 Axes>"
      ]
     },
     "metadata": {
      "needs_background": "light"
     },
     "output_type": "display_data"
    }
   ],
   "source": [
    "plt.figure(figsize=(18, 4))\n",
    "\n",
    "plt.subplot(1, 3, 1)\n",
    "hist_magnifier(df, df['helpful_count'], 0, 11, 1)\n",
    "\n",
    "plt.subplot(1, 3, 2)\n",
    "hist_magnifier(df, df['helpful_count'], 11, 100, 10)\n",
    "\n",
    "plt.subplot(1, 3, 3)\n",
    "hist_magnifier(df, df['helpful_count'], 100, df['helpful_count'].max()+100, 100)"
   ]
  },
  {
   "cell_type": "code",
   "execution_count": 75,
   "metadata": {},
   "outputs": [
    {
     "data": {
      "text/plain": [
       "0    0.666588\n",
       "1    0.822254\n",
       "2    0.888389\n",
       "3    0.923514\n",
       "4    0.944068\n",
       "Name: helpful_count, dtype: float64"
      ]
     },
     "execution_count": 75,
     "metadata": {},
     "output_type": "execute_result"
    }
   ],
   "source": [
    "cum_hist = df['helpful_count'].value_counts(normalize=True).cumsum()\n",
    "cum_hist[cum_hist<0.95]"
   ]
  },
  {
   "cell_type": "markdown",
   "metadata": {},
   "source": [
    "After some trial and error we arrived with these 3 histograms. Please pay attention to count for each plot and x data range.\n",
    "- Two third of all reviews have no helpful_count\n",
    "- 95% of reviews have helpful_count of 4 or less\n",
    "- From 10 to about 40 helpful_counts number reviews are in hundreds.\n",
    "- Any helpful_count of 50 or more to the highest count of about low two thousand are far in between."
   ]
  },
  {
   "cell_type": "markdown",
   "metadata": {},
   "source": [
    "end of Univariate Explorations\n",
    "____"
   ]
  },
  {
   "cell_type": "markdown",
   "metadata": {},
   "source": [
    "## Bivariate Explorations"
   ]
  },
  {
   "cell_type": "code",
   "execution_count": 76,
   "metadata": {},
   "outputs": [
    {
     "data": {
      "text/plain": [
       "(1.5, 4.5)"
      ]
     },
     "execution_count": 76,
     "metadata": {},
     "output_type": "execute_result"
    },
    {
     "data": {
      "image/png": "[encoded data removed]",
      "text/plain": [
       "<Figure size 1296x288 with 2 Axes>"
      ]
     },
     "metadata": {
      "needs_background": "light"
     },
     "output_type": "display_data"
    }
   ],
   "source": [
    "plt.figure(figsize=(18,4))\n",
    "\n",
    "#Show standard deviation of observations instead of a confidence interval\n",
    "plt.subplot(1, 2, 1)\n",
    "base_clr = sns.color_palette()[7]\n",
    "plot1 = sns.barplot(data=df, x='r_overall', y='r_career_opp', color=base_clr, capsize=.1)\n",
    "# plt.xticks(rotation=-15)\n",
    "\n",
    "#Show standard deviation of observations instead of a confidence interval\n",
    "plt.subplot(1, 2, 2)\n",
    "\n",
    "plot2 = sns.pointplot(data=df, x='r_overall', y='r_career_opp', color=base_clr, capsize=.1)\n",
    "# plt.xticks(rotation=15)\n",
    "plt.ylim(1.5, 4.5)\n",
    "\n",
    "# plt.ylim(plot1.get_ylim())"
   ]
  },
  {
   "cell_type": "markdown",
   "metadata": {},
   "source": [
    "end of bivariate explorations\n",
    "___"
   ]
  },
  {
   "cell_type": "markdown",
   "metadata": {},
   "source": [
    "## Feature Engineering\n",
    "\n",
    "Create new feature for the length of the review.\n",
    "Create new feature for the word count of the review."
   ]
  },
  {
   "cell_type": "code",
   "execution_count": 77,
   "metadata": {},
   "outputs": [],
   "source": [
    "# Clean Review Text Columns\n",
    "text_cols = ['summary', 'pros', 'cons', 'advice_to_mgmt']\n",
    "\n",
    "df['comments_wordcount'] = 0\n",
    "for col in text_cols:\n",
    "    df['comments_wordcount'] += df[col].astype(str).apply(lambda text: len(text.split()))"
   ]
  },
  {
   "cell_type": "code",
   "execution_count": 85,
   "metadata": {},
   "outputs": [
    {
     "data": {
      "text/plain": [
       "<matplotlib.axes._subplots.AxesSubplot at 0x130d8dc50>"
      ]
     },
     "execution_count": 85,
     "metadata": {},
     "output_type": "execute_result"
    },
    {
     "data": {
      "image/png": "[encoded data removed]",
      "text/plain": [
       "<Figure size 432x288 with 1 Axes>"
      ]
     },
     "metadata": {
      "needs_background": "light"
     },
     "output_type": "display_data"
    }
   ],
   "source": [
    "sns.distplot(df['comments_wordcount']);"
   ]
  },
  {
   "cell_type": "code",
   "execution_count": 79,
   "metadata": {},
   "outputs": [
    {
     "data": {
      "text/plain": [
       "count    67529.000000\n",
       "mean        69.608405\n",
       "std         90.158068\n",
       "min          8.000000\n",
       "25%         23.000000\n",
       "50%         42.000000\n",
       "75%         82.000000\n",
       "max       3726.000000\n",
       "Name: comments_wordcount, dtype: float64"
      ]
     },
     "execution_count": 79,
     "metadata": {},
     "output_type": "execute_result"
    }
   ],
   "source": [
    "df['comments_wordcount'].describe()"
   ]
  },
  {
   "cell_type": "code",
   "execution_count": 89,
   "metadata": {},
   "outputs": [],
   "source": [
    "df['review_age_int'] = pd.to_numeric((pd.datetime.today() - df['date']).dt.days)"
   ]
  },
  {
   "cell_type": "code",
   "execution_count": 94,
   "metadata": {},
   "outputs": [
    {
     "data": {
      "image/png": "[encoded data removed]",
      "text/plain": [
       "<Figure size 432x288 with 1 Axes>"
      ]
     },
     "metadata": {
      "needs_background": "light"
     },
     "output_type": "display_data"
    }
   ],
   "source": [
    "# sns.distplot(df['review_age_int'], n)\n",
    "plt.hist(data=df, x=df['review_age_int'], bins=np.arange(0, 5000, 180));"
   ]
  },
  {
   "cell_type": "code",
   "execution_count": 111,
   "metadata": {},
   "outputs": [
    {
     "data": {
      "image/png": "[encoded data removed]",
      "text/plain": [
       "<Figure size 432x288 with 1 Axes>"
      ]
     },
     "metadata": {
      "needs_background": "light"
     },
     "output_type": "display_data"
    }
   ],
   "source": [
    "df['date'].dropna()\n",
    "plt.hist(data=df, x='date');"
   ]
  },
  {
   "cell_type": "code",
   "execution_count": 101,
   "metadata": {},
   "outputs": [
    {
     "data": {
      "text/plain": [
       "(67525, 23)"
      ]
     },
     "execution_count": 101,
     "metadata": {},
     "output_type": "execute_result"
    }
   ],
   "source": [
    "df.shape"
   ]
  },
  {
   "cell_type": "code",
   "execution_count": 100,
   "metadata": {},
   "outputs": [],
   "source": [
    "df = df.dropna(subset=['date'])"
   ]
  },
  {
   "cell_type": "code",
   "execution_count": null,
   "metadata": {},
   "outputs": [],
   "source": []
  }
 ],
 "metadata": {
  "kernelspec": {
   "display_name": "Python 3",
   "language": "python",
   "name": "python3"
  },
  "language_info": {
   "codemirror_mode": {
    "name": "ipython",
    "version": 3
   },
   "file_extension": ".py",
   "mimetype": "text/x-python",
   "name": "python",
   "nbconvert_exporter": "python",
   "pygments_lexer": "ipython3",
   "version": "3.7.2"
  }
 },
 "nbformat": 4,
 "nbformat_minor": 2
}
