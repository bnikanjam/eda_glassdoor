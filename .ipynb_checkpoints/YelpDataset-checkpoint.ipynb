{
 "cells": [
  {
   "cell_type": "markdown",
   "metadata": {},
   "source": [
    "# Yelp Dataset\n",
    "___\n",
    "**Context** The dataset here comprises of ..."
   ]
  },
  {
   "cell_type": "markdown",
   "metadata": {},
   "source": [
    "## Importing modules and loading data <a name=\"import\"></a>"
   ]
  },
  {
   "cell_type": "markdown",
   "metadata": {},
   "source": [
    "1. First we import python modules"
   ]
  },
  {
   "cell_type": "code",
   "execution_count": 1,
   "metadata": {},
   "outputs": [],
   "source": [
    "# Essential Data Analysis Ecosystem Libraries\n",
    "import numpy as np\n",
    "import pandas as pd\n",
    "import matplotlib.pyplot as plt\n",
    "\n",
    "# From Python Standard Library\n",
    "import os, sys\n",
    "import json  # encoding and decoding json data\n",
    "\n",
    "import ast # Safely evaluate an expression node or a string containing a Python literal or container display."
   ]
  },
  {
   "cell_type": "code",
   "execution_count": 2,
   "metadata": {},
   "outputs": [],
   "source": [
    "# set plots to be embedded inline\n",
    "%matplotlib inline\n",
    "\n",
    "# suppress warnings from final output\n",
    "import warnings\n",
    "warnings.simplefilter(\"ignore\")"
   ]
  },
  {
   "cell_type": "markdown",
   "metadata": {},
   "source": [
    "2. import the dataset"
   ]
  },
  {
   "cell_type": "code",
   "execution_count": 3,
   "metadata": {},
   "outputs": [
    {
     "data": {
      "text/plain": [
       "['business.json',\n",
       " 'Yelp_Dataset_Challenge_Round_13.pdf',\n",
       " 'Dataset_Challenge_Dataset_Agreement.pdf',\n",
       " 'user.json',\n",
       " 'checkin.json',\n",
       " 'tip.json',\n",
       " 'review.json',\n",
       " 'photo.json']"
      ]
     },
     "execution_count": 3,
     "metadata": {},
     "output_type": "execute_result"
    }
   ],
   "source": [
    "dataset_path = '../input/yelp_dataset/'\n",
    "list(os.listdir(dataset_path))"
   ]
  },
  {
   "cell_type": "code",
   "execution_count": 4,
   "metadata": {},
   "outputs": [],
   "source": [
    "#  flattening JSON objects of arbitrary structure\n",
    "def flatten_json(y, deepflat=False):\n",
    "    \"\"\"Recursively extract values out of the object into a flattened dictionary. \n",
    "    json_normalize can be applied to the output of flatten_object to produce a python dataframe.\n",
    "    \"\"\"\n",
    "    out = {}\n",
    "\n",
    "    def flatten(x, name=''):\n",
    "        if isinstance(x, dict):\n",
    "            for a in x:\n",
    "                flatten(x[a], name + a + '_')\n",
    "        elif isinstance(x, list):\n",
    "            i = 0\n",
    "            for a in x:\n",
    "                flatten(a, name + str(i) + '_')\n",
    "                i += 1\n",
    "        elif deepflat and isinstance(x, str) and x.startswith('{') and x.endswith('}'):\n",
    "            x = ast.literal_eval(x)  # convert string representation-of-dictionary to actual dictionary.\n",
    "            for a in x:\n",
    "                flatten(x[a], name + a + '_')\n",
    "        else:\n",
    "            out[str(name[:-1])] = str(x)\n",
    "\n",
    "    flatten(y)\n",
    "    return out"
   ]
  },
  {
   "cell_type": "code",
   "execution_count": 5,
   "metadata": {},
   "outputs": [],
   "source": [
    "def json_file_to_dataframe(json_file, deepflat=False):\n",
    "    with open(json_file, 'r') as reader:\n",
    "        _list = []\n",
    "        for line in reader:\n",
    "            _dict = flatten_json(json.loads(line), deepflat)\n",
    "            _list.append(_dict)\n",
    "\n",
    "    return pd.DataFrame(_list)"
   ]
  },
  {
   "cell_type": "code",
   "execution_count": 6,
   "metadata": {},
   "outputs": [
    {
     "name": "stdout",
     "output_type": "stream",
     "text": [
      "(192609, 109) businesses\n",
      "(1637138, 22) users\n",
      "(161950, 2) checkins\n",
      "(1223094, 5) tips\n",
      "(6685900, 9) reviews\n",
      "(200000, 4) photos\n"
     ]
    }
   ],
   "source": [
    "businesses = json_file_to_dataframe(os.path.join(dataset_path, 'business.json'), deepflat=True) ; print(businesses.shape, 'businesses')\n",
    "users      = json_file_to_dataframe(os.path.join(dataset_path, 'user.json')    , deepflat=True) ; print(users.shape, 'users')\n",
    "checkins   = json_file_to_dataframe(os.path.join(dataset_path, 'checkin.json') , deepflat=True) ; print(checkins.shape, 'checkins')\n",
    "tips       = json_file_to_dataframe(os.path.join(dataset_path, 'tip.json')     , deepflat=False); print(tips.shape, 'tips')\n",
    "reviews    = json_file_to_dataframe(os.path.join(dataset_path, 'review.json')  , deepflat=False); print(reviews.shape, 'reviews')\n",
    "photos     = json_file_to_dataframe(os.path.join(dataset_path, 'photo.json')   , deepflat=False); print(photos.shape, 'photos')"
   ]
  },
  {
   "cell_type": "code",
   "execution_count": 29,
   "metadata": {},
   "outputs": [
    {
     "name": "stdout",
     "output_type": "stream",
     "text": [
      "address                                  151977\n",
      "attributes                                    1\n",
      "attributes_AcceptsInsurance                   3\n",
      "attributes_AgesAllowed                        5\n",
      "attributes_Alcohol                            7\n",
      "attributes_Ambience                           1\n",
      "attributes_Ambience_casual                    2\n",
      "attributes_Ambience_classy                    2\n",
      "attributes_Ambience_divey                     2\n",
      "attributes_Ambience_hipster                   2\n",
      "attributes_Ambience_intimate                  2\n",
      "attributes_Ambience_romantic                  2\n",
      "attributes_Ambience_touristy                  2\n",
      "attributes_Ambience_trendy                    2\n",
      "attributes_Ambience_upscale                   2\n",
      "attributes_BYOB                               2\n",
      "attributes_BYOBCorkage                        7\n",
      "attributes_BestNights                         1\n",
      "attributes_BestNights_friday                  2\n",
      "attributes_BestNights_monday                  2\n",
      "attributes_BestNights_saturday                2\n",
      "attributes_BestNights_sunday                  2\n",
      "attributes_BestNights_thursday                2\n",
      "attributes_BestNights_tuesday                 2\n",
      "attributes_BestNights_wednesday               2\n",
      "attributes_BikeParking                        3\n",
      "attributes_BusinessAcceptsBitcoin             3\n",
      "attributes_BusinessAcceptsCreditCards         3\n",
      "attributes_BusinessParking                    1\n",
      "attributes_BusinessParking_garage             2\n",
      "                                          ...  \n",
      "attributes_RestaurantsAttire                  7\n",
      "attributes_RestaurantsCounterService          2\n",
      "attributes_RestaurantsDelivery                3\n",
      "attributes_RestaurantsGoodForGroups           3\n",
      "attributes_RestaurantsPriceRange2             5\n",
      "attributes_RestaurantsReservations            3\n",
      "attributes_RestaurantsTableService            3\n",
      "attributes_RestaurantsTakeOut                 3\n",
      "attributes_Smoking                            7\n",
      "attributes_WheelchairAccessible               3\n",
      "attributes_WiFi                               7\n",
      "business_id                              192609\n",
      "categories                                93386\n",
      "city                                       1204\n",
      "hours                                         1\n",
      "hours_Friday                               1564\n",
      "hours_Monday                               1398\n",
      "hours_Saturday                             1505\n",
      "hours_Sunday                               1364\n",
      "hours_Thursday                             1524\n",
      "hours_Tuesday                              1444\n",
      "hours_Wednesday                            1460\n",
      "is_open                                       2\n",
      "latitude                                 155162\n",
      "longitude                                150404\n",
      "name                                     145046\n",
      "postal_code                               17541\n",
      "review_count                               1184\n",
      "stars                                         9\n",
      "state                                        36\n",
      "Length: 109, dtype: int64\n"
     ]
    }
   ],
   "source": [
    "print(businesses.nunique())"
   ]
  },
  {
   "cell_type": "code",
   "execution_count": 39,
   "metadata": {},
   "outputs": [
    {
     "data": {
      "text/plain": [
       "False    32091\n",
       "True     20147\n",
       "None        49\n",
       "Name: attributes_RestaurantsReservations, dtype: int64"
      ]
     },
     "execution_count": 39,
     "metadata": {},
     "output_type": "execute_result"
    }
   ],
   "source": [
    "businesses.attributes_RestaurantsReservations.value_counts()"
   ]
  },
  {
   "cell_type": "code",
   "execution_count": 40,
   "metadata": {},
   "outputs": [],
   "source": [
    "mask = businesses.attributes_RestaurantsReservations == 'True'"
   ]
  },
  {
   "cell_type": "code",
   "execution_count": 47,
   "metadata": {},
   "outputs": [
    {
     "data": {
      "text/html": [
       "<div>\n",
       "<style scoped>\n",
       "    .dataframe tbody tr th:only-of-type {\n",
       "        vertical-align: middle;\n",
       "    }\n",
       "\n",
       "    .dataframe tbody tr th {\n",
       "        vertical-align: top;\n",
       "    }\n",
       "\n",
       "    .dataframe thead th {\n",
       "        text-align: right;\n",
       "    }\n",
       "</style>\n",
       "<table border=\"1\" class=\"dataframe\">\n",
       "  <thead>\n",
       "    <tr style=\"text-align: right;\">\n",
       "      <th></th>\n",
       "      <th>address</th>\n",
       "      <th>attributes</th>\n",
       "      <th>attributes_AcceptsInsurance</th>\n",
       "      <th>attributes_AgesAllowed</th>\n",
       "      <th>attributes_Alcohol</th>\n",
       "      <th>attributes_Ambience</th>\n",
       "      <th>attributes_Ambience_casual</th>\n",
       "      <th>attributes_Ambience_classy</th>\n",
       "      <th>attributes_Ambience_divey</th>\n",
       "      <th>attributes_Ambience_hipster</th>\n",
       "      <th>...</th>\n",
       "      <th>hours_Tuesday</th>\n",
       "      <th>hours_Wednesday</th>\n",
       "      <th>is_open</th>\n",
       "      <th>latitude</th>\n",
       "      <th>longitude</th>\n",
       "      <th>name</th>\n",
       "      <th>postal_code</th>\n",
       "      <th>review_count</th>\n",
       "      <th>stars</th>\n",
       "      <th>state</th>\n",
       "    </tr>\n",
       "  </thead>\n",
       "  <tbody>\n",
       "    <tr>\n",
       "      <th>130218</th>\n",
       "      <td>735 Middlefield Road</td>\n",
       "      <td>NaN</td>\n",
       "      <td>NaN</td>\n",
       "      <td>NaN</td>\n",
       "      <td>u'beer_and_wine'</td>\n",
       "      <td>NaN</td>\n",
       "      <td>True</td>\n",
       "      <td>False</td>\n",
       "      <td>False</td>\n",
       "      <td>False</td>\n",
       "      <td>...</td>\n",
       "      <td>11:0-22:0</td>\n",
       "      <td>11:0-22:0</td>\n",
       "      <td>1</td>\n",
       "      <td>43.8197999</td>\n",
       "      <td>-79.2615326</td>\n",
       "      <td>Royal Chinese Seafood Restaurant</td>\n",
       "      <td>M1V 5H5</td>\n",
       "      <td>27</td>\n",
       "      <td>3.5</td>\n",
       "      <td>ON</td>\n",
       "    </tr>\n",
       "  </tbody>\n",
       "</table>\n",
       "<p>1 rows × 109 columns</p>\n",
       "</div>"
      ],
      "text/plain": [
       "                     address attributes attributes_AcceptsInsurance  \\\n",
       "130218  735 Middlefield Road        NaN                         NaN   \n",
       "\n",
       "       attributes_AgesAllowed attributes_Alcohol attributes_Ambience  \\\n",
       "130218                    NaN   u'beer_and_wine'                 NaN   \n",
       "\n",
       "       attributes_Ambience_casual attributes_Ambience_classy  \\\n",
       "130218                       True                      False   \n",
       "\n",
       "       attributes_Ambience_divey attributes_Ambience_hipster  ...  \\\n",
       "130218                     False                       False  ...   \n",
       "\n",
       "       hours_Tuesday hours_Wednesday is_open    latitude    longitude  \\\n",
       "130218     11:0-22:0       11:0-22:0       1  43.8197999  -79.2615326   \n",
       "\n",
       "                                    name postal_code review_count stars state  \n",
       "130218  Royal Chinese Seafood Restaurant     M1V 5H5           27   3.5    ON  \n",
       "\n",
       "[1 rows x 109 columns]"
      ]
     },
     "execution_count": 47,
     "metadata": {},
     "output_type": "execute_result"
    }
   ],
   "source": [
    "businesses[mask].sample()"
   ]
  },
  {
   "cell_type": "code",
   "execution_count": 49,
   "metadata": {},
   "outputs": [
    {
     "data": {
      "text/plain": [
       "Boston Pizza                          61\n",
       "Swiss Chalet Rotisserie & Grill       51\n",
       "Outback Steakhouse                    40\n",
       "Olive Garden Italian Restaurant       37\n",
       "Red Lobster                           36\n",
       "Wild Wing                             28\n",
       "St. Louis Bar & Grill                 26\n",
       "Pizza Hut                             25\n",
       "Jack Astor's Bar & Grill              24\n",
       "LongHorn Steakhouse                   23\n",
       "Moxie's Grill & Bar                   22\n",
       "Streets of New York                   22\n",
       "Montana's BBQ & Bar                   20\n",
       "Ruby Tuesday                          19\n",
       "P.F. Chang's                          19\n",
       "Rôtisserie St-Hubert                  18\n",
       "Bâton Rouge Steakhouse & Bar          17\n",
       "Kelseys Original Roadhouse            16\n",
       "Milestones Restaurants                16\n",
       "Chuck E. Cheese's                     16\n",
       "Chili's                               15\n",
       "The Captain's Boil                    15\n",
       "East Side Mario's                     14\n",
       "Applebee's Grill + Bar                14\n",
       "Buca di Beppo Italian Restaurant      14\n",
       "Domino's Pizza                        14\n",
       "Romano's Macaroni Grill               14\n",
       "Ben & Florentine                      14\n",
       "Peter Piper Pizza                     14\n",
       "Symposium Cafe Restaurant & Lounge    13\n",
       "                                      ..\n",
       "Bannock                                1\n",
       "Vox Wine Lounge                        1\n",
       "Gordon Ramsay Pub & Grill              1\n",
       "Han Mi Jeong                           1\n",
       "Bab Sharqi                             1\n",
       "Ha Ahn Korean Restaurant               1\n",
       "R & R Cafe                             1\n",
       "Ferro Bar & Cafe                       1\n",
       "Priya Indian Restaurant                1\n",
       "Les Voltigeurs Restaurant              1\n",
       "Hot Dog Daddy                          1\n",
       "Regal 16 Chinese Restaurant            1\n",
       "Szechwan Noodle                        1\n",
       "Emperor Fine Chinese Cuisine           1\n",
       "Qwik's Chinese Bistro                  1\n",
       "Nirala Sweets & Restaurant             1\n",
       "Match Works Tavern                     1\n",
       "Chatterpaul's                          1\n",
       "Pig & Pickle                           1\n",
       "Bite Bistro                            1\n",
       "Daddy Duke's                           1\n",
       "The SAJ Pizza & Wrap                   1\n",
       "San Lorenzo Ristorante                 1\n",
       "PURE Sushi Colony                      1\n",
       "Dominic's Santos                       1\n",
       "Bobby's Restaurant and Lounge          1\n",
       "Pho Kitchen                            1\n",
       "Steak Frites                           1\n",
       "Sushi King                             1\n",
       "Cafeden                                1\n",
       "Name: name, Length: 17498, dtype: int64"
      ]
     },
     "execution_count": 49,
     "metadata": {},
     "output_type": "execute_result"
    }
   ],
   "source": [
    "businesses[mask].name.value_counts()"
   ]
  },
  {
   "cell_type": "code",
   "execution_count": 50,
   "metadata": {},
   "outputs": [
    {
     "data": {
      "text/plain": [
       "average_stars             400\n",
       "compliment_cool          1561\n",
       "compliment_cute           337\n",
       "compliment_funny         1561\n",
       "compliment_hot           1348\n",
       "compliment_list           196\n",
       "compliment_more           354\n",
       "compliment_note           952\n",
       "compliment_photos         863\n",
       "compliment_plain         1550\n",
       "compliment_profile        356\n",
       "compliment_writer         825\n",
       "cool                     3950\n",
       "elite                     756\n",
       "fans                      591\n",
       "friends                933769\n",
       "funny                    3490\n",
       "name                   124917\n",
       "review_count             1791\n",
       "useful                   4737\n",
       "user_id               1637138\n",
       "yelping_since         1631010\n",
       "dtype: int64"
      ]
     },
     "execution_count": 50,
     "metadata": {},
     "output_type": "execute_result"
    }
   ],
   "source": [
    "users.nunique()"
   ]
  },
  {
   "cell_type": "code",
   "execution_count": null,
   "metadata": {},
   "outputs": [],
   "source": []
  }
 ],
 "metadata": {
  "kernelspec": {
   "display_name": "Python 3",
   "language": "python",
   "name": "python3"
  },
  "language_info": {
   "codemirror_mode": {
    "name": "ipython",
    "version": 3
   },
   "file_extension": ".py",
   "mimetype": "text/x-python",
   "name": "python",
   "nbconvert_exporter": "python",
   "pygments_lexer": "ipython3",
   "version": "3.7.2"
  }
 },
 "nbformat": 4,
 "nbformat_minor": 2
}
