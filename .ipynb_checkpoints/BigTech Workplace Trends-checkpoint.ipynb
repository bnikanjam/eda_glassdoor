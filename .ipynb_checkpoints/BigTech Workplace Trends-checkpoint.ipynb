{
 "cells": [
  {
   "cell_type": "markdown",
   "metadata": {},
   "source": [
    "##### Exploratory Data Analysis of:\n",
    "## Microsoft, Apple, Amazon, Google, Netflix, and Facebook Workplace Reviews\n",
    "___"
   ]
  },
  {
   "cell_type": "markdown",
   "metadata": {},
   "source": [
    "**Table of contents:**\n",
    "\n",
    "Exploration\n",
    "\n",
    "1. [What insights and questions are we exploring?](#Context)\n",
    "1. [Libraries, Settings and Loading the Dataset](#Libraries)\n",
    "1. [Variables Assessment and Univariant Exploration](#Univariant)\n",
    "1. [Bivariate and Multivariate Explorations](#Multivariate)\n",
    "1. [Feature Engineering](#Feature)\n",
    "\n",
    "Explanatory Visualization\n",
    "\n",
    "1. [Main findings from this exploration](#findings)\n",
    "1. [Story of our Data](#Story)\n",
    "\n",
    "\n",
    "___"
   ]
  },
  {
   "cell_type": "markdown",
   "metadata": {},
   "source": [
    "## What insights and questions are we exploring?<a name=\"Context\"></a>"
   ]
  },
  {
   "cell_type": "markdown",
   "metadata": {},
   "source": [
    "**Context:** We have over 67k employee reviews for Google, Amazon, Facebook, Apple, Netflix, and Microsoft.  The dataset is hosted on Kaggle and is scraped from www.glassdoor.com.\n",
    "\n",
    "Companies are groups of people and similar to an intelligent living, a company continuously growing, aging, evolving, experimenting, learning from its mistakes, and hope for the better future.\n",
    "\n",
    "A review is a general take of an employee that is shaped by his/her experiences,  current and past expectations, their values and future hopes both for themselves and the company.\n",
    "\n",
    "We have over 67k employee reviews for Google, Amazon, Facebook, Apple, Netflix, and Microsoft.  This dataset is hosted on Kaggle and was scraped from Glassdoor.\n",
    "\n",
    "\n",
    "**Questions and insights we are interested in:** We are going to explore each feature in this dataset and find out based on this data\n",
    "- What matters most to employees?\n",
    "- At the time of the last review in our dataset, what company has been most successful in making happier employees?\n",
    "- - We'd like to do this analysis valuing newer reviews higher than older ones.\n",
    "- We also like to see the differences between current and past employees at the time of the review.\n",
    "___"
   ]
  },
  {
   "cell_type": "markdown",
   "metadata": {},
   "source": [
    "## Libraries, Settings and Loading the Dataset <a name=\"Libraries\"></a>"
   ]
  },
  {
   "cell_type": "code",
   "execution_count": 1,
   "metadata": {},
   "outputs": [
    {
     "name": "stderr",
     "output_type": "stream",
     "text": [
      "/Users/bnik/anaconda3/lib/python3.6/importlib/_bootstrap.py:219: RuntimeWarning: numpy.dtype size changed, may indicate binary incompatibility. Expected 96, got 88\n",
      "  return f(*args, **kwds)\n",
      "/Users/bnik/anaconda3/lib/python3.6/importlib/_bootstrap.py:219: RuntimeWarning: numpy.dtype size changed, may indicate binary incompatibility. Expected 96, got 88\n",
      "  return f(*args, **kwds)\n"
     ]
    }
   ],
   "source": [
    "# Essential Data Analysis Ecosystem\n",
    "import numpy as np\n",
    "import pandas as pd\n",
    "from pandas.api.types import CategoricalDtype\n",
    "\n",
    "# Visualizations\n",
    "import matplotlib.pyplot as plt\n",
    "import seaborn as sns\n",
    "\n",
    "# Python Standard Libraries\n",
    "import os  # os file operations\n",
    "import re  # data cleaning\n",
    "import webbrowser\n",
    "\n",
    "# set plots to be embedded inline\n",
    "%matplotlib inline\n",
    "\n",
    "two_in_row = (12, 4)  # two square plots next to each other\n",
    "# plt.rcParams['font.family'] = 'sans-serif'\n",
    "# plt.rcParams['font.sans-serif'] = 'Helvetica'\n",
    "\n",
    "bcolor = sns.color_palette()[0]\n",
    "sns.set(style='ticks', palette='pastel')\n",
    "\n",
    "# suppress warnings from final output\n",
    "import warnings\n",
    "warnings.simplefilter(\"ignore\")"
   ]
  },
  {
   "cell_type": "markdown",
   "metadata": {},
   "source": [
    "#### Load up the Dataset and First Look at the Data"
   ]
  },
  {
   "cell_type": "code",
   "execution_count": 2,
   "metadata": {},
   "outputs": [],
   "source": [
    "dataset_path = 'input/'\n",
    "df = pd.read_csv(os.path.join(dataset_path, 'employee_reviews.csv'), index_col=0)"
   ]
  },
  {
   "cell_type": "markdown",
   "metadata": {},
   "source": [
    "#### Let's look at shape of our raw data and  5  random  reviews:"
   ]
  },
  {
   "cell_type": "code",
   "execution_count": 3,
   "metadata": {},
   "outputs": [
    {
     "name": "stdout",
     "output_type": "stream",
     "text": [
      "Number of rows (reviews) and columns: (67529, 16)\n"
     ]
    },
    {
     "data": {
      "text/html": [
       "<div>\n",
       "<style scoped>\n",
       "    .dataframe tbody tr th:only-of-type {\n",
       "        vertical-align: middle;\n",
       "    }\n",
       "\n",
       "    .dataframe tbody tr th {\n",
       "        vertical-align: top;\n",
       "    }\n",
       "\n",
       "    .dataframe thead th {\n",
       "        text-align: right;\n",
       "    }\n",
       "</style>\n",
       "<table border=\"1\" class=\"dataframe\">\n",
       "  <thead>\n",
       "    <tr style=\"text-align: right;\">\n",
       "      <th></th>\n",
       "      <th>company</th>\n",
       "      <th>location</th>\n",
       "      <th>dates</th>\n",
       "      <th>job-title</th>\n",
       "      <th>summary</th>\n",
       "      <th>pros</th>\n",
       "      <th>cons</th>\n",
       "      <th>advice-to-mgmt</th>\n",
       "      <th>overall-ratings</th>\n",
       "      <th>work-balance-stars</th>\n",
       "      <th>culture-values-stars</th>\n",
       "      <th>carrer-opportunities-stars</th>\n",
       "      <th>comp-benefit-stars</th>\n",
       "      <th>senior-mangemnet-stars</th>\n",
       "      <th>helpful-count</th>\n",
       "      <th>link</th>\n",
       "    </tr>\n",
       "  </thead>\n",
       "  <tbody>\n",
       "    <tr>\n",
       "      <th>52375</th>\n",
       "      <td>microsoft</td>\n",
       "      <td>Redmond, WA</td>\n",
       "      <td>Dec 11, 2016</td>\n",
       "      <td>Current Employee - Software Engineer II</td>\n",
       "      <td>Excellent culture, intelligent coworkers, impr...</td>\n",
       "      <td>- Excellent benefits - Good compensation - Som...</td>\n",
       "      <td>- Hiring quality is not uniform. Not all hires...</td>\n",
       "      <td>Keep doing what you are doing, drive the compa...</td>\n",
       "      <td>4.0</td>\n",
       "      <td>5.0</td>\n",
       "      <td>5.0</td>\n",
       "      <td>4.0</td>\n",
       "      <td>4.0</td>\n",
       "      <td>4.0</td>\n",
       "      <td>0</td>\n",
       "      <td>https://www.glassdoor.com/Reviews/Microsoft-Re...</td>\n",
       "    </tr>\n",
       "    <tr>\n",
       "      <th>28310</th>\n",
       "      <td>amazon</td>\n",
       "      <td>Bengaluru (India)</td>\n",
       "      <td>Feb 5, 2018</td>\n",
       "      <td>Current Employee - Catalogue Assistant</td>\n",
       "      <td>catalogue assistant</td>\n",
       "      <td>best place to start your career</td>\n",
       "      <td>should get opportunities to learn all things</td>\n",
       "      <td>none</td>\n",
       "      <td>5.0</td>\n",
       "      <td>3.0</td>\n",
       "      <td>4.0</td>\n",
       "      <td>5.0</td>\n",
       "      <td>4.0</td>\n",
       "      <td>3.0</td>\n",
       "      <td>0</td>\n",
       "      <td>https://www.glassdoor.com/Reviews/Amazon-Revie...</td>\n",
       "    </tr>\n",
       "    <tr>\n",
       "      <th>26502</th>\n",
       "      <td>amazon</td>\n",
       "      <td>Chennai (India)</td>\n",
       "      <td>Sep 5, 2018</td>\n",
       "      <td>Current Employee - Site Training Specialist</td>\n",
       "      <td>Site Training Specialist</td>\n",
       "      <td>To learn the principles and the structure of t...</td>\n",
       "      <td>Career Growth is limited to the structure of t...</td>\n",
       "      <td>none</td>\n",
       "      <td>2.0</td>\n",
       "      <td>1.0</td>\n",
       "      <td>3.0</td>\n",
       "      <td>2.0</td>\n",
       "      <td>1.0</td>\n",
       "      <td>2.0</td>\n",
       "      <td>0</td>\n",
       "      <td>https://www.glassdoor.com/Reviews/Amazon-Revie...</td>\n",
       "    </tr>\n",
       "  </tbody>\n",
       "</table>\n",
       "</div>"
      ],
      "text/plain": [
       "         company           location          dates  \\\n",
       "52375  microsoft        Redmond, WA   Dec 11, 2016   \n",
       "28310     amazon  Bengaluru (India)    Feb 5, 2018   \n",
       "26502     amazon    Chennai (India)    Sep 5, 2018   \n",
       "\n",
       "                                         job-title  \\\n",
       "52375      Current Employee - Software Engineer II   \n",
       "28310       Current Employee - Catalogue Assistant   \n",
       "26502  Current Employee - Site Training Specialist   \n",
       "\n",
       "                                                 summary  \\\n",
       "52375  Excellent culture, intelligent coworkers, impr...   \n",
       "28310                                catalogue assistant   \n",
       "26502                           Site Training Specialist   \n",
       "\n",
       "                                                    pros  \\\n",
       "52375  - Excellent benefits - Good compensation - Som...   \n",
       "28310                    best place to start your career   \n",
       "26502  To learn the principles and the structure of t...   \n",
       "\n",
       "                                                    cons  \\\n",
       "52375  - Hiring quality is not uniform. Not all hires...   \n",
       "28310       should get opportunities to learn all things   \n",
       "26502  Career Growth is limited to the structure of t...   \n",
       "\n",
       "                                          advice-to-mgmt  overall-ratings  \\\n",
       "52375  Keep doing what you are doing, drive the compa...              4.0   \n",
       "28310                                               none              5.0   \n",
       "26502                                               none              2.0   \n",
       "\n",
       "      work-balance-stars culture-values-stars carrer-opportunities-stars  \\\n",
       "52375                5.0                  5.0                        4.0   \n",
       "28310                3.0                  4.0                        5.0   \n",
       "26502                1.0                  3.0                        2.0   \n",
       "\n",
       "      comp-benefit-stars senior-mangemnet-stars  helpful-count  \\\n",
       "52375                4.0                    4.0              0   \n",
       "28310                4.0                    3.0              0   \n",
       "26502                1.0                    2.0              0   \n",
       "\n",
       "                                                    link  \n",
       "52375  https://www.glassdoor.com/Reviews/Microsoft-Re...  \n",
       "28310  https://www.glassdoor.com/Reviews/Amazon-Revie...  \n",
       "26502  https://www.glassdoor.com/Reviews/Amazon-Revie...  "
      ]
     },
     "execution_count": 3,
     "metadata": {},
     "output_type": "execute_result"
    }
   ],
   "source": [
    "print('Number of rows (reviews) and columns:', df.shape)\n",
    "df_samples = df.sample(3)\n",
    "df_samples"
   ]
  },
  {
   "cell_type": "code",
   "execution_count": 4,
   "metadata": {},
   "outputs": [
    {
     "data": {
      "text/plain": [
       "company                                                                  amazon\n",
       "location                                                                   none\n",
       "dates                                                              May 12, 2017\n",
       "job-title                                 Current Employee - Anonymous Employee\n",
       "summary                                                             Love my job\n",
       "pros                                       I love the company and their mission\n",
       "cons                             The turnover in leadership is really annoying.\n",
       "advice-to-mgmt                                         Have more of a backbone.\n",
       "overall-ratings                                                               4\n",
       "work-balance-stars                                                          3.0\n",
       "culture-values-stars                                                        3.0\n",
       "carrer-opportunities-stars                                                  3.0\n",
       "comp-benefit-stars                                                          5.0\n",
       "senior-mangemnet-stars                                                      3.0\n",
       "helpful-count                                                                 1\n",
       "link                          https://www.glassdoor.com/Reviews/Amazon-Revie...\n",
       "Name: 15777, dtype: object"
      ]
     },
     "execution_count": 4,
     "metadata": {},
     "output_type": "execute_result"
    }
   ],
   "source": [
    "df.iloc[np.random.randint(0, df.shape[0]-1)] # A detailed look at a random review"
   ]
  },
  {
   "cell_type": "code",
   "execution_count": 5,
   "metadata": {
    "scrolled": false
   },
   "outputs": [
    {
     "name": "stdout",
     "output_type": "stream",
     "text": [
      "<class 'pandas.core.frame.DataFrame'>\n",
      "Int64Index: 67529 entries, 1 to 67529\n",
      "Data columns (total 16 columns):\n",
      "company                       67529 non-null object\n",
      "location                      67529 non-null object\n",
      "dates                         67529 non-null object\n",
      "job-title                     67529 non-null object\n",
      "summary                       67409 non-null object\n",
      "pros                          67529 non-null object\n",
      "cons                          67529 non-null object\n",
      "advice-to-mgmt                67232 non-null object\n",
      "overall-ratings               67529 non-null float64\n",
      "work-balance-stars            67529 non-null object\n",
      "culture-values-stars          67529 non-null object\n",
      "carrer-opportunities-stars    67529 non-null object\n",
      "comp-benefit-stars            67529 non-null object\n",
      "senior-mangemnet-stars        67529 non-null object\n",
      "helpful-count                 67529 non-null int64\n",
      "link                          67529 non-null object\n",
      "dtypes: float64(1), int64(1), object(14)\n",
      "memory usage: 8.8+ MB\n"
     ]
    }
   ],
   "source": [
    "df.info()"
   ]
  },
  {
   "cell_type": "markdown",
   "metadata": {},
   "source": [
    "We don't see lots of missing data but that's most likely because missing data represented by string 'none'"
   ]
  },
  {
   "cell_type": "code",
   "execution_count": 6,
   "metadata": {},
   "outputs": [
    {
     "data": {
      "text/plain": [
       "company                           6\n",
       "location                       2044\n",
       "dates                          3824\n",
       "job-title                      8308\n",
       "summary                       42649\n",
       "pros                          66085\n",
       "cons                          66049\n",
       "advice-to-mgmt                35190\n",
       "overall-ratings                   5\n",
       "work-balance-stars               10\n",
       "culture-values-stars              6\n",
       "carrer-opportunities-stars       10\n",
       "comp-benefit-stars               10\n",
       "senior-mangemnet-stars           10\n",
       "helpful-count                    99\n",
       "link                           6754\n",
       "dtype: int64"
      ]
     },
     "execution_count": 6,
     "metadata": {},
     "output_type": "execute_result"
    }
   ],
   "source": [
    "df.nunique()"
   ]
  },
  {
   "cell_type": "markdown",
   "metadata": {},
   "source": [
    "We have four specific categories of ratings and 1 overall rating. They should be based on a 1-star to 5-stars ratings, but there are up to 10 different vlues for those ratings that needs to be looked at and cleaned."
   ]
  },
  {
   "cell_type": "markdown",
   "metadata": {},
   "source": [
    "#### Reviews on the glassdoor.com\n",
    "We can follow our sample scrapped reviews to www.glassdoor.com to see the actual reviews."
   ]
  },
  {
   "cell_type": "code",
   "execution_count": 7,
   "metadata": {},
   "outputs": [],
   "source": [
    "# links = df_raw_samples['link']\n",
    "# print(links)\n",
    "# answer = input('Enter,  y  if you would like to open and see these sample reviews\\` urls? ')\n",
    "# if answer.lower()=='y':\n",
    "#     [webbrowser.open(link) for link in links]"
   ]
  },
  {
   "cell_type": "markdown",
   "metadata": {},
   "source": [
    "Looking at the actual source of the data, we can see  two very likely useful peices of information in reviews are not scrapped. That is the length and type of employments. Here is 3 examples:\n",
    " - I worked at Amazon full-time (More than 3 years)\n",
    " - I have been working at Microsoft full-time (More than 10 years)\n",
    " - I have been working at Google full-time (Less than a year)"
   ]
  },
  {
   "cell_type": "markdown",
   "metadata": {},
   "source": [
    "end of quick look\n",
    "___"
   ]
  },
  {
   "cell_type": "markdown",
   "metadata": {},
   "source": [
    "## Variables Assessment and Univariant Exploration <a name=\"Univariant\"></a>"
   ]
  },
  {
   "cell_type": "code",
   "execution_count": 8,
   "metadata": {},
   "outputs": [
    {
     "data": {
      "text/plain": [
       "Index(['company', 'location', 'dates', 'job-title', 'summary', 'pros', 'cons',\n",
       "       'advice-to-mgmt', 'overall-ratings', 'work-balance-stars',\n",
       "       'culture-values-stars', 'carrer-opportunities-stars',\n",
       "       'comp-benefit-stars', 'senior-mangemnet-stars', 'helpful-count',\n",
       "       'link'],\n",
       "      dtype='object')"
      ]
     },
     "execution_count": 8,
     "metadata": {},
     "output_type": "execute_result"
    }
   ],
   "source": [
    "drop_cols=[]  # columns to be dropped\n",
    "df.columns"
   ]
  },
  {
   "cell_type": "code",
   "execution_count": 9,
   "metadata": {},
   "outputs": [],
   "source": [
    "# Make column names more Pandas friendly by changinh dashes to underscors\n",
    "df.columns = df.columns.str.replace('-', '_') "
   ]
  },
  {
   "cell_type": "markdown",
   "metadata": {},
   "source": [
    "**1st Column** `company` is the company name\n",
    "\n",
    "Companies in this data set are just names and have no order. To add more meaning for this column we will convert it to an ordinal categorical type sorted by date founded, from Microsoft to Facebook. "
   ]
  },
  {
   "cell_type": "code",
   "execution_count": 10,
   "metadata": {},
   "outputs": [
    {
     "data": {
      "text/plain": [
       "[google, google, google, google, google, ..., microsoft, microsoft, microsoft, microsoft, microsoft]\n",
       "Length: 67529\n",
       "Categories (6, object): [microsoft < apple < amazon < netflix < google < facebook]"
      ]
     },
     "execution_count": 10,
     "metadata": {},
     "output_type": "execute_result"
    }
   ],
   "source": [
    "companies_by_founded_date = ['microsoft', 'apple', 'amazon', 'netflix', 'google', 'facebook']\n",
    "company_cat = CategoricalDtype(ordered=True, categories=companies_by_founded_date)\n",
    "df['company'] = df['company'].astype(company_cat)\n",
    "# TEST\n",
    "df['company'].values"
   ]
  },
  {
   "cell_type": "code",
   "execution_count": 11,
   "metadata": {},
   "outputs": [],
   "source": [
    "def plot_cat_counts(data=None, x=None):\n",
    "    \"\"\"Plot a categorical value with side by side horizantal bar and pie charts\"\"\"\n",
    "    \n",
    "    plt.figure(figsize=two_in_row)\n",
    "\n",
    "    plt.subplot(1, 2, 1)\n",
    "    sns.countplot(data=data, y=x, color=bcolor)\n",
    "    plt.ylabel('')\n",
    "    plt.xlabel('Review Counts')\n",
    "    sns.despine() # remove the top and right borders\n",
    "\n",
    "\n",
    "    plt.subplot(1, 2, 2)\n",
    "    sorted_counts = data[x].value_counts()\n",
    "    labels = sorted_counts.index\n",
    "\n",
    "    plt.pie(sorted_counts, labels=None, \n",
    "            startangle=90, counterclock=False, wedgeprops = {'width' : 0.35})\n",
    "    plt.axis('square')\n",
    "\n",
    "    plt.legend(labels,\n",
    "              title=\"Companies Proportions\",\n",
    "              loc=\"top left\",\n",
    "              bbox_to_anchor=(1, 0, .25, 1));"
   ]
  },
  {
   "cell_type": "code",
   "execution_count": 12,
   "metadata": {},
   "outputs": [
    {
     "data": {
      "image/png": "[encoded data removed]",
      "text/plain": [
       "<Figure size 864x288 with 2 Axes>"
      ]
     },
     "metadata": {},
     "output_type": "display_data"
    }
   ],
   "source": [
    "plot_cat_counts(df, 'company')"
   ]
  },
  {
   "cell_type": "markdown",
   "metadata": {},
   "source": [
    "#### Notes:\n",
    "The disproportionate distributions of reviews between these 6 companies considering their scope of operations and year founded are consistent with our expectations. Microsoft and Apple founded in the mid-seventies, Amazon founded in 1994, Netflix with a DVD rental business model in 1997, Google in 1998 and most recently Facebook in 2004. Glassdoor, the review site itself, founded in 2007.\n",
    "___"
   ]
  },
  {
   "cell_type": "markdown",
   "metadata": {},
   "source": [
    "**2nd Column** `location`\n",
    "This dataset is global. As such, it may include the country's name in parenthesis, i.e., \"Toronto, ON(Canada)\"]. However, if the location is in the USA, then it only includes the city and state, i.e., \"Los Angeles, CA\" ]"
   ]
  },
  {
   "cell_type": "markdown",
   "metadata": {},
   "source": [
    "- `none` is used for missing values in this data set. This shows in this bar plot as more than 35% of locations are missing."
   ]
  },
  {
   "cell_type": "code",
   "execution_count": 13,
   "metadata": {},
   "outputs": [],
   "source": [
    "# Replace string \"none\" with NaN in entire dataset.\n",
    "df = df.replace('none', np.nan)\n",
    "df = df.replace('None', np.nan)"
   ]
  },
  {
   "cell_type": "code",
   "execution_count": 14,
   "metadata": {},
   "outputs": [
    {
     "data": {
      "image/png": "[encoded data removed]",
      "text/plain": [
       "<Figure size 864x288 with 1 Axes>"
      ]
     },
     "metadata": {},
     "output_type": "display_data"
    }
   ],
   "source": [
    "plt.figure(figsize=two_in_row)\n",
    "(df['location'].value_counts().head(30) / len(df)).plot.bar();"
   ]
  },
  {
   "cell_type": "markdown",
   "metadata": {},
   "source": [
    "**Findings** \n",
    "- **This column is not Tidy.** There are 3 values of  `city, state, country` in this one column that each should be in its own column.\n",
    "- Location values are in two different formats.\n",
    "- - For the US, country name is missing and we have City, State\n",
    "- - For other countries the format is City, State/Region if applies, and the Country name between parentheses.\n",
    "\n",
    "##### Functions to extract `city`, `state`, and `country` values from location column to 3 columns"
   ]
  },
  {
   "cell_type": "code",
   "execution_count": 15,
   "metadata": {},
   "outputs": [],
   "source": [
    "btween_parentheses = r'\\(([^)]+)\\)'  # Regular expression to get a string between parentheses\n",
    "\n",
    "def get_country(location):\n",
    "    \"\"\"Extracts and returns country name from location string.\n",
    "    Returns NaN if 'none'.\"\"\"\n",
    "    \n",
    "    if pd.isnull(location):\n",
    "        return np.nan\n",
    "    \n",
    "    not_usa = re.findall(btween_parentheses, location)\n",
    "    if not_usa:\n",
    "        return not_usa[0]\n",
    "    else:\n",
    "        return 'USA'\n",
    "    \n",
    "\n",
    "def get_state(location):\n",
    "    \"\"\"Extracts and returns state name (if aby) from location string.\n",
    "    Returns Nan if 'none or not applicable.\"\"\"\n",
    "    \n",
    "    if pd.isnull(location):\n",
    "        return np.nan\n",
    "    \n",
    "    not_usa = re.findall(btween_parentheses, location)\n",
    "    if not_usa:\n",
    "        if ',' in location:\n",
    "            return location.split(',')[1].split()[0]\n",
    "        else:\n",
    "            return np.nan\n",
    "    else:\n",
    "        return location.strip()[-2:]\n",
    "\n",
    "    \n",
    "def get_city(location):\n",
    "    \"\"\"Extracts and returns city name from location string.\n",
    "    Returns Nan if 'none'.\"\"\"\n",
    "    \n",
    "    if pd.isnull(location):\n",
    "        return np.nan\n",
    "    \n",
    "    not_usa = re.findall(btween_parentheses, location)\n",
    "    if not_usa:\n",
    "        if ',' in location:\n",
    "            return location.split(',')[0]\n",
    "        else:\n",
    "            return location.split()[0]\n",
    "    else:\n",
    "        return location.split(',')[0]    "
   ]
  },
  {
   "cell_type": "code",
   "execution_count": 16,
   "metadata": {},
   "outputs": [],
   "source": [
    "df['city'] = df['location'].apply(get_city)  # New column for the city.\n",
    "df['state'] = df['location'].apply(get_state)  # New column for the State/Region.\n",
    "df['country'] = df['location'].apply(get_country)  # New Column for the Country.\n",
    "\n",
    "drop_cols.append('location')  # Add location column to the drop list."
   ]
  },
  {
   "cell_type": "code",
   "execution_count": 17,
   "metadata": {},
   "outputs": [
    {
     "data": {
      "text/html": [
       "<div>\n",
       "<style scoped>\n",
       "    .dataframe tbody tr th:only-of-type {\n",
       "        vertical-align: middle;\n",
       "    }\n",
       "\n",
       "    .dataframe tbody tr th {\n",
       "        vertical-align: top;\n",
       "    }\n",
       "\n",
       "    .dataframe thead th {\n",
       "        text-align: right;\n",
       "    }\n",
       "</style>\n",
       "<table border=\"1\" class=\"dataframe\">\n",
       "  <thead>\n",
       "    <tr style=\"text-align: right;\">\n",
       "      <th></th>\n",
       "      <th>city</th>\n",
       "      <th>state</th>\n",
       "      <th>country</th>\n",
       "    </tr>\n",
       "  </thead>\n",
       "  <tbody>\n",
       "    <tr>\n",
       "      <th>4324</th>\n",
       "      <td>Palo Alto</td>\n",
       "      <td>CA</td>\n",
       "      <td>USA</td>\n",
       "    </tr>\n",
       "    <tr>\n",
       "      <th>43697</th>\n",
       "      <td>Chicago</td>\n",
       "      <td>IL</td>\n",
       "      <td>USA</td>\n",
       "    </tr>\n",
       "    <tr>\n",
       "      <th>38657</th>\n",
       "      <td>New York</td>\n",
       "      <td>NY</td>\n",
       "      <td>USA</td>\n",
       "    </tr>\n",
       "    <tr>\n",
       "      <th>7030</th>\n",
       "      <td>Hyderabad</td>\n",
       "      <td>NaN</td>\n",
       "      <td>India</td>\n",
       "    </tr>\n",
       "    <tr>\n",
       "      <th>59128</th>\n",
       "      <td>NaN</td>\n",
       "      <td>NaN</td>\n",
       "      <td>NaN</td>\n",
       "    </tr>\n",
       "  </tbody>\n",
       "</table>\n",
       "</div>"
      ],
      "text/plain": [
       "            city state country\n",
       "4324   Palo Alto    CA     USA\n",
       "43697    Chicago    IL     USA\n",
       "38657   New York    NY     USA\n",
       "7030   Hyderabad   NaN   India\n",
       "59128        NaN   NaN     NaN"
      ]
     },
     "execution_count": 17,
     "metadata": {},
     "output_type": "execute_result"
    }
   ],
   "source": [
    "# TEST\n",
    "df[['city', 'state', 'country']].sample(5)"
   ]
  },
  {
   "cell_type": "code",
   "execution_count": 18,
   "metadata": {},
   "outputs": [],
   "source": [
    "def plot_top_cats(col, top_percentage):\n",
    "    \"\"\"Plot members of a categorical variable that make up the top_percentage.\"\"\"\n",
    "    \n",
    "    mask = df[col].value_counts(normalize=True).cumsum() < top_percentage\n",
    "    top_items = mask[mask].index\n",
    "\n",
    "    def group_top_itesm(x):\n",
    "        if x in top_items:\n",
    "            return x\n",
    "        elif pd.isna(x):\n",
    "            return np.nan\n",
    "        else:\n",
    "            return 'Other Countries'\n",
    "    items = df[col].apply(group_top_itesm)\n",
    "\n",
    "    plt.figure(figsize=two_in_row)\n",
    "    sns.countplot(y=items, color=bcolor, order=items.value_counts().index)\n",
    "    plt.ylabel(f'TOP {top_percentage*100}% in {col.upper()}')\n",
    "    sns.despine()"
   ]
  },
  {
   "cell_type": "code",
   "execution_count": 19,
   "metadata": {},
   "outputs": [
    {
     "data": {
      "image/png": "[encoded data removed]",
      "text/plain": [
       "<Figure size 864x288 with 1 Axes>"
      ]
     },
     "metadata": {},
     "output_type": "display_data"
    }
   ],
   "source": [
    "plot_top_cats('country', 0.90)"
   ]
  },
  {
   "cell_type": "code",
   "execution_count": 20,
   "metadata": {},
   "outputs": [
    {
     "data": {
      "image/png": "[encoded data removed]",
      "text/plain": [
       "<Figure size 864x288 with 1 Axes>"
      ]
     },
     "metadata": {},
     "output_type": "display_data"
    }
   ],
   "source": [
    "plot_top_cats('country', 0.925)"
   ]
  },
  {
   "cell_type": "markdown",
   "metadata": {},
   "source": [
    "**Findings**\n",
    "- As expected the super majority of reviews are posted in the US and, the India is the runner up.\n",
    "- UK, Ireland, and Canada are following India.\n",
    "\n",
    "**Notes**\n",
    "- Companies day to day operations can be very different in each country. We are focusing on employees in the USA, India, UK, Ireland, and Canada."
   ]
  },
  {
   "cell_type": "code",
   "execution_count": 21,
   "metadata": {},
   "outputs": [
    {
     "data": {
      "text/plain": [
       "(38945, 19)"
      ]
     },
     "execution_count": 21,
     "metadata": {},
     "output_type": "execute_result"
    }
   ],
   "source": [
    "mask = (df.country == 'USA') | (df.country == 'India') | (df.country == 'UK') | (df.country == 'Ireland') | (df.country == 'Canada')\n",
    "df = df[mask]\n",
    "df.shape"
   ]
  },
  {
   "cell_type": "markdown",
   "metadata": {},
   "source": [
    "___"
   ]
  },
  {
   "cell_type": "markdown",
   "metadata": {},
   "source": [
    "**3rd Column** `dates` Date review posted"
   ]
  },
  {
   "cell_type": "code",
   "execution_count": 22,
   "metadata": {},
   "outputs": [],
   "source": [
    "df['dates'] = pd.to_datetime(df['dates'], errors='coerce')  # Type Casting to date\n",
    "df.sort_values(by='dates', ascending=False, inplace=True)  # Sort reviews by date\n",
    "df.rename(columns={'dates': 'date_posted'}, inplace=True)"
   ]
  },
  {
   "cell_type": "markdown",
   "metadata": {},
   "source": [
    "#### Distribution of Yearly Number of Reviews "
   ]
  },
  {
   "cell_type": "code",
   "execution_count": 23,
   "metadata": {},
   "outputs": [
    {
     "data": {
      "image/png": "[encoded data removed]",
      "text/plain": [
       "<Figure size 432x288 with 1 Axes>"
      ]
     },
     "metadata": {},
     "output_type": "display_data"
    }
   ],
   "source": [
    "yearly = df.groupby(df['date_posted'].dt.year).size()\n",
    "positions = yearly.index\n",
    "plt.bar(positions, yearly.values)\n",
    "plt.title(f'{df.date_posted.min()} to {df.date_posted.max()}');"
   ]
  },
  {
   "cell_type": "markdown",
   "metadata": {},
   "source": [
    "**Findings**\n",
    "- The majority of reviews posted are from 2015 to 2018."
   ]
  },
  {
   "cell_type": "markdown",
   "metadata": {},
   "source": [
    "___"
   ]
  },
  {
   "cell_type": "markdown",
   "metadata": {},
   "source": [
    "**4th Column** `job-title` This string includes whether the reviewer is a 'Current' or 'Former' Employee at the time of the review. If Employee posting review Anonymously There is no value for job title and it presented with Anonymous Employee."
   ]
  },
  {
   "cell_type": "code",
   "execution_count": 24,
   "metadata": {},
   "outputs": [
    {
     "data": {
      "image/png": "[encoded data removed]",
      "text/plain": [
       "<Figure size 864x288 with 1 Axes>"
      ]
     },
     "metadata": {},
     "output_type": "display_data"
    }
   ],
   "source": [
    "plt.figure(figsize=two_in_row)\n",
    "(df['job_title'].value_counts().head(30) / len(df)).plot.bar();"
   ]
  },
  {
   "cell_type": "markdown",
   "metadata": {},
   "source": [
    "**Findings** \n",
    "- **This column is not Tidy.** There are 3 values of  `Is reviewer is current or past employee` and `the Job Title` in this one column that each should be in its own column. If an employee is `anonymous`, Anonymous is listed instead of the job title.\n",
    "\n",
    "##### Functions to extract if reviewer is `current_employee`,  `anonymou`, and the employee's `job_title`."
   ]
  },
  {
   "cell_type": "code",
   "execution_count": 25,
   "metadata": {},
   "outputs": [],
   "source": [
    "def clean_text(col):\n",
    "    \"\"\"Cleaning text from formatings.\"\"\"\n",
    "    col = col.str.strip()\n",
    "    col = col.str.replace(\"(<br/>)\", \"\")\n",
    "    col = col.str.replace('(<a).*(>).*(</a>)', '')\n",
    "    col = col.str.replace('(&amp)', '')\n",
    "    col = col.str.replace('(&gt)', '')\n",
    "    col = col.str.replace('(&lt)', '')\n",
    "    col = col.str.replace('(\\xa0)', ' ')  \n",
    "    return col\n",
    "\n",
    "df['job_title'] = clean_text(df['job_title'])"
   ]
  },
  {
   "cell_type": "code",
   "execution_count": 26,
   "metadata": {},
   "outputs": [],
   "source": [
    "df['current_emp'] = df['job_title'].apply(lambda x: True if x.split()[0] == 'Current' else False)\n",
    "df['anonymous'] = df['job_title'].apply(lambda x: True if 'Anonymous' in str(x) else False)\n",
    "\n",
    "df['job_title'] = df['job_title'].apply(lambda x: x.split('-')[1])\n",
    "df['job_title'] = df['job_title'].apply(lambda x: np.nan if 'Anonymous' in str(x) else x)"
   ]
  },
  {
   "cell_type": "code",
   "execution_count": 27,
   "metadata": {},
   "outputs": [
    {
     "data": {
      "text/html": [
       "<div>\n",
       "<style scoped>\n",
       "    .dataframe tbody tr th:only-of-type {\n",
       "        vertical-align: middle;\n",
       "    }\n",
       "\n",
       "    .dataframe tbody tr th {\n",
       "        vertical-align: top;\n",
       "    }\n",
       "\n",
       "    .dataframe thead th {\n",
       "        text-align: right;\n",
       "    }\n",
       "</style>\n",
       "<table border=\"1\" class=\"dataframe\">\n",
       "  <thead>\n",
       "    <tr style=\"text-align: right;\">\n",
       "      <th></th>\n",
       "      <th>job_title</th>\n",
       "      <th>current_emp</th>\n",
       "      <th>anonymous</th>\n",
       "    </tr>\n",
       "  </thead>\n",
       "  <tbody>\n",
       "    <tr>\n",
       "      <th>54424</th>\n",
       "      <td>NaN</td>\n",
       "      <td>True</td>\n",
       "      <td>True</td>\n",
       "    </tr>\n",
       "    <tr>\n",
       "      <th>56362</th>\n",
       "      <td>Program Manager</td>\n",
       "      <td>True</td>\n",
       "      <td>False</td>\n",
       "    </tr>\n",
       "    <tr>\n",
       "      <th>24124</th>\n",
       "      <td>Product Manager</td>\n",
       "      <td>True</td>\n",
       "      <td>False</td>\n",
       "    </tr>\n",
       "    <tr>\n",
       "      <th>11851</th>\n",
       "      <td>Director</td>\n",
       "      <td>False</td>\n",
       "      <td>False</td>\n",
       "    </tr>\n",
       "    <tr>\n",
       "      <th>55994</th>\n",
       "      <td>Senior Program Manager</td>\n",
       "      <td>True</td>\n",
       "      <td>False</td>\n",
       "    </tr>\n",
       "  </tbody>\n",
       "</table>\n",
       "</div>"
      ],
      "text/plain": [
       "                     job_title  current_emp  anonymous\n",
       "54424                      NaN         True       True\n",
       "56362          Program Manager         True      False\n",
       "24124          Product Manager         True      False\n",
       "11851                 Director        False      False\n",
       "55994   Senior Program Manager         True      False"
      ]
     },
     "execution_count": 27,
     "metadata": {},
     "output_type": "execute_result"
    },
    {
     "data": {
      "image/png": "[encoded data removed]",
      "text/plain": [
       "<Figure size 864x288 with 1 Axes>"
      ]
     },
     "metadata": {},
     "output_type": "display_data"
    }
   ],
   "source": [
    "# Test\n",
    "plt.figure(figsize=two_in_row)\n",
    "(df['job_title'].value_counts().head(30) / len(df)).plot.bar();\n",
    "df[['job_title', 'current_emp', 'anonymous']].sample(5)"
   ]
  },
  {
   "cell_type": "code",
   "execution_count": 28,
   "metadata": {},
   "outputs": [
    {
     "data": {
      "text/plain": [
       " Software Engineer                               1574\n",
       " Software Development Engineer                   1119\n",
       " Specialist                                       809\n",
       " Program Manager                                  726\n",
       " Warehouse Associate                              629\n",
       " Senior Software Engineer                         578\n",
       " Fulfillment Associate                            563\n",
       " Senior Program Manager                           561\n",
       " Software Development Engineer II                 528\n",
       " Mac Specialist (Apple Store)                     297\n",
       " Senior Software Development Engineer             294\n",
       " Software Development Engineer In Test (SDET)     288\n",
       " Product Manager                                  273\n",
       " Manager                                          270\n",
       " Director                                         250\n",
       " Family Room Specialist                           244\n",
       " Customer Service Representative                  233\n",
       " Area Manager                                     232\n",
       " Customer Service Associate                       230\n",
       " Associate                                        226\n",
       "Name: job_title, dtype: int64"
      ]
     },
     "execution_count": 28,
     "metadata": {},
     "output_type": "execute_result"
    }
   ],
   "source": [
    "# Most popular Job Titles in entire dataset i.e. all companies combined.\n",
    "df['job_title'].value_counts()[:20]"
   ]
  },
  {
   "cell_type": "code",
   "execution_count": 29,
   "metadata": {},
   "outputs": [
    {
     "data": {
      "text/plain": [
       "company    job_title                                       \n",
       "apple       Specialist                                         799\n",
       "amazon      Warehouse Associate                                629\n",
       "            Fulfillment Associate                              563\n",
       "            Software Development Engineer                      552\n",
       "microsoft   Software Development Engineer                      551\n",
       "google      Software Engineer                                  550\n",
       "microsoft   Program Manager                                    486\n",
       "            Senior Program Manager                             478\n",
       "facebook    Software Engineer                                  357\n",
       "microsoft   Software Engineer                                  348\n",
       "apple       Mac Specialist (Apple Store)                       297\n",
       "microsoft   Software Development Engineer In Test (SDET)       288\n",
       "            Software Development Engineer II                   280\n",
       "            Senior Software Development Engineer               263\n",
       "amazon      Software Development Engineer II                   248\n",
       "apple       Family Room Specialist                             244\n",
       "amazon      Customer Service Associate                         230\n",
       "            Area Manager                                       230\n",
       "            Associate                                          210\n",
       "            Software Development Engineer I                    207\n",
       "microsoft   Software Development Engineer In Test (SDET) II    201\n",
       "amazon      Picker                                             195\n",
       "            Software Engineer                                  192\n",
       "apple       Mac Genius                                         185\n",
       "microsoft   Senior Software Engineer                           182\n",
       "dtype: int64"
      ]
     },
     "execution_count": 29,
     "metadata": {},
     "output_type": "execute_result"
    }
   ],
   "source": [
    "## Most popular group of employee wrote review in each company\n",
    "df.groupby(['company', 'job_title']).size().sort_values(ascending=False)[:25]"
   ]
  },
  {
   "cell_type": "code",
   "execution_count": 30,
   "metadata": {},
   "outputs": [
    {
     "data": {
      "image/png": "[encoded data removed]",
      "text/plain": [
       "<Figure size 432x288 with 1 Axes>"
      ]
     },
     "metadata": {},
     "output_type": "display_data"
    }
   ],
   "source": [
    "ax = sns.countplot(df['current_emp'], hue=df['anonymous'], color=bcolor)\n",
    "ax.set_xticklabels(['Past Employees', 'Current Employees'])\n",
    "ax.set_xlabel('')\n",
    "\n",
    "ax.legend(['Identified', 'Anonymous'], \n",
    "          title=\"Job-Title\")\n",
    "\n",
    "sns.despine();"
   ]
  },
  {
   "cell_type": "markdown",
   "metadata": {},
   "source": [
    "- Current Employees are more inclined to provide more information including their job title.\n",
    "- For both past and current employees, NOT a significant number of reviews are anonymous.\n",
    "____"
   ]
  },
  {
   "cell_type": "markdown",
   "metadata": {},
   "source": [
    "**Columns 5th to 9th:** `summary`, `pros`, `cons`, and `advice_to_mgmt` are the actual text review content categorized in 4 different areas"
   ]
  },
  {
   "cell_type": "code",
   "execution_count": 31,
   "metadata": {},
   "outputs": [],
   "source": [
    "text_cols = ['summary', 'pros', 'cons', 'advice_to_mgmt']\n",
    "for col in text_cols:\n",
    "    df[col] = clean_text(df[col])\n",
    "\n",
    "df[text_cols] = df[text_cols].replace('none', np.nan)\n",
    "df[text_cols] = df[text_cols].replace('None', np.nan)\n",
    "df['summary'][df['summary']=='.'] = np.nan # These are actually missing values"
   ]
  },
  {
   "cell_type": "code",
   "execution_count": 32,
   "metadata": {
    "scrolled": false
   },
   "outputs": [
    {
     "data": {
      "text/html": [
       "<div>\n",
       "<style scoped>\n",
       "    .dataframe tbody tr th:only-of-type {\n",
       "        vertical-align: middle;\n",
       "    }\n",
       "\n",
       "    .dataframe tbody tr th {\n",
       "        vertical-align: top;\n",
       "    }\n",
       "\n",
       "    .dataframe thead th {\n",
       "        text-align: right;\n",
       "    }\n",
       "</style>\n",
       "<table border=\"1\" class=\"dataframe\">\n",
       "  <thead>\n",
       "    <tr style=\"text-align: right;\">\n",
       "      <th></th>\n",
       "      <th>summary</th>\n",
       "      <th>pros</th>\n",
       "      <th>cons</th>\n",
       "      <th>advice_to_mgmt</th>\n",
       "    </tr>\n",
       "  </thead>\n",
       "  <tbody>\n",
       "    <tr>\n",
       "      <th>6623</th>\n",
       "      <td>Excellent employer!</td>\n",
       "      <td>Dynamic environment, growth and development he...</td>\n",
       "      <td>Very large and complex business so it can be h...</td>\n",
       "      <td>Establish better communications with clients t...</td>\n",
       "    </tr>\n",
       "    <tr>\n",
       "      <th>46469</th>\n",
       "      <td>Hope you like having a chance at making a diff...</td>\n",
       "      <td>You're working on the best products ever, and ...</td>\n",
       "      <td>Poor raises somewhat offset by excellent other...</td>\n",
       "      <td>Stop pretending that absurd schedules are not ...</td>\n",
       "    </tr>\n",
       "    <tr>\n",
       "      <th>26290</th>\n",
       "      <td>Nice environment</td>\n",
       "      <td>The salary was competitive for the type of wor...</td>\n",
       "      <td>Little opportunity for extending fixed term co...</td>\n",
       "      <td>NaN</td>\n",
       "    </tr>\n",
       "    <tr>\n",
       "      <th>23564</th>\n",
       "      <td>Decent pay, but inconsistent hours.</td>\n",
       "      <td>Good exercise because I was working as a stowe...</td>\n",
       "      <td>Stressful physically and mentally. Terrible ra...</td>\n",
       "      <td>Consider letting some people use headphones at...</td>\n",
       "    </tr>\n",
       "    <tr>\n",
       "      <th>59349</th>\n",
       "      <td>Good.</td>\n",
       "      <td>They value their employees and give them respe...</td>\n",
       "      <td>Microsoft is not paying enough to employees co...</td>\n",
       "      <td>Move to absolute rating for annual reviews.</td>\n",
       "    </tr>\n",
       "  </tbody>\n",
       "</table>\n",
       "</div>"
      ],
      "text/plain": [
       "                                                 summary  \\\n",
       "6623                                 Excellent employer!   \n",
       "46469  Hope you like having a chance at making a diff...   \n",
       "26290                                   Nice environment   \n",
       "23564                Decent pay, but inconsistent hours.   \n",
       "59349                                              Good.   \n",
       "\n",
       "                                                    pros  \\\n",
       "6623   Dynamic environment, growth and development he...   \n",
       "46469  You're working on the best products ever, and ...   \n",
       "26290  The salary was competitive for the type of wor...   \n",
       "23564  Good exercise because I was working as a stowe...   \n",
       "59349  They value their employees and give them respe...   \n",
       "\n",
       "                                                    cons  \\\n",
       "6623   Very large and complex business so it can be h...   \n",
       "46469  Poor raises somewhat offset by excellent other...   \n",
       "26290  Little opportunity for extending fixed term co...   \n",
       "23564  Stressful physically and mentally. Terrible ra...   \n",
       "59349  Microsoft is not paying enough to employees co...   \n",
       "\n",
       "                                          advice_to_mgmt  \n",
       "6623   Establish better communications with clients t...  \n",
       "46469  Stop pretending that absurd schedules are not ...  \n",
       "26290                                                NaN  \n",
       "23564  Consider letting some people use headphones at...  \n",
       "59349        Move to absolute rating for annual reviews.  "
      ]
     },
     "execution_count": 32,
     "metadata": {},
     "output_type": "execute_result"
    }
   ],
   "source": [
    "df.sample(5)[text_cols]"
   ]
  },
  {
   "cell_type": "markdown",
   "metadata": {},
   "source": [
    "___"
   ]
  },
  {
   "cell_type": "markdown",
   "metadata": {},
   "source": [
    "**1-Star to 5-Starts Rating Columns** `overall_ratings`, `work_balance_stars`, `culture_values_stars`, `senior_mangemnet_stars`, `carrer_opportunities_stars`, and `comp_benefit_stars` We have 1 overall rating value and 5 specific values."
   ]
  },
  {
   "cell_type": "code",
   "execution_count": 33,
   "metadata": {},
   "outputs": [
    {
     "data": {
      "text/plain": [
       "5"
      ]
     },
     "execution_count": 33,
     "metadata": {},
     "output_type": "execute_result"
    }
   ],
   "source": [
    "rating_cols = ['overall_ratings', 'work_balance_stars', 'culture_values_stars',\n",
    "              'carrer_opportunities_stars', 'comp_benefit_stars', 'senior_mangemnet_stars']\n",
    "df[rating_cols] = df[rating_cols].replace('none', np.nan)\n",
    "df['overall_ratings'].nunique()"
   ]
  },
  {
   "cell_type": "code",
   "execution_count": 34,
   "metadata": {},
   "outputs": [
    {
     "name": "stdout",
     "output_type": "stream",
     "text": [
      "4.0    9429\n",
      "5.0    8694\n",
      "3.0    8411\n",
      "2.0    4818\n",
      "1.0    4565\n",
      "3.5     608\n",
      "4.5     581\n",
      "2.5     359\n",
      "1.5     128\n",
      "Name: work_balance_stars, dtype: int64\n",
      "5.0    11193\n",
      "4.0    10148\n",
      "3.0     7966\n",
      "2.0     3965\n",
      "1.0     3023\n",
      "3.5      567\n",
      "4.5      308\n",
      "2.5      301\n",
      "1.5      103\n",
      "Name: carrer_opportunities_stars, dtype: int64\n",
      "5.0    13024\n",
      "4.0    12287\n",
      "3.0     6936\n",
      "2.0     2172\n",
      "1.0     1210\n",
      "4.5      887\n",
      "3.5      748\n",
      "2.5      284\n",
      "1.5       40\n",
      "Name: comp_benefit_stars, dtype: int64\n",
      "4.0    9588\n",
      "3.0    8268\n",
      "5.0    8215\n",
      "1.0    5185\n",
      "2.0    5110\n",
      "3.5     319\n",
      "2.5     250\n",
      "4.5     227\n",
      "1.5     140\n",
      "Name: senior_mangemnet_stars, dtype: int64\n"
     ]
    }
   ],
   "source": [
    "# Rating values to Numeric\n",
    "for col in rating_cols:\n",
    "    df[col] = pd.to_numeric(df[col], downcast='unsigned')\n",
    "    \n",
    "for col in rating_cols:\n",
    "    if df[col].nunique() > 5:\n",
    "        print(df[col].value_counts())"
   ]
  },
  {
   "cell_type": "markdown",
   "metadata": {},
   "source": [
    "The rating is based on a widespread scale from 1 the worst to 5 the best. Some rating values in rating columns are in between levels, i.e. 1.5, 2.5, 3.5, or 4.5. We correct these rating by lowering them one level. E.g., 1.5 to 1, 2.5 to 2. Note There are no 0.5 nor 5.5 ratings to be corrected.\n",
    "\n",
    "Our approach is conservative here, and all mid-stars ratings are truncating to lower star rating. The other approach could be using a binomial distribution with a 50% success rate, to divide the ratings between higher and lower stars levels."
   ]
  },
  {
   "cell_type": "code",
   "execution_count": 35,
   "metadata": {},
   "outputs": [],
   "source": [
    "def five_ratings_only(col):\n",
    "    for idx in col.value_counts().index:\n",
    "        col[col==idx] = int(float(idx))\n",
    "    return col\n",
    "\n",
    "for col in rating_cols:\n",
    "    df[col] = five_ratings_only(df[col])\n",
    "    df[col].astype(np.unsignedinteger, errors='ignore')"
   ]
  },
  {
   "cell_type": "code",
   "execution_count": 36,
   "metadata": {
    "scrolled": true
   },
   "outputs": [
    {
     "data": {
      "image/png": "[encoded data removed]",
      "text/plain": [
       "<Figure size 864x288 with 1 Axes>"
      ]
     },
     "metadata": {},
     "output_type": "display_data"
    }
   ],
   "source": [
    "fig, ax = plt.subplots(figsize=two_in_row)\n",
    "\n",
    "fig.suptitle('Employees\\' Overall Ratings\\' Distributions', fontsize=14, fontweight='bold')\n",
    "\n",
    "color = sns.color_palette()[1]\n",
    "\n",
    "sns.countplot(data=df, x='overall_ratings', hue='current_emp', color=color)\n",
    "\n",
    "ax.set(title='1 Star to 5 Stars')\n",
    "ax.legend(['Past Employees', 'Current Employees'])\n",
    "ax.set_axis_off()\n",
    "\n",
    "locs = ax.get_xticks()\n",
    "labels = ax.get_xlabel()\n",
    "\n",
    "counts = list(df['overall_ratings'].value_counts(normalize=True).iloc[::-1])\n",
    "for loc, lable, count in zip(locs, labels, counts):\n",
    "\n",
    "    text = '{:0.0f}%'.format(100*count)\n",
    "    ax.text(loc, 0, text, color='black', va='top', ha='center', fontsize=14)"
   ]
  },
  {
   "cell_type": "markdown",
   "metadata": {},
   "source": [
    "**Findings:**\n",
    " - This plot shows unhappy past employees were more inclined to leave a low review than current employees.\n",
    " - We can see the current/past ratio increases as rating stars increeases. \n",
    " - Happier current employees are leaving higher rating reviews maybe to show their appreciation.\n",
    " - Uphappier past employees are leaving lower rating reviews maybe to be finally heard!"
   ]
  },
  {
   "cell_type": "code",
   "execution_count": 37,
   "metadata": {},
   "outputs": [
    {
     "data": {
      "image/png": "[encoded data removed]",
      "text/plain": [
       "<Figure size 864x288 with 1 Axes>"
      ]
     },
     "metadata": {},
     "output_type": "display_data"
    }
   ],
   "source": [
    "fig, ax = plt.subplots(figsize=two_in_row)\n",
    "\n",
    "fig.suptitle('Employees\\' Overall Ratings\\' Distributions', fontsize=14, fontweight='bold')\n",
    "\n",
    "color = sns.color_palette()[3]\n",
    "\n",
    "sns.countplot(data=df, x='overall_ratings', hue=None, color=color)\n",
    "\n",
    "ax.set(title='1 Star to 5 Stars')\n",
    "ax.set_axis_off()\n",
    "\n",
    "locs = ax.get_xticks()\n",
    "labels = ax.get_xlabel()\n",
    "\n",
    "counts = list(df['overall_ratings'].value_counts(normalize=True).iloc[::-1])\n",
    "for loc, lable, count in zip(locs, labels, counts):\n",
    "\n",
    "    text = '{:0.0f}%'.format(100*count)\n",
    "    ax.text(loc, 0, text, color='black', va='top', ha='center', fontsize=14)"
   ]
  },
  {
   "cell_type": "markdown",
   "metadata": {},
   "source": [
    "**Findings**\n",
    "- This plot is a repeat of the previous plot without distinguishing between past and current employees.\n",
    "- Overall star rating shows that almost two-thirds of all employees are generally happy about companies in our data set. One-Fifth neutral and about 15% troubled. \n",
    "___"
   ]
  },
  {
   "cell_type": "markdown",
   "metadata": {},
   "source": [
    "**Helpful Count Column** A count of how many people found the review to be helpful. This variable is the only numeric feature that comes with our dataset. Let's dig into it."
   ]
  },
  {
   "cell_type": "code",
   "execution_count": 38,
   "metadata": {},
   "outputs": [
    {
     "data": {
      "image/png": "[encoded data removed]",
      "text/plain": [
       "<Figure size 432x288 with 1 Axes>"
      ]
     },
     "metadata": {},
     "output_type": "display_data"
    }
   ],
   "source": [
    "plt.hist(df['helpful_count']);"
   ]
  },
  {
   "cell_type": "markdown",
   "metadata": {},
   "source": [
    "Our first histogram shows evidence of `extreme outliers`."
   ]
  },
  {
   "cell_type": "code",
   "execution_count": 39,
   "metadata": {},
   "outputs": [],
   "source": [
    "def hist_magnifier(df, x, xlim1, xlim2, binsize):\n",
    "    plt.hist(data=df, x=x, bins=np.arange(xlim1, xlim2+binsize, binsize))\n",
    "    plt.xlim(xlim1, xlim2);"
   ]
  },
  {
   "cell_type": "code",
   "execution_count": 40,
   "metadata": {},
   "outputs": [
    {
     "data": {
      "image/png": "[encoded data removed]",
      "text/plain": [
       "<Figure size 1296x288 with 3 Axes>"
      ]
     },
     "metadata": {},
     "output_type": "display_data"
    }
   ],
   "source": [
    "plt.figure(figsize=(18, 4))\n",
    "\n",
    "plt.subplot(1, 3, 1)\n",
    "hist_magnifier(df, df['helpful_count'], 0, 11, 1)\n",
    "\n",
    "plt.subplot(1, 3, 2)\n",
    "hist_magnifier(df, df['helpful_count'], 11, 100, 10)\n",
    "\n",
    "plt.subplot(1, 3, 3)\n",
    "hist_magnifier(df, df['helpful_count'], 100, df['helpful_count'].max()+100, 100)"
   ]
  },
  {
   "cell_type": "code",
   "execution_count": 41,
   "metadata": {},
   "outputs": [
    {
     "data": {
      "text/plain": [
       "0    0.575581\n",
       "1    0.756760\n",
       "2    0.842599\n",
       "3    0.890178\n",
       "4    0.919142\n",
       "5    0.938426\n",
       "Name: helpful_count, dtype: float64"
      ]
     },
     "execution_count": 41,
     "metadata": {},
     "output_type": "execute_result"
    }
   ],
   "source": [
    "cum_hist = df['helpful_count'].value_counts(normalize=True).cumsum()\n",
    "cum_hist[cum_hist<0.95]"
   ]
  },
  {
   "cell_type": "markdown",
   "metadata": {},
   "source": [
    "**Findings:**\n",
    "\n",
    "- After some trial and error, we arrived with these 3 histograms. Please pay attention to count for each plot and x data range.\n",
    "- More than half of the reviews have no helpful_count, i.e. no one found those reviews helpful or worthy. \n",
    "- Only 5% of reviews are found helpful by at least 5 other people\n",
    "- Any helpful_count of 50 or more to the highest count of about low two thousand are far in between.\n",
    "\n",
    "**Note:**\n",
    "- We will work on this column again later when doing feature engineering.\n",
    "___"
   ]
  },
  {
   "cell_type": "markdown",
   "metadata": {},
   "source": [
    "**Link Column:** Direct link to the page that contains the review. This column is not required for analysis."
   ]
  },
  {
   "cell_type": "code",
   "execution_count": 42,
   "metadata": {
    "scrolled": false
   },
   "outputs": [
    {
     "data": {
      "text/plain": [
       "['location', 'link']"
      ]
     },
     "execution_count": 42,
     "metadata": {},
     "output_type": "execute_result"
    }
   ],
   "source": [
    "drop_cols.append('link')\n",
    "drop_cols"
   ]
  },
  {
   "cell_type": "code",
   "execution_count": 43,
   "metadata": {},
   "outputs": [],
   "source": [
    "df.drop(columns=drop_cols, axis=1, inplace=True)"
   ]
  },
  {
   "cell_type": "markdown",
   "metadata": {},
   "source": [
    "___"
   ]
  },
  {
   "cell_type": "markdown",
   "metadata": {},
   "source": [
    "### Missing Values\n",
    " - Cleaning Missing Values\n",
    " - Plotting Missing Values' Counts"
   ]
  },
  {
   "cell_type": "code",
   "execution_count": 87,
   "metadata": {},
   "outputs": [],
   "source": [
    "def plot_missings(df, figsize=(12, 4)):\n",
    "    \"\"\"Plot missing values bar visualization for each column of a DataFrame.\"\"\"\n",
    "    \n",
    "    print(f'The DataFrame has {df.shape[0]} rows and {df.shape[1]} columns.')\n",
    "    \n",
    "    fig, ax = plt.subplots(figsize=figsize)\n",
    "    sns.set(style='ticks', palette='pastel')\n",
    "    color = sns.color_palette()[3]\n",
    "    \n",
    "    x = df.isnull().sum().index.values\n",
    "    y = df.isnull().sum()\n",
    "    sns.barplot(x, y, color=color, ax=ax)\n",
    "    locs, labels = plt.xticks(rotation=90)\n",
    "    for loc, label, missings, in zip(locs, labels, y):\n",
    "        if not missings:\n",
    "            ax.text(loc, 0, 'None', rotation=0, va='bottom', ha='center')\n",
    "        else:\n",
    "            ax.text(loc, missings, missings, rotation=0, va='bottom', ha='center')\n",
    "\n",
    "    ax.set(title='Missing Value Counts in all Columns', xlabel='Columns', ylabel='Counts')\n",
    "    sns.despine() # remove the top and right borders"
   ]
  },
  {
   "cell_type": "code",
   "execution_count": 86,
   "metadata": {},
   "outputs": [
    {
     "name": "stdout",
     "output_type": "stream",
     "text": [
      "The DataFrame has 38945 rows and 19 columns.\n"
     ]
    },
    {
     "data": {
      "image/png": "[encoded data removed]",
      "text/plain": [
       "<Figure size 864x288 with 1 Axes>"
      ]
     },
     "metadata": {},
     "output_type": "display_data"
    }
   ],
   "source": [
    "plot_missings(df)"
   ]
  },
  {
   "cell_type": "markdown",
   "metadata": {},
   "source": [
    "- Fortunately, there are no missing values in for overall stars rating while there are many missings for other ratings the most for Culture and Values.\n",
    "- We certainly want to be aware of what's missing, but in our analysis, it doesn't seem we have to drop any of these missings."
   ]
  },
  {
   "cell_type": "code",
   "execution_count": 46,
   "metadata": {},
   "outputs": [
    {
     "data": {
      "text/html": [
       "<div>\n",
       "<style scoped>\n",
       "    .dataframe tbody tr th:only-of-type {\n",
       "        vertical-align: middle;\n",
       "    }\n",
       "\n",
       "    .dataframe tbody tr th {\n",
       "        vertical-align: top;\n",
       "    }\n",
       "\n",
       "    .dataframe thead th {\n",
       "        text-align: right;\n",
       "    }\n",
       "</style>\n",
       "<table border=\"1\" class=\"dataframe\">\n",
       "  <thead>\n",
       "    <tr style=\"text-align: right;\">\n",
       "      <th></th>\n",
       "      <th>company</th>\n",
       "      <th>date_posted</th>\n",
       "      <th>job_title</th>\n",
       "      <th>summary</th>\n",
       "      <th>pros</th>\n",
       "      <th>cons</th>\n",
       "      <th>advice_to_mgmt</th>\n",
       "      <th>overall_ratings</th>\n",
       "      <th>work_balance_stars</th>\n",
       "      <th>culture_values_stars</th>\n",
       "      <th>carrer_opportunities_stars</th>\n",
       "      <th>comp_benefit_stars</th>\n",
       "      <th>senior_mangemnet_stars</th>\n",
       "      <th>helpful_count</th>\n",
       "      <th>city</th>\n",
       "      <th>state</th>\n",
       "      <th>country</th>\n",
       "      <th>current_emp</th>\n",
       "      <th>anonymous</th>\n",
       "    </tr>\n",
       "  </thead>\n",
       "  <tbody>\n",
       "    <tr>\n",
       "      <th>42756</th>\n",
       "      <td>apple</td>\n",
       "      <td>2015-07-27</td>\n",
       "      <td>NaN</td>\n",
       "      <td>a great place</td>\n",
       "      <td>everything is awesome!!</td>\n",
       "      <td>NaN</td>\n",
       "      <td>NaN</td>\n",
       "      <td>4</td>\n",
       "      <td>5.0</td>\n",
       "      <td>5.0</td>\n",
       "      <td>5.0</td>\n",
       "      <td>5.0</td>\n",
       "      <td>5.0</td>\n",
       "      <td>0</td>\n",
       "      <td>Charlotte</td>\n",
       "      <td>NC</td>\n",
       "      <td>USA</td>\n",
       "      <td>True</td>\n",
       "      <td>True</td>\n",
       "    </tr>\n",
       "  </tbody>\n",
       "</table>\n",
       "</div>"
      ],
      "text/plain": [
       "      company date_posted job_title        summary                     pros  \\\n",
       "42756   apple  2015-07-27       NaN  a great place  everything is awesome!!   \n",
       "\n",
       "      cons advice_to_mgmt  overall_ratings  work_balance_stars  \\\n",
       "42756  NaN            NaN                4                 5.0   \n",
       "\n",
       "       culture_values_stars  carrer_opportunities_stars  comp_benefit_stars  \\\n",
       "42756                   5.0                         5.0                 5.0   \n",
       "\n",
       "       senior_mangemnet_stars  helpful_count       city state country  \\\n",
       "42756                     5.0              0  Charlotte    NC     USA   \n",
       "\n",
       "       current_emp  anonymous  \n",
       "42756         True       True  "
      ]
     },
     "execution_count": 46,
     "metadata": {},
     "output_type": "execute_result"
    }
   ],
   "source": [
    "# Test; Checking the review with missing cons comment.\n",
    "df[df['cons'].isnull()]"
   ]
  },
  {
   "cell_type": "code",
   "execution_count": 47,
   "metadata": {},
   "outputs": [
    {
     "data": {
      "text/html": [
       "<div>\n",
       "<style scoped>\n",
       "    .dataframe tbody tr th:only-of-type {\n",
       "        vertical-align: middle;\n",
       "    }\n",
       "\n",
       "    .dataframe tbody tr th {\n",
       "        vertical-align: top;\n",
       "    }\n",
       "\n",
       "    .dataframe thead th {\n",
       "        text-align: right;\n",
       "    }\n",
       "</style>\n",
       "<table border=\"1\" class=\"dataframe\">\n",
       "  <thead>\n",
       "    <tr style=\"text-align: right;\">\n",
       "      <th></th>\n",
       "      <th>company</th>\n",
       "      <th>date_posted</th>\n",
       "      <th>job_title</th>\n",
       "      <th>summary</th>\n",
       "      <th>pros</th>\n",
       "      <th>cons</th>\n",
       "      <th>advice_to_mgmt</th>\n",
       "      <th>overall_ratings</th>\n",
       "      <th>work_balance_stars</th>\n",
       "      <th>culture_values_stars</th>\n",
       "      <th>carrer_opportunities_stars</th>\n",
       "      <th>comp_benefit_stars</th>\n",
       "      <th>senior_mangemnet_stars</th>\n",
       "      <th>helpful_count</th>\n",
       "      <th>city</th>\n",
       "      <th>state</th>\n",
       "      <th>country</th>\n",
       "      <th>current_emp</th>\n",
       "      <th>anonymous</th>\n",
       "    </tr>\n",
       "  </thead>\n",
       "  <tbody>\n",
       "    <tr>\n",
       "      <th>7820</th>\n",
       "      <td>amazon</td>\n",
       "      <td>NaT</td>\n",
       "      <td>Software Development Manager</td>\n",
       "      <td>An Amazing Place to Work</td>\n",
       "      <td>I've been at Amazon for a month now, and I've ...</td>\n",
       "      <td>No cons, so far - seriously. Like I said, I'm ...</td>\n",
       "      <td>NaN</td>\n",
       "      <td>5</td>\n",
       "      <td>4.0</td>\n",
       "      <td>5.0</td>\n",
       "      <td>5.0</td>\n",
       "      <td>5.0</td>\n",
       "      <td>5.0</td>\n",
       "      <td>580</td>\n",
       "      <td>Phoenix</td>\n",
       "      <td>AZ</td>\n",
       "      <td>USA</td>\n",
       "      <td>True</td>\n",
       "      <td>False</td>\n",
       "    </tr>\n",
       "    <tr>\n",
       "      <th>28730</th>\n",
       "      <td>amazon</td>\n",
       "      <td>NaT</td>\n",
       "      <td>NOC</td>\n",
       "      <td>Life in AMAZON</td>\n",
       "      <td>Excellent work culture No dress code Good CAB ...</td>\n",
       "      <td>No flexible Timings (Rotational shifts)</td>\n",
       "      <td>NaN</td>\n",
       "      <td>4</td>\n",
       "      <td>3.0</td>\n",
       "      <td>4.0</td>\n",
       "      <td>4.0</td>\n",
       "      <td>3.0</td>\n",
       "      <td>4.0</td>\n",
       "      <td>0</td>\n",
       "      <td>Hyderabad</td>\n",
       "      <td>NaN</td>\n",
       "      <td>India</td>\n",
       "      <td>True</td>\n",
       "      <td>False</td>\n",
       "    </tr>\n",
       "    <tr>\n",
       "      <th>36105</th>\n",
       "      <td>netflix</td>\n",
       "      <td>NaT</td>\n",
       "      <td>Customer Service Representative</td>\n",
       "      <td>Decent</td>\n",
       "      <td>They give a lot of offers for OT, and some of ...</td>\n",
       "      <td>No room for growth, people who can make decisi...</td>\n",
       "      <td>NaN</td>\n",
       "      <td>4</td>\n",
       "      <td>1.0</td>\n",
       "      <td>1.0</td>\n",
       "      <td>2.0</td>\n",
       "      <td>3.0</td>\n",
       "      <td>1.0</td>\n",
       "      <td>8</td>\n",
       "      <td>Aurora</td>\n",
       "      <td>CO</td>\n",
       "      <td>USA</td>\n",
       "      <td>False</td>\n",
       "      <td>False</td>\n",
       "    </tr>\n",
       "    <tr>\n",
       "      <th>40863</th>\n",
       "      <td>apple</td>\n",
       "      <td>NaT</td>\n",
       "      <td>Family Room Specialist</td>\n",
       "      <td>It all depends on local management</td>\n",
       "      <td>- Exciting work environment. - There is always...</td>\n",
       "      <td>- Depending on management, you will be overwor...</td>\n",
       "      <td>NaN</td>\n",
       "      <td>4</td>\n",
       "      <td>3.0</td>\n",
       "      <td>4.0</td>\n",
       "      <td>4.0</td>\n",
       "      <td>5.0</td>\n",
       "      <td>3.0</td>\n",
       "      <td>1</td>\n",
       "      <td>Orlando</td>\n",
       "      <td>FL</td>\n",
       "      <td>USA</td>\n",
       "      <td>False</td>\n",
       "      <td>False</td>\n",
       "    </tr>\n",
       "  </tbody>\n",
       "</table>\n",
       "</div>"
      ],
      "text/plain": [
       "       company date_posted                         job_title  \\\n",
       "7820    amazon         NaT      Software Development Manager   \n",
       "28730   amazon         NaT                               NOC   \n",
       "36105  netflix         NaT   Customer Service Representative   \n",
       "40863    apple         NaT            Family Room Specialist   \n",
       "\n",
       "                                  summary  \\\n",
       "7820             An Amazing Place to Work   \n",
       "28730                      Life in AMAZON   \n",
       "36105                              Decent   \n",
       "40863  It all depends on local management   \n",
       "\n",
       "                                                    pros  \\\n",
       "7820   I've been at Amazon for a month now, and I've ...   \n",
       "28730  Excellent work culture No dress code Good CAB ...   \n",
       "36105  They give a lot of offers for OT, and some of ...   \n",
       "40863  - Exciting work environment. - There is always...   \n",
       "\n",
       "                                                    cons advice_to_mgmt  \\\n",
       "7820   No cons, so far - seriously. Like I said, I'm ...            NaN   \n",
       "28730            No flexible Timings (Rotational shifts)            NaN   \n",
       "36105  No room for growth, people who can make decisi...            NaN   \n",
       "40863  - Depending on management, you will be overwor...            NaN   \n",
       "\n",
       "       overall_ratings  work_balance_stars  culture_values_stars  \\\n",
       "7820                 5                 4.0                   5.0   \n",
       "28730                4                 3.0                   4.0   \n",
       "36105                4                 1.0                   1.0   \n",
       "40863                4                 3.0                   4.0   \n",
       "\n",
       "       carrer_opportunities_stars  comp_benefit_stars  senior_mangemnet_stars  \\\n",
       "7820                          5.0                 5.0                     5.0   \n",
       "28730                         4.0                 3.0                     4.0   \n",
       "36105                         2.0                 3.0                     1.0   \n",
       "40863                         4.0                 5.0                     3.0   \n",
       "\n",
       "       helpful_count       city state country  current_emp  anonymous  \n",
       "7820             580    Phoenix    AZ     USA         True      False  \n",
       "28730              0  Hyderabad   NaN   India         True      False  \n",
       "36105              8     Aurora    CO     USA        False      False  \n",
       "40863              1    Orlando    FL     USA        False      False  "
      ]
     },
     "execution_count": 47,
     "metadata": {},
     "output_type": "execute_result"
    }
   ],
   "source": [
    "# Test; Checking 4 reviews with missing date_posted.\n",
    "df[df['date_posted'].isnull()]"
   ]
  },
  {
   "cell_type": "markdown",
   "metadata": {},
   "source": [
    "**Findings:**\n",
    "- The first review with missing date has an extremely very high helpful count, i.e. 580. Reading the `pros` reveal this employee has only worked at Amazon for 1 month.\n",
    "- - How could someone working only 1 month write such strong positive review?\n",
    "- - The Same review job title shows a `management position`.\n",
    "- - There is no advice to management for this review either.\n",
    "- Based on the above I am very doubtful this is an honest review. There is reasonable chance employees of this manager or department were asked to mark the review helpful.\n",
    "\n",
    "\n",
    "- Having the length of employment as a variable (column) in this dataset could be used to filter similar reviews and also weigh more on reviews for those employees who stayed a minimum reasonable time with their companies.\n",
    "\n",
    "\n",
    "- Highest missing values are for those who didn't leave feedback/advice for their higher managers. This is a very valuable part of this dataset as companies can aggregate, summarize and learn a lot from this information.\n",
    "\n",
    "**Actions:**\n",
    " - We only consider reviews that are `NOT` missing `advice_to_management`.\n",
    " - We only keep reviews that do have all 6 columns of star ratings."
   ]
  },
  {
   "cell_type": "code",
   "execution_count": 111,
   "metadata": {},
   "outputs": [],
   "source": [
    "# Drop rows/reviews with no 'advice_to_managment`\n",
    "df = df[df['advice_to_mgmt'].notna()]\n",
    "\n",
    "# Drop rows/reviews with missing values in star rating columns.\n",
    "for col in rating_cols:\n",
    "    mask = df[col].notna()  # The column rows that do have values.\n",
    "    df = df[mask]"
   ]
  },
  {
   "cell_type": "markdown",
   "metadata": {},
   "source": [
    "##### Looking at our cleaned dataset"
   ]
  },
  {
   "cell_type": "code",
   "execution_count": 114,
   "metadata": {},
   "outputs": [
    {
     "name": "stdout",
     "output_type": "stream",
     "text": [
      "The DataFrame has 20402 rows and 19 columns.\n"
     ]
    },
    {
     "data": {
      "image/png": "[encoded data removed]",
      "text/plain": [
       "<Figure size 864x288 with 1 Axes>"
      ]
     },
     "metadata": {},
     "output_type": "display_data"
    }
   ],
   "source": [
    "plot_missings(df)"
   ]
  },
  {
   "cell_type": "code",
   "execution_count": 115,
   "metadata": {},
   "outputs": [
    {
     "data": {
      "text/html": [
       "<div>\n",
       "<style scoped>\n",
       "    .dataframe tbody tr th:only-of-type {\n",
       "        vertical-align: middle;\n",
       "    }\n",
       "\n",
       "    .dataframe tbody tr th {\n",
       "        vertical-align: top;\n",
       "    }\n",
       "\n",
       "    .dataframe thead th {\n",
       "        text-align: right;\n",
       "    }\n",
       "</style>\n",
       "<table border=\"1\" class=\"dataframe\">\n",
       "  <thead>\n",
       "    <tr style=\"text-align: right;\">\n",
       "      <th></th>\n",
       "      <th>company</th>\n",
       "      <th>date_posted</th>\n",
       "      <th>job_title</th>\n",
       "      <th>summary</th>\n",
       "      <th>pros</th>\n",
       "      <th>cons</th>\n",
       "      <th>advice_to_mgmt</th>\n",
       "      <th>overall_ratings</th>\n",
       "      <th>work_balance_stars</th>\n",
       "      <th>culture_values_stars</th>\n",
       "      <th>carrer_opportunities_stars</th>\n",
       "      <th>comp_benefit_stars</th>\n",
       "      <th>senior_mangemnet_stars</th>\n",
       "      <th>helpful_count</th>\n",
       "      <th>city</th>\n",
       "      <th>state</th>\n",
       "      <th>country</th>\n",
       "      <th>current_emp</th>\n",
       "      <th>anonymous</th>\n",
       "    </tr>\n",
       "  </thead>\n",
       "  <tbody>\n",
       "    <tr>\n",
       "      <th>37717</th>\n",
       "      <td>apple</td>\n",
       "      <td>2018-03-05</td>\n",
       "      <td>NaN</td>\n",
       "      <td>HWTE - never boring</td>\n",
       "      <td>Amazing inspiring environment. HWTE is respons...</td>\n",
       "      <td>As with every company with strong Internationa...</td>\n",
       "      <td>Need to work harder on finding more talented p...</td>\n",
       "      <td>5</td>\n",
       "      <td>4.0</td>\n",
       "      <td>5.0</td>\n",
       "      <td>5.0</td>\n",
       "      <td>4.0</td>\n",
       "      <td>4.0</td>\n",
       "      <td>0</td>\n",
       "      <td>Cupertino</td>\n",
       "      <td>CA</td>\n",
       "      <td>USA</td>\n",
       "      <td>True</td>\n",
       "      <td>True</td>\n",
       "    </tr>\n",
       "  </tbody>\n",
       "</table>\n",
       "</div>"
      ],
      "text/plain": [
       "      company date_posted job_title              summary  \\\n",
       "37717   apple  2018-03-05       NaN  HWTE - never boring   \n",
       "\n",
       "                                                    pros  \\\n",
       "37717  Amazing inspiring environment. HWTE is respons...   \n",
       "\n",
       "                                                    cons  \\\n",
       "37717  As with every company with strong Internationa...   \n",
       "\n",
       "                                          advice_to_mgmt  overall_ratings  \\\n",
       "37717  Need to work harder on finding more talented p...                5   \n",
       "\n",
       "       work_balance_stars  culture_values_stars  carrer_opportunities_stars  \\\n",
       "37717                 4.0                   5.0                         5.0   \n",
       "\n",
       "       comp_benefit_stars  senior_mangemnet_stars  helpful_count       city  \\\n",
       "37717                 4.0                     4.0              0  Cupertino   \n",
       "\n",
       "      state country  current_emp  anonymous  \n",
       "37717    CA     USA         True       True  "
      ]
     },
     "execution_count": 115,
     "metadata": {},
     "output_type": "execute_result"
    }
   ],
   "source": [
    "df.sample()"
   ]
  },
  {
   "cell_type": "code",
   "execution_count": 132,
   "metadata": {},
   "outputs": [
    {
     "data": {
      "text/html": [
       "<div>\n",
       "<style scoped>\n",
       "    .dataframe tbody tr th:only-of-type {\n",
       "        vertical-align: middle;\n",
       "    }\n",
       "\n",
       "    .dataframe tbody tr th {\n",
       "        vertical-align: top;\n",
       "    }\n",
       "\n",
       "    .dataframe thead th {\n",
       "        text-align: right;\n",
       "    }\n",
       "</style>\n",
       "<table border=\"1\" class=\"dataframe\">\n",
       "  <thead>\n",
       "    <tr style=\"text-align: right;\">\n",
       "      <th></th>\n",
       "      <th>count</th>\n",
       "      <th>mean</th>\n",
       "      <th>std</th>\n",
       "      <th>min</th>\n",
       "      <th>25%</th>\n",
       "      <th>50%</th>\n",
       "      <th>75%</th>\n",
       "      <th>max</th>\n",
       "    </tr>\n",
       "  </thead>\n",
       "  <tbody>\n",
       "    <tr>\n",
       "      <th>overall_ratings</th>\n",
       "      <td>20402.0</td>\n",
       "      <td>3.607882</td>\n",
       "      <td>1.260708</td>\n",
       "      <td>1.0</td>\n",
       "      <td>3.0</td>\n",
       "      <td>4.0</td>\n",
       "      <td>5.0</td>\n",
       "      <td>5.0</td>\n",
       "    </tr>\n",
       "    <tr>\n",
       "      <th>work_balance_stars</th>\n",
       "      <td>20402.0</td>\n",
       "      <td>3.159053</td>\n",
       "      <td>1.359589</td>\n",
       "      <td>1.0</td>\n",
       "      <td>2.0</td>\n",
       "      <td>3.0</td>\n",
       "      <td>4.0</td>\n",
       "      <td>5.0</td>\n",
       "    </tr>\n",
       "    <tr>\n",
       "      <th>culture_values_stars</th>\n",
       "      <td>20402.0</td>\n",
       "      <td>3.561072</td>\n",
       "      <td>1.394043</td>\n",
       "      <td>1.0</td>\n",
       "      <td>3.0</td>\n",
       "      <td>4.0</td>\n",
       "      <td>5.0</td>\n",
       "      <td>5.0</td>\n",
       "    </tr>\n",
       "    <tr>\n",
       "      <th>carrer_opportunities_stars</th>\n",
       "      <td>20402.0</td>\n",
       "      <td>3.479120</td>\n",
       "      <td>1.311373</td>\n",
       "      <td>1.0</td>\n",
       "      <td>3.0</td>\n",
       "      <td>4.0</td>\n",
       "      <td>5.0</td>\n",
       "      <td>5.0</td>\n",
       "    </tr>\n",
       "    <tr>\n",
       "      <th>comp_benefit_stars</th>\n",
       "      <td>20402.0</td>\n",
       "      <td>3.867072</td>\n",
       "      <td>1.107202</td>\n",
       "      <td>1.0</td>\n",
       "      <td>3.0</td>\n",
       "      <td>4.0</td>\n",
       "      <td>5.0</td>\n",
       "      <td>5.0</td>\n",
       "    </tr>\n",
       "    <tr>\n",
       "      <th>senior_mangemnet_stars</th>\n",
       "      <td>20402.0</td>\n",
       "      <td>3.090579</td>\n",
       "      <td>1.387420</td>\n",
       "      <td>1.0</td>\n",
       "      <td>2.0</td>\n",
       "      <td>3.0</td>\n",
       "      <td>4.0</td>\n",
       "      <td>5.0</td>\n",
       "    </tr>\n",
       "    <tr>\n",
       "      <th>helpful_count</th>\n",
       "      <td>20402.0</td>\n",
       "      <td>2.200765</td>\n",
       "      <td>25.812215</td>\n",
       "      <td>0.0</td>\n",
       "      <td>0.0</td>\n",
       "      <td>0.0</td>\n",
       "      <td>2.0</td>\n",
       "      <td>2094.0</td>\n",
       "    </tr>\n",
       "  </tbody>\n",
       "</table>\n",
       "</div>"
      ],
      "text/plain": [
       "                              count      mean        std  min  25%  50%  75%  \\\n",
       "overall_ratings             20402.0  3.607882   1.260708  1.0  3.0  4.0  5.0   \n",
       "work_balance_stars          20402.0  3.159053   1.359589  1.0  2.0  3.0  4.0   \n",
       "culture_values_stars        20402.0  3.561072   1.394043  1.0  3.0  4.0  5.0   \n",
       "carrer_opportunities_stars  20402.0  3.479120   1.311373  1.0  3.0  4.0  5.0   \n",
       "comp_benefit_stars          20402.0  3.867072   1.107202  1.0  3.0  4.0  5.0   \n",
       "senior_mangemnet_stars      20402.0  3.090579   1.387420  1.0  2.0  3.0  4.0   \n",
       "helpful_count               20402.0  2.200765  25.812215  0.0  0.0  0.0  2.0   \n",
       "\n",
       "                               max  \n",
       "overall_ratings                5.0  \n",
       "work_balance_stars             5.0  \n",
       "culture_values_stars           5.0  \n",
       "carrer_opportunities_stars     5.0  \n",
       "comp_benefit_stars             5.0  \n",
       "senior_mangemnet_stars         5.0  \n",
       "helpful_count               2094.0  "
      ]
     },
     "execution_count": 132,
     "metadata": {},
     "output_type": "execute_result"
    }
   ],
   "source": [
    "df.describe().transpose()  # Numeric Columns"
   ]
  },
  {
   "cell_type": "code",
   "execution_count": 133,
   "metadata": {},
   "outputs": [
    {
     "name": "stdout",
     "output_type": "stream",
     "text": [
      "<class 'pandas.core.frame.DataFrame'>\n",
      "Int64Index: 20402 entries, 7908 to 7432\n",
      "Data columns (total 19 columns):\n",
      "company                       category\n",
      "date_posted                   datetime64[ns]\n",
      "job_title                     object\n",
      "summary                       object\n",
      "pros                          object\n",
      "cons                          object\n",
      "advice_to_mgmt                object\n",
      "overall_ratings               uint8\n",
      "work_balance_stars            float64\n",
      "culture_values_stars          float64\n",
      "carrer_opportunities_stars    float64\n",
      "comp_benefit_stars            float64\n",
      "senior_mangemnet_stars        float64\n",
      "helpful_count                 int64\n",
      "city                          object\n",
      "state                         object\n",
      "country                       object\n",
      "current_emp                   bool\n",
      "anonymous                     bool\n",
      "dtypes: bool(2), category(1), datetime64[ns](1), float64(5), int64(1), object(8), uint8(1)\n",
      "memory usage: 2.6+ MB\n"
     ]
    }
   ],
   "source": [
    "df.info(null_counts=False)"
   ]
  },
  {
   "cell_type": "markdown",
   "metadata": {},
   "source": [
    "**Notes:\n",
    "- We had to do extensive data cleaning on job_title column, if we wanted to find answers to questions similar to \"what positions in general and for each company ratings have need highest attention for workplace improvements?\".\n",
    "\n",
    "- We still have to figure out what to do with healful_count outliers.\n",
    "\n",
    "##### end of data cleaning and univariant exploration.\n",
    "___"
   ]
  },
  {
   "cell_type": "markdown",
   "metadata": {},
   "source": [
    "## Bivariate and Multivariate Explorations <a name=\"Multivariate\"></a>\n",
    "\n",
    "### 1Ratings' Patterns\n",
    "\n",
    "One interesting pattern to discover is how the overall rating stacks against other sub-ratings. Below is exactly what are going to do."
   ]
  },
  {
   "cell_type": "code",
   "execution_count": null,
   "metadata": {},
   "outputs": [],
   "source": [
    "fig, axes = plt.subplots(nrows=1, ncols=6, sharey=True, figsize=(20, 5))\n",
    "fig.suptitle('Ratings\\' Distributions', fontsize=22, fontweight='bold')\n",
    "xticks=[1, 2, 3, 4, 5]\n",
    "for ax, col in zip(axes, rating_cols):\n",
    "    if col=='overall_ratings':\n",
    "        color = sns.color_palette()[2]\n",
    "    else:\n",
    "        color = sns.color_palette()[1]\n",
    "    ax = sns.countplot(ax=ax, data=df, x=df[col], color=color, order=xticks)\n",
    "    mean = '{:0.2f}'.format(df[col].mean())\n",
    "    ax.set(title=ax.get_xlabel(), xlabel=mean, ylabel='')\n",
    "\n",
    "# TODO: Print percentage of each bar on each bar on it."
   ]
  },
  {
   "cell_type": "markdown",
   "metadata": {},
   "source": [
    "**Findings Here:**\n",
    "\n",
    "A lot to be discussed here.\n",
    "\n",
    "- Means of  the Overall-Rating and Culture-and-Values are closest together but the pattern or shape of distributions of  the Overall-Rating best matches with Compensations-and-Benefits.\n",
    "- As said above the Overall-Rating distribution pattern best follows Compensation-and-Benefits. \n",
    "- Per these plots employees mostly are happy about their pay, or maybe this means tech employees only work where they feel happy about their pay.\n",
    "- The highest negativity is about Sr. management. Lowest mean and (relatively) the highest number of 1-star ratings.\n",
    "- Work-Life Balance pattern looks very similar to Sr. Management both in shape and means."
   ]
  },
  {
   "cell_type": "markdown",
   "metadata": {},
   "source": [
    "### 2 Overall Rating vs Other Ratings Trend and Averages\n",
    "\n",
    "For each five level of the Overa Rating we have 5 other sub-ratings. That is 25 data points. We want to plot the mean of each sub-rating at every oerall rating star."
   ]
  },
  {
   "cell_type": "code",
   "execution_count": null,
   "metadata": {},
   "outputs": [],
   "source": [
    "def ratings_trend(df=df, rating_cols=rating_cols):\n",
    "    plt.figure(figsize=(7, 7))\n",
    "\n",
    "    colors = ['grey', 'blue', 'green', 'red', 'brown']\n",
    "    ypos = 4.25\n",
    "    for col, color in zip(rating_cols[1:], colors):\n",
    "        sns.pointplot(data=df, x='overall_ratings', y=col, color=color)\n",
    "        plt.text(0.5, ypos, str(col), color=color)\n",
    "        ypos += 0.15\n",
    "\n",
    "    plt.ylim(1, 5)\n",
    "    plt.grid()\n",
    "    plt.xlabel('Overall Rating Stars')\n",
    "    plt.ylabel('Star-Level average ratings of each Sub-Ratings vs. Overall Rating');"
   ]
  },
  {
   "cell_type": "code",
   "execution_count": null,
   "metadata": {},
   "outputs": [],
   "source": [
    "ratings_trend(df)"
   ]
  },
  {
   "cell_type": "markdown",
   "metadata": {},
   "source": [
    "**Findings:**\n",
    "\n",
    "This plot is gold for our analysis.\n",
    "\n",
    "- Employees who were given the highest Overall -Rating, i.e. 5 Stars, on average, are given the highest ratings to the Culture-and-Values.\n",
    "- Employees who were giving the highest overall rating, i.e. 5 Stars, on average, still are least happy with the Work-Life balance.\n",
    "- For unhappy 1 or 2 stars overall rating, Sr Management seems to be the most critical issue impacting it. The runner up affecting unhappy employees in the plot is the Culture-and-Values.\n",
    "- It's interesting to see the unhappier (lowest overall rating) employees are the least concern about Compensations-and-Benefits. As we can see the Compensation-Benefits has the highest mean from 1-Star to 4 Stars."
   ]
  },
  {
   "cell_type": "markdown",
   "metadata": {},
   "source": [
    "end of bivariate explorations\n",
    "___"
   ]
  },
  {
   "cell_type": "markdown",
   "metadata": {},
   "source": [
    "## Feature Engineering<a name=\"Feature\"></a>\n",
    "\n",
    "Basedon what we have learned sofar we make and explore some new variables, i.e. columns.\n",
    "\n",
    "1. Detail Factor based on review length i.e. word count\n",
    "- Time Factor based on date_posted\n",
    "- Helpful Factor based on number of people found a review helpful i.e. agreeing with it.\n",
    "- Overall-Rating Factor, i.e. Mapping Values to the Overall-Rating Stars\n",
    "\n",
    "- Anonymous reviews are less credible.\n",
    "\n",
    "- Review Score = Detail-Factor * Time-Factor * Helpfulness * Overall_Rating * Anonymous-Factor"
   ]
  },
  {
   "cell_type": "markdown",
   "metadata": {},
   "source": [
    "### Detail Factor based on review length i.e. word count\n",
    "\n",
    "In real life we pay attention when someone cares and pays attention to a subject giving detailed and possibly passionate feed back on subject than short quick answers. We want ot take this fact in consideration in this data set. someone leaving a detailed review summary, pros and cons points and advise for management with about 1000 words deserve more weight than a partial quick review with 15 words. To measure this we make a new feature `detail_factor` based on the overall length of the different part s of the review. \n",
    "\n",
    "There 4 text columns for each review divided into `Summary`, `Pros`, `Cons`, and `Advice to Management`. "
   ]
  },
  {
   "cell_type": "code",
   "execution_count": null,
   "metadata": {},
   "outputs": [],
   "source": [
    "review_cols = ['summary', 'pros', 'cons', 'advice_to_mgmt']"
   ]
  },
  {
   "cell_type": "code",
   "execution_count": null,
   "metadata": {},
   "outputs": [],
   "source": [
    "df[review_cols].sample(3)"
   ]
  },
  {
   "cell_type": "code",
   "execution_count": null,
   "metadata": {},
   "outputs": [],
   "source": [
    "# Spelling Correction\n",
    "# for col in review_cols:\n",
    "#     df[col] = df[col].astype(str).map(lambda text: TextBlob(text).correct())\n",
    "\n",
    "# Counting Words\n",
    "df['wordcount'] = 0\n",
    "for col in review_cols:\n",
    "    df['wordcount'] += df[col].astype(str).apply(lambda text: len(text.split()))"
   ]
  },
  {
   "cell_type": "code",
   "execution_count": null,
   "metadata": {},
   "outputs": [],
   "source": [
    "df['wordcount'].describe()"
   ]
  },
  {
   "cell_type": "code",
   "execution_count": null,
   "metadata": {},
   "outputs": [],
   "source": [
    "def distplot_closelook(series, **kwarg):\n",
    "    \"\"\"\"\"\"\n",
    "    \n",
    "    fig, ax0 = plt.subplots(1, 1, figsize=(20, 2))\n",
    "    sns.boxplot(series, color=bcolor)\n",
    "    \n",
    "    ax0.set_xlabel(f'All {len(series)} observations')\n",
    "    \n",
    "    fig, (ax0, ax1) = plt.subplots(1, 2, figsize=(20, 2))\n",
    "    sns.boxplot(series, ax=ax0, **kwarg)\n",
    "    ax0.set_xlim(0, np.percentile(series, 25))\n",
    "    ax0.set_xlabel(f'Bottom (left) 25% Distribution')\n",
    "\n",
    "    sns.boxplot(series, ax=ax1, **kwarg)\n",
    "    ax1.set_xlim(np.percentile(series, 75), series.max())\n",
    "    ax1.set_xlabel(f'Top (right) 25% Distribution')    "
   ]
  },
  {
   "cell_type": "code",
   "execution_count": null,
   "metadata": {},
   "outputs": [],
   "source": [
    "distplot_closelook(df['wordcount'])\n",
    "df['wordcount'].describe()"
   ]
  },
  {
   "cell_type": "markdown",
   "metadata": {},
   "source": [
    "I think boxen plot works great showing spread of exterem outliers in large distributions. The boxen plot here shows:\n",
    "- An review with more than 3500 words in its comments and a couple of reviews arounf 2250.\n",
    "- There are exterem outliers with more than 1000 words."
   ]
  },
  {
   "cell_type": "code",
   "execution_count": null,
   "metadata": {},
   "outputs": [],
   "source": [
    "# Assigns values outside 92.50% boundary to boundary value. \n",
    "# In other words capping word_count to a set ceiling value.\n",
    "df['wordcount'] = df['wordcount'].clip(0, np.percentile(df['wordcount'], 92.50))"
   ]
  },
  {
   "cell_type": "code",
   "execution_count": null,
   "metadata": {},
   "outputs": [],
   "source": [
    "distplot_closelook(df['wordcount'])"
   ]
  },
  {
   "cell_type": "markdown",
   "metadata": {},
   "source": [
    "- With trial and error, we find out that at 92.50% upper threshold, all word_count outliers included in our data without being an outlier. We didn't have to lose these reviews because of thier word_count outliers; Instead we capped them at a highest number.\n",
    "- We now can bin (group) word_count values give each a weight for furthur analysis."
   ]
  },
  {
   "cell_type": "code",
   "execution_count": null,
   "metadata": {},
   "outputs": [],
   "source": [
    "plt.figure(figsize=(16, 4))\n",
    "bin_size = 10\n",
    "bins = np.arange(5, np.max(df['wordcount'])+bin_size, bin_size)\n",
    "plt.hist(df.wordcount, bins)\n",
    "plt.xticks(np.arange(0, 220+10, 10));"
   ]
  },
  {
   "cell_type": "markdown",
   "metadata": {},
   "source": [
    "- Now looking at trimmed word_count distribution, we can see with proper trimming and binning, the word_cound values can be groupped (binned for number of word counts and given a weight for each review.\n",
    "- The last bar includes/caps all work_count outliers together."
   ]
  },
  {
   "cell_type": "code",
   "execution_count": null,
   "metadata": {},
   "outputs": [],
   "source": [
    "bins"
   ]
  },
  {
   "cell_type": "code",
   "execution_count": null,
   "metadata": {},
   "outputs": [],
   "source": [
    "# assign/map each review to the bin it belongs\n",
    "bin_id = pd.cut(df['wordcount'], bins=bins, right=False, include_lowest=True)\n",
    "\n",
    "# We linearly assign a score for each bin\n",
    "bv = 1 / bins.shape[0]\n",
    "f'Number of bins: {bins.shape[0]} - Each bins\\' value: {bv} (evenly distributed over all bins)'"
   ]
  },
  {
   "cell_type": "code",
   "execution_count": null,
   "metadata": {},
   "outputs": [],
   "source": [
    "bins_table =  bin_id.value_counts().sort_index().to_frame().reset_index()\n",
    "# calculate each bin wc_score increamentally from 0 to 1\n",
    "bins_table['bin_score'] = (bins_table.index + 2) * bv  \n",
    "bins_table"
   ]
  },
  {
   "cell_type": "code",
   "execution_count": null,
   "metadata": {},
   "outputs": [],
   "source": [
    "mapping_series = pd.Series(data=bins_table['bin_score'].values, index=bins_table['index'])  # make a series with bins' names (edges) as index and bin_score as value\n",
    "mapping_series"
   ]
  },
  {
   "cell_type": "code",
   "execution_count": null,
   "metadata": {},
   "outputs": [],
   "source": [
    "# for each review, map the weight/score of the bin it beloges to\n",
    "df['detail_factor'] = bin_id.map(mapping_series)"
   ]
  },
  {
   "cell_type": "code",
   "execution_count": null,
   "metadata": {},
   "outputs": [],
   "source": [
    "# Test\n",
    "df[['wordcount', 'detail_factor']].sample(3)"
   ]
  },
  {
   "cell_type": "markdown",
   "metadata": {},
   "source": [
    "- As seen above the detail_factor value is from (0 to 1).\n",
    "\n",
    "end of engineering detail_factor\n",
    "___"
   ]
  },
  {
   "cell_type": "markdown",
   "metadata": {},
   "source": [
    "### Time Factor based on date_posted\n",
    "\n",
    "\n",
    "We are interested in the direction and how a workplace is evolving than just averaging historic data `evenly` over time. \n",
    "\n",
    "A recent review must have much higher weight than a review of 5 years ago. To take this into consideration we define a new feature `time_factor` that is from (0 to 1). 1 for a review left today and zero for 5 years (1826 days) or beyond.\n",
    "\n",
    "This is a linear weight system we choose to use; Perhaps it is not  the most optimal but it should be practical enough for our dataset for initial experiemnts. "
   ]
  },
  {
   "cell_type": "code",
   "execution_count": null,
   "metadata": {},
   "outputs": [],
   "source": [
    "max_days = 5 * 364.25 \n",
    "df['review_days'] = pd.to_numeric((pd.datetime.today() - df['date_posted']).dt.days)\n",
    "df['time_factor'] = df['review_days'].apply(lambda x: 1 - x/max_days if x < max_days else 0.0)"
   ]
  },
  {
   "cell_type": "code",
   "execution_count": null,
   "metadata": {},
   "outputs": [],
   "source": [
    "def get_timefactor(date_col, years):\n",
    "    max_days = years * 365\n",
    "    review_days = pd.to_numeric((pd.datetime.today() - date_col).dt.days)\n",
    "    return review_days.apply(lambda x: 1 - x/max_days if x < max_days else 0.0)"
   ]
  },
  {
   "cell_type": "code",
   "execution_count": null,
   "metadata": {},
   "outputs": [],
   "source": [
    "years = [year for year in range(1, 10)]  # make a list of years\n",
    "years_cols = ['year'+str(year) for year in years]  # make a list of column names"
   ]
  },
  {
   "cell_type": "code",
   "execution_count": null,
   "metadata": {},
   "outputs": [],
   "source": [
    "for yr, yr_col in zip(years, years_cols):\n",
    "    df[yr_col] = get_timefactor(df['date_posted'], yr)"
   ]
  },
  {
   "cell_type": "code",
   "execution_count": null,
   "metadata": {},
   "outputs": [],
   "source": [
    "# Test\n",
    "sns.lineplot(data=df, x=df['date_posted'], y=df['year5'])  # reviews time_factor values for the last 5 year\n",
    "sns.lineplot(data=df, x=df['date_posted'], y=df['year3']); # reviews time_factor values for the last 3 year"
   ]
  },
  {
   "cell_type": "markdown",
   "metadata": {},
   "source": [
    "This plot confirms linear weightig of our reviews over the last 5 and 3 years.\n",
    "____"
   ]
  },
  {
   "cell_type": "markdown",
   "metadata": {},
   "source": [
    "### Helpful Factor based on number of people found a review helpful i.e. agreeing with it"
   ]
  },
  {
   "cell_type": "markdown",
   "metadata": {},
   "source": [
    "To take helpful_count into account for every 10 people finding a review helpful it doubles the values of that review (This calculation is now rounding to whole numbers. i.e. ints)"
   ]
  },
  {
   "cell_type": "code",
   "execution_count": null,
   "metadata": {},
   "outputs": [],
   "source": [
    "df['helpful_count'] = df['helpful_count'].clip(0, 100)\n",
    "df['helful_factor'] = df['helpful_count'].apply(lambda x: 1 + x / 10)"
   ]
  },
  {
   "cell_type": "code",
   "execution_count": null,
   "metadata": {},
   "outputs": [],
   "source": [
    "plt.figure(figsize=(20, 4))\n",
    "\n",
    "plt.subplot(1, 2, 1)\n",
    "plt.hist(df['helful_factor'], bins=50)\n",
    "\n",
    "\n",
    "plt.subplot(1, 2, 2)\n",
    "plt.hist(df['helful_factor'], bins=100)\n",
    "plt.xlim(1, 3);"
   ]
  },
  {
   "cell_type": "markdown",
   "metadata": {},
   "source": [
    "As seen earlier in this notebook the feature has lots of exterem outliers, but this outliers (as long as they are not errors) don't distort our analysis and shall not be discarded."
   ]
  },
  {
   "cell_type": "code",
   "execution_count": null,
   "metadata": {},
   "outputs": [],
   "source": [
    "# Test\n",
    "df[['helpful_count', 'helful_factor']].sample(5)"
   ]
  },
  {
   "cell_type": "markdown",
   "metadata": {},
   "source": [
    "___"
   ]
  },
  {
   "cell_type": "markdown",
   "metadata": {},
   "source": [
    "### Assigning Numeric Score Value to Overall-Rating Stars\n",
    "\n",
    "We use a scoring mapping as follows:\n",
    "- 5 Stars: 1.00\n",
    "- 4 Stars: 0.75\n",
    "- 3 Stars: 0.50\n",
    "- 2 Stars: 0.25\n",
    "- 1 Star:  0.00"
   ]
  },
  {
   "cell_type": "code",
   "execution_count": null,
   "metadata": {},
   "outputs": [],
   "source": [
    "df['stars_score'] = df['overall_ratings'].apply(lambda x: (int(x) - 1) / 4)"
   ]
  },
  {
   "cell_type": "code",
   "execution_count": null,
   "metadata": {},
   "outputs": [],
   "source": [
    "# Test\n",
    "df[['stars_score','overall_ratings']].sample(5)"
   ]
  },
  {
   "cell_type": "markdown",
   "metadata": {},
   "source": [
    "Overall-Rating Values also, are from 0 to 1 but not continuous.\n",
    "___"
   ]
  },
  {
   "cell_type": "markdown",
   "metadata": {},
   "source": [
    "### Total Review Score\n",
    "\n",
    "Finally we make a score value for each review based on all new features we engineered\n",
    "\n",
    "#### Review Score = Detail_Factor * Overall_Stars * Healpful_Factor * Time_Factor"
   ]
  },
  {
   "cell_type": "code",
   "execution_count": null,
   "metadata": {},
   "outputs": [],
   "source": [
    "past_num_yrs = 'year5'  # reviews in the past 5 years \n",
    "df['review_score'] = df['detail_factor'] * df['helful_factor'] * df['stars_score'] * df[past_num_yrs]"
   ]
  },
  {
   "cell_type": "code",
   "execution_count": null,
   "metadata": {},
   "outputs": [],
   "source": [
    "df[['review_score', 'detail_factor', 'stars_score', 'helful_factor', past_num_yrs, 'date_posted']].sample(5)"
   ]
  },
  {
   "cell_type": "code",
   "execution_count": null,
   "metadata": {},
   "outputs": [],
   "source": [
    "plt.figure(figsize=(18,6))\n",
    "sns.barplot(data=df, x='company', y='review_score', hue='country');"
   ]
  },
  {
   "cell_type": "code",
   "execution_count": null,
   "metadata": {},
   "outputs": [],
   "source": [
    "plt.figure(figsize=(18,6))\n",
    "sns.barplot(data=df, x='company', y='overall_ratings', hue=df.country);"
   ]
  },
  {
   "cell_type": "markdown",
   "metadata": {},
   "source": [
    "- This results and lots of other variations of it based on new features that we made doesn't seem to be compelling.\n",
    "- We will use all actual ratings values in the data set."
   ]
  },
  {
   "cell_type": "code",
   "execution_count": null,
   "metadata": {},
   "outputs": [],
   "source": [
    "df.groupby('company').mean()[['review_score', 'overall_ratings']].sort_values('review_score', ascending=False)"
   ]
  },
  {
   "cell_type": "code",
   "execution_count": null,
   "metadata": {},
   "outputs": [],
   "source": [
    "plt.figure(figsize=(18,6))\n",
    "sns.barplot(data=df, x=df.helpful_count, y=df.overall_ratings);\n",
    "plt.xlim(-0.5, 10+0.5)"
   ]
  },
  {
   "cell_type": "code",
   "execution_count": null,
   "metadata": {},
   "outputs": [],
   "source": [
    "cum_hist = df['helpful_count'].value_counts(normalize=True).cumsum()\n",
    "cum_hist[cum_hist < 0.975].index.max()"
   ]
  },
  {
   "cell_type": "markdown",
   "metadata": {},
   "source": [
    "Considering that 97.5% of reviews have a helpful_count of 10 or less, We can see that lower rating reviews get more helpful counts."
   ]
  },
  {
   "cell_type": "code",
   "execution_count": null,
   "metadata": {},
   "outputs": [],
   "source": [
    "df.groupby('country').mean().sort_values(by='overall_ratings', ascending=False)"
   ]
  },
  {
   "cell_type": "markdown",
   "metadata": {},
   "source": [
    "## Main Findings<a name=\"findings\"></a>\n",
    "\n",
    "We were interested to see what matters most to employees. This visulaliztion revealed very interesting answers (patterns) mostly based on the shape (distribution) of the data rather the statistical summaries."
   ]
  },
  {
   "cell_type": "code",
   "execution_count": null,
   "metadata": {},
   "outputs": [],
   "source": [
    "fig, axes = plt.subplots(nrows=1, ncols=6, sharey=True, figsize=(20, 5))\n",
    "fig.suptitle('Ratings\\' Distributions', fontsize=22, fontweight='bold')\n",
    "xticks=[1, 2, 3, 4, 5]\n",
    "for ax, col in zip(axes, rating_cols):\n",
    "    \n",
    "    if col=='overall_ratings' or col=='comp_benefit_stars':\n",
    "        color = sns.color_palette()[0]\n",
    "    elif col=='work_balance_stars' or col=='senior_mangemnet_stars':\n",
    "        color = sns.color_palette()[1]\n",
    "    else:\n",
    "        color = sns.color_palette()[2]\n",
    "        \n",
    "    ax = sns.countplot(ax=ax, data=df, x=df[col], color=color, order=xticks, hue=None)\n",
    "    mean = '{:0.2f}'.format(df[col].mean())\n",
    "    std = '{:0.2f}'.format(df[col].std())\n",
    "    ax.set(title=ax.get_xlabel(), xlabel=f'Mean:{mean}\\nSD:{std}', ylabel='')"
   ]
  },
  {
   "cell_type": "markdown",
   "metadata": {},
   "source": [
    "The Overall-Stars distribution is very similar to the Compensation-Benefit-Stars this could be an indication that employees overall are as happy as their pays. Earnings, as expected, are a significant part of how much we are happy with our jobs and the lowest Standard Deviation for the Compensation-Benefit Stars also shows this is an area more employees agree together.\n",
    "\n",
    "The 2nd pair of very similar patterns are for Work-Life-Balance and Management ratings. One perspective to look at these two ratings is the more we feel connected and comfortable with management the less work feels like work! Not only Work-Life Balance and Management share very similar distributions, but their statistical averages are also very close and the lowest means."
   ]
  },
  {
   "cell_type": "code",
   "execution_count": null,
   "metadata": {},
   "outputs": [],
   "source": [
    "fig, axes = plt.subplots(nrows=1, ncols=6, sharey=True, figsize=(20, 5))\n",
    "fig.suptitle('Ratings\\' Distributions between Current and Past Employees', fontsize=22, fontweight='bold')\n",
    "xticks=[1, 2, 3, 4, 5]\n",
    "for ax, col in zip(axes, rating_cols):\n",
    "    \n",
    "    if col=='overall_ratings' or col=='comp_benefit_stars':\n",
    "        color = sns.color_palette()[0]\n",
    "    elif col=='work_balance_stars' or col=='senior_mangemnet_stars':\n",
    "        color = sns.color_palette()[1]\n",
    "    else:\n",
    "        color = sns.color_palette()[2]\n",
    "        \n",
    "    ax = sns.countplot(ax=ax, data=df, x=df[col], color=color, order=xticks, hue='current_emp')\n",
    "    mean = '{:0.2f}'.format(df[col].mean())\n",
    "    std = '{:0.2f}'.format(df[col].std())\n",
    "    ax.set(title=ax.get_xlabel(), xlabel=f'Mean:{mean}\\nSD:{std}', ylabel='')"
   ]
  },
  {
   "cell_type": "markdown",
   "metadata": {},
   "source": [
    "\n",
    "We can see when it comes to 1-star reviews meaning miserable and frustrated employees in almost all rating categories past employees are exceeding the current employees. The exception here is the compensation-benefit 1-start rating between past and current employees that are looking the same between the two, and we can conclude that pay was the least important issue for past employees. (We see exact numeric statistic averages for this fact in our exploration)\n",
    "\n",
    "The other observation in these charts is that the ratio of 4 or 5 stars reviews that is the ratio of Current Happy employees over Past Happy employees very noticeably increases.\n",
    "___"
   ]
  },
  {
   "cell_type": "markdown",
   "metadata": {},
   "source": [
    "## Story of our Data<a name=\"Story\"></a>\n",
    "\n",
    "For most  of us our work is a significat part of our lives and our identities. We try to fit our work with our personal life and sometimes the otherway around. Nothing wrong with either.\n",
    "\n",
    "People we work with and what we do is a big part of our lives. As much as we need our jobs to meet our financial needs we also, need to be happy and content with this big part of our lives. \n",
    "\n",
    "The story of our data "
   ]
  },
  {
   "cell_type": "code",
   "execution_count": null,
   "metadata": {},
   "outputs": [],
   "source": [
    "def ratings_trend(df=df, rating_cols=rating_cols):\n",
    "    plt.figure(figsize=(7, 7))\n",
    "\n",
    "    colors = ['grey', 'blue', 'green', 'red', 'brown']\n",
    "    ypos = 4.25\n",
    "    for col, color in zip(rating_cols[1:], colors):\n",
    "        sns.pointplot(data=df, x='overall_ratings', y=col, color=color)\n",
    "        plt.text(0.5, ypos, str(col), color=color)\n",
    "        ypos += 0.15\n",
    "\n",
    "    plt.ylim(1, 5)\n",
    "    plt.grid()\n",
    "    plt.xlabel('Overall Rating Stars')\n",
    "    plt.ylabel('Star-Level average ratings of each Sub-Ratings vs. Overall Rating');"
   ]
  },
  {
   "cell_type": "markdown",
   "metadata": {},
   "source": [
    "___\n",
    "**Other Questions:** These are other interesting questions not directly addressed in this exploration but seem very interesting for later analysis.\n",
    "- Based on this data what company seems the best choice for a specific position?\n",
    "- Is there a relationship base on a company's stock market momentum its employees' happiness?\n",
    "- What is each company best at making its employees happy?\n",
    "- What positions seem to be happiest in each company? (and overall)"
   ]
  },
  {
   "cell_type": "code",
   "execution_count": null,
   "metadata": {},
   "outputs": [],
   "source": []
  },
  {
   "cell_type": "code",
   "execution_count": null,
   "metadata": {},
   "outputs": [],
   "source": []
  }
 ],
 "metadata": {
  "kernelspec": {
   "display_name": "Python 3",
   "language": "python",
   "name": "python3"
  },
  "language_info": {
   "codemirror_mode": {
    "name": "ipython",
    "version": 3
   },
   "file_extension": ".py",
   "mimetype": "text/x-python",
   "name": "python",
   "nbconvert_exporter": "python",
   "pygments_lexer": "ipython3",
   "version": "3.6.8"
  }
 },
 "nbformat": 4,
 "nbformat_minor": 2
}
