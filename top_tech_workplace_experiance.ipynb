{
 "cells": [
  {
   "cell_type": "markdown",
   "metadata": {},
   "source": [
    "##### Exploratory Data Analysis of:\n",
    "# Top Tech Employees' Workplace Experiance\n",
    "___\n",
    "\n",
    "**Context:** Over 67k employee reviews for Google, Amazon, Facebook, Apple, and Microsoft.\n",
    "\n",
    "**Acknowledgements:** This data was scraped from Glassdoor.\n",
    "\n",
    "**Questions**\n",
    "- What company has been improving best?\n",
    "- based on this data what company seems the best choice for a specific postion?\n",
    "- is there a relationship base on stock market mometoum and volatility and employee's workplace rating?\n",
    "- What pros each company is best at?\n",
    "- what positions seem to be happiest in each company? (and overall)\n",
    "\n",
    "- a company cultur is like a living thing, it grows, changes, fades away, It's the direction that matters most for current and potential employees perhaps more than where they are now. So recent reviews so weigh more of general status of a cimpany.\n",
    "\n",
    "\n",
    "- what proportion of employees felt comfortable enough not tobe Anonymous?\n",
    "___"
   ]
  },
  {
   "cell_type": "markdown",
   "metadata": {},
   "source": [
    "Scratch Notes\n",
    "\n",
    "- Exploratory Data Analysis and Visualization for Text Data\n",
    "- Create a stunning visualization\n",
    "- focus of the project is on exploratory data analysis\n",
    "- worthy of posting it to Medium, Kaggle\n",
    "- Emplopyers and My Tech Friends value it\n",
    "\n",
    "https://towardsdatascience.com/a-complete-exploratory-data-analysis-and-visualization-for-text-data-29fb1b96fb6a\n",
    "\n",
    "https://www.kaggle.com/aashita/exploratory-data-analysis-of-comments-on-nyt\n",
    "\n",
    "https://www.kaggle.com/petersunga/google-amazon-facebook-employee-reviews"
   ]
  },
  {
   "cell_type": "markdown",
   "metadata": {},
   "source": [
    "Table of contents:\n",
    "1. [Importing modules and loading data ](#import)"
   ]
  },
  {
   "cell_type": "markdown",
   "metadata": {},
   "source": [
    "## Importing modules and loading data <a name=\"import\"></a>"
   ]
  },
  {
   "cell_type": "markdown",
   "metadata": {},
   "source": [
    "#### First we import python modules and setting notebook environment"
   ]
  },
  {
   "cell_type": "code",
   "execution_count": 1,
   "metadata": {},
   "outputs": [],
   "source": [
    "# Essential Data Analysis Ecosystem Libraries\n",
    "import numpy as np\n",
    "import pandas as pd\n",
    "from pandas.api.types import CategoricalDtype\n",
    "\n",
    "# Visualization\n",
    "import matplotlib.pyplot as plt\n",
    "import seaborn as sns\n",
    "\n",
    "# Python Standard Libraries\n",
    "import os  # os file operations\n",
    "import re  # regular experesion  for data cleaning\n",
    "from collections import Counter\n",
    "\n",
    "# Layer Two Libararies\n",
    "import textblob\n",
    "\n",
    "# suppress warnings from final output\n",
    "import warnings\n",
    "warnings.simplefilter(\"ignore\")\n",
    "\n",
    "# set plots to be embedded inline\n",
    "%matplotlib inline\n",
    "\n",
    "# base color\n",
    "color = sns.color_palette()[0]"
   ]
  },
  {
   "cell_type": "markdown",
   "metadata": {},
   "source": [
    "#### Load up our dataset to a DataFrame"
   ]
  },
  {
   "cell_type": "code",
   "execution_count": 2,
   "metadata": {},
   "outputs": [
    {
     "name": "stdout",
     "output_type": "stream",
     "text": [
      "Dataset file(s): ['Untitled.ipynb', 'employee_reviews.csv', '.ipynb_checkpoints']\n"
     ]
    }
   ],
   "source": [
    "# dataset starting file(s)\n",
    "dataset_path = 'input/'\n",
    "print ('Dataset file(s):', os.listdir(dataset_path))\n",
    "\n",
    "# TODO: If there is a new version of the dataset, programmatically download updated dataset zip file from Kaggle.\n",
    "\n",
    "df = pd.read_csv(os.path.join(dataset_path, 'employee_reviews.csv'))"
   ]
  },
  {
   "cell_type": "markdown",
   "metadata": {},
   "source": [
    "## First look at the data:<a name=\"import\"></a>"
   ]
  },
  {
   "cell_type": "markdown",
   "metadata": {},
   "source": [
    "#### Let's look at shape of our data and 3 random observations (reviews):"
   ]
  },
  {
   "cell_type": "code",
   "execution_count": 3,
   "metadata": {},
   "outputs": [
    {
     "name": "stdout",
     "output_type": "stream",
     "text": [
      "Number of rows (reviews) and columns: (67529, 17)\n"
     ]
    },
    {
     "data": {
      "text/html": [
       "<div>\n",
       "<style scoped>\n",
       "    .dataframe tbody tr th:only-of-type {\n",
       "        vertical-align: middle;\n",
       "    }\n",
       "\n",
       "    .dataframe tbody tr th {\n",
       "        vertical-align: top;\n",
       "    }\n",
       "\n",
       "    .dataframe thead th {\n",
       "        text-align: right;\n",
       "    }\n",
       "</style>\n",
       "<table border=\"1\" class=\"dataframe\">\n",
       "  <thead>\n",
       "    <tr style=\"text-align: right;\">\n",
       "      <th></th>\n",
       "      <th>Unnamed: 0</th>\n",
       "      <th>company</th>\n",
       "      <th>location</th>\n",
       "      <th>dates</th>\n",
       "      <th>job-title</th>\n",
       "      <th>summary</th>\n",
       "      <th>pros</th>\n",
       "      <th>cons</th>\n",
       "      <th>advice-to-mgmt</th>\n",
       "      <th>overall-ratings</th>\n",
       "      <th>work-balance-stars</th>\n",
       "      <th>culture-values-stars</th>\n",
       "      <th>carrer-opportunities-stars</th>\n",
       "      <th>comp-benefit-stars</th>\n",
       "      <th>senior-mangemnet-stars</th>\n",
       "      <th>helpful-count</th>\n",
       "      <th>link</th>\n",
       "    </tr>\n",
       "  </thead>\n",
       "  <tbody>\n",
       "    <tr>\n",
       "      <th>3439</th>\n",
       "      <td>3440</td>\n",
       "      <td>google</td>\n",
       "      <td>Austin, TX</td>\n",
       "      <td>Jan 7, 2015</td>\n",
       "      <td>Former Employee - Senior Strategist</td>\n",
       "      <td>Senior Strategist</td>\n",
       "      <td>-Flexible work schedule -Your opinion matters ...</td>\n",
       "      <td>-Inexperienced middle management -They usually...</td>\n",
       "      <td>none</td>\n",
       "      <td>5.0</td>\n",
       "      <td>3.0</td>\n",
       "      <td>3.0</td>\n",
       "      <td>3.0</td>\n",
       "      <td>4.0</td>\n",
       "      <td>3.0</td>\n",
       "      <td>2</td>\n",
       "      <td>https://www.glassdoor.com/Reviews/Google-Revie...</td>\n",
       "    </tr>\n",
       "    <tr>\n",
       "      <th>67465</th>\n",
       "      <td>67466</td>\n",
       "      <td>microsoft</td>\n",
       "      <td>London, England (UK)</td>\n",
       "      <td>Feb 25, 2011</td>\n",
       "      <td>Former Employee - Solution Specialist</td>\n",
       "      <td>A great company with some outstanding and supp...</td>\n",
       "      <td>Great people to work with. Committed to person...</td>\n",
       "      <td>Big company with a tendency to use overlay sal...</td>\n",
       "      <td>Microsoft is a great place to work - I'd absol...</td>\n",
       "      <td>4.0</td>\n",
       "      <td>5.0</td>\n",
       "      <td>none</td>\n",
       "      <td>3.5</td>\n",
       "      <td>3.5</td>\n",
       "      <td>4.0</td>\n",
       "      <td>0</td>\n",
       "      <td>https://www.glassdoor.com/Reviews/Microsoft-Re...</td>\n",
       "    </tr>\n",
       "    <tr>\n",
       "      <th>5333</th>\n",
       "      <td>5334</td>\n",
       "      <td>google</td>\n",
       "      <td>none</td>\n",
       "      <td>Mar 20, 2018</td>\n",
       "      <td>Current Employee - Anonymous Employee</td>\n",
       "      <td>Channel program manager</td>\n",
       "      <td>Provide cab facility and of course the food is...</td>\n",
       "      <td>Too process driven but totally depends on team.</td>\n",
       "      <td>none</td>\n",
       "      <td>5.0</td>\n",
       "      <td>none</td>\n",
       "      <td>none</td>\n",
       "      <td>none</td>\n",
       "      <td>none</td>\n",
       "      <td>none</td>\n",
       "      <td>2</td>\n",
       "      <td>https://www.glassdoor.com/Reviews/Google-Revie...</td>\n",
       "    </tr>\n",
       "  </tbody>\n",
       "</table>\n",
       "</div>"
      ],
      "text/plain": [
       "       Unnamed: 0    company              location          dates  \\\n",
       "3439         3440     google            Austin, TX    Jan 7, 2015   \n",
       "67465       67466  microsoft  London, England (UK)   Feb 25, 2011   \n",
       "5333         5334     google                  none   Mar 20, 2018   \n",
       "\n",
       "                                   job-title  \\\n",
       "3439     Former Employee - Senior Strategist   \n",
       "67465  Former Employee - Solution Specialist   \n",
       "5333   Current Employee - Anonymous Employee   \n",
       "\n",
       "                                                 summary  \\\n",
       "3439                                   Senior Strategist   \n",
       "67465  A great company with some outstanding and supp...   \n",
       "5333                             Channel program manager   \n",
       "\n",
       "                                                    pros  \\\n",
       "3439   -Flexible work schedule -Your opinion matters ...   \n",
       "67465  Great people to work with. Committed to person...   \n",
       "5333   Provide cab facility and of course the food is...   \n",
       "\n",
       "                                                    cons  \\\n",
       "3439   -Inexperienced middle management -They usually...   \n",
       "67465  Big company with a tendency to use overlay sal...   \n",
       "5333     Too process driven but totally depends on team.   \n",
       "\n",
       "                                          advice-to-mgmt  overall-ratings  \\\n",
       "3439                                                none              5.0   \n",
       "67465  Microsoft is a great place to work - I'd absol...              4.0   \n",
       "5333                                                none              5.0   \n",
       "\n",
       "      work-balance-stars culture-values-stars carrer-opportunities-stars  \\\n",
       "3439                 3.0                  3.0                        3.0   \n",
       "67465                5.0                 none                        3.5   \n",
       "5333                none                 none                       none   \n",
       "\n",
       "      comp-benefit-stars senior-mangemnet-stars  helpful-count  \\\n",
       "3439                 4.0                    3.0              2   \n",
       "67465                3.5                    4.0              0   \n",
       "5333                none                   none              2   \n",
       "\n",
       "                                                    link  \n",
       "3439   https://www.glassdoor.com/Reviews/Google-Revie...  \n",
       "67465  https://www.glassdoor.com/Reviews/Microsoft-Re...  \n",
       "5333   https://www.glassdoor.com/Reviews/Google-Revie...  "
      ]
     },
     "execution_count": 3,
     "metadata": {},
     "output_type": "execute_result"
    }
   ],
   "source": [
    "print('Number of rows (reviews) and columns:', df.shape)\n",
    "df.sample(3)"
   ]
  },
  {
   "cell_type": "markdown",
   "metadata": {},
   "source": [
    "#### Information about columns by data provider:\n",
    "\n",
    "This dataset contains employee reviews separated into the following categories. \n",
    "> Comments in blue are data tidiness and quality issues that we will fix before start exploring the data.\n",
    "\n",
    "##### Columns\n",
    "- Index: index\n",
    "- - <font color='blue'> Unnamed column is redundant. Same as index. To be dropped</font>\n",
    "- Company: Company name\n",
    "- Location : This dataset is global, as such it may include the country's name in parenthesis i.e \"Toronto, ON(Canada)\". However, if the location is in the USA then it will only include the city and state i.e \"Los Angeles, CA\".\n",
    "- - <font color='blue'> Tidiness issue: Global location column contains 3 different 'city, state, and country' values. This column is to be separated in 3 columns.</font>\n",
    "- Date Posted: in the following format MM DD, YYYY\n",
    "- Job-Title: This string will also include whether the reviewer is a 'Current' or 'Former' Employee at the time of the review\n",
    "- - <font color='blue'> Tidiness issue: employee_status (current or former) and job_title are to be seperated in two columns.</font>\n",
    "- Summary: Short summary of employee review\n",
    "- Pros: Pros\n",
    "- Cons: Cons\n",
    "- Overall Rating: 1-5\n",
    "- Work/Life Balance Rating: 1-5\n",
    "- Culture and Values Rating: 1-5\n",
    "- Career Opportunities Rating: 1-5\n",
    "- Comp & Benefits Rating: 1-5\n",
    "- Senior Management Rating: 1-5\n",
    "- Helpful Review Count: A count of how many people found the review to be helpful\n",
    "- Link to Review : This will provide you with a direct link to the page that contains the review. However it is likely that this link will be outdated\n",
    "\n",
    "NOTE: 'none' is placed in all cells where no data value was found.\n",
    "- - <font color='blue'> Data Quality issue: Missleading representation of missing values with 'none'. To be replaced with NaN.</font>\n",
    "\n"
   ]
  },
  {
   "cell_type": "markdown",
   "metadata": {},
   "source": [
    "#### Information about the columns' names, datatypes, unique values, and null values:"
   ]
  },
  {
   "cell_type": "code",
   "execution_count": 4,
   "metadata": {
    "scrolled": false
   },
   "outputs": [
    {
     "name": "stdout",
     "output_type": "stream",
     "text": [
      "<class 'pandas.core.frame.DataFrame'>\n",
      "RangeIndex: 67529 entries, 0 to 67528\n",
      "Data columns (total 17 columns):\n",
      "Unnamed: 0                    67529 non-null int64\n",
      "company                       67529 non-null object\n",
      "location                      67529 non-null object\n",
      "dates                         67529 non-null object\n",
      "job-title                     67529 non-null object\n",
      "summary                       67409 non-null object\n",
      "pros                          67529 non-null object\n",
      "cons                          67529 non-null object\n",
      "advice-to-mgmt                67232 non-null object\n",
      "overall-ratings               67529 non-null float64\n",
      "work-balance-stars            67529 non-null object\n",
      "culture-values-stars          67529 non-null object\n",
      "carrer-opportunities-stars    67529 non-null object\n",
      "comp-benefit-stars            67529 non-null object\n",
      "senior-mangemnet-stars        67529 non-null object\n",
      "helpful-count                 67529 non-null int64\n",
      "link                          67529 non-null object\n",
      "dtypes: float64(1), int64(2), object(14)\n",
      "memory usage: 8.8+ MB\n"
     ]
    }
   ],
   "source": [
    "df.info()"
   ]
  },
  {
   "cell_type": "code",
   "execution_count": 5,
   "metadata": {},
   "outputs": [
    {
     "data": {
      "text/plain": [
       "Unnamed: 0                    67529\n",
       "company                           6\n",
       "location                       2044\n",
       "dates                          3824\n",
       "job-title                      8308\n",
       "summary                       42649\n",
       "pros                          66085\n",
       "cons                          66049\n",
       "advice-to-mgmt                35190\n",
       "overall-ratings                   5\n",
       "work-balance-stars               10\n",
       "culture-values-stars              6\n",
       "carrer-opportunities-stars       10\n",
       "comp-benefit-stars               10\n",
       "senior-mangemnet-stars           10\n",
       "helpful-count                    99\n",
       "link                           6754\n",
       "dtype: int64"
      ]
     },
     "execution_count": 5,
     "metadata": {},
     "output_type": "execute_result"
    }
   ],
   "source": [
    "df.nunique()"
   ]
  },
  {
   "cell_type": "code",
   "execution_count": 6,
   "metadata": {},
   "outputs": [],
   "source": [
    "sdf = df.sample(5)"
   ]
  },
  {
   "cell_type": "code",
   "execution_count": 7,
   "metadata": {},
   "outputs": [
    {
     "name": "stdout",
     "output_type": "stream",
     "text": [
      "['https://www.glassdoor.com/Reviews/Amazon-Reviews-E6036_P537.htm'\n",
      " 'https://www.glassdoor.com/Reviews/Facebook-Reviews-E40772_P12.htm'\n",
      " 'https://www.glassdoor.com/Reviews/Apple-Reviews-E1138_P1008.htm'\n",
      " 'https://www.glassdoor.com/Reviews/Amazon-Reviews-E6036_P2250.htm'\n",
      " 'https://www.glassdoor.com/Reviews/Amazon-Reviews-E6036_P182.htm']\n",
      "Enter,  y  if you would like to open and see these sample reviews\\` urls? \n"
     ]
    }
   ],
   "source": [
    "# open sample links to get familiar with source of data\n",
    "\n",
    "slinks = sdf['link']\n",
    "print(slinks.values)\n",
    "answer = input('Enter,  y  if you would like to open and see these sample reviews\\` urls? ')\n",
    "if answer.lower()=='y':\n",
    "#     webbrowser.open(sample_reviews.values)\n",
    "    [webbrowser.open(page) for page in slinks]"
   ]
  },
  {
   "cell_type": "markdown",
   "metadata": {},
   "source": [
    "## Data Wrangling"
   ]
  },
  {
   "cell_type": "markdown",
   "metadata": {},
   "source": [
    "#### There are 3 values of  `city, state, country` in location column. We will make this tidy by separating each value in its own column."
   ]
  },
  {
   "cell_type": "code",
   "execution_count": 8,
   "metadata": {},
   "outputs": [
    {
     "data": {
      "text/plain": [
       "13799             Seattle, WA\n",
       "17259                    none\n",
       "12985                    none\n",
       "45510        Santa Monica, CA\n",
       "6450                     none\n",
       "57417                    none\n",
       "54107                    none\n",
       "48271                    none\n",
       "49412    Toronto, ON (Canada)\n",
       "56926             Redmond, WA\n",
       "Name: location, dtype: object"
      ]
     },
     "execution_count": 8,
     "metadata": {},
     "output_type": "execute_result"
    }
   ],
   "source": [
    "# location column before cleaning\n",
    "df['location'].sample(10)"
   ]
  },
  {
   "cell_type": "code",
   "execution_count": 9,
   "metadata": {},
   "outputs": [],
   "source": [
    "# Tidiness\n",
    "# functions to make extrat \"city, state, and country\" values from location column \n",
    "# to 3 columns\n",
    "\n",
    "btween_parentheses = r'\\(([^)]+)\\)'  # Regular expression to get a string between parentheses\n",
    "\n",
    "\n",
    "def get_country(location):\n",
    "    \"\"\"Extracts and returns country name from location string.\n",
    "    Returns NaN if 'none'.\"\"\"\n",
    "    if location == 'none':\n",
    "        return np.nan\n",
    "    not_usa = re.findall(btween_parentheses, location)\n",
    "    if not_usa:\n",
    "        return not_usa[0]\n",
    "    else:\n",
    "        return 'USA'\n",
    "    \n",
    "\n",
    "def get_state(location):\n",
    "    \"\"\"Extracts and returns state name (if aby) from location string.\n",
    "    Returns Nan if 'none or not applicable.\"\"\"\n",
    "    if location == 'none':\n",
    "        return np.nan\n",
    "    not_usa = re.findall(btween_parentheses, location)\n",
    "    if not_usa:\n",
    "        if ',' in location:\n",
    "            return location.split(',')[1].split()[0]\n",
    "        else:\n",
    "            return np.nan\n",
    "    else:\n",
    "        return location.strip()[-2:]\n",
    "\n",
    "    \n",
    "def get_city(location):\n",
    "    \"\"\"Extracts and returns city name from location string.\n",
    "    Returns Nan if 'none'.\"\"\"\n",
    "    if location == 'none':\n",
    "        return np.nan\n",
    "    not_usa = re.findall(btween_parentheses, location)\n",
    "    if not_usa:\n",
    "        if ',' in location:\n",
    "            return location.split(',')[0]\n",
    "        else:\n",
    "            return location.split()[0]\n",
    "    else:\n",
    "        return location.split(',')[0]    "
   ]
  },
  {
   "cell_type": "code",
   "execution_count": 10,
   "metadata": {},
   "outputs": [],
   "source": [
    "df['city'] = df.location.apply(get_city)\n",
    "df['state'] = df.location.apply(get_state)\n",
    "df['country'] = df.location.apply(get_country)"
   ]
  },
  {
   "cell_type": "code",
   "execution_count": 11,
   "metadata": {},
   "outputs": [
    {
     "data": {
      "text/html": [
       "<div>\n",
       "<style scoped>\n",
       "    .dataframe tbody tr th:only-of-type {\n",
       "        vertical-align: middle;\n",
       "    }\n",
       "\n",
       "    .dataframe tbody tr th {\n",
       "        vertical-align: top;\n",
       "    }\n",
       "\n",
       "    .dataframe thead th {\n",
       "        text-align: right;\n",
       "    }\n",
       "</style>\n",
       "<table border=\"1\" class=\"dataframe\">\n",
       "  <thead>\n",
       "    <tr style=\"text-align: right;\">\n",
       "      <th></th>\n",
       "      <th>city</th>\n",
       "      <th>state</th>\n",
       "      <th>country</th>\n",
       "    </tr>\n",
       "  </thead>\n",
       "  <tbody>\n",
       "    <tr>\n",
       "      <th>3780</th>\n",
       "      <td>NaN</td>\n",
       "      <td>NaN</td>\n",
       "      <td>NaN</td>\n",
       "    </tr>\n",
       "    <tr>\n",
       "      <th>19051</th>\n",
       "      <td>NaN</td>\n",
       "      <td>NaN</td>\n",
       "      <td>NaN</td>\n",
       "    </tr>\n",
       "    <tr>\n",
       "      <th>40035</th>\n",
       "      <td>Bellevue</td>\n",
       "      <td>WA</td>\n",
       "      <td>USA</td>\n",
       "    </tr>\n",
       "    <tr>\n",
       "      <th>46084</th>\n",
       "      <td>Peabody</td>\n",
       "      <td>MA</td>\n",
       "      <td>USA</td>\n",
       "    </tr>\n",
       "    <tr>\n",
       "      <th>35985</th>\n",
       "      <td>Los Gatos</td>\n",
       "      <td>CA</td>\n",
       "      <td>USA</td>\n",
       "    </tr>\n",
       "  </tbody>\n",
       "</table>\n",
       "</div>"
      ],
      "text/plain": [
       "            city state country\n",
       "3780         NaN   NaN     NaN\n",
       "19051        NaN   NaN     NaN\n",
       "40035   Bellevue    WA     USA\n",
       "46084    Peabody    MA     USA\n",
       "35985  Los Gatos    CA     USA"
      ]
     },
     "execution_count": 11,
     "metadata": {},
     "output_type": "execute_result"
    }
   ],
   "source": [
    "# Test\n",
    "df[['city', 'state', 'country']].sample(5)"
   ]
  },
  {
   "cell_type": "markdown",
   "metadata": {},
   "source": [
    "#### Renaming Columns for Clarity\n",
    "\n",
    "- We rename all 5 rating columns to start with `r_`.\n",
    "- All columns\\` names to singular nouns.\n",
    "- Change connecting dashs `-` to underscores `_`."
   ]
  },
  {
   "cell_type": "code",
   "execution_count": 12,
   "metadata": {},
   "outputs": [],
   "source": [
    "df.rename(columns={'dates': 'date',\n",
    "                   'advice-to-mgmt': 'advice_to_mgmt',\n",
    "                   'overall-ratings': 'r_overall',\n",
    "                   'work-balance-stars': 'r_work_balance',\n",
    "                   'culture-values-stars': 'r_culture',\n",
    "                   'carrer-opportunities-stars': 'r_career_opp',\n",
    "                   'comp-benefit-stars': 'r_comp_benefit',\n",
    "                   'senior-mangemnet-stars': 'senior_mangemnet',\n",
    "                   'helpful-count': 'helpful_count'}, inplace=True);"
   ]
  },
  {
   "cell_type": "markdown",
   "metadata": {},
   "source": [
    "####  Seperate `job-title` column values to 2 columns, current_emp and job_title."
   ]
  },
  {
   "cell_type": "code",
   "execution_count": 13,
   "metadata": {},
   "outputs": [],
   "source": [
    "df['current_emp'] = df['job-title'].apply(lambda column: True if column.split()[0] == 'Current' else False)\n",
    "df['job_title'] = df['job-title'].apply(lambda column: column.split('-')[1])"
   ]
  },
  {
   "cell_type": "markdown",
   "metadata": {},
   "source": [
    "#### Dropping redundant columns"
   ]
  },
  {
   "cell_type": "code",
   "execution_count": 14,
   "metadata": {},
   "outputs": [],
   "source": [
    "drop_columns = ['Unnamed: 0', 'location', 'job-title', 'link']\n",
    "df.drop(columns=drop_columns, axis=1, inplace=True)"
   ]
  },
  {
   "cell_type": "markdown",
   "metadata": {},
   "source": [
    "## Data Type and Value Corrections"
   ]
  },
  {
   "cell_type": "code",
   "execution_count": 15,
   "metadata": {},
   "outputs": [],
   "source": [
    "# Replace misrepresentations of missing values to NaN\n",
    "df.replace('none', np.nan, inplace=True);"
   ]
  },
  {
   "cell_type": "code",
   "execution_count": 16,
   "metadata": {},
   "outputs": [],
   "source": [
    "# Datetime Types:\n",
    "df.date = pd.to_datetime(df.date, errors='coerce')"
   ]
  },
  {
   "cell_type": "code",
   "execution_count": 17,
   "metadata": {},
   "outputs": [],
   "source": [
    "rating_cols = [col for col in df.columns if col.startswith('r_')]"
   ]
  },
  {
   "cell_type": "code",
   "execution_count": null,
   "metadata": {},
   "outputs": [],
   "source": [
    "# Rating values to Numeric\n",
    "for col in rating_cols:\n",
    "    df[col] = pd.to_numeric(df[col], downcast='unsigned')"
   ]
  },
  {
   "cell_type": "code",
   "execution_count": 22,
   "metadata": {},
   "outputs": [],
   "source": [
    "# Correct in between rating values to lower rating before\n",
    "def five_ratings_only(col):\n",
    "    for idx in col.value_counts().index:\n",
    "        col[col==idx] = int(float(idx))\n",
    "    return col\n",
    "\n",
    "for col in rating_cols:\n",
    "    df[col] = five_ratings_only(df[col])"
   ]
  },
  {
   "cell_type": "code",
   "execution_count": 23,
   "metadata": {},
   "outputs": [
    {
     "name": "stdout",
     "output_type": "stream",
     "text": [
      "<class 'pandas.core.frame.DataFrame'>\n",
      "RangeIndex: 67529 entries, 0 to 67528\n",
      "Data columns (total 18 columns):\n",
      "company             67529 non-null object\n",
      "date                67525 non-null datetime64[ns]\n",
      "summary             67400 non-null object\n",
      "pros                67529 non-null object\n",
      "cons                67528 non-null object\n",
      "advice_to_mgmt      38068 non-null object\n",
      "r_overall           67529 non-null float64\n",
      "r_work_balance      60369 non-null object\n",
      "r_culture           53983 non-null object\n",
      "r_career_opp        60421 non-null object\n",
      "r_comp_benefit      60368 non-null object\n",
      "senior_mangemnet    59754 non-null object\n",
      "helpful_count       67529 non-null int64\n",
      "city                42444 non-null object\n",
      "state               34403 non-null object\n",
      "country             42444 non-null object\n",
      "current_emp         67529 non-null bool\n",
      "job_title           67529 non-null object\n",
      "dtypes: bool(1), datetime64[ns](1), float64(1), int64(1), object(14)\n",
      "memory usage: 8.8+ MB\n"
     ]
    }
   ],
   "source": [
    "df.info()"
   ]
  },
  {
   "cell_type": "markdown",
   "metadata": {},
   "source": [
    "The rating is based on a popular scale from 1 the worst to 5 the best. Some rating values in rating columns are in between levels i.e. 1.5, 2.5, 3.5, or 4.5. We will correct these rating by lowering them one level. E.g. 1.5 to 1, 2.5 to 2. Note There is no 0.5 nor 5.5 ratings to be corrected."
   ]
  },
  {
   "cell_type": "code",
   "execution_count": 24,
   "metadata": {},
   "outputs": [
    {
     "data": {
      "text/plain": [
       "Int64Index([4, 3, 5, 2, 1], dtype='int64')"
      ]
     },
     "execution_count": 24,
     "metadata": {},
     "output_type": "execute_result"
    }
   ],
   "source": [
    "df['r_work_balance'].value_counts().index"
   ]
  },
  {
   "cell_type": "markdown",
   "metadata": {},
   "source": [
    "## Missing Values\n",
    " - Cleaning Missing Values\n",
    " - Plotting Missing Values' Counts"
   ]
  },
  {
   "cell_type": "code",
   "execution_count": 25,
   "metadata": {},
   "outputs": [],
   "source": [
    "def plot_missings(df, figsize=(15, 5)):\n",
    "    \n",
    "    fig, ax = plt.subplots(figsize=figsize)\n",
    "    color = sns.color_palette()[3]\n",
    "    \n",
    "    x = df.isnull().sum().index.values\n",
    "    y = df.isnull().sum()\n",
    "    sns.barplot(x, y, color=color, ax=ax)\n",
    "    locs, labels = plt.xticks(rotation=90)\n",
    "    for loc, label, missings, in zip(locs, labels, y):\n",
    "        if not missings:\n",
    "            ax.text(loc, 0, 'None', rotation=0, va='bottom', ha='center')\n",
    "        else:\n",
    "            ax.text(loc, missings, missings, rotation=0, va='bottom', ha='center')\n",
    "\n",
    "    ax.set(title='Missing Value Counts in all Columns', xlabel='Columns', ylabel='')"
   ]
  },
  {
   "cell_type": "code",
   "execution_count": 26,
   "metadata": {},
   "outputs": [
    {
     "data": {
      "image/png": "[encoded data removed]",
      "text/plain": [
       "<Figure size 1080x360 with 1 Axes>"
      ]
     },
     "metadata": {
      "needs_background": "light"
     },
     "output_type": "display_data"
    }
   ],
   "source": [
    "plot_missings(df)"
   ]
  },
  {
   "cell_type": "markdown",
   "metadata": {},
   "source": [
    "**Observations**\n",
    "- Fortunatly we have no missing values in overall-rating ."
   ]
  },
  {
   "cell_type": "markdown",
   "metadata": {},
   "source": [
    "## Univariate Explorations"
   ]
  },
  {
   "cell_type": "markdown",
   "metadata": {},
   "source": [
    "We will first look at the overall reviews rating distributions with an eye on differences between those left by past and current employees."
   ]
  },
  {
   "cell_type": "code",
   "execution_count": 27,
   "metadata": {},
   "outputs": [
    {
     "data": {
      "image/png": "[encoded data removed]",
      "text/plain": [
       "<Figure size 1080x360 with 1 Axes>"
      ]
     },
     "metadata": {
      "needs_background": "light"
     },
     "output_type": "display_data"
    }
   ],
   "source": [
    "# Create the figure and axes and get access to them\n",
    "fig, ax = plt.subplots(figsize=(15, 5))\n",
    "\n",
    "# Figure's Title\n",
    "fig.suptitle('Employees\\' Overall Ratings\\' Distributions', fontsize=14, fontweight='bold')\n",
    "\n",
    "color = sns.color_palette()[1]\n",
    "\n",
    "x = 'r_overall'\n",
    "hue = 'current_emp'\n",
    "sns.countplot(ax=ax, data=df, x=x, hue=hue, color=color)\n",
    "\n",
    "ax.set(title='1 Star to 5 Stars')\n",
    "ax.legend(['Past Employees', 'Current Employees'])\n",
    "ax.set_axis_off()\n",
    "\n",
    "locs = ax.get_xticks()\n",
    "labels = ax.get_xlabel()\n",
    "\n",
    "counts = list(df.r_overall.value_counts(normalize=True).iloc[::-1])\n",
    "for loc, lable, count in zip(locs, labels, counts):\n",
    "\n",
    "    text = '{:0.0f}%'.format(100*count)\n",
    "    ax.text(loc, 0, text, color='black', va='top', ha='center', fontsize=14)"
   ]
  },
  {
   "cell_type": "code",
   "execution_count": 28,
   "metadata": {},
   "outputs": [],
   "source": [
    "#TODO: Create two side by side donut plots with 3 wedges depicting \n",
    "# overal ratings of past & current employees in 3 Categorical groups\n",
    "# Happy Employees consisting of 4 and 5 star reviews\n",
    "# Neutral Employees consisting of only 3 starreviews\n",
    "# Unhappy Employees consisting of 1 and 2 reviews"
   ]
  },
  {
   "cell_type": "markdown",
   "metadata": {},
   "source": [
    "**Observation:** \n",
    " - This plot shows unhappy past employees were more inclined to leave a low review than current employees.\n",
    " - We can see the current/past ratio increases as rating stars increeases. \n",
    " - Happier current employees are leaving higher rating reviews maybe to show their appreciation.\n",
    " - Uphappier past employees are leaving lower rating reviews maybe to be heard!\n",
    " ___"
   ]
  },
  {
   "cell_type": "markdown",
   "metadata": {},
   "source": [
    "#### Distributions of Reviews over time\n",
    "#### Calculate Review Age Multiplier\n",
    "#### New Col - Rating * TimeMultiplier"
   ]
  },
  {
   "cell_type": "code",
   "execution_count": 29,
   "metadata": {},
   "outputs": [
    {
     "data": {
      "text/plain": [
       "(Timestamp('2008-01-31 00:00:00'), Timestamp('2018-12-11 00:00:00'))"
      ]
     },
     "execution_count": 29,
     "metadata": {},
     "output_type": "execute_result"
    }
   ],
   "source": [
    "df['date'].min(), df['date'].max()"
   ]
  },
  {
   "cell_type": "code",
   "execution_count": 30,
   "metadata": {},
   "outputs": [],
   "source": [
    "###\n",
    "# Visualize number of reviews over each month in our dataset\n",
    "# Visualize average of a rating over each year\n",
    "dt = df['date'].values\n",
    "# type(dt.values)\n",
    "df['year'], df['month'] = df['date'].dt.year, df['date'].dt.month\n",
    "\n",
    "df.groupby('year').size()\n",
    "d = df[df['year']>=2014]"
   ]
  },
  {
   "cell_type": "markdown",
   "metadata": {},
   "source": [
    "____"
   ]
  },
  {
   "cell_type": "markdown",
   "metadata": {},
   "source": [
    "### Side by Side Distribution of All Ratings Groups"
   ]
  },
  {
   "cell_type": "code",
   "execution_count": 31,
   "metadata": {},
   "outputs": [
    {
     "data": {
      "image/png": "[encoded data removed]",
      "text/plain": [
       "<Figure size 1440x360 with 5 Axes>"
      ]
     },
     "metadata": {
      "needs_background": "light"
     },
     "output_type": "display_data"
    }
   ],
   "source": [
    "fig, (ax0, ax1, ax2, ax3, ax4) = plt.subplots(nrows=1, ncols=5, sharey=True, figsize=(20, 5))\n",
    "\n",
    "# fig.suptitle('Distribution of all 5 Employees\\' Ratings Groups', fontsize=22, fontweight='bold')\n",
    "\n",
    "plt.rcParams.update({'font.size': 14})\n",
    "\n",
    "color = sns.color_palette()[2]\n",
    "xticks=[1, 2, 3, 4, 5]\n",
    "\n",
    "sns.countplot(ax=ax0, data=df, x=df['r_overall'], color=color, order=xticks)\n",
    "\n",
    "color = sns.color_palette()[6]\n",
    "sns.countplot(ax=ax1, data=df, x=df['r_career_opp'], color=color, order=xticks)\n",
    "sns.countplot(ax=ax2, data=df, x=df['r_culture'], color=color, order=xticks)\n",
    "sns.countplot(ax=ax3, data=df, x=df['r_comp_benefit'], color=color, order=xticks)\n",
    "sns.countplot(ax=ax4, data=df, x=df['r_work_balance'], color=color, order=xticks)\n",
    "\n",
    "mean = '{:0.2f}'.format(df['r_overall'].mean())\n",
    "ax0.set(title='Overall Rating', xlabel=mean, ylabel='Counts')\n",
    "\n",
    "mean = '{:0.2f}'.format(df['r_career_opp'].mean())\n",
    "ax1.set(title='Career Opportunity', xlabel=mean, ylabel='')\n",
    "\n",
    "mean = '{:0.2f}'.format(df['r_culture'].mean())\n",
    "ax2.set(title='Culture & Values', xlabel=mean, ylabel='')\n",
    "\n",
    "mean = '{:0.2f}'.format(df['r_comp_benefit'].mean())\n",
    "ax3.set(title='Compensations & Benefits', xlabel=mean, ylabel='')\n",
    "\n",
    "mean = '{:0.2f}'.format(df['r_work_balance'].mean())\n",
    "ax4.set(title='Work Life Balance', xlabel=mean, ylabel='');\n",
    "\n",
    "# TODO: Print percentage of each bar on each bar on it."
   ]
  },
  {
   "cell_type": "markdown",
   "metadata": {},
   "source": [
    "**Findings Here:**\n",
    "- Overall Rating seems to best follow employees hapiness (rating) with Compensation and Benefits. \n",
    "- Can we say Work Life Balance chart shows employees favor less time at work!?\n",
    "___"
   ]
  },
  {
   "cell_type": "markdown",
   "metadata": {},
   "source": [
    "### Helpful Count Distribution\n",
    "\n",
    "This is the only numeric feature that comes with our dataset. Let's take a look at it's distribution"
   ]
  },
  {
   "cell_type": "code",
   "execution_count": 135,
   "metadata": {},
   "outputs": [],
   "source": [
    "def hist_magnifier(df, x, xlim1, xlim2, binsize):\n",
    "    plt.hist(data=df, x=x, bins=np.arange(xlim1, xlim2+binsize, binsize))\n",
    "    plt.xlim(xlim1, xlim2);"
   ]
  },
  {
   "cell_type": "code",
   "execution_count": 143,
   "metadata": {},
   "outputs": [
    {
     "data": {
      "image/png": "[encoded data removed]",
      "text/plain": [
       "<Figure size 432x288 with 1 Axes>"
      ]
     },
     "metadata": {
      "needs_background": "light"
     },
     "output_type": "display_data"
    }
   ],
   "source": [
    "hist_magnifier(df, df.helpful_count, 100, 1000, 100)"
   ]
  },
  {
   "cell_type": "code",
   "execution_count": 120,
   "metadata": {},
   "outputs": [
    {
     "data": {
      "text/plain": [
       "count    67529.000000\n",
       "mean         1.268211\n",
       "std         16.085852\n",
       "min          0.000000\n",
       "25%          0.000000\n",
       "50%          0.000000\n",
       "75%          1.000000\n",
       "max       2094.000000\n",
       "Name: helpful_count, dtype: float64"
      ]
     },
     "execution_count": 120,
     "metadata": {},
     "output_type": "execute_result"
    }
   ],
   "source": [
    "df['helpful_count'].describe()"
   ]
  },
  {
   "cell_type": "code",
   "execution_count": 103,
   "metadata": {},
   "outputs": [
    {
     "data": {
      "text/plain": [
       "0    0.666588\n",
       "1    0.822254\n",
       "2    0.888389\n",
       "3    0.923514\n",
       "4    0.944068\n",
       "Name: helpful_count, dtype: float64"
      ]
     },
     "execution_count": 103,
     "metadata": {},
     "output_type": "execute_result"
    }
   ],
   "source": [
    "cum_hist = df['helpful_count'].value_counts(normalize=True).cumsum()\n",
    "cum_hist[cum_hist<0.95]"
   ]
  },
  {
   "cell_type": "markdown",
   "metadata": {},
   "source": [
    "____"
   ]
  },
  {
   "cell_type": "code",
   "execution_count": 113,
   "metadata": {},
   "outputs": [
    {
     "ename": "TypeError",
     "evalue": "cannot unpack non-iterable AxesSubplot object",
     "output_type": "error",
     "traceback": [
      "\u001b[0;31m---------------------------------------------------------------------------\u001b[0m",
      "\u001b[0;31mTypeError\u001b[0m                                 Traceback (most recent call last)",
      "\u001b[0;32m<ipython-input-113-f1679c0c5eeb>\u001b[0m in \u001b[0;36m<module>\u001b[0;34m\u001b[0m\n\u001b[1;32m      2\u001b[0m \u001b[0;34m\u001b[0m\u001b[0m\n\u001b[1;32m      3\u001b[0m \u001b[0;31m#Show standard deviation of observations instead of a confidence interval\u001b[0m\u001b[0;34m\u001b[0m\u001b[0;34m\u001b[0m\u001b[0;34m\u001b[0m\u001b[0m\n\u001b[0;32m----> 4\u001b[0;31m \u001b[0max1\u001b[0m\u001b[0;34m,\u001b[0m \u001b[0max2\u001b[0m \u001b[0;34m=\u001b[0m \u001b[0mplt\u001b[0m\u001b[0;34m.\u001b[0m\u001b[0msubplot\u001b[0m\u001b[0;34m(\u001b[0m\u001b[0;36m1\u001b[0m\u001b[0;34m,\u001b[0m \u001b[0;36m2\u001b[0m\u001b[0;34m,\u001b[0m \u001b[0;36m1\u001b[0m\u001b[0;34m)\u001b[0m\u001b[0;34m\u001b[0m\u001b[0;34m\u001b[0m\u001b[0m\n\u001b[0m\u001b[1;32m      5\u001b[0m \u001b[0mbase_clr\u001b[0m \u001b[0;34m=\u001b[0m \u001b[0msns\u001b[0m\u001b[0;34m.\u001b[0m\u001b[0mcolor_palette\u001b[0m\u001b[0;34m(\u001b[0m\u001b[0;34m)\u001b[0m\u001b[0;34m[\u001b[0m\u001b[0;36m7\u001b[0m\u001b[0;34m]\u001b[0m\u001b[0;34m\u001b[0m\u001b[0;34m\u001b[0m\u001b[0m\n\u001b[1;32m      6\u001b[0m \u001b[0;34m\u001b[0m\u001b[0m\n",
      "\u001b[0;31mTypeError\u001b[0m: cannot unpack non-iterable AxesSubplot object"
     ]
    },
    {
     "data": {
      "image/png": "[encoded data removed]",
      "text/plain": [
       "<Figure size 1152x288 with 1 Axes>"
      ]
     },
     "metadata": {
      "needs_background": "light"
     },
     "output_type": "display_data"
    }
   ],
   "source": [
    "plt.figure(figsize=(16,4))\n",
    "\n",
    "#Show standard deviation of observations instead of a confidence interval\n",
    "ax1, ax2 = plt.subplot(1, 2, 1)\n",
    "base_clr = sns.color_palette()[7]\n",
    "\n",
    "sns.barplot(data=df, x='r_overall', y='r_work_balance', color=base_clr, capsize=.2, ax=ax1)\n",
    "\n",
    "\n",
    "#Show standard deviation of observations instead of a confidence interval\n",
    "plt.subplot(1, 2, 2)\n",
    "\n",
    "plot2 = sns.pointplot(data=df, x='r_overall', y='r_work_balance', color=base_clr, capsize=.1)\n",
    "# plt.xticks(rotation=15)\n",
    "plt.ylim(1.5, 4.5)\n",
    "plt.ylim(plot1.get_ylim())"
   ]
  },
  {
   "cell_type": "code",
   "execution_count": null,
   "metadata": {},
   "outputs": [],
   "source": [
    "plt.figure(figsize=(16,4))\n",
    "\n",
    "#Show standard deviation of observations instead of a confidence interval\n",
    "plt.subplot(1, 2, 1)\n",
    "base_clr = sns.color_palette()[7]\n",
    "plot1 = sns.barplot(data=df, x='r_overall', y='r_career_opp', color=base_clr, capsize=.1)\n",
    "# plt.xticks(rotation=-15)\n",
    "\n",
    "#Show standard deviation of observations instead of a confidence interval\n",
    "plt.subplot(1, 2, 2)\n",
    "\n",
    "plot2 = sns.pointplot(data=df, x='r_overall', y='r_career_opp', color=base_clr, capsize=.1)\n",
    "# plt.xticks(rotation=15)\n",
    "plt.ylim(1.5, 4.5)\n",
    "\n",
    "# plt.ylim(plot1.get_ylim())"
   ]
  },
  {
   "cell_type": "code",
   "execution_count": null,
   "metadata": {},
   "outputs": [],
   "source": [
    "plt.figure(figsize=(16,4))\n",
    "\n",
    "#Show standard deviation of observations instead of a confidence interval\n",
    "plt.subplot(1, 2, 1)\n",
    "base_clr = sns.color_palette()[7]\n",
    "plot1 = sns.barplot(data=df, x='r_overall', y='r_culture', color=base_clr, capsize=.1)\n",
    "# plt.xticks(rotation=-15)\n",
    "\n",
    "#Show standard deviation of observations instead of a confidence interval\n",
    "plt.subplot(1, 2, 2)\n",
    "\n",
    "plot2 = sns.pointplot(data=df, x='r_overall', y='r_culture', color=base_clr, capsize=.1)\n",
    "# plt.xticks(rotation=15)\n",
    "plt.ylim(1.5, 4.5)\n",
    "\n",
    "# plt.ylim(plot1.get_ylim())"
   ]
  },
  {
   "cell_type": "code",
   "execution_count": null,
   "metadata": {},
   "outputs": [],
   "source": [
    "plt.figure(figsize=(16,4))\n",
    "\n",
    "#Show standard deviation of observations instead of a confidence interval\n",
    "plt.subplot(1, 2, 1)\n",
    "base_clr = sns.color_palette()[7]\n",
    "plot1 = sns.barplot(data=df, x='r_overall', y='r_comp_benefit', color=base_clr, capsize=.1)\n",
    "# plt.xticks(rotation=-15)\n",
    "\n",
    "#Show standard deviation of observations instead of a confidence interval\n",
    "plt.subplot(1, 2, 2)\n",
    "\n",
    "plot2 = sns.pointplot(data=df, x='r_overall', y='r_comp_benefit', color=base_clr, capsize=.1)\n",
    "# plt.xticks(rotation=15)\n",
    "\n",
    "plt.ylim(1.5, 4.5)\n",
    "# plt.ylim(plot1.get_ylim())"
   ]
  },
  {
   "cell_type": "code",
   "execution_count": null,
   "metadata": {},
   "outputs": [],
   "source": [
    "plt.figure(figsize=(16,4))\n",
    "\n",
    "#Show standard deviation of observations instead of a confidence interval\n",
    "plt.subplot(1, 2, 1)\n",
    "base_clr = sns.color_palette()[7]\n",
    "plot1 = sns.barplot(data=df, x='r_culture', y='r_comp_benefit', color=base_clr, capsize=.1)\n",
    "# plt.xticks(rotation=-15)\n",
    "\n",
    "#Show standard deviation of observations instead of a confidence interval\n",
    "plt.subplot(1, 2, 2)\n",
    "\n",
    "plot2 = sns.pointplot(data=df, x='r_culture', y='r_comp_benefit', color=base_clr, capsize=.1)\n",
    "# plt.xticks(rotation=15)\n",
    "plt.ylim(1.5, 4.5)\n",
    "\n",
    "# plt.ylim(plot1.get_ylim())"
   ]
  },
  {
   "cell_type": "code",
   "execution_count": null,
   "metadata": {},
   "outputs": [],
   "source": [
    "plt.figure(figsize=(16,4))\n",
    "\n",
    "#Show standard deviation of observations instead of a confidence interval\n",
    "plt.subplot(1, 2, 1)\n",
    "base_clr = sns.color_palette()[7]\n",
    "plot1 = sns.barplot(data=df, x='r_culture', y='r_career_opp', color=base_clr, capsize=.1)\n",
    "# plt.xticks(rotation=-15)\n",
    "\n",
    "#Show standard deviation of observations instead of a confidence interval\n",
    "plt.subplot(1, 2, 2)\n",
    "\n",
    "plot2 = sns.pointplot(data=df, x='r_culture', y='r_career_opp', color=base_clr, capsize=.1)\n",
    "# plt.xticks(rotation=15)\n",
    "plt.ylim(1.5, 4.5)\n",
    "\n",
    "# plt.ylim(plot1.get_ylim())"
   ]
  },
  {
   "cell_type": "code",
   "execution_count": null,
   "metadata": {},
   "outputs": [],
   "source": [
    "from random import sample\n",
    "\n",
    "numbers = sample(range(1, 101), 20)\n",
    "print(numbers)\n",
    "\n",
    "for i, n in enumerate(numbers):\n",
    "    if not n % 3 and not n % 5:\n",
    "        numbers[i] = 'FizzBuzz'\n",
    "    elif not n % 3:\n",
    "        numbers[i] = 'Fizz'\n",
    "    elif not n % 5:\n",
    "        numbers[i] = 'Buzz'\n",
    "\n",
    "print(numbers)"
   ]
  },
  {
   "cell_type": "markdown",
   "metadata": {},
   "source": [
    "___"
   ]
  },
  {
   "cell_type": "markdown",
   "metadata": {},
   "source": [
    "### Adding Numeric Features"
   ]
  },
  {
   "cell_type": "code",
   "execution_count": null,
   "metadata": {},
   "outputs": [],
   "source": [
    "df"
   ]
  },
  {
   "cell_type": "code",
   "execution_count": null,
   "metadata": {},
   "outputs": [],
   "source": [
    "df['job_title'].value_counts()"
   ]
  },
  {
   "cell_type": "code",
   "execution_count": null,
   "metadata": {},
   "outputs": [],
   "source": [
    "df['p_advice'] = df.map(lambda text: textblob(text).sentiment.polarity)"
   ]
  },
  {
   "cell_type": "code",
   "execution_count": null,
   "metadata": {},
   "outputs": [],
   "source": [
    "te"
   ]
  }
 ],
 "metadata": {
  "kernelspec": {
   "display_name": "Python 3",
   "language": "python",
   "name": "python3"
  },
  "language_info": {
   "codemirror_mode": {
    "name": "ipython",
    "version": 3
   },
   "file_extension": ".py",
   "mimetype": "text/x-python",
   "name": "python",
   "nbconvert_exporter": "python",
   "pygments_lexer": "ipython3",
   "version": "3.7.2"
  }
 },
 "nbformat": 4,
 "nbformat_minor": 2
}
