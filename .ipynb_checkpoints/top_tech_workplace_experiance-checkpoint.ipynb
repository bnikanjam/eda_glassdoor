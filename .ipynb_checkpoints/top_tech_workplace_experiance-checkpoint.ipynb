{
 "cells": [
  {
   "cell_type": "markdown",
   "metadata": {},
   "source": [
    "##### structured Exploratory Data Analysis of:\n",
    "- explore the dataset’s variables\n",
    "- understand the data’s structure, oddities, patterns and relationships.\n",
    "- ask questions of the data and make your own discoveries.\n",
    "\n",
    "- main findings from your exploration\n",
    "\n",
    "- construct a story for your readers to understand what you found.\n",
    "\n",
    "# Apple, Microsoft, Google, Amazon, Facebook, and Netflix\n",
    "# Employees' Workplace Reviews.\n",
    "___\n",
    "\n",
    "**Context:** Over 67k employee reviews for Google, Amazon, Facebook, Apple, and Microsoft.\n",
    "\n",
    "**Acknowledgements:** This data was scraped from Glassdoor.\n",
    "\n",
    "**Questions**\n",
    "- What company has been improving best?\n",
    "- based on this data what company seems the best choice for a specific postion?\n",
    "- is there a relationship base on stock market mometoum and volatility and employee's workplace rating?\n",
    "- What pros each company is best at?\n",
    "- what positions seem to be happiest in each company? (and overall)\n",
    "\n",
    "- a company cultur is like a living thing, it grows, changes, fades away, It's the direction that matters most for current and potential employees perhaps more than where they are now. So recent reviews so weigh more of general status of a cimpany.\n",
    "\n",
    "\n",
    "- what proportion of employees felt comfortable enough not tobe Anonymous?\n",
    "___"
   ]
  },
  {
   "cell_type": "markdown",
   "metadata": {},
   "source": [
    "Scratch Notes\n",
    "\n",
    "- Exploratory Data Analysis and Visualization for Text Data\n",
    "- Create a stunning visualization\n",
    "- focus of the project is on exploratory data analysis\n",
    "- worthy of posting it to Medium, Kaggle\n",
    "- Emplopyers and My Tech Friends value it\n",
    "\n",
    "https://towardsdatascience.com/a-complete-exploratory-data-analysis-and-visualization-for-text-data-29fb1b96fb6a\n",
    "\n",
    "https://www.kaggle.com/aashita/exploratory-data-analysis-of-comments-on-nyt\n",
    "\n",
    "https://www.kaggle.com/petersunga/google-amazon-facebook-employee-reviews"
   ]
  },
  {
   "cell_type": "markdown",
   "metadata": {},
   "source": [
    "Table of contents:\n",
    "1. [Importing modules and loading data ](#import)"
   ]
  },
  {
   "cell_type": "markdown",
   "metadata": {},
   "source": [
    "___"
   ]
  },
  {
   "cell_type": "markdown",
   "metadata": {},
   "source": [
    "## Importing modules and loading data <a name=\"import\"></a>"
   ]
  },
  {
   "cell_type": "markdown",
   "metadata": {},
   "source": [
    "#### First we import python modules and setting notebook environment"
   ]
  },
  {
   "cell_type": "code",
   "execution_count": 1,
   "metadata": {},
   "outputs": [],
   "source": [
    "# Essential Data Analysis Ecosystem Libraries\n",
    "import numpy as np\n",
    "import pandas as pd\n",
    "from pandas.api.types import CategoricalDtype\n",
    "\n",
    "# Visualization\n",
    "import matplotlib.pyplot as plt\n",
    "import seaborn as sns\n",
    "\n",
    "# Python Standard Libraries\n",
    "import os  # os file operations\n",
    "import re  # data cleaning\n",
    "import webbrowser\n",
    "from collections import Counter\n",
    "\n",
    "# \n",
    "import textblob\n",
    "\n",
    "# suppress warnings from final output\n",
    "import warnings\n",
    "warnings.simplefilter(\"ignore\")\n",
    "\n",
    "# set plots to be embedded inline\n",
    "%matplotlib inline\n",
    "\n",
    "# base color\n",
    "bcolor = sns.color_palette()[0]\n",
    "two_in_row = (12, 6)  # two square plots next to each other\n",
    "plt.rcParams['font.family'] = 'sans-serif'\n",
    "plt.rcParams['font.sans-serif'] = 'Helvetica'"
   ]
  },
  {
   "cell_type": "markdown",
   "metadata": {},
   "source": [
    "#### Load up our dataset to a DataFrame"
   ]
  },
  {
   "cell_type": "code",
   "execution_count": 2,
   "metadata": {},
   "outputs": [
    {
     "name": "stdout",
     "output_type": "stream",
     "text": [
      "Dataset file(s): ['Untitled.ipynb', 'employee_reviews.csv', '.ipynb_checkpoints']\n"
     ]
    }
   ],
   "source": [
    "# dataset starting file(s)\n",
    "dataset_path = 'input/'\n",
    "print ('Dataset file(s):', os.listdir(dataset_path))\n",
    "\n",
    "# TODO: If there is a new version of the dataset, programmatically download updated dataset zip file from Kaggle.\n",
    "# ToDO\n",
    "\n",
    "df_raw = pd.read_csv(os.path.join(dataset_path, 'employee_reviews.csv'))"
   ]
  },
  {
   "cell_type": "markdown",
   "metadata": {},
   "source": [
    "end of Importing modules and loading data\n",
    "___"
   ]
  },
  {
   "cell_type": "markdown",
   "metadata": {},
   "source": [
    "## First look at the data:<a name=\"import\"></a>"
   ]
  },
  {
   "cell_type": "markdown",
   "metadata": {},
   "source": [
    "#### Let's look at shape of our raw data and  5  random  reviews:"
   ]
  },
  {
   "cell_type": "code",
   "execution_count": 3,
   "metadata": {},
   "outputs": [
    {
     "name": "stdout",
     "output_type": "stream",
     "text": [
      "Number of rows (reviews) and columns: (67529, 17)\n"
     ]
    },
    {
     "data": {
      "text/html": [
       "<div>\n",
       "<style scoped>\n",
       "    .dataframe tbody tr th:only-of-type {\n",
       "        vertical-align: middle;\n",
       "    }\n",
       "\n",
       "    .dataframe tbody tr th {\n",
       "        vertical-align: top;\n",
       "    }\n",
       "\n",
       "    .dataframe thead th {\n",
       "        text-align: right;\n",
       "    }\n",
       "</style>\n",
       "<table border=\"1\" class=\"dataframe\">\n",
       "  <thead>\n",
       "    <tr style=\"text-align: right;\">\n",
       "      <th></th>\n",
       "      <th>Unnamed: 0</th>\n",
       "      <th>company</th>\n",
       "      <th>location</th>\n",
       "      <th>dates</th>\n",
       "      <th>job-title</th>\n",
       "      <th>summary</th>\n",
       "      <th>pros</th>\n",
       "      <th>cons</th>\n",
       "      <th>advice-to-mgmt</th>\n",
       "      <th>overall-ratings</th>\n",
       "      <th>work-balance-stars</th>\n",
       "      <th>culture-values-stars</th>\n",
       "      <th>carrer-opportunities-stars</th>\n",
       "      <th>comp-benefit-stars</th>\n",
       "      <th>senior-mangemnet-stars</th>\n",
       "      <th>helpful-count</th>\n",
       "      <th>link</th>\n",
       "    </tr>\n",
       "  </thead>\n",
       "  <tbody>\n",
       "    <tr>\n",
       "      <th>22088</th>\n",
       "      <td>22089</td>\n",
       "      <td>amazon</td>\n",
       "      <td>Toms River, NJ</td>\n",
       "      <td>May 27, 2015</td>\n",
       "      <td>Current Employee - Packer</td>\n",
       "      <td>Packer</td>\n",
       "      <td>Pros are few but I think management has \"likab...</td>\n",
       "      <td>Warehouses are isolated from the communities i...</td>\n",
       "      <td>Reassess goals. Do you want happy, get-along w...</td>\n",
       "      <td>2.0</td>\n",
       "      <td>1.0</td>\n",
       "      <td>1.0</td>\n",
       "      <td>1.0</td>\n",
       "      <td>3.0</td>\n",
       "      <td>1.0</td>\n",
       "      <td>3</td>\n",
       "      <td>https://www.glassdoor.com/Reviews/Amazon-Revie...</td>\n",
       "    </tr>\n",
       "    <tr>\n",
       "      <th>9894</th>\n",
       "      <td>9895</td>\n",
       "      <td>amazon</td>\n",
       "      <td>Seattle, WA</td>\n",
       "      <td>Jun 21, 2018</td>\n",
       "      <td>Current Employee - Program Manager</td>\n",
       "      <td>Amazon - Best Company to Start Your Career</td>\n",
       "      <td>Independence, you learn how to deal with ambig...</td>\n",
       "      <td>Managers are solely hired based on IC performa...</td>\n",
       "      <td>none</td>\n",
       "      <td>4.0</td>\n",
       "      <td>3.0</td>\n",
       "      <td>4.0</td>\n",
       "      <td>5.0</td>\n",
       "      <td>4.0</td>\n",
       "      <td>4.0</td>\n",
       "      <td>2</td>\n",
       "      <td>https://www.glassdoor.com/Reviews/Amazon-Revie...</td>\n",
       "    </tr>\n",
       "    <tr>\n",
       "      <th>17310</th>\n",
       "      <td>17311</td>\n",
       "      <td>amazon</td>\n",
       "      <td>Joliet, IL</td>\n",
       "      <td>Dec 11, 2016</td>\n",
       "      <td>Current Employee - Process Guide</td>\n",
       "      <td>Process Guide</td>\n",
       "      <td>Working with other people who came from around...</td>\n",
       "      <td>Some associates don't contribute</td>\n",
       "      <td>More hands on interaction with the associates</td>\n",
       "      <td>5.0</td>\n",
       "      <td>5.0</td>\n",
       "      <td>5.0</td>\n",
       "      <td>5.0</td>\n",
       "      <td>5.0</td>\n",
       "      <td>5.0</td>\n",
       "      <td>1</td>\n",
       "      <td>https://www.glassdoor.com/Reviews/Amazon-Revie...</td>\n",
       "    </tr>\n",
       "    <tr>\n",
       "      <th>35328</th>\n",
       "      <td>35329</td>\n",
       "      <td>facebook</td>\n",
       "      <td>Menlo Park, CA</td>\n",
       "      <td>Nov 13, 2012</td>\n",
       "      <td>Current Employee - Software Engineer</td>\n",
       "      <td>Talent, commitment, autonomy, impact.</td>\n",
       "      <td>The most important reason to work at Facebook ...</td>\n",
       "      <td>A mission-oriented job is not for everybody. I...</td>\n",
       "      <td>none</td>\n",
       "      <td>5.0</td>\n",
       "      <td>3.0</td>\n",
       "      <td>5.0</td>\n",
       "      <td>5.0</td>\n",
       "      <td>5.0</td>\n",
       "      <td>5.0</td>\n",
       "      <td>0</td>\n",
       "      <td>https://www.glassdoor.com/Reviews/Facebook-Rev...</td>\n",
       "    </tr>\n",
       "    <tr>\n",
       "      <th>13236</th>\n",
       "      <td>13237</td>\n",
       "      <td>amazon</td>\n",
       "      <td>Seattle, WA</td>\n",
       "      <td>Dec 4, 2017</td>\n",
       "      <td>Current Employee - Senior Program Manager</td>\n",
       "      <td>Don’t do it!</td>\n",
       "      <td>Compensation if you stay for 4 years. Amazon n...</td>\n",
       "      <td>Too many to list. My advice to you is to decli...</td>\n",
       "      <td>The corporate culture is toxic. Fix it before ...</td>\n",
       "      <td>1.0</td>\n",
       "      <td>1.0</td>\n",
       "      <td>1.0</td>\n",
       "      <td>1.0</td>\n",
       "      <td>3.0</td>\n",
       "      <td>1.0</td>\n",
       "      <td>1</td>\n",
       "      <td>https://www.glassdoor.com/Reviews/Amazon-Revie...</td>\n",
       "    </tr>\n",
       "  </tbody>\n",
       "</table>\n",
       "</div>"
      ],
      "text/plain": [
       "       Unnamed: 0   company        location          dates  \\\n",
       "22088       22089    amazon  Toms River, NJ   May 27, 2015   \n",
       "9894         9895    amazon     Seattle, WA   Jun 21, 2018   \n",
       "17310       17311    amazon      Joliet, IL   Dec 11, 2016   \n",
       "35328       35329  facebook  Menlo Park, CA   Nov 13, 2012   \n",
       "13236       13237    amazon     Seattle, WA    Dec 4, 2017   \n",
       "\n",
       "                                       job-title  \\\n",
       "22088                  Current Employee - Packer   \n",
       "9894          Current Employee - Program Manager   \n",
       "17310           Current Employee - Process Guide   \n",
       "35328       Current Employee - Software Engineer   \n",
       "13236  Current Employee - Senior Program Manager   \n",
       "\n",
       "                                          summary  \\\n",
       "22088                                      Packer   \n",
       "9894   Amazon - Best Company to Start Your Career   \n",
       "17310                               Process Guide   \n",
       "35328       Talent, commitment, autonomy, impact.   \n",
       "13236                                Don’t do it!   \n",
       "\n",
       "                                                    pros  \\\n",
       "22088  Pros are few but I think management has \"likab...   \n",
       "9894   Independence, you learn how to deal with ambig...   \n",
       "17310  Working with other people who came from around...   \n",
       "35328  The most important reason to work at Facebook ...   \n",
       "13236  Compensation if you stay for 4 years. Amazon n...   \n",
       "\n",
       "                                                    cons  \\\n",
       "22088  Warehouses are isolated from the communities i...   \n",
       "9894   Managers are solely hired based on IC performa...   \n",
       "17310                   Some associates don't contribute   \n",
       "35328  A mission-oriented job is not for everybody. I...   \n",
       "13236  Too many to list. My advice to you is to decli...   \n",
       "\n",
       "                                          advice-to-mgmt  overall-ratings  \\\n",
       "22088  Reassess goals. Do you want happy, get-along w...              2.0   \n",
       "9894                                                none              4.0   \n",
       "17310      More hands on interaction with the associates              5.0   \n",
       "35328                                               none              5.0   \n",
       "13236  The corporate culture is toxic. Fix it before ...              1.0   \n",
       "\n",
       "      work-balance-stars culture-values-stars carrer-opportunities-stars  \\\n",
       "22088                1.0                  1.0                        1.0   \n",
       "9894                 3.0                  4.0                        5.0   \n",
       "17310                5.0                  5.0                        5.0   \n",
       "35328                3.0                  5.0                        5.0   \n",
       "13236                1.0                  1.0                        1.0   \n",
       "\n",
       "      comp-benefit-stars senior-mangemnet-stars  helpful-count  \\\n",
       "22088                3.0                    1.0              3   \n",
       "9894                 4.0                    4.0              2   \n",
       "17310                5.0                    5.0              1   \n",
       "35328                5.0                    5.0              0   \n",
       "13236                3.0                    1.0              1   \n",
       "\n",
       "                                                    link  \n",
       "22088  https://www.glassdoor.com/Reviews/Amazon-Revie...  \n",
       "9894   https://www.glassdoor.com/Reviews/Amazon-Revie...  \n",
       "17310  https://www.glassdoor.com/Reviews/Amazon-Revie...  \n",
       "35328  https://www.glassdoor.com/Reviews/Facebook-Rev...  \n",
       "13236  https://www.glassdoor.com/Reviews/Amazon-Revie...  "
      ]
     },
     "execution_count": 3,
     "metadata": {},
     "output_type": "execute_result"
    }
   ],
   "source": [
    "print('Number of rows (reviews) and columns:', df_raw.shape)\n",
    "df_raw_samples = df_raw.sample(5)\n",
    "df_raw_samples"
   ]
  },
  {
   "cell_type": "markdown",
   "metadata": {},
   "source": [
    "- `index` and `Unnamed: 0` column seem as an id and are redundant.\n",
    "- 'none' is used for missing values.\n",
    "- Tidiness issue: Global location column contains 3 different 'city, state, and country' values. This column is to be separated in 3 columns.\n",
    "- Tidiness issue: employee_status (current or former) and job_title are to be seperated in two columns."
   ]
  },
  {
   "cell_type": "markdown",
   "metadata": {},
   "source": [
    "#### Information about the columns' names, datatypes, unique values, and null values:"
   ]
  },
  {
   "cell_type": "code",
   "execution_count": 4,
   "metadata": {
    "scrolled": false
   },
   "outputs": [
    {
     "name": "stdout",
     "output_type": "stream",
     "text": [
      "<class 'pandas.core.frame.DataFrame'>\n",
      "RangeIndex: 67529 entries, 0 to 67528\n",
      "Data columns (total 17 columns):\n",
      "Unnamed: 0                    67529 non-null int64\n",
      "company                       67529 non-null object\n",
      "location                      67529 non-null object\n",
      "dates                         67529 non-null object\n",
      "job-title                     67529 non-null object\n",
      "summary                       67409 non-null object\n",
      "pros                          67529 non-null object\n",
      "cons                          67529 non-null object\n",
      "advice-to-mgmt                67232 non-null object\n",
      "overall-ratings               67529 non-null float64\n",
      "work-balance-stars            67529 non-null object\n",
      "culture-values-stars          67529 non-null object\n",
      "carrer-opportunities-stars    67529 non-null object\n",
      "comp-benefit-stars            67529 non-null object\n",
      "senior-mangemnet-stars        67529 non-null object\n",
      "helpful-count                 67529 non-null int64\n",
      "link                          67529 non-null object\n",
      "dtypes: float64(1), int64(2), object(14)\n",
      "memory usage: 8.8+ MB\n"
     ]
    }
   ],
   "source": [
    "df_raw.info()"
   ]
  },
  {
   "cell_type": "markdown",
   "metadata": {},
   "source": [
    "We don't see lots of missing data but that's most likely because missing data represented by string 'non'"
   ]
  },
  {
   "cell_type": "code",
   "execution_count": 5,
   "metadata": {},
   "outputs": [
    {
     "data": {
      "text/plain": [
       "Unnamed: 0                    67529\n",
       "company                           6\n",
       "location                       2044\n",
       "dates                          3824\n",
       "job-title                      8308\n",
       "summary                       42649\n",
       "pros                          66085\n",
       "cons                          66049\n",
       "advice-to-mgmt                35190\n",
       "overall-ratings                   5\n",
       "work-balance-stars               10\n",
       "culture-values-stars              6\n",
       "carrer-opportunities-stars       10\n",
       "comp-benefit-stars               10\n",
       "senior-mangemnet-stars           10\n",
       "helpful-count                    99\n",
       "link                           6754\n",
       "dtype: int64"
      ]
     },
     "execution_count": 5,
     "metadata": {},
     "output_type": "execute_result"
    }
   ],
   "source": [
    "df_raw.nunique()"
   ]
  },
  {
   "cell_type": "markdown",
   "metadata": {},
   "source": [
    "We have four specific categories of ratings and 1 overall rating. They should be based on a 1-star to 5-stars ratings, but there are up to 10 different vlues for those ratings that needs to be looked at and cleaned."
   ]
  },
  {
   "cell_type": "markdown",
   "metadata": {},
   "source": [
    "#### We can follow our sample scrapped reviews to www.glassdoor.com to see the actual reviews."
   ]
  },
  {
   "cell_type": "code",
   "execution_count": 6,
   "metadata": {},
   "outputs": [
    {
     "name": "stdout",
     "output_type": "stream",
     "text": [
      "22088    https://www.glassdoor.com/Reviews/Amazon-Revie...\n",
      "9894     https://www.glassdoor.com/Reviews/Amazon-Revie...\n",
      "17310    https://www.glassdoor.com/Reviews/Amazon-Revie...\n",
      "35328    https://www.glassdoor.com/Reviews/Facebook-Rev...\n",
      "13236    https://www.glassdoor.com/Reviews/Amazon-Revie...\n",
      "Name: link, dtype: object\n",
      "Enter,  y  if you would like to open and see these sample reviews\\` urls? \n"
     ]
    }
   ],
   "source": [
    "links = df_raw_samples['link']\n",
    "print(links)\n",
    "answer = input('Enter,  y  if you would like to open and see these sample reviews\\` urls? ')\n",
    "if answer.lower()=='y':\n",
    "    [webbrowser.open(link) for link in links]"
   ]
  },
  {
   "cell_type": "markdown",
   "metadata": {},
   "source": [
    "Looking at the actual source of the data, we can see  two very likely useful peices of information in reviews are not scrapped. That is the length and type of employments. Here is 3 examples:\n",
    " - I worked at Amazon full-time (More than 3 years)\n",
    " - I have been working at Microsoft full-time (More than 10 years)\n",
    " - I have been working at Google full-time (Less than a year)"
   ]
  },
  {
   "cell_type": "markdown",
   "metadata": {},
   "source": [
    "#### Copanies Review Shares in Raw Dataset\n",
    "To add meaning to the order of chart we will be plotting involving companies, let's convert company column to categorical data sorted by date founded."
   ]
  },
  {
   "cell_type": "code",
   "execution_count": 7,
   "metadata": {},
   "outputs": [],
   "source": [
    "company_cat = CategoricalDtype(ordered=True, \n",
    "                               categories=['microsoft', 'apple', 'amazon', 'netflix', 'google', 'facebook'])\n",
    "df_raw['company'] = df_raw['company'].astype(company_cat)"
   ]
  },
  {
   "cell_type": "code",
   "execution_count": 8,
   "metadata": {},
   "outputs": [],
   "source": [
    "plt.rcParams['axes.edgecolor']='#333F4B'\n",
    "plt.rcParams['axes.linewidth']=0.8\n",
    "plt.rcParams['xtick.color']='#333F4B'\n",
    "plt.rcParams['ytick.color']='#333F4B'"
   ]
  },
  {
   "cell_type": "code",
   "execution_count": 9,
   "metadata": {},
   "outputs": [],
   "source": [
    "def plot_cat_counts(data, x):\n",
    "    plt.figure(figsize=two_in_row)\n",
    "\n",
    "    # plt.style.use('ggplot')\n",
    "\n",
    "    plt.subplot(1,2,1)\n",
    "    sns.countplot(data=data, y=x, color=bcolor)\n",
    "    plt.xticks(rotation=0)\n",
    "    plt.ylabel('')\n",
    "#     plt.xlabel('Review Counts')\n",
    "    sns.despine() # remove the top and right borders\n",
    "\n",
    "\n",
    "    plt.subplot(1,2,2)\n",
    "    sorted_counts = data[x].value_counts()\n",
    "    labels = sorted_counts.index\n",
    "\n",
    "    plt.pie(sorted_counts, labels=labels, \n",
    "            startangle=90, counterclock=False, wedgeprops = {'width' : 0.35})\n",
    "    plt.axis('square')\n",
    "    \n",
    "    plt.show\n",
    "\n",
    "    # plt.legend(labels,\n",
    "    #           title=\"Companies in Raw Dataset\",\n",
    "    #           loc=\"top left\",\n",
    "    #           bbox_to_anchor=(1, 0, .25, 1));"
   ]
  },
  {
   "cell_type": "code",
   "execution_count": 10,
   "metadata": {},
   "outputs": [
    {
     "data": {
      "image/png": "[encoded data removed]",
      "text/plain": [
       "<Figure size 864x432 with 2 Axes>"
      ]
     },
     "metadata": {
      "needs_background": "light"
     },
     "output_type": "display_data"
    }
   ],
   "source": [
    "plot_cat_counts(df_raw, 'company')"
   ]
  },
  {
   "cell_type": "markdown",
   "metadata": {},
   "source": [
    "end of quick look\n",
    "___"
   ]
  },
  {
   "cell_type": "markdown",
   "metadata": {},
   "source": [
    "## Data Cleaning"
   ]
  },
  {
   "cell_type": "markdown",
   "metadata": {},
   "source": [
    "#### Tidiness: There are 3 values of  `city, state, country` in location column. We will make this tidy by separating each value in its own column."
   ]
  },
  {
   "cell_type": "code",
   "execution_count": 11,
   "metadata": {},
   "outputs": [
    {
     "data": {
      "text/plain": [
       "22183             El Paso, TX\n",
       "25486    London, England (UK)\n",
       "8124                     none\n",
       "36229                    none\n",
       "7660        Bengaluru (India)\n",
       "17322                    none\n",
       "43073             Phoenix, AZ\n",
       "59176             Redmond, WA\n",
       "54582             Redmond, WA\n",
       "48747    London, England (UK)\n",
       "Name: location, dtype: object"
      ]
     },
     "execution_count": 11,
     "metadata": {},
     "output_type": "execute_result"
    }
   ],
   "source": [
    "# location column before cleaning\n",
    "df = df_raw\n",
    "df['location'].sample(10)"
   ]
  },
  {
   "cell_type": "markdown",
   "metadata": {},
   "source": [
    "#### functions to extrat \"city, state, and country\" values from location column to 3 columns"
   ]
  },
  {
   "cell_type": "code",
   "execution_count": 12,
   "metadata": {},
   "outputs": [],
   "source": [
    "btween_parentheses = r'\\(([^)]+)\\)'  # Regular expression to get a string between parentheses\n",
    "\n",
    "\n",
    "def get_country(location):\n",
    "    \"\"\"Extracts and returns country name from location string.\n",
    "    Returns NaN if 'none'.\"\"\"\n",
    "    if location == 'none':\n",
    "        return np.nan\n",
    "    not_usa = re.findall(btween_parentheses, location)\n",
    "    if not_usa:\n",
    "        return not_usa[0]\n",
    "    else:\n",
    "        return 'USA'\n",
    "    \n",
    "\n",
    "def get_state(location):\n",
    "    \"\"\"Extracts and returns state name (if aby) from location string.\n",
    "    Returns Nan if 'none or not applicable.\"\"\"\n",
    "    if location == 'none':\n",
    "        return np.nan\n",
    "    not_usa = re.findall(btween_parentheses, location)\n",
    "    if not_usa:\n",
    "        if ',' in location:\n",
    "            return location.split(',')[1].split()[0]\n",
    "        else:\n",
    "            return np.nan\n",
    "    else:\n",
    "        return location.strip()[-2:]\n",
    "\n",
    "    \n",
    "def get_city(location):\n",
    "    \"\"\"Extracts and returns city name from location string.\n",
    "    Returns Nan if 'none'.\"\"\"\n",
    "    if location == 'none':\n",
    "        return np.nan\n",
    "    not_usa = re.findall(btween_parentheses, location)\n",
    "    if not_usa:\n",
    "        if ',' in location:\n",
    "            return location.split(',')[0]\n",
    "        else:\n",
    "            return location.split()[0]\n",
    "    else:\n",
    "        return location.split(',')[0]    "
   ]
  },
  {
   "cell_type": "code",
   "execution_count": 13,
   "metadata": {},
   "outputs": [],
   "source": [
    "df['city'] = df.location.apply(get_city)\n",
    "df['state'] = df.location.apply(get_state)\n",
    "df['country'] = df.location.apply(get_country)"
   ]
  },
  {
   "cell_type": "code",
   "execution_count": 14,
   "metadata": {},
   "outputs": [
    {
     "data": {
      "text/html": [
       "<div>\n",
       "<style scoped>\n",
       "    .dataframe tbody tr th:only-of-type {\n",
       "        vertical-align: middle;\n",
       "    }\n",
       "\n",
       "    .dataframe tbody tr th {\n",
       "        vertical-align: top;\n",
       "    }\n",
       "\n",
       "    .dataframe thead th {\n",
       "        text-align: right;\n",
       "    }\n",
       "</style>\n",
       "<table border=\"1\" class=\"dataframe\">\n",
       "  <thead>\n",
       "    <tr style=\"text-align: right;\">\n",
       "      <th></th>\n",
       "      <th>city</th>\n",
       "      <th>state</th>\n",
       "      <th>country</th>\n",
       "    </tr>\n",
       "  </thead>\n",
       "  <tbody>\n",
       "    <tr>\n",
       "      <th>18248</th>\n",
       "      <td>NaN</td>\n",
       "      <td>NaN</td>\n",
       "      <td>NaN</td>\n",
       "    </tr>\n",
       "    <tr>\n",
       "      <th>54837</th>\n",
       "      <td>Seattle</td>\n",
       "      <td>WA</td>\n",
       "      <td>USA</td>\n",
       "    </tr>\n",
       "    <tr>\n",
       "      <th>4233</th>\n",
       "      <td>Santa Monica</td>\n",
       "      <td>CA</td>\n",
       "      <td>USA</td>\n",
       "    </tr>\n",
       "    <tr>\n",
       "      <th>2055</th>\n",
       "      <td>Mountain View</td>\n",
       "      <td>CA</td>\n",
       "      <td>USA</td>\n",
       "    </tr>\n",
       "    <tr>\n",
       "      <th>53675</th>\n",
       "      <td>Redmond</td>\n",
       "      <td>WA</td>\n",
       "      <td>USA</td>\n",
       "    </tr>\n",
       "  </tbody>\n",
       "</table>\n",
       "</div>"
      ],
      "text/plain": [
       "                city state country\n",
       "18248            NaN   NaN     NaN\n",
       "54837        Seattle    WA     USA\n",
       "4233    Santa Monica    CA     USA\n",
       "2055   Mountain View    CA     USA\n",
       "53675        Redmond    WA     USA"
      ]
     },
     "execution_count": 14,
     "metadata": {},
     "output_type": "execute_result"
    }
   ],
   "source": [
    "# Test\n",
    "df[['city', 'state', 'country']].sample(5)"
   ]
  },
  {
   "cell_type": "markdown",
   "metadata": {},
   "source": [
    "#### Renaming Columns for Clarity/Consistency\n",
    "\n",
    "- We rename all 5 rating columns to start with `r_`.\n",
    "- All columns\\` names to singular nouns.\n",
    "- Change connecting dashs `-` to underscores `_`."
   ]
  },
  {
   "cell_type": "code",
   "execution_count": 15,
   "metadata": {},
   "outputs": [],
   "source": [
    "df.rename(columns={'dates': 'date',\n",
    "                   'advice-to-mgmt': 'advice_to_mgmt',\n",
    "                   'overall-ratings': 'r_overall',\n",
    "                   'work-balance-stars': 'r_work_balance',\n",
    "                   'culture-values-stars': 'r_culture',\n",
    "                   'carrer-opportunities-stars': 'r_career_opp',\n",
    "                   'comp-benefit-stars': 'r_comp_benefit',\n",
    "                   'senior-mangemnet-stars': 'r_senior_mangemnet',\n",
    "                   'helpful-count': 'helpful_count'}, inplace=True);"
   ]
  },
  {
   "cell_type": "markdown",
   "metadata": {},
   "source": [
    "###  Tidiness: Seperate `job-title` column values to 2 columns, current_emp and job_title."
   ]
  },
  {
   "cell_type": "code",
   "execution_count": 16,
   "metadata": {},
   "outputs": [],
   "source": [
    "df['current_emp'] = df['job-title'].apply(lambda column: True if column.split()[0] == 'Current' else False)\n",
    "df['job_title'] = df['job-title'].apply(lambda column: column.split('-')[1])"
   ]
  },
  {
   "cell_type": "markdown",
   "metadata": {},
   "source": [
    "### Tidiness: Anonymous  Employees (Reviewers) are mix with Job-Titles\n",
    "- Make a True/False Column for Anonymous Employees\n",
    "- Replace Anonymous Employee with NaN in job_title coloumn"
   ]
  },
  {
   "cell_type": "code",
   "execution_count": 17,
   "metadata": {},
   "outputs": [
    {
     "data": {
      "text/plain": [
       " Anonymous Employee                  27002\n",
       " Software Engineer                    1793\n",
       " Software Development Engineer        1270\n",
       " Specialist                           1060\n",
       " Program Manager                       826\n",
       " Warehouse Associate                   679\n",
       " Senior Software Engineer              637\n",
       " Senior Program Manager                608\n",
       " Fulfillment Associate                 603\n",
       " Software Development Engineer II      586\n",
       "Name: job_title, dtype: int64"
      ]
     },
     "execution_count": 17,
     "metadata": {},
     "output_type": "execute_result"
    }
   ],
   "source": [
    "df['job_title'].value_counts()[:10]"
   ]
  },
  {
   "cell_type": "code",
   "execution_count": 18,
   "metadata": {},
   "outputs": [],
   "source": [
    "df['anonymous'] = df['job_title'].apply(lambda job: True if 'Anonymous' in str(job) else False)"
   ]
  },
  {
   "cell_type": "code",
   "execution_count": 19,
   "metadata": {},
   "outputs": [],
   "source": [
    "df['job_title'] = df['job_title'].apply(lambda job: np.nan if 'Anonymous' in str(job) else job)"
   ]
  },
  {
   "cell_type": "code",
   "execution_count": 20,
   "metadata": {},
   "outputs": [
    {
     "data": {
      "text/html": [
       "<div>\n",
       "<style scoped>\n",
       "    .dataframe tbody tr th:only-of-type {\n",
       "        vertical-align: middle;\n",
       "    }\n",
       "\n",
       "    .dataframe tbody tr th {\n",
       "        vertical-align: top;\n",
       "    }\n",
       "\n",
       "    .dataframe thead th {\n",
       "        text-align: right;\n",
       "    }\n",
       "</style>\n",
       "<table border=\"1\" class=\"dataframe\">\n",
       "  <thead>\n",
       "    <tr style=\"text-align: right;\">\n",
       "      <th></th>\n",
       "      <th>job_title</th>\n",
       "      <th>anonymous</th>\n",
       "    </tr>\n",
       "  </thead>\n",
       "  <tbody>\n",
       "    <tr>\n",
       "      <th>18697</th>\n",
       "      <td>NaN</td>\n",
       "      <td>True</td>\n",
       "    </tr>\n",
       "    <tr>\n",
       "      <th>17674</th>\n",
       "      <td>Fulfillment Associate</td>\n",
       "      <td>False</td>\n",
       "    </tr>\n",
       "    <tr>\n",
       "      <th>62608</th>\n",
       "      <td>Channel Executive</td>\n",
       "      <td>False</td>\n",
       "    </tr>\n",
       "    <tr>\n",
       "      <th>1314</th>\n",
       "      <td>NaN</td>\n",
       "      <td>True</td>\n",
       "    </tr>\n",
       "    <tr>\n",
       "      <th>29228</th>\n",
       "      <td>Software Development Engineer</td>\n",
       "      <td>False</td>\n",
       "    </tr>\n",
       "  </tbody>\n",
       "</table>\n",
       "</div>"
      ],
      "text/plain": [
       "                            job_title  anonymous\n",
       "18697                             NaN       True\n",
       "17674           Fulfillment Associate      False\n",
       "62608               Channel Executive      False\n",
       "1314                              NaN       True\n",
       "29228   Software Development Engineer      False"
      ]
     },
     "execution_count": 20,
     "metadata": {},
     "output_type": "execute_result"
    }
   ],
   "source": [
    "#Test\n",
    "df[['job_title', 'anonymous']].sample(5)"
   ]
  },
  {
   "cell_type": "markdown",
   "metadata": {},
   "source": [
    "### Data Cleaning: Dropping redundant columns"
   ]
  },
  {
   "cell_type": "code",
   "execution_count": 21,
   "metadata": {
    "scrolled": true
   },
   "outputs": [],
   "source": [
    "drop_columns = ['Unnamed: 0', 'location', 'job-title', 'link']\n",
    "df.drop(columns=drop_columns, axis=1, inplace=True)"
   ]
  },
  {
   "cell_type": "markdown",
   "metadata": {},
   "source": [
    "### Data Cleaning: Types and Value Corrections"
   ]
  },
  {
   "cell_type": "code",
   "execution_count": 22,
   "metadata": {},
   "outputs": [],
   "source": [
    "# Replace misrepresentations of missing values to NaN\n",
    "df.replace('none', np.nan, inplace=True);"
   ]
  },
  {
   "cell_type": "code",
   "execution_count": 23,
   "metadata": {},
   "outputs": [],
   "source": [
    "# Datetime Types:\n",
    "df.date = pd.to_datetime(df.date, errors='coerce')"
   ]
  },
  {
   "cell_type": "code",
   "execution_count": 24,
   "metadata": {},
   "outputs": [
    {
     "data": {
      "text/plain": [
       "(Timestamp('2008-01-31 00:00:00'), Timestamp('2018-12-11 00:00:00'))"
      ]
     },
     "execution_count": 24,
     "metadata": {},
     "output_type": "execute_result"
    }
   ],
   "source": [
    "# Let's look as the length of of time series\n",
    "df['date'].min(), df['date'].max()"
   ]
  },
  {
   "cell_type": "markdown",
   "metadata": {},
   "source": [
    "Let's sort the df by `data` column that is the only time series."
   ]
  },
  {
   "cell_type": "code",
   "execution_count": 25,
   "metadata": {},
   "outputs": [],
   "source": [
    "df.sort_values(by='date', ascending=False, inplace=True)"
   ]
  },
  {
   "cell_type": "markdown",
   "metadata": {},
   "source": [
    "The rating is based on a popular scale from 1 the worst to 5 the best. Some rating values in rating columns are in between levels i.e. 1.5, 2.5, 3.5, or 4.5. We will correct these rating by lowering them one level. E.g. 1.5 to 1, 2.5 to 2. Note There is no 0.5 nor 5.5 ratings to be corrected."
   ]
  },
  {
   "cell_type": "code",
   "execution_count": 26,
   "metadata": {},
   "outputs": [],
   "source": [
    "rating_cols = [col for col in df.columns if col.startswith('r_')]"
   ]
  },
  {
   "cell_type": "code",
   "execution_count": 27,
   "metadata": {},
   "outputs": [],
   "source": [
    "# Rating values to Numeric\n",
    "for col in rating_cols:\n",
    "    df[col] = pd.to_numeric(df[col], downcast='unsigned')"
   ]
  },
  {
   "cell_type": "code",
   "execution_count": 28,
   "metadata": {},
   "outputs": [],
   "source": [
    "# Correct in between rating values to lower rating before\n",
    "def five_ratings_only(col):\n",
    "    for idx in col.value_counts().index:\n",
    "        col[col==idx] = int(float(idx))\n",
    "    return col\n",
    "\n",
    "for col in rating_cols:\n",
    "    df[col] = five_ratings_only(df[col])"
   ]
  },
  {
   "cell_type": "code",
   "execution_count": 29,
   "metadata": {},
   "outputs": [
    {
     "data": {
      "text/html": [
       "<div>\n",
       "<style scoped>\n",
       "    .dataframe tbody tr th:only-of-type {\n",
       "        vertical-align: middle;\n",
       "    }\n",
       "\n",
       "    .dataframe tbody tr th {\n",
       "        vertical-align: top;\n",
       "    }\n",
       "\n",
       "    .dataframe thead th {\n",
       "        text-align: right;\n",
       "    }\n",
       "</style>\n",
       "<table border=\"1\" class=\"dataframe\">\n",
       "  <thead>\n",
       "    <tr style=\"text-align: right;\">\n",
       "      <th></th>\n",
       "      <th>r_overall</th>\n",
       "      <th>r_work_balance</th>\n",
       "      <th>r_culture</th>\n",
       "      <th>r_career_opp</th>\n",
       "      <th>r_comp_benefit</th>\n",
       "      <th>r_senior_mangemnet</th>\n",
       "    </tr>\n",
       "  </thead>\n",
       "  <tbody>\n",
       "    <tr>\n",
       "      <th>64044</th>\n",
       "      <td>3</td>\n",
       "      <td>2.0</td>\n",
       "      <td>1.0</td>\n",
       "      <td>2.0</td>\n",
       "      <td>3.0</td>\n",
       "      <td>1.0</td>\n",
       "    </tr>\n",
       "    <tr>\n",
       "      <th>22733</th>\n",
       "      <td>2</td>\n",
       "      <td>1.0</td>\n",
       "      <td>2.0</td>\n",
       "      <td>4.0</td>\n",
       "      <td>4.0</td>\n",
       "      <td>2.0</td>\n",
       "    </tr>\n",
       "    <tr>\n",
       "      <th>47589</th>\n",
       "      <td>5</td>\n",
       "      <td>5.0</td>\n",
       "      <td>5.0</td>\n",
       "      <td>5.0</td>\n",
       "      <td>5.0</td>\n",
       "      <td>5.0</td>\n",
       "    </tr>\n",
       "    <tr>\n",
       "      <th>50421</th>\n",
       "      <td>5</td>\n",
       "      <td>4.0</td>\n",
       "      <td>5.0</td>\n",
       "      <td>4.0</td>\n",
       "      <td>4.0</td>\n",
       "      <td>4.0</td>\n",
       "    </tr>\n",
       "    <tr>\n",
       "      <th>26886</th>\n",
       "      <td>5</td>\n",
       "      <td>NaN</td>\n",
       "      <td>NaN</td>\n",
       "      <td>NaN</td>\n",
       "      <td>NaN</td>\n",
       "      <td>NaN</td>\n",
       "    </tr>\n",
       "  </tbody>\n",
       "</table>\n",
       "</div>"
      ],
      "text/plain": [
       "       r_overall  r_work_balance  r_culture  r_career_opp  r_comp_benefit  \\\n",
       "64044          3             2.0        1.0           2.0             3.0   \n",
       "22733          2             1.0        2.0           4.0             4.0   \n",
       "47589          5             5.0        5.0           5.0             5.0   \n",
       "50421          5             4.0        5.0           4.0             4.0   \n",
       "26886          5             NaN        NaN           NaN             NaN   \n",
       "\n",
       "       r_senior_mangemnet  \n",
       "64044                 1.0  \n",
       "22733                 2.0  \n",
       "47589                 5.0  \n",
       "50421                 4.0  \n",
       "26886                 NaN  "
      ]
     },
     "execution_count": 29,
     "metadata": {},
     "output_type": "execute_result"
    }
   ],
   "source": [
    "# Test\n",
    "df[rating_cols].sample(5)"
   ]
  },
  {
   "cell_type": "markdown",
   "metadata": {},
   "source": [
    "### Data Cleaning: Missing Values\n",
    " - Cleaning Missing Values\n",
    " - Plotting Missing Values' Counts"
   ]
  },
  {
   "cell_type": "code",
   "execution_count": 30,
   "metadata": {},
   "outputs": [],
   "source": [
    "def plot_missings(df, figsize=two_in_row):\n",
    "    \n",
    "    fig, ax = plt.subplots(figsize=figsize)\n",
    "    color = sns.color_palette()[3]\n",
    "    \n",
    "    x = df.isnull().sum().index.values\n",
    "    y = df.isnull().sum()\n",
    "    sns.barplot(x, y, color=color, ax=ax)\n",
    "    locs, labels = plt.xticks(rotation=90)\n",
    "    for loc, label, missings, in zip(locs, labels, y):\n",
    "        if not missings:\n",
    "            ax.text(loc, 0, 'None', rotation=0, va='bottom', ha='center')\n",
    "        else:\n",
    "            ax.text(loc, missings, missings, rotation=0, va='bottom', ha='center')\n",
    "\n",
    "    ax.set(title='Missing Value Counts in all Columns', xlabel='Columns', ylabel='Counts')\n",
    "    sns.despine() # remove the top and right borders"
   ]
  },
  {
   "cell_type": "code",
   "execution_count": 31,
   "metadata": {},
   "outputs": [
    {
     "data": {
      "image/png": "[encoded data removed]",
      "text/plain": [
       "<Figure size 864x432 with 1 Axes>"
      ]
     },
     "metadata": {
      "needs_background": "light"
     },
     "output_type": "display_data"
    }
   ],
   "source": [
    "plot_missings(df)"
   ]
  },
  {
   "cell_type": "markdown",
   "metadata": {},
   "source": [
    "- Fortunatly we have no missing values in overall-rating.\n",
    "- After reviewing some of the reviews with missing values, in the mean time it doesn't seem we should drop any review. "
   ]
  },
  {
   "cell_type": "code",
   "execution_count": 32,
   "metadata": {},
   "outputs": [
    {
     "data": {
      "text/html": [
       "<div>\n",
       "<style scoped>\n",
       "    .dataframe tbody tr th:only-of-type {\n",
       "        vertical-align: middle;\n",
       "    }\n",
       "\n",
       "    .dataframe tbody tr th {\n",
       "        vertical-align: top;\n",
       "    }\n",
       "\n",
       "    .dataframe thead th {\n",
       "        text-align: right;\n",
       "    }\n",
       "</style>\n",
       "<table border=\"1\" class=\"dataframe\">\n",
       "  <thead>\n",
       "    <tr style=\"text-align: right;\">\n",
       "      <th></th>\n",
       "      <th>company</th>\n",
       "      <th>date</th>\n",
       "      <th>summary</th>\n",
       "      <th>pros</th>\n",
       "      <th>cons</th>\n",
       "      <th>advice_to_mgmt</th>\n",
       "      <th>r_overall</th>\n",
       "      <th>r_work_balance</th>\n",
       "      <th>r_culture</th>\n",
       "      <th>r_career_opp</th>\n",
       "      <th>r_comp_benefit</th>\n",
       "      <th>r_senior_mangemnet</th>\n",
       "      <th>helpful_count</th>\n",
       "      <th>city</th>\n",
       "      <th>state</th>\n",
       "      <th>country</th>\n",
       "      <th>current_emp</th>\n",
       "      <th>job_title</th>\n",
       "      <th>anonymous</th>\n",
       "    </tr>\n",
       "  </thead>\n",
       "  <tbody>\n",
       "    <tr>\n",
       "      <th>42755</th>\n",
       "      <td>apple</td>\n",
       "      <td>2015-07-27</td>\n",
       "      <td>a great place</td>\n",
       "      <td>everything is awesome!!</td>\n",
       "      <td>NaN</td>\n",
       "      <td>NaN</td>\n",
       "      <td>4</td>\n",
       "      <td>5.0</td>\n",
       "      <td>5.0</td>\n",
       "      <td>5.0</td>\n",
       "      <td>5.0</td>\n",
       "      <td>5.0</td>\n",
       "      <td>0</td>\n",
       "      <td>Charlotte</td>\n",
       "      <td>NC</td>\n",
       "      <td>USA</td>\n",
       "      <td>True</td>\n",
       "      <td>NaN</td>\n",
       "      <td>True</td>\n",
       "    </tr>\n",
       "  </tbody>\n",
       "</table>\n",
       "</div>"
      ],
      "text/plain": [
       "      company       date        summary                     pros cons  \\\n",
       "42755   apple 2015-07-27  a great place  everything is awesome!!  NaN   \n",
       "\n",
       "      advice_to_mgmt  r_overall  r_work_balance  r_culture  r_career_opp  \\\n",
       "42755            NaN          4             5.0        5.0           5.0   \n",
       "\n",
       "       r_comp_benefit  r_senior_mangemnet  helpful_count       city state  \\\n",
       "42755             5.0                 5.0              0  Charlotte    NC   \n",
       "\n",
       "      country  current_emp job_title  anonymous  \n",
       "42755     USA         True       NaN       True  "
      ]
     },
     "execution_count": 32,
     "metadata": {},
     "output_type": "execute_result"
    }
   ],
   "source": [
    "#looking at one review with missing `cons` comment.\n",
    "df[df.cons.isnull()]"
   ]
  },
  {
   "cell_type": "markdown",
   "metadata": {},
   "source": [
    "end of cleaning data\n",
    "___"
   ]
  },
  {
   "cell_type": "markdown",
   "metadata": {},
   "source": [
    "## Univariate Explorations"
   ]
  },
  {
   "cell_type": "markdown",
   "metadata": {},
   "source": [
    "#### Yearly number of reviews distribution"
   ]
  },
  {
   "cell_type": "code",
   "execution_count": 33,
   "metadata": {},
   "outputs": [
    {
     "data": {
      "image/png": "[encoded data removed]",
      "text/plain": [
       "<Figure size 432x288 with 1 Axes>"
      ]
     },
     "metadata": {
      "needs_background": "light"
     },
     "output_type": "display_data"
    }
   ],
   "source": [
    "yearly = df.groupby(df['date'].dt.year).size()\n",
    "positions = yearly.index\n",
    "plt.bar(positions, yearly.values);"
   ]
  },
  {
   "cell_type": "code",
   "execution_count": 34,
   "metadata": {},
   "outputs": [
    {
     "data": {
      "text/plain": [
       "date\n",
       "2017.0    0.208441\n",
       "2018.0    0.410974\n",
       "2016.0    0.581133\n",
       "2015.0    0.731300\n",
       "2014.0    0.819282\n",
       "2013.0    0.876431\n",
       "2012.0    0.923969\n",
       "2011.0    0.949293\n",
       "2008.0    0.969508\n",
       "2010.0    0.986242\n",
       "2009.0    1.000000\n",
       "dtype: float64"
      ]
     },
     "execution_count": 34,
     "metadata": {},
     "output_type": "execute_result"
    }
   ],
   "source": [
    "yearly.sort_values(ascending=False).cumsum()/yearly.sum()"
   ]
  },
  {
   "cell_type": "markdown",
   "metadata": {},
   "source": [
    "- The majority of reviews, more than 73%, in out dataset are fairly recent within the last 4 years."
   ]
  },
  {
   "cell_type": "markdown",
   "metadata": {},
   "source": [
    "We will first look at the overall reviews rating distributions with an eye on differences between current and past employees."
   ]
  },
  {
   "cell_type": "code",
   "execution_count": 35,
   "metadata": {},
   "outputs": [
    {
     "data": {
      "image/png": "[encoded data removed]",
      "text/plain": [
       "<Figure size 1080x360 with 1 Axes>"
      ]
     },
     "metadata": {
      "needs_background": "light"
     },
     "output_type": "display_data"
    }
   ],
   "source": [
    "# Create the figure and axes and get access to them\n",
    "fig, ax = plt.subplots(figsize=(15, 5))\n",
    "\n",
    "# Figure's Title\n",
    "fig.suptitle('Employees\\' Overall Ratings\\' Distributions', fontsize=14, fontweight='bold')\n",
    "\n",
    "color = sns.color_palette()[1]\n",
    "\n",
    "x = 'r_overall'\n",
    "hue = 'current_emp'\n",
    "sns.countplot(ax=ax, data=df, x=x, hue=hue, color=color)\n",
    "\n",
    "ax.set(title='1 Star to 5 Stars')\n",
    "ax.legend(['Past Employees', 'Current Employees'])\n",
    "ax.set_axis_off()\n",
    "\n",
    "locs = ax.get_xticks()\n",
    "labels = ax.get_xlabel()\n",
    "\n",
    "counts = list(df.r_overall.value_counts(normalize=True).iloc[::-1])\n",
    "for loc, lable, count in zip(locs, labels, counts):\n",
    "\n",
    "    text = '{:0.0f}%'.format(100*count)\n",
    "    ax.text(loc, 0, text, color='black', va='top', ha='center', fontsize=14)"
   ]
  },
  {
   "cell_type": "code",
   "execution_count": 36,
   "metadata": {},
   "outputs": [
    {
     "data": {
      "image/png": "[encoded data removed]",
      "text/plain": [
       "<Figure size 864x432 with 2 Axes>"
      ]
     },
     "metadata": {
      "needs_background": "light"
     },
     "output_type": "display_data"
    }
   ],
   "source": [
    "plot_cat_counts(df, 'current_emp')"
   ]
  },
  {
   "cell_type": "code",
   "execution_count": 37,
   "metadata": {},
   "outputs": [],
   "source": [
    "#TODO: Create two side by side donut plots with 3 wedges depicting \n",
    "# overal ratings of past & current employees in 3 Categorical groups\n",
    "# Happy Employees consisting of 4 and 5 star reviews\n",
    "# Neutral Employees consisting of only 3 starreviews\n",
    "# Unhappy Employees consisting of 1 and 2 reviews"
   ]
  },
  {
   "cell_type": "markdown",
   "metadata": {},
   "source": [
    "**Observation:** \n",
    " - This plot shows unhappy past employees were more inclined to leave a low review than current employees.\n",
    " - We can see the current/past ratio increases as rating stars increeases. \n",
    " - Happier current employees are leaving higher rating reviews maybe to show their appreciation.\n",
    " - Uphappier past employees are leaving lower rating reviews maybe to be heard!\n",
    " ___"
   ]
  },
  {
   "cell_type": "markdown",
   "metadata": {},
   "source": [
    "#### Distributions of Reviews over time\n",
    "#### Calculate Review Age Multiplier\n",
    "#### New Col - Rating * TimeMultiplier"
   ]
  },
  {
   "cell_type": "code",
   "execution_count": 38,
   "metadata": {},
   "outputs": [],
   "source": [
    "###\n",
    "# Visualize number of reviews over each month in our dataset\n",
    "# Visualize average of a rating over each year\n",
    "dt = df['date'].values\n",
    "# type(dt.values)\n",
    "df['year'], df['month'] = df['date'].dt.year, df['date'].dt.month\n",
    "\n",
    "df.groupby('year').size()\n",
    "d = df[df['year']>=2014]"
   ]
  },
  {
   "cell_type": "markdown",
   "metadata": {},
   "source": [
    "____"
   ]
  },
  {
   "cell_type": "markdown",
   "metadata": {},
   "source": [
    "### Side by Side Distribution of All Ratings Groups"
   ]
  },
  {
   "cell_type": "code",
   "execution_count": 41,
   "metadata": {},
   "outputs": [
    {
     "data": {
      "image/png": "[encoded data removed]",
      "text/plain": [
       "<Figure size 1440x360 with 6 Axes>"
      ]
     },
     "metadata": {
      "needs_background": "light"
     },
     "output_type": "display_data"
    }
   ],
   "source": [
    "fig, (ax0, ax1, ax2, ax3, ax4, ax5) = plt.subplots(nrows=1, ncols=6, sharey=True, figsize=(20, 5))\n",
    "\n",
    "# fig.suptitle('Distribution of all 5 Employees\\' Ratings Groups', fontsize=22, fontweight='bold')\n",
    "\n",
    "plt.rcParams.update({'font.size': 14})\n",
    "\n",
    "color = sns.color_palette()[2]\n",
    "xticks=[1, 2, 3, 4, 5]\n",
    "\n",
    "sns.countplot(ax=ax0, data=df, x=df['r_overall'], color=color, order=xticks)\n",
    "\n",
    "color = sns.color_palette()[6]\n",
    "sns.countplot(ax=ax1, data=df, x=df['r_career_opp'], color=color, order=xticks)\n",
    "sns.countplot(ax=ax2, data=df, x=df['r_culture'], color=color, order=xticks)\n",
    "sns.countplot(ax=ax3, data=df, x=df['r_comp_benefit'], color=color, order=xticks)\n",
    "sns.countplot(ax=ax4, data=df, x=df['r_work_balance'], color=color, order=xticks)\n",
    "sns.countplot(ax=ax5, data=df, x=df['r_senior_mangemnet'], color=color, order=xticks)\n",
    "\n",
    "mean = '{:0.2f}'.format(df['r_overall'].mean())\n",
    "ax0.set(title='Overall Rating', xlabel=mean, ylabel='Counts')\n",
    "\n",
    "mean = '{:0.2f}'.format(df['r_career_opp'].mean())\n",
    "ax1.set(title='Career Opportunity', xlabel=mean, ylabel='')\n",
    "\n",
    "mean = '{:0.2f}'.format(df['r_culture'].mean())\n",
    "ax2.set(title='Culture & Values', xlabel=mean, ylabel='')\n",
    "\n",
    "mean = '{:0.2f}'.format(df['r_comp_benefit'].mean())\n",
    "ax3.set(title='Pay', xlabel=mean, ylabel='')\n",
    "\n",
    "mean = '{:0.2f}'.format(df['r_work_balance'].mean())\n",
    "ax4.set(title='WorkLife Balance', xlabel=mean, ylabel='')\n",
    "\n",
    "mean = '{:0.2f}'.format(df['r_senior_mangemnet'].mean())\n",
    "ax5.set(title='Sr. Mangemnet', xlabel=mean, ylabel='');\n",
    "\n",
    "# TODO: Print percentage of each bar on each bar on it."
   ]
  },
  {
   "cell_type": "markdown",
   "metadata": {},
   "source": [
    "**Findings Here:**\n",
    "- The average (mean) ratings for each category (of rating) are very close. (with a sd of 0.11) \n",
    "- Overall Rating seems to best follow employees hapiness (rating) with Compensation and Benefits. \n",
    "- Can we say Work Life Balance chart shows employees favor less time at work!?\n",
    "___"
   ]
  },
  {
   "cell_type": "markdown",
   "metadata": {},
   "source": [
    "### Helpful_Count Column Distribution\n",
    "\n",
    "This is the only numeric feature that comes with our dataset. Let's take a look at it's distribution"
   ]
  },
  {
   "cell_type": "code",
   "execution_count": 42,
   "metadata": {},
   "outputs": [
    {
     "data": {
      "image/png": "[encoded data removed]",
      "text/plain": [
       "<Figure size 432x288 with 1 Axes>"
      ]
     },
     "metadata": {
      "needs_background": "light"
     },
     "output_type": "display_data"
    }
   ],
   "source": [
    "# plt.figure(figsize=(7.5, 5))\n",
    "plt.hist(data=df, x='helpful_count', bins=100);"
   ]
  },
  {
   "cell_type": "markdown",
   "metadata": {},
   "source": [
    "Our first histogram shows exterem Outliers exist."
   ]
  },
  {
   "cell_type": "code",
   "execution_count": 43,
   "metadata": {},
   "outputs": [],
   "source": [
    "def hist_magnifier(df, x, xlim1, xlim2, binsize):\n",
    "    plt.hist(data=df, x=x, bins=np.arange(xlim1, xlim2+binsize, binsize))\n",
    "    plt.xlim(xlim1, xlim2);"
   ]
  },
  {
   "cell_type": "code",
   "execution_count": 44,
   "metadata": {},
   "outputs": [
    {
     "data": {
      "image/png": "[encoded data removed]",
      "text/plain": [
       "<Figure size 1296x288 with 3 Axes>"
      ]
     },
     "metadata": {
      "needs_background": "light"
     },
     "output_type": "display_data"
    }
   ],
   "source": [
    "plt.figure(figsize=(18, 4))\n",
    "\n",
    "plt.subplot(1, 3, 1)\n",
    "hist_magnifier(df, df['helpful_count'], 0, 11, 1)\n",
    "\n",
    "plt.subplot(1, 3, 2)\n",
    "hist_magnifier(df, df['helpful_count'], 11, 100, 10)\n",
    "\n",
    "plt.subplot(1, 3, 3)\n",
    "hist_magnifier(df, df['helpful_count'], 100, df['helpful_count'].max()+100, 100)"
   ]
  },
  {
   "cell_type": "code",
   "execution_count": 45,
   "metadata": {},
   "outputs": [
    {
     "data": {
      "text/plain": [
       "0    0.666588\n",
       "1    0.822254\n",
       "2    0.888389\n",
       "3    0.923514\n",
       "4    0.944068\n",
       "Name: helpful_count, dtype: float64"
      ]
     },
     "execution_count": 45,
     "metadata": {},
     "output_type": "execute_result"
    }
   ],
   "source": [
    "cum_hist = df['helpful_count'].value_counts(normalize=True).cumsum()\n",
    "cum_hist[cum_hist<0.95]"
   ]
  },
  {
   "cell_type": "markdown",
   "metadata": {},
   "source": [
    "After some trial and error we arrived with these 3 histograms. Please pay attention to count for each plot and x data range.\n",
    "- Two third of all reviews have no helpful_count\n",
    "- 95% of reviews have helpful_count of 4 or less\n",
    "- From 10 to about 40 helpful_counts number reviews are in hundreds.\n",
    "- Any helpful_count of 50 or more to the highest count of about low two thousand are far in between."
   ]
  },
  {
   "cell_type": "markdown",
   "metadata": {},
   "source": [
    "end of Univariate Explorations\n",
    "____"
   ]
  },
  {
   "cell_type": "markdown",
   "metadata": {},
   "source": [
    "## Bivariate Explorations"
   ]
  },
  {
   "cell_type": "code",
   "execution_count": 66,
   "metadata": {},
   "outputs": [],
   "source": [
    "def ratings_trend(df=df, rating_cols=rating_cols):\n",
    "    plt.figure(figsize=(10, 15))\n",
    "\n",
    "    colors = ['', 'grey', 'blue', 'green', 'red', 'brown']\n",
    "    ypos = 4.25\n",
    "    for rating_col, color in zip(rating_cols, colors):\n",
    "        if rating_col != 'r_overall':\n",
    "            sns.pointplot(data=df, x='r_overall', y=rating_col, color=color)\n",
    "            plt.text(0.5, ypos, str(rating_col), color=color)\n",
    "            ypos += 0.15\n",
    "\n",
    "    plt.ylim(1, 5)\n",
    "    plt.grid()\n",
    "    plt.xlabel('Overall Companys\\` Rating')\n",
    "    plt.ylabel('Average rating of each sub-category rating vs. for each 5 ratings of overall-rating');"
   ]
  },
  {
   "cell_type": "code",
   "execution_count": 67,
   "metadata": {},
   "outputs": [
    {
     "data": {
      "image/png": "[encoded data removed]",
      "text/plain": [
       "<Figure size 720x1080 with 1 Axes>"
      ]
     },
     "metadata": {
      "needs_background": "light"
     },
     "output_type": "display_data"
    }
   ],
   "source": [
    "ratings_trend(df)"
   ]
  },
  {
   "cell_type": "markdown",
   "metadata": {},
   "source": [
    "- Employees given overall 4 or 5 Stars also on average given highest ratings to culture and values.\n",
    "- - Happiest were most happy of culture ot they thoughtthet did!\n",
    "- Unhappiest employees, those given overall 1 or 2 Stars rating, were most uphappy with Culture and Values of the company and least unhappy about thier pay.\n",
    "- "
   ]
  },
  {
   "cell_type": "markdown",
   "metadata": {},
   "source": [
    "end of bivariate explorations\n",
    "___"
   ]
  },
  {
   "cell_type": "markdown",
   "metadata": {},
   "source": [
    "## Feature Engineering\n",
    "\n",
    "Create new feature for the length of the review.\n",
    "Create new feature for the word count of the review."
   ]
  },
  {
   "cell_type": "code",
   "execution_count": 48,
   "metadata": {},
   "outputs": [],
   "source": [
    "# Clean Review Text Columns\n",
    "text_cols = ['summary', 'pros', 'cons', 'advice_to_mgmt']\n",
    "\n",
    "df['comments_wordcount'] = 0\n",
    "for col in text_cols:\n",
    "    df['comments_wordcount'] += df[col].astype(str).apply(lambda text: len(text.split()))"
   ]
  },
  {
   "cell_type": "code",
   "execution_count": 49,
   "metadata": {},
   "outputs": [
    {
     "data": {
      "image/png": "[encoded data removed]",
      "text/plain": [
       "<Figure size 432x288 with 1 Axes>"
      ]
     },
     "metadata": {
      "needs_background": "light"
     },
     "output_type": "display_data"
    }
   ],
   "source": [
    "sns.distplot(df['comments_wordcount']);"
   ]
  },
  {
   "cell_type": "code",
   "execution_count": 50,
   "metadata": {},
   "outputs": [
    {
     "data": {
      "text/plain": [
       "count    67529.000000\n",
       "mean        69.608405\n",
       "std         90.158068\n",
       "min          8.000000\n",
       "25%         23.000000\n",
       "50%         42.000000\n",
       "75%         82.000000\n",
       "max       3726.000000\n",
       "Name: comments_wordcount, dtype: float64"
      ]
     },
     "execution_count": 50,
     "metadata": {},
     "output_type": "execute_result"
    }
   ],
   "source": [
    "df['comments_wordcount'].describe()"
   ]
  },
  {
   "cell_type": "code",
   "execution_count": 51,
   "metadata": {},
   "outputs": [],
   "source": [
    "df['review_age_int'] = pd.to_numeric((pd.datetime.today() - df['date']).dt.days)"
   ]
  },
  {
   "cell_type": "code",
   "execution_count": 52,
   "metadata": {},
   "outputs": [
    {
     "data": {
      "image/png": "[encoded data removed]",
      "text/plain": [
       "<Figure size 432x288 with 1 Axes>"
      ]
     },
     "metadata": {
      "needs_background": "light"
     },
     "output_type": "display_data"
    }
   ],
   "source": [
    "# sns.distplot(df['review_age_int'], n)\n",
    "plt.hist(data=df, x=df['review_age_int'], bins=np.arange(0, 5000, 100));"
   ]
  },
  {
   "cell_type": "code",
   "execution_count": null,
   "metadata": {},
   "outputs": [],
   "source": [
    "df.sample()"
   ]
  },
  {
   "cell_type": "markdown",
   "metadata": {},
   "source": [
    "### Time Factor\n",
    "Companies like other living things are constantly evolving, experiemnting, learning from thier mistakes, and changing. Time of each review is an snapshot of a company from the perspective of someone who is part of this living whole. A review or general take of an employee is shaped by his/her experiances, currenr and past expectations, thier own personal values  and future hopes both for themselves and the comapny.\n",
    "\n",
    "Therefore a recen review last month must have a much higher weight than a review 5 years ago. To take this into consideration we define a new feature `timefactor` that is from (0 to 1). 1 for a review left today and 0 zero for a review left 5 years (1825 days) or beyond.\n",
    "\n",
    "This is a linear weight system we choose to use; Perhaps it is not  the most optimal but we it should be practical enough for our dataset."
   ]
  },
  {
   "cell_type": "markdown",
   "metadata": {},
   "source": [
    "### Reviewer Care Factor\n",
    "This might sound a bit odd but someone leaving a detailed review summary, pros and cons points and advise for management with about 1000 words deserve more weight (attention) than a partial quick review with 20 words. To measure this we make a new feature `carefactor` based on the overall length of the different part s of the review. "
   ]
  },
  {
   "cell_type": "markdown",
   "metadata": {},
   "source": [
    "### Review Score\n",
    "- Helpful Count\n",
    "- Overall Rating\n",
    "- - This column has no missing values in our dataset and also based on the practical close means and very small sd of all categories of ratings, it makes the best rating for making our review score\n",
    "- Time Factor\n"
   ]
  },
  {
   "cell_type": "code",
   "execution_count": null,
   "metadata": {},
   "outputs": [],
   "source": [
    "5*365"
   ]
  },
  {
   "cell_type": "code",
   "execution_count": null,
   "metadata": {},
   "outputs": [],
   "source": []
  }
 ],
 "metadata": {
  "kernelspec": {
   "display_name": "Python 3",
   "language": "python",
   "name": "python3"
  },
  "language_info": {
   "codemirror_mode": {
    "name": "ipython",
    "version": 3
   },
   "file_extension": ".py",
   "mimetype": "text/x-python",
   "name": "python",
   "nbconvert_exporter": "python",
   "pygments_lexer": "ipython3",
   "version": "3.7.2"
  }
 },
 "nbformat": 4,
 "nbformat_minor": 2
}
